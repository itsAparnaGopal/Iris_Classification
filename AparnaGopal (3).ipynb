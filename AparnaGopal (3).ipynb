{
  "nbformat": 4,
  "nbformat_minor": 0,
  "metadata": {
    "colab": {
      "provenance": []
    },
    "kernelspec": {
      "name": "python3",
      "display_name": "Python 3"
    },
    "language_info": {
      "name": "python"
    }
  },
  "cells": [
    {
      "cell_type": "markdown",
      "source": [
        "#**Assignment on Classification**"
      ],
      "metadata": {
        "id": "yyzjX9rrhM4k"
      }
    },
    {
      "cell_type": "markdown",
      "source": [
        "Step 1 : Import the libraries"
      ],
      "metadata": {
        "id": "-bdi-_U3TVUs"
      }
    },
    {
      "cell_type": "code",
      "execution_count": 1,
      "metadata": {
        "id": "8bjgii56fGF6"
      },
      "outputs": [],
      "source": [
        "import pandas as pd             # python library to manipulate data. pandas is acronym of panneled data\n",
        "import numpy as np              # numerical python . python library for arithmetical operations\n",
        "\n",
        "#python library for data visualisation\n",
        "\n",
        "import matplotlib.pyplot as plt # 2D ploting library\n",
        "import seaborn as sns           # baseon matplotlib provides a high-level interface for drawing attractive and informative statistical graphics"
      ]
    },
    {
      "cell_type": "markdown",
      "source": [
        "**1. Read the dataset to python environment**"
      ],
      "metadata": {
        "id": "S9rTsf_ChteV"
      }
    },
    {
      "cell_type": "markdown",
      "source": [
        "Step 2 : Import the data-set"
      ],
      "metadata": {
        "id": "D-uGOiVLTbC1"
      }
    },
    {
      "cell_type": "code",
      "source": [
        "from google.colab import files\n",
        "files.upload()"
      ],
      "metadata": {
        "colab": {
          "base_uri": "https://localhost:8080/",
          "height": 1000
        },
        "id": "uLqZJIDZhmgL",
        "outputId": "bf997538-3f7e-4e39-9a7d-effbedaea2a0"
      },
      "execution_count": 2,
      "outputs": [
        {
          "output_type": "display_data",
          "data": {
            "text/plain": [
              "<IPython.core.display.HTML object>"
            ],
            "text/html": [
              "\n",
              "     <input type=\"file\" id=\"files-cc09e184-b91a-4b72-8a57-e8f7c69f36bf\" name=\"files[]\" multiple disabled\n",
              "        style=\"border:none\" />\n",
              "     <output id=\"result-cc09e184-b91a-4b72-8a57-e8f7c69f36bf\">\n",
              "      Upload widget is only available when the cell has been executed in the\n",
              "      current browser session. Please rerun this cell to enable.\n",
              "      </output>\n",
              "      <script>// Copyright 2017 Google LLC\n",
              "//\n",
              "// Licensed under the Apache License, Version 2.0 (the \"License\");\n",
              "// you may not use this file except in compliance with the License.\n",
              "// You may obtain a copy of the License at\n",
              "//\n",
              "//      http://www.apache.org/licenses/LICENSE-2.0\n",
              "//\n",
              "// Unless required by applicable law or agreed to in writing, software\n",
              "// distributed under the License is distributed on an \"AS IS\" BASIS,\n",
              "// WITHOUT WARRANTIES OR CONDITIONS OF ANY KIND, either express or implied.\n",
              "// See the License for the specific language governing permissions and\n",
              "// limitations under the License.\n",
              "\n",
              "/**\n",
              " * @fileoverview Helpers for google.colab Python module.\n",
              " */\n",
              "(function(scope) {\n",
              "function span(text, styleAttributes = {}) {\n",
              "  const element = document.createElement('span');\n",
              "  element.textContent = text;\n",
              "  for (const key of Object.keys(styleAttributes)) {\n",
              "    element.style[key] = styleAttributes[key];\n",
              "  }\n",
              "  return element;\n",
              "}\n",
              "\n",
              "// Max number of bytes which will be uploaded at a time.\n",
              "const MAX_PAYLOAD_SIZE = 100 * 1024;\n",
              "\n",
              "function _uploadFiles(inputId, outputId) {\n",
              "  const steps = uploadFilesStep(inputId, outputId);\n",
              "  const outputElement = document.getElementById(outputId);\n",
              "  // Cache steps on the outputElement to make it available for the next call\n",
              "  // to uploadFilesContinue from Python.\n",
              "  outputElement.steps = steps;\n",
              "\n",
              "  return _uploadFilesContinue(outputId);\n",
              "}\n",
              "\n",
              "// This is roughly an async generator (not supported in the browser yet),\n",
              "// where there are multiple asynchronous steps and the Python side is going\n",
              "// to poll for completion of each step.\n",
              "// This uses a Promise to block the python side on completion of each step,\n",
              "// then passes the result of the previous step as the input to the next step.\n",
              "function _uploadFilesContinue(outputId) {\n",
              "  const outputElement = document.getElementById(outputId);\n",
              "  const steps = outputElement.steps;\n",
              "\n",
              "  const next = steps.next(outputElement.lastPromiseValue);\n",
              "  return Promise.resolve(next.value.promise).then((value) => {\n",
              "    // Cache the last promise value to make it available to the next\n",
              "    // step of the generator.\n",
              "    outputElement.lastPromiseValue = value;\n",
              "    return next.value.response;\n",
              "  });\n",
              "}\n",
              "\n",
              "/**\n",
              " * Generator function which is called between each async step of the upload\n",
              " * process.\n",
              " * @param {string} inputId Element ID of the input file picker element.\n",
              " * @param {string} outputId Element ID of the output display.\n",
              " * @return {!Iterable<!Object>} Iterable of next steps.\n",
              " */\n",
              "function* uploadFilesStep(inputId, outputId) {\n",
              "  const inputElement = document.getElementById(inputId);\n",
              "  inputElement.disabled = false;\n",
              "\n",
              "  const outputElement = document.getElementById(outputId);\n",
              "  outputElement.innerHTML = '';\n",
              "\n",
              "  const pickedPromise = new Promise((resolve) => {\n",
              "    inputElement.addEventListener('change', (e) => {\n",
              "      resolve(e.target.files);\n",
              "    });\n",
              "  });\n",
              "\n",
              "  const cancel = document.createElement('button');\n",
              "  inputElement.parentElement.appendChild(cancel);\n",
              "  cancel.textContent = 'Cancel upload';\n",
              "  const cancelPromise = new Promise((resolve) => {\n",
              "    cancel.onclick = () => {\n",
              "      resolve(null);\n",
              "    };\n",
              "  });\n",
              "\n",
              "  // Wait for the user to pick the files.\n",
              "  const files = yield {\n",
              "    promise: Promise.race([pickedPromise, cancelPromise]),\n",
              "    response: {\n",
              "      action: 'starting',\n",
              "    }\n",
              "  };\n",
              "\n",
              "  cancel.remove();\n",
              "\n",
              "  // Disable the input element since further picks are not allowed.\n",
              "  inputElement.disabled = true;\n",
              "\n",
              "  if (!files) {\n",
              "    return {\n",
              "      response: {\n",
              "        action: 'complete',\n",
              "      }\n",
              "    };\n",
              "  }\n",
              "\n",
              "  for (const file of files) {\n",
              "    const li = document.createElement('li');\n",
              "    li.append(span(file.name, {fontWeight: 'bold'}));\n",
              "    li.append(span(\n",
              "        `(${file.type || 'n/a'}) - ${file.size} bytes, ` +\n",
              "        `last modified: ${\n",
              "            file.lastModifiedDate ? file.lastModifiedDate.toLocaleDateString() :\n",
              "                                    'n/a'} - `));\n",
              "    const percent = span('0% done');\n",
              "    li.appendChild(percent);\n",
              "\n",
              "    outputElement.appendChild(li);\n",
              "\n",
              "    const fileDataPromise = new Promise((resolve) => {\n",
              "      const reader = new FileReader();\n",
              "      reader.onload = (e) => {\n",
              "        resolve(e.target.result);\n",
              "      };\n",
              "      reader.readAsArrayBuffer(file);\n",
              "    });\n",
              "    // Wait for the data to be ready.\n",
              "    let fileData = yield {\n",
              "      promise: fileDataPromise,\n",
              "      response: {\n",
              "        action: 'continue',\n",
              "      }\n",
              "    };\n",
              "\n",
              "    // Use a chunked sending to avoid message size limits. See b/62115660.\n",
              "    let position = 0;\n",
              "    do {\n",
              "      const length = Math.min(fileData.byteLength - position, MAX_PAYLOAD_SIZE);\n",
              "      const chunk = new Uint8Array(fileData, position, length);\n",
              "      position += length;\n",
              "\n",
              "      const base64 = btoa(String.fromCharCode.apply(null, chunk));\n",
              "      yield {\n",
              "        response: {\n",
              "          action: 'append',\n",
              "          file: file.name,\n",
              "          data: base64,\n",
              "        },\n",
              "      };\n",
              "\n",
              "      let percentDone = fileData.byteLength === 0 ?\n",
              "          100 :\n",
              "          Math.round((position / fileData.byteLength) * 100);\n",
              "      percent.textContent = `${percentDone}% done`;\n",
              "\n",
              "    } while (position < fileData.byteLength);\n",
              "  }\n",
              "\n",
              "  // All done.\n",
              "  yield {\n",
              "    response: {\n",
              "      action: 'complete',\n",
              "    }\n",
              "  };\n",
              "}\n",
              "\n",
              "scope.google = scope.google || {};\n",
              "scope.google.colab = scope.google.colab || {};\n",
              "scope.google.colab._files = {\n",
              "  _uploadFiles,\n",
              "  _uploadFilesContinue,\n",
              "};\n",
              "})(self);\n",
              "</script> "
            ]
          },
          "metadata": {}
        },
        {
          "output_type": "stream",
          "name": "stdout",
          "text": [
            "Saving iris (2).xls to iris (2).xls\n"
          ]
        },
        {
          "output_type": "execute_result",
          "data": {
            "text/plain": [
              "{'iris (2).xls': b'\\xd0\\xcf\\x11\\xe0\\xa1\\xb1\\x1a\\xe1\\x00\\x00\\x00\\x00\\x00\\x00\\x00\\x00\\x00\\x00\\x00\\x00\\x00\\x00\\x00\\x00>\\x00\\x03\\x00\\xfe\\xff\\t\\x00\\x06\\x00\\x00\\x00\\x00\\x00\\x00\\x00\\x00\\x00\\x00\\x00\\x01\\x00\\x00\\x00D\\x00\\x00\\x00\\x00\\x00\\x00\\x00\\x00\\x10\\x00\\x00\\xfe\\xff\\xff\\xff\\x00\\x00\\x00\\x00\\xfe\\xff\\xff\\xff\\x00\\x00\\x00\\x00C\\x00\\x00\\x00\\xff\\xff\\xff\\xff\\xff\\xff\\xff\\xff\\xff\\xff\\xff\\xff\\xff\\xff\\xff\\xff\\xff\\xff\\xff\\xff\\xff\\xff\\xff\\xff\\xff\\xff\\xff\\xff\\xff\\xff\\xff\\xff\\xff\\xff\\xff\\xff\\xff\\xff\\xff\\xff\\xff\\xff\\xff\\xff\\xff\\xff\\xff\\xff\\xff\\xff\\xff\\xff\\xff\\xff\\xff\\xff\\xff\\xff\\xff\\xff\\xff\\xff\\xff\\xff\\xff\\xff\\xff\\xff\\xff\\xff\\xff\\xff\\xff\\xff\\xff\\xff\\xff\\xff\\xff\\xff\\xff\\xff\\xff\\xff\\xff\\xff\\xff\\xff\\xff\\xff\\xff\\xff\\xff\\xff\\xff\\xff\\xff\\xff\\xff\\xff\\xff\\xff\\xff\\xff\\xff\\xff\\xff\\xff\\xff\\xff\\xff\\xff\\xff\\xff\\xff\\xff\\xff\\xff\\xff\\xff\\xff\\xff\\xff\\xff\\xff\\xff\\xff\\xff\\xff\\xff\\xff\\xff\\xff\\xff\\xff\\xff\\xff\\xff\\xff\\xff\\xff\\xff\\xff\\xff\\xff\\xff\\xff\\xff\\xff\\xff\\xff\\xff\\xff\\xff\\xff\\xff\\xff\\xff\\xff\\xff\\xff\\xff\\xff\\xff\\xff\\xff\\xff\\xff\\xff\\xff\\xff\\xff\\xff\\xff\\xff\\xff\\xff\\xff\\xff\\xff\\xff\\xff\\xff\\xff\\xff\\xff\\xff\\xff\\xff\\xff\\xff\\xff\\xff\\xff\\xff\\xff\\xff\\xff\\xff\\xff\\xff\\xff\\xff\\xff\\xff\\xff\\xff\\xff\\xff\\xff\\xff\\xff\\xff\\xff\\xff\\xff\\xff\\xff\\xff\\xff\\xff\\xff\\xff\\xff\\xff\\xff\\xff\\xff\\xff\\xff\\xff\\xff\\xff\\xff\\xff\\xff\\xff\\xff\\xff\\xff\\xff\\xff\\xff\\xff\\xff\\xff\\xff\\xff\\xff\\xff\\xff\\xff\\xff\\xff\\xff\\xff\\xff\\xff\\xff\\xff\\xff\\xff\\xff\\xff\\xff\\xff\\xff\\xff\\xff\\xff\\xff\\xff\\xff\\xff\\xff\\xff\\xff\\xff\\xff\\xff\\xff\\xff\\xff\\xff\\xff\\xff\\xff\\xff\\xff\\xff\\xff\\xff\\xff\\xff\\xff\\xff\\xff\\xff\\xff\\xff\\xff\\xff\\xff\\xff\\xff\\xff\\xff\\xff\\xff\\xff\\xff\\xff\\xff\\xff\\xff\\xff\\xff\\xff\\xff\\xff\\xff\\xff\\xff\\xff\\xff\\xff\\xff\\xff\\xff\\xff\\xff\\xff\\xff\\xff\\xff\\xff\\xff\\xff\\xff\\xff\\xff\\xff\\xff\\xff\\xff\\xff\\xff\\xff\\xff\\xff\\xff\\xff\\xff\\xff\\xff\\xff\\xff\\xff\\xff\\xff\\xff\\xff\\xff\\xff\\xff\\xff\\xff\\xff\\xff\\xff\\xff\\xff\\xff\\xff\\xff\\xff\\xff\\xff\\xff\\xff\\xff\\xff\\xff\\xff\\xff\\xff\\xff\\xff\\xff\\xff\\xff\\xff\\xff\\xff\\xff\\xff\\xff\\xff\\xff\\xff\\xff\\xff\\xff\\xff\\xff\\xff\\xff\\xff\\xff\\xff\\xff\\xff\\xff\\xff\\xff\\xff\\xff\\xff\\xff\\xff\\xff\\xff\\xff\\xff\\xff\\xff\\xff\\xff\\xff\\xff\\xff\\xff\\t\\x08\\x10\\x00\\x00\\x06\\x05\\x00ZO\\xcd\\x07\\xc9\\x00\\x02\\x00\\x06\\x08\\x00\\x00\\xe1\\x00\\x02\\x00\\xb0\\x04\\xc1\\x00\\x02\\x00\\x00\\x00\\xe2\\x00\\x00\\x00\\\\\\x00p\\x00\\x04\\x00\\x00ASUS J Padamadan                                                                                             B\\x00\\x02\\x00\\xb0\\x04a\\x01\\x02\\x00\\x00\\x00\\xc0\\x01\\x00\\x00=\\x01\\x02\\x00\\x01\\x00\\x9c\\x00\\x02\\x00\\x11\\x00\\x19\\x00\\x02\\x00\\x00\\x00\\x12\\x00\\x02\\x00\\x00\\x00\\x13\\x00\\x02\\x00\\x00\\x00\\xaf\\x01\\x02\\x00\\x00\\x00\\xbc\\x01\\x02\\x00\\x00\\x00=\\x00\\x12\\x00\\xe0\\x01\\x1e\\x00 N\\xee48\\x00\\x00\\x00\\x00\\x00\\x01\\x00X\\x02@\\x00\\x02\\x00\\x00\\x00\\x8d\\x00\\x02\\x00\\x00\\x00\"\\x00\\x02\\x00\\x00\\x00\\x0e\\x00\\x02\\x00\\x01\\x00\\xb7\\x01\\x02\\x00\\x00\\x00\\xda\\x00\\x02\\x00\\x00\\x001\\x00\\x1a\\x00\\xc8\\x00\\x00\\x00\\xff\\x7f\\x90\\x01\\x00\\x00\\x00\\x00\\x00\\x7f\\x05\\x01A\\x00r\\x00i\\x00a\\x00l\\x001\\x00\\x1a\\x00\\xc8\\x00\\x00\\x00\\xff\\x7f\\x90\\x01\\x00\\x00\\x00\\x00\\x00\\x7f\\x05\\x01A\\x00r\\x00i\\x00a\\x00l\\x001\\x00\\x1a\\x00\\xc8\\x00\\x00\\x00\\xff\\x7f\\x90\\x01\\x00\\x00\\x00\\x00\\x00\\x7f\\x05\\x01A\\x00r\\x00i\\x00a\\x00l\\x001\\x00\\x1a\\x00\\xc8\\x00\\x00\\x00\\xff\\x7f\\x90\\x01\\x00\\x00\\x00\\x00\\x00\\x7f\\x05\\x01A\\x00r\\x00i\\x00a\\x00l\\x001\\x00\\x1a\\x00\\xc8\\x00\\x00\\x00\\xff\\x7f\\x90\\x01\\x00\\x00\\x00\\x00\\x00\\x7f\\x05\\x01A\\x00r\\x00i\\x00a\\x00l\\x001\\x00*\\x00h\\x01\\x00\\x006\\x00\\x90\\x01\\x00\\x00\\x00\\x02\\x00\\x02\\r\\x01C\\x00a\\x00l\\x00i\\x00b\\x00r\\x00i\\x00 \\x00L\\x00i\\x00g\\x00h\\x00t\\x001\\x00\\x1e\\x00,\\x01\\x01\\x006\\x00\\xbc\\x02\\x00\\x00\\x00\\x02\\x00\\x02\\x07\\x01C\\x00a\\x00l\\x00i\\x00b\\x00r\\x00i\\x001\\x00\\x1e\\x00\\x04\\x01\\x01\\x006\\x00\\xbc\\x02\\x00\\x00\\x00\\x02\\x00\\x02\\x07\\x01C\\x00a\\x00l\\x00i\\x00b\\x00r\\x00i\\x001\\x00\\x1e\\x00\\xdc\\x00\\x01\\x006\\x00\\xbc\\x02\\x00\\x00\\x00\\x02\\x00\\x02\\x07\\x01C\\x00a\\x00l\\x00i\\x00b\\x00r\\x00i\\x001\\x00\\x1e\\x00\\xdc\\x00\\x00\\x00\\x11\\x00\\x90\\x01\\x00\\x00\\x00\\x02\\x00\\x02\\x07\\x01C\\x00a\\x00l\\x00i\\x00b\\x00r\\x00i\\x001\\x00\\x1e\\x00\\xdc\\x00\\x00\\x00\\x14\\x00\\x90\\x01\\x00\\x00\\x00\\x02\\x00\\x02\\x07\\x01C\\x00a\\x00l\\x00i\\x00b\\x00r\\x00i\\x001\\x00\\x1e\\x00\\xdc\\x00\\x00\\x00<\\x00\\x90\\x01\\x00\\x00\\x00\\x02\\x00\\x02\\x07\\x01C\\x00a\\x00l\\x00i\\x00b\\x00r\\x00i\\x001\\x00\\x1e\\x00\\xdc\\x00\\x00\\x00>\\x00\\x90\\x01\\x00\\x00\\x00\\x02\\x00\\x02\\x07\\x01C\\x00a\\x00l\\x00i\\x00b\\x00r\\x00i\\x001\\x00\\x1e\\x00\\xdc\\x00\\x01\\x00?\\x00\\xbc\\x02\\x00\\x00\\x00\\x02\\x00\\x02\\x07\\x01C\\x00a\\x00l\\x00i\\x00b\\x00r\\x00i\\x001\\x00\\x1e\\x00\\xdc\\x00\\x01\\x004\\x00\\xbc\\x02\\x00\\x00\\x00\\x02\\x00\\x02\\x07\\x01C\\x00a\\x00l\\x00i\\x00b\\x00r\\x00i\\x001\\x00\\x1e\\x00\\xdc\\x00\\x00\\x004\\x00\\x90\\x01\\x00\\x00\\x00\\x02\\x00\\x02\\x07\\x01C\\x00a\\x00l\\x00i\\x00b\\x00r\\x00i\\x001\\x00\\x1e\\x00\\xdc\\x00\\x01\\x00\\t\\x00\\xbc\\x02\\x00\\x00\\x00\\x02\\x00\\x02\\x07\\x01C\\x00a\\x00l\\x00i\\x00b\\x00r\\x00i\\x001\\x00\\x1e\\x00\\xdc\\x00\\x00\\x00\\n\\x00\\x90\\x01\\x00\\x00\\x00\\x02\\x00\\x02\\x07\\x01C\\x00a\\x00l\\x00i\\x00b\\x00r\\x00i\\x001\\x00\\x1e\\x00\\xdc\\x00\\x02\\x00\\x17\\x00\\x90\\x01\\x00\\x00\\x00\\x02\\x00\\x02\\x07\\x01C\\x00a\\x00l\\x00i\\x00b\\x00r\\x00i\\x001\\x00\\x1e\\x00\\xdc\\x00\\x01\\x00\\x08\\x00\\xbc\\x02\\x00\\x00\\x00\\x02\\x00\\x02\\x07\\x01C\\x00a\\x00l\\x00i\\x00b\\x00r\\x00i\\x001\\x00\\x1e\\x00\\xdc\\x00\\x00\\x00\\t\\x00\\x90\\x01\\x00\\x00\\x00\\x02\\x00\\x02\\x07\\x01C\\x00a\\x00l\\x00i\\x00b\\x00r\\x00i\\x001\\x00\\x1e\\x00\\xdc\\x00\\x00\\x00\\x08\\x00\\x90\\x01\\x00\\x00\\x00\\x02\\x00\\x02\\x07\\x01C\\x00a\\x00l\\x00i\\x00b\\x00r\\x00i\\x00\\x1e\\x04\\x1c\\x00\\x05\\x00\\x17\\x00\\x00\"$\"#,##0_);\\\\(\"$\"#,##0\\\\)\\x1e\\x04!\\x00\\x06\\x00\\x1c\\x00\\x00\"$\"#,##0_);[Red]\\\\(\"$\"#,##0\\\\)\\x1e\\x04\"\\x00\\x07\\x00\\x1d\\x00\\x00\"$\"#,##0.00_);\\\\(\"$\"#,##0.00\\\\)\\x1e\\x04\\'\\x00\\x08\\x00\"\\x00\\x00\"$\"#,##0.00_);[Red]\\\\(\"$\"#,##0.00\\\\)\\x1e\\x047\\x00*\\x002\\x00\\x00_(\"$\"* #,##0_);_(\"$\"* \\\\(#,##0\\\\);_(\"$\"* \"-\"_);_(@_)\\x1e\\x04.\\x00)\\x00)\\x00\\x00_(* #,##0_);_(* \\\\(#,##0\\\\);_(* \"-\"_);_(@_)\\x1e\\x04?\\x00,\\x00:\\x00\\x00_(\"$\"* #,##0.00_);_(\"$\"* \\\\(#,##0.00\\\\);_(\"$\"* \"-\"??_);_(@_)\\x1e\\x046\\x00+\\x001\\x00\\x00_(* #,##0.00_);_(* \\\\(#,##0.00\\\\);_(* \"-\"??_);_(@_)\\xe0\\x00\\x14\\x00\\x00\\x00\\x00\\x00\\xf5\\xff \\x00\\x00\\x00\\x00\\x00\\x00\\x00\\x00\\x00\\x00\\x00\\xc0 \\xe0\\x00\\x14\\x00\\x01\\x00\\x00\\x00\\xf5\\xff \\x00\\x00\\xf4\\x00\\x00\\x00\\x00\\x00\\x00\\x00\\x00\\xc0 \\xe0\\x00\\x14\\x00\\x01\\x00\\x00\\x00\\xf5\\xff \\x00\\x00\\xf4\\x00\\x00\\x00\\x00\\x00\\x00\\x00\\x00\\xc0 \\xe0\\x00\\x14\\x00\\x02\\x00\\x00\\x00\\xf5\\xff \\x00\\x00\\xf4\\x00\\x00\\x00\\x00\\x00\\x00\\x00\\x00\\xc0 \\xe0\\x00\\x14\\x00\\x02\\x00\\x00\\x00\\xf5\\xff \\x00\\x00\\xf4\\x00\\x00\\x00\\x00\\x00\\x00\\x00\\x00\\xc0 \\xe0\\x00\\x14\\x00\\x00\\x00\\x00\\x00\\xf5\\xff \\x00\\x00\\xf4\\x00\\x00\\x00\\x00\\x00\\x00\\x00\\x00\\xc0 \\xe0\\x00\\x14\\x00\\x00\\x00\\x00\\x00\\xf5\\xff \\x00\\x00\\xf4\\x00\\x00\\x00\\x00\\x00\\x00\\x00\\x00\\xc0 \\xe0\\x00\\x14\\x00\\x00\\x00\\x00\\x00\\xf5\\xff \\x00\\x00\\xf4\\x00\\x00\\x00\\x00\\x00\\x00\\x00\\x00\\xc0 \\xe0\\x00\\x14\\x00\\x00\\x00\\x00\\x00\\xf5\\xff \\x00\\x00\\xf4\\x00\\x00\\x00\\x00\\x00\\x00\\x00\\x00\\xc0 \\xe0\\x00\\x14\\x00\\x00\\x00\\x00\\x00\\xf5\\xff \\x00\\x00\\xf4\\x00\\x00\\x00\\x00\\x00\\x00\\x00\\x00\\xc0 \\xe0\\x00\\x14\\x00\\x00\\x00\\x00\\x00\\xf5\\xff \\x00\\x00\\xf4\\x00\\x00\\x00\\x00\\x00\\x00\\x00\\x00\\xc0 \\xe0\\x00\\x14\\x00\\x00\\x00\\x00\\x00\\xf5\\xff \\x00\\x00\\xf4\\x00\\x00\\x00\\x00\\x00\\x00\\x00\\x00\\xc0 \\xe0\\x00\\x14\\x00\\x00\\x00\\x00\\x00\\xf5\\xff \\x00\\x00\\xf4\\x00\\x00\\x00\\x00\\x00\\x00\\x00\\x00\\xc0 \\xe0\\x00\\x14\\x00\\x00\\x00\\x00\\x00\\xf5\\xff \\x00\\x00\\xf4\\x00\\x00\\x00\\x00\\x00\\x00\\x00\\x00\\xc0 \\xe0\\x00\\x14\\x00\\x00\\x00\\x00\\x00\\xf5\\xff \\x00\\x00\\xf4\\x00\\x00\\x00\\x00\\x00\\x00\\x00\\x00\\xc0 \\xe0\\x00\\x14\\x00\\x00\\x00\\x00\\x00\\x01\\x00 \\x00\\x00\\x00\\x00\\x00\\x00\\x00\\x00\\x00\\x00\\x00\\xc0 \\xe0\\x00\\x14\\x00\\x16\\x00\\x00\\x00\\xf5\\xff \\x00\\x00\\xb4\\x00\\x00\\x00\\x00\\x00\\x00\\x00\\x04\\x9f \\xe0\\x00\\x14\\x00\\x16\\x00\\x00\\x00\\xf5\\xff \\x00\\x00\\xb4\\x00\\x00\\x00\\x00\\x00\\x00\\x00\\x04\\xaf \\xe0\\x00\\x14\\x00\\x16\\x00\\x00\\x00\\xf5\\xff \\x00\\x00\\xb4\\x00\\x00\\x00\\x00\\x00\\x00\\x00\\x04\\x89 \\xe0\\x00\\x14\\x00\\x16\\x00\\x00\\x00\\xf5\\xff \\x00\\x00\\xb4\\x00\\x00\\x00\\x00\\x00\\x00\\x00\\x04\\x9a \\xe0\\x00\\x14\\x00\\x16\\x00\\x00\\x00\\xf5\\xff \\x00\\x00\\xb4\\x00\\x00\\x00\\x00\\x00\\x00\\x00\\x04\\x9b \\xe0\\x00\\x14\\x00\\x16\\x00\\x00\\x00\\xf5\\xff \\x00\\x00\\xb4\\x00\\x00\\x00\\x00\\x00\\x00\\x00\\x04\\xaa \\xe0\\x00\\x14\\x00\\x16\\x00\\x00\\x00\\xf5\\xff \\x00\\x00\\xb4\\x00\\x00\\x00\\x00\\x00\\x00\\x00\\x04\\xac \\xe0\\x00\\x14\\x00\\x16\\x00\\x00\\x00\\xf5\\xff \\x00\\x00\\xb4\\x00\\x00\\x00\\x00\\x00\\x00\\x00\\x04\\xaf \\xe0\\x00\\x14\\x00\\x16\\x00\\x00\\x00\\xf5\\xff \\x00\\x00\\xb4\\x00\\x00\\x00\\x00\\x00\\x00\\x00\\x04\\x96 \\xe0\\x00\\x14\\x00\\x16\\x00\\x00\\x00\\xf5\\xff \\x00\\x00\\xb4\\x00\\x00\\x00\\x00\\x00\\x00\\x00\\x04\\xab \\xe0\\x00\\x14\\x00\\x16\\x00\\x00\\x00\\xf5\\xff \\x00\\x00\\xb4\\x00\\x00\\x00\\x00\\x00\\x00\\x00\\x04\\xac \\xe0\\x00\\x14\\x00\\x16\\x00\\x00\\x00\\xf5\\xff \\x00\\x00\\xb4\\x00\\x00\\x00\\x00\\x00\\x00\\x00\\x04\\xab \\xe0\\x00\\x14\\x00\\x16\\x00\\x00\\x00\\xf5\\xff \\x00\\x00\\xb4\\x00\\x00\\x00\\x00\\x00\\x00\\x00\\x04\\xb1 \\xe0\\x00\\x14\\x00\\x16\\x00\\x00\\x00\\xf5\\xff \\x00\\x00\\xb4\\x00\\x00\\x00\\x00\\x00\\x00\\x00\\x04\\xaf \\xe0\\x00\\x14\\x00\\x16\\x00\\x00\\x00\\xf5\\xff \\x00\\x00\\xb4\\x00\\x00\\x00\\x00\\x00\\x00\\x00\\x04\\x96 \\xe0\\x00\\x14\\x00\\x16\\x00\\x00\\x00\\xf5\\xff \\x00\\x00\\xb4\\x00\\x00\\x00\\x00\\x00\\x00\\x00\\x04\\xab \\xe0\\x00\\x14\\x00\\x16\\x00\\x00\\x00\\xf5\\xff \\x00\\x00\\xb4\\x00\\x00\\x00\\x00\\x00\\x00\\x00\\x04\\xac \\xe0\\x00\\x14\\x00\\x16\\x00\\x00\\x00\\xf5\\xff \\x00\\x00\\xb4\\x00\\x00\\x00\\x00\\x00\\x00\\x00\\x04\\xb9 \\xe0\\x00\\x14\\x00\\x15\\x00\\x00\\x00\\xf5\\xff \\x00\\x00\\xb4\\x00\\x00\\x00\\x00\\x00\\x00\\x00\\x04\\xbe \\xe0\\x00\\x14\\x00\\x15\\x00\\x00\\x00\\xf5\\xff \\x00\\x00\\xb4\\x00\\x00\\x00\\x00\\x00\\x00\\x00\\x04\\xb5 \\xe0\\x00\\x14\\x00\\x15\\x00\\x00\\x00\\xf5\\xff \\x00\\x00\\xb4\\x00\\x00\\x00\\x00\\x00\\x00\\x00\\x04\\xb7 \\xe0\\x00\\x14\\x00\\x15\\x00\\x00\\x00\\xf5\\xff \\x00\\x00\\xb4\\x00\\x00\\x00\\x00\\x00\\x00\\x00\\x04\\xb3 \\xe0\\x00\\x14\\x00\\x15\\x00\\x00\\x00\\xf5\\xff \\x00\\x00\\xb4\\x00\\x00\\x00\\x00\\x00\\x00\\x00\\x04\\xb1 \\xe0\\x00\\x14\\x00\\x15\\x00\\x00\\x00\\xf5\\xff \\x00\\x00\\xb4\\x00\\x00\\x00\\x00\\x00\\x00\\x00\\x04\\xb9 \\xe0\\x00\\x14\\x00\\x0b\\x00\\x00\\x00\\xf5\\xff \\x00\\x00\\xb4\\x00\\x00\\x00\\x00\\x00\\x00\\x00\\x04\\xad \\xe0\\x00\\x14\\x00\\x0f\\x00\\x00\\x00\\xf5\\xff \\x00\\x00\\x94\\x11\\x11\\x97\\x0b\\x97\\x0b\\x00\\x04\\x96 \\xe0\\x00\\x14\\x00\\x11\\x00\\x00\\x00\\xf5\\xff \\x00\\x00\\x94ff\\xbf\\x1f\\xbf\\x1f\\x00\\x04\\xb7 \\xe0\\x00\\x14\\x00\\x01\\x00+\\x00\\xf5\\xff \\x00\\x00\\xf8\\x00\\x00\\x00\\x00\\x00\\x00\\x00\\x00\\xc0 \\xe0\\x00\\x14\\x00\\x01\\x00)\\x00\\xf5\\xff \\x00\\x00\\xf8\\x00\\x00\\x00\\x00\\x00\\x00\\x00\\x00\\xc0 \\xe0\\x00\\x14\\x00\\x01\\x00,\\x00\\xf5\\xff \\x00\\x00\\xf8\\x00\\x00\\x00\\x00\\x00\\x00\\x00\\x00\\xc0 \\xe0\\x00\\x14\\x00\\x01\\x00*\\x00\\xf5\\xff \\x00\\x00\\xf8\\x00\\x00\\x00\\x00\\x00\\x00\\x00\\x00\\xc0 \\xe0\\x00\\x14\\x00\\x13\\x00\\x00\\x00\\xf5\\xff \\x00\\x00\\xf4\\x00\\x00\\x00\\x00\\x00\\x00\\x00\\x00\\xc0 \\xe0\\x00\\x14\\x00\\n\\x00\\x00\\x00\\xf5\\xff \\x00\\x00\\xb4\\x00\\x00\\x00\\x00\\x00\\x00\\x00\\x04\\xaa \\xe0\\x00\\x14\\x00\\x07\\x00\\x00\\x00\\xf5\\xff \\x00\\x00\\xd4\\x00P\\x00\\x00\\x00\\x1f\\x00\\x00\\xc0 \\xe0\\x00\\x14\\x00\\x08\\x00\\x00\\x00\\xf5\\xff \\x00\\x00\\xd4\\x00P\\x00\\x00\\x00\\x16\\x00\\x00\\xc0 \\xe0\\x00\\x14\\x00\\t\\x00\\x00\\x00\\xf5\\xff \\x00\\x00\\xd4\\x00 \\x00\\x00\\x80\\x18\\x00\\x00\\xc0 \\xe0\\x00\\x14\\x00\\t\\x00\\x00\\x00\\xf5\\xff \\x00\\x00\\xf4\\x00\\x00\\x00\\x00\\x00\\x00\\x00\\x00\\xc0 \\xe0\\x00\\x14\\x00\\r\\x00\\x00\\x00\\xf5\\xff \\x00\\x00\\x94\\x11\\x11\\x97\\x0b\\x97\\x0b\\x00\\x04\\xaf \\xe0\\x00\\x14\\x00\\x10\\x00\\x00\\x00\\xf5\\xff \\x00\\x00\\xd4\\x00`\\x00\\x00\\x00\\x1a\\x00\\x00\\xc0 \\xe0\\x00\\x14\\x00\\x0c\\x00\\x00\\x00\\xf5\\xff \\x00\\x00\\xb4\\x00\\x00\\x00\\x00\\x00\\x00\\x00\\x04\\xab \\xe0\\x00\\x14\\x00\\x05\\x00\\x00\\x00\\xf5\\xff \\x00\\x00\\x9c\\x11\\x11\\x16\\x0b\\x16\\x0b\\x00\\x04\\x9a \\xe0\\x00\\x14\\x00\\x0e\\x00\\x00\\x00\\xf5\\xff \\x00\\x00\\x94\\x11\\x11\\xbf\\x1f\\xbf\\x1f\\x00\\x04\\x96 \\xe0\\x00\\x14\\x00\\x01\\x00\\t\\x00\\xf5\\xff \\x00\\x00\\xf8\\x00\\x00\\x00\\x00\\x00\\x00\\x00\\x00\\xc0 \\xe0\\x00\\x14\\x00\\x06\\x00\\x00\\x00\\xf5\\xff \\x00\\x00\\xf4\\x00\\x00\\x00\\x00\\x00\\x00\\x00\\x00\\xc0 \\xe0\\x00\\x14\\x00\\x14\\x00\\x00\\x00\\xf5\\xff \\x00\\x00\\xd4\\x00a\\x00\\x00>\\x1f\\x00\\x00\\xc0 \\xe0\\x00\\x14\\x00\\x12\\x00\\x00\\x00\\xf5\\xff \\x00\\x00\\xf4\\x00\\x00\\x00\\x00\\x00\\x00\\x00\\x00\\xc0 \\xe0\\x00\\x14\\x00\\x00\\x00\\x00\\x00\\x01\\x00\"\\x00\\x00\\x10\\x00\\x00\\x00\\x00\\x00\\x00\\x00\\x00\\xc0 |\\x08\\x14\\x00|\\x08\\x00\\x00\\x00\\x00\\x00\\x00\\x00\\x00\\x00\\x00\\x00\\x00?\\x00Q\\xaf\\xd1\\r}\\x08A\\x00}\\x08\\x00\\x00\\x00\\x00\\x00\\x00\\x00\\x00\\x00\\x00\\x00\\x00\\x10\\x00\\x00\\x00\\x03\\x00\\r\\x00\\x14\\x00\\x03\\x00\\x00\\x00\\x01\\x00\\x00\\x0000\\\\);_(*\\x0e\\x00\\x05\\x00\\x02\\x04\\x00\\x14\\x00\\x03\\x00ef\\x04\\x00\\x00\\x00;_(@_)  }\\x08A\\x00}\\x08\\x00\\x00\\x00\\x00\\x00\\x00\\x00\\x00\\x00\\x00\\x00\\x00\\x11\\x00\\x00\\x00\\x03\\x00\\r\\x00\\x14\\x00\\x03\\x00\\x00\\x00\\x01\\x00\\x00\\x0000\\\\);_(*\\x0e\\x00\\x05\\x00\\x02\\x04\\x00\\x14\\x00\\x03\\x00ef\\x05\\x00\\x00\\x00;_(@_)  }\\x08A\\x00}\\x08\\x00\\x00\\x00\\x00\\x00\\x00\\x00\\x00\\x00\\x00\\x00\\x00\\x12\\x00\\x00\\x00\\x03\\x00\\r\\x00\\x14\\x00\\x03\\x00\\x00\\x00\\x01\\x00\\x00\\x0000\\\\);_(*\\x0e\\x00\\x05\\x00\\x02\\x04\\x00\\x14\\x00\\x03\\x00ef\\x06\\x00\\x00\\x00;_(@_)  }\\x08A\\x00}\\x08\\x00\\x00\\x00\\x00\\x00\\x00\\x00\\x00\\x00\\x00\\x00\\x00\\x13\\x00\\x00\\x00\\x03\\x00\\r\\x00\\x14\\x00\\x03\\x00\\x00\\x00\\x01\\x00\\x00\\x0000\\\\);_(*\\x0e\\x00\\x05\\x00\\x02\\x04\\x00\\x14\\x00\\x03\\x00ef\\x07\\x00\\x00\\x00;_(@_)  }\\x08A\\x00}\\x08\\x00\\x00\\x00\\x00\\x00\\x00\\x00\\x00\\x00\\x00\\x00\\x00\\x14\\x00\\x00\\x00\\x03\\x00\\r\\x00\\x14\\x00\\x03\\x00\\x00\\x00\\x01\\x00\\x00\\x0000\\\\);_(*\\x0e\\x00\\x05\\x00\\x02\\x04\\x00\\x14\\x00\\x03\\x00ef\\x08\\x00\\x00\\x00;_(@_)  }\\x08A\\x00}\\x08\\x00\\x00\\x00\\x00\\x00\\x00\\x00\\x00\\x00\\x00\\x00\\x00\\x15\\x00\\x00\\x00\\x03\\x00\\r\\x00\\x14\\x00\\x03\\x00\\x00\\x00\\x01\\x00\\x00\\x0000\\\\);_(*\\x0e\\x00\\x05\\x00\\x02\\x04\\x00\\x14\\x00\\x03\\x00ef\\t\\x00\\x00\\x00;_(@_)  }\\x08A\\x00}\\x08\\x00\\x00\\x00\\x00\\x00\\x00\\x00\\x00\\x00\\x00\\x00\\x00\\x16\\x00\\x00\\x00\\x03\\x00\\r\\x00\\x14\\x00\\x03\\x00\\x00\\x00\\x01\\x00\\x00\\x0000\\\\);_(*\\x0e\\x00\\x05\\x00\\x02\\x04\\x00\\x14\\x00\\x03\\x00\\xccL\\x04\\x00\\x00\\x00;_(@_)  }\\x08A\\x00}\\x08\\x00\\x00\\x00\\x00\\x00\\x00\\x00\\x00\\x00\\x00\\x00\\x00\\x17\\x00\\x00\\x00\\x03\\x00\\r\\x00\\x14\\x00\\x03\\x00\\x00\\x00\\x01\\x00\\x00\\x0000\\\\);_(*\\x0e\\x00\\x05\\x00\\x02\\x04\\x00\\x14\\x00\\x03\\x00\\xccL\\x05\\x00\\x00\\x00;_(@_)  }\\x08A\\x00}\\x08\\x00\\x00\\x00\\x00\\x00\\x00\\x00\\x00\\x00\\x00\\x00\\x00\\x18\\x00\\x00\\x00\\x03\\x00\\r\\x00\\x14\\x00\\x03\\x00\\x00\\x00\\x01\\x00\\x00\\x0000\\\\);_(*\\x0e\\x00\\x05\\x00\\x02\\x04\\x00\\x14\\x00\\x03\\x00\\xccL\\x06\\x00\\x00\\x00;_(@_)  }\\x08A\\x00}\\x08\\x00\\x00\\x00\\x00\\x00\\x00\\x00\\x00\\x00\\x00\\x00\\x00\\x19\\x00\\x00\\x00\\x03\\x00\\r\\x00\\x14\\x00\\x03\\x00\\x00\\x00\\x01\\x00\\x00\\x0000\\\\);_(*\\x0e\\x00\\x05\\x00\\x02\\x04\\x00\\x14\\x00\\x03\\x00\\xccL\\x07\\x00\\x00\\x00;_(@_)  }\\x08A\\x00}\\x08\\x00\\x00\\x00\\x00\\x00\\x00\\x00\\x00\\x00\\x00\\x00\\x00\\x1a\\x00\\x00\\x00\\x03\\x00\\r\\x00\\x14\\x00\\x03\\x00\\x00\\x00\\x01\\x00\\x00\\x0000\\\\);_(*\\x0e\\x00\\x05\\x00\\x02\\x04\\x00\\x14\\x00\\x03\\x00\\xccL\\x08\\x00\\x00\\x00;_(@_)  }\\x08A\\x00}\\x08\\x00\\x00\\x00\\x00\\x00\\x00\\x00\\x00\\x00\\x00\\x00\\x00\\x1b\\x00\\x00\\x00\\x03\\x00\\r\\x00\\x14\\x00\\x03\\x00\\x00\\x00\\x01\\x00\\x00\\x0000\\\\);_(*\\x0e\\x00\\x05\\x00\\x02\\x04\\x00\\x14\\x00\\x03\\x00\\xccL\\t\\x00\\x00\\x00;_(@_)  }\\x08A\\x00}\\x08\\x00\\x00\\x00\\x00\\x00\\x00\\x00\\x00\\x00\\x00\\x00\\x00\\x1c\\x00\\x00\\x00\\x03\\x00\\r\\x00\\x14\\x00\\x03\\x00\\x00\\x00\\x01\\x00\\x00\\x0000\\\\);_(*\\x0e\\x00\\x05\\x00\\x02\\x04\\x00\\x14\\x00\\x03\\x0023\\x04\\x00\\x00\\x00;_(@_)  }\\x08A\\x00}\\x08\\x00\\x00\\x00\\x00\\x00\\x00\\x00\\x00\\x00\\x00\\x00\\x00\\x1d\\x00\\x00\\x00\\x03\\x00\\r\\x00\\x14\\x00\\x03\\x00\\x00\\x00\\x01\\x00\\x00\\x0000\\\\);_(*\\x0e\\x00\\x05\\x00\\x02\\x04\\x00\\x14\\x00\\x03\\x0023\\x05\\x00\\x00\\x00;_(@_)  }\\x08A\\x00}\\x08\\x00\\x00\\x00\\x00\\x00\\x00\\x00\\x00\\x00\\x00\\x00\\x00\\x1e\\x00\\x00\\x00\\x03\\x00\\r\\x00\\x14\\x00\\x03\\x00\\x00\\x00\\x01\\x00\\x00\\x0000\\\\);_(*\\x0e\\x00\\x05\\x00\\x02\\x04\\x00\\x14\\x00\\x03\\x0023\\x06\\x00\\x00\\x00;_(@_)  }\\x08A\\x00}\\x08\\x00\\x00\\x00\\x00\\x00\\x00\\x00\\x00\\x00\\x00\\x00\\x00\\x1f\\x00\\x00\\x00\\x03\\x00\\r\\x00\\x14\\x00\\x03\\x00\\x00\\x00\\x01\\x00\\x00\\x0000\\\\);_(*\\x0e\\x00\\x05\\x00\\x02\\x04\\x00\\x14\\x00\\x03\\x0023\\x07\\x00\\x00\\x00;_(@_)  }\\x08A\\x00}\\x08\\x00\\x00\\x00\\x00\\x00\\x00\\x00\\x00\\x00\\x00\\x00\\x00 \\x00\\x00\\x00\\x03\\x00\\r\\x00\\x14\\x00\\x03\\x00\\x00\\x00\\x01\\x00\\x00\\x0000\\\\);_(*\\x0e\\x00\\x05\\x00\\x02\\x04\\x00\\x14\\x00\\x03\\x0023\\x08\\x00\\x00\\x00;_(@_)  }\\x08A\\x00}\\x08\\x00\\x00\\x00\\x00\\x00\\x00\\x00\\x00\\x00\\x00\\x00\\x00!\\x00\\x00\\x00\\x03\\x00\\r\\x00\\x14\\x00\\x03\\x00\\x00\\x00\\x01\\x00\\x00\\x0000\\\\);_(*\\x0e\\x00\\x05\\x00\\x02\\x04\\x00\\x14\\x00\\x03\\x0023\\t\\x00\\x00\\x00;_(@_)  }\\x08A\\x00}\\x08\\x00\\x00\\x00\\x00\\x00\\x00\\x00\\x00\\x00\\x00\\x00\\x00\"\\x00\\x00\\x00\\x03\\x00\\r\\x00\\x14\\x00\\x03\\x00\\x00\\x00\\x00\\x00\\x00\\x0000\\\\);_(*\\x0e\\x00\\x05\\x00\\x02\\x04\\x00\\x14\\x00\\x03\\x00\\x00\\x00\\x04\\x00\\x00\\x00;_(@_)  }\\x08A\\x00}\\x08\\x00\\x00\\x00\\x00\\x00\\x00\\x00\\x00\\x00\\x00\\x00\\x00#\\x00\\x00\\x00\\x03\\x00\\r\\x00\\x14\\x00\\x03\\x00\\x00\\x00\\x00\\x00\\x00\\x0000\\\\);_(*\\x0e\\x00\\x05\\x00\\x02\\x04\\x00\\x14\\x00\\x03\\x00\\x00\\x00\\x05\\x00\\x00\\x00;_(@_)  }\\x08A\\x00}\\x08\\x00\\x00\\x00\\x00\\x00\\x00\\x00\\x00\\x00\\x00\\x00\\x00$\\x00\\x00\\x00\\x03\\x00\\r\\x00\\x14\\x00\\x03\\x00\\x00\\x00\\x00\\x00\\x00\\x0000\\\\);_(*\\x0e\\x00\\x05\\x00\\x02\\x04\\x00\\x14\\x00\\x03\\x00\\x00\\x00\\x06\\x00\\x00\\x00;_(@_)  }\\x08A\\x00}\\x08\\x00\\x00\\x00\\x00\\x00\\x00\\x00\\x00\\x00\\x00\\x00\\x00%\\x00\\x00\\x00\\x03\\x00\\r\\x00\\x14\\x00\\x03\\x00\\x00\\x00\\x00\\x00\\x00\\x0000\\\\);_(*\\x0e\\x00\\x05\\x00\\x02\\x04\\x00\\x14\\x00\\x03\\x00\\x00\\x00\\x07\\x00\\x00\\x00;_(@_)  }\\x08A\\x00}\\x08\\x00\\x00\\x00\\x00\\x00\\x00\\x00\\x00\\x00\\x00\\x00\\x00&\\x00\\x00\\x00\\x03\\x00\\r\\x00\\x14\\x00\\x03\\x00\\x00\\x00\\x00\\x00\\x00\\x0000\\\\);_(*\\x0e\\x00\\x05\\x00\\x02\\x04\\x00\\x14\\x00\\x03\\x00\\x00\\x00\\x08\\x00\\x00\\x00;_(@_)  }\\x08A\\x00}\\x08\\x00\\x00\\x00\\x00\\x00\\x00\\x00\\x00\\x00\\x00\\x00\\x00\\'\\x00\\x00\\x00\\x03\\x00\\r\\x00\\x14\\x00\\x03\\x00\\x00\\x00\\x00\\x00\\x00\\x0000\\\\);_(*\\x0e\\x00\\x05\\x00\\x02\\x04\\x00\\x14\\x00\\x03\\x00\\x00\\x00\\t\\x00\\x00\\x00;_(@_)  }\\x08A\\x00}\\x08\\x00\\x00\\x00\\x00\\x00\\x00\\x00\\x00\\x00\\x00\\x00\\x00(\\x00\\x00\\x00\\x03\\x00\\r\\x00\\x14\\x00\\x02\\x00\\x00\\x00\\x9c\\x00\\x06\\xff00\\\\);_(*\\x0e\\x00\\x05\\x00\\x02\\x04\\x00\\x14\\x00\\x02\\x00\\x00\\x00\\xff\\xc7\\xce\\xff;_(@_)  }\\x08\\x91\\x00}\\x08\\x00\\x00\\x00\\x00\\x00\\x00\\x00\\x00\\x00\\x00\\x00\\x00)\\x00\\x00\\x00\\x07\\x00\\r\\x00\\x14\\x00\\x02\\x00\\x00\\x00\\xfa}\\x00\\xff00\\\\);_(*\\x0e\\x00\\x05\\x00\\x02\\x04\\x00\\x14\\x00\\x02\\x00\\x00\\x00\\xf2\\xf2\\xf2\\xff;_(@_)  \\x07\\x00\\x14\\x00\\x02\\x00\\x00\\x00\\x7f\\x7f\\x7f\\xff        \\x08\\x00\\x14\\x00\\x02\\x00\\x00\\x00\\x7f\\x7f\\x7f\\xff        \\t\\x00\\x14\\x00\\x02\\x00\\x00\\x00\\x7f\\x7f\\x7f\\xff\\x00\\x00\\x00\\x00\\x00\\x00\\x00\\x00\\n\\x00\\x14\\x00\\x02\\x00\\x00\\x00\\x7f\\x7f\\x7f\\xff\\x00\\x00\\x00\\x00\\x00\\x00\\x00\\x00}\\x08\\x91\\x00}\\x08\\x00\\x00\\x00\\x00\\x00\\x00\\x00\\x00\\x00\\x00\\x00\\x00*\\x00\\x00\\x00\\x07\\x00\\r\\x00\\x14\\x00\\x03\\x00\\x00\\x00\\x00\\x00\\x00\\x0000\\\\);_(*\\x0e\\x00\\x05\\x00\\x02\\x04\\x00\\x14\\x00\\x02\\x00\\x00\\x00\\xa5\\xa5\\xa5\\xff;_(@_)  \\x07\\x00\\x14\\x00\\x02\\x00\\x00\\x00???\\xff        \\x08\\x00\\x14\\x00\\x02\\x00\\x00\\x00???\\xff        \\t\\x00\\x14\\x00\\x02\\x00\\x00\\x00???\\xff\\x00\\x00\\x00\\x00\\x00\\x00\\x00\\x00\\n\\x00\\x14\\x00\\x02\\x00\\x00\\x00???\\xff\\x00\\x00\\x00\\x00\\x00\\x00\\x00\\x00}\\x08-\\x00}\\x08\\x00\\x00\\x00\\x00\\x00\\x00\\x00\\x00\\x00\\x00\\x00\\x00/\\x00\\x00\\x00\\x02\\x00\\r\\x00\\x14\\x00\\x02\\x00\\x00\\x00\\x7f\\x7f\\x7f\\xff00\\\\);_(*\\x0e\\x00\\x05\\x00\\x02}\\x08A\\x00}\\x08\\x00\\x00\\x00\\x00\\x00\\x00\\x00\\x00\\x00\\x00\\x00\\x000\\x00\\x00\\x00\\x03\\x00\\r\\x00\\x14\\x00\\x02\\x00\\x00\\x00\\x00a\\x00\\xff00\\\\);_(*\\x0e\\x00\\x05\\x00\\x02\\x04\\x00\\x14\\x00\\x02\\x00\\x00\\x00\\xc6\\xef\\xce\\xff;_(@_)  }\\x08A\\x00}\\x08\\x00\\x00\\x00\\x00\\x00\\x00\\x00\\x00\\x00\\x00\\x00\\x001\\x00\\x00\\x00\\x03\\x00\\r\\x00\\x14\\x00\\x03\\x00\\x00\\x00\\x03\\x00\\x00\\x0000\\\\);_(*\\x0e\\x00\\x05\\x00\\x02\\x08\\x00\\x14\\x00\\x03\\x00\\x00\\x00\\x04\\x00\\x00\\x00;_(@_)  }\\x08A\\x00}\\x08\\x00\\x00\\x00\\x00\\x00\\x00\\x00\\x00\\x00\\x00\\x00\\x002\\x00\\x00\\x00\\x03\\x00\\r\\x00\\x14\\x00\\x03\\x00\\x00\\x00\\x03\\x00\\x00\\x0000\\\\);_(*\\x0e\\x00\\x05\\x00\\x02\\x08\\x00\\x14\\x00\\x03\\x00\\xff?\\x04\\x00\\x00\\x00;_(@_)  }\\x08A\\x00}\\x08\\x00\\x00\\x00\\x00\\x00\\x00\\x00\\x00\\x00\\x00\\x00\\x003\\x00\\x00\\x00\\x03\\x00\\r\\x00\\x14\\x00\\x03\\x00\\x00\\x00\\x03\\x00\\x00\\x0000\\\\);_(*\\x0e\\x00\\x05\\x00\\x02\\x08\\x00\\x14\\x00\\x03\\x0023\\x04\\x00\\x00\\x00;_(@_)  }\\x08-\\x00}\\x08\\x00\\x00\\x00\\x00\\x00\\x00\\x00\\x00\\x00\\x00\\x00\\x004\\x00\\x00\\x00\\x02\\x00\\r\\x00\\x14\\x00\\x03\\x00\\x00\\x00\\x03\\x00\\x00\\x0000\\\\);_(*\\x0e\\x00\\x05\\x00\\x02}\\x08\\x91\\x00}\\x08\\x00\\x00\\x00\\x00\\x00\\x00\\x00\\x00\\x00\\x00\\x00\\x005\\x00\\x00\\x00\\x07\\x00\\r\\x00\\x14\\x00\\x02\\x00\\x00\\x00??v\\xff00\\\\);_(*\\x0e\\x00\\x05\\x00\\x02\\x04\\x00\\x14\\x00\\x02\\x00\\x00\\x00\\xff\\xcc\\x99\\xff;_(@_)  \\x07\\x00\\x14\\x00\\x02\\x00\\x00\\x00\\x7f\\x7f\\x7f\\xff        \\x08\\x00\\x14\\x00\\x02\\x00\\x00\\x00\\x7f\\x7f\\x7f\\xff        \\t\\x00\\x14\\x00\\x02\\x00\\x00\\x00\\x7f\\x7f\\x7f\\xff\\x00\\x00\\x00\\x00\\x00\\x00\\x00\\x00\\n\\x00\\x14\\x00\\x02\\x00\\x00\\x00\\x7f\\x7f\\x7f\\xff\\x00\\x00\\x00\\x00\\x00\\x00\\x00\\x00}\\x08A\\x00}\\x08\\x00\\x00\\x00\\x00\\x00\\x00\\x00\\x00\\x00\\x00\\x00\\x006\\x00\\x00\\x00\\x03\\x00\\r\\x00\\x14\\x00\\x02\\x00\\x00\\x00\\xfa}\\x00\\xff00\\\\);_(*\\x0e\\x00\\x05\\x00\\x02\\x08\\x00\\x14\\x00\\x02\\x00\\x00\\x00\\xff\\x80\\x01\\xff;_(@_)  }\\x08A\\x00}\\x08\\x00\\x00\\x00\\x00\\x00\\x00\\x00\\x00\\x00\\x00\\x00\\x007\\x00\\x00\\x00\\x03\\x00\\r\\x00\\x14\\x00\\x02\\x00\\x00\\x00\\x9cW\\x00\\xff00\\\\);_(*\\x0e\\x00\\x05\\x00\\x02\\x04\\x00\\x14\\x00\\x02\\x00\\x00\\x00\\xff\\xeb\\x9c\\xff;_(@_)  }\\x08x\\x00}\\x08\\x00\\x00\\x00\\x00\\x00\\x00\\x00\\x00\\x00\\x00\\x00\\x008\\x00\\x00\\x00\\x05\\x00\\x04\\x00\\x14\\x00\\x02\\x00\\x00\\x00\\xff\\xff\\xcc\\xff00\\\\);_(*\\x07\\x00\\x14\\x00\\x02\\x00\\x00\\x00\\xb2\\xb2\\xb2\\xff\\x00\\xff\\xeb\\x9c\\xff;_(\\x08\\x00\\x14\\x00\\x02\\x00\\x00\\x00\\xb2\\xb2\\xb2\\xff\\x00\\x7f\\x7f\\x7f\\xff   \\t\\x00\\x14\\x00\\x02\\x00\\x00\\x00\\xb2\\xb2\\xb2\\xff\\x00\\x7f\\x7f\\x7f\\xff   \\n\\x00\\x14\\x00\\x02\\x00\\x00\\x00\\xb2\\xb2\\xb2\\xff\\x00\\x7f\\x7f\\x7f\\xff\\x00\\x00\\x00}\\x08\\x91\\x00}\\x08\\x00\\x00\\x00\\x00\\x00\\x00\\x00\\x00\\x00\\x00\\x00\\x009\\x00\\x00\\x00\\x07\\x00\\r\\x00\\x14\\x00\\x02\\x00\\x00\\x00???\\xff00\\\\);_(*\\x0e\\x00\\x05\\x00\\x02\\x04\\x00\\x14\\x00\\x02\\x00\\x00\\x00\\xf2\\xf2\\xf2\\xff;_(\\x08\\x00\\x14\\x00\\x02\\x07\\x00\\x14\\x00\\x02\\x00\\x00\\x00???\\xff   \\t\\x00\\x14\\x00\\x02\\x08\\x00\\x14\\x00\\x02\\x00\\x00\\x00???\\xff   \\n\\x00\\x14\\x00\\x02\\t\\x00\\x14\\x00\\x02\\x00\\x00\\x00???\\xff\\x00\\x00\\x00\\x00\\x00\\x00\\x00\\x00\\n\\x00\\x14\\x00\\x02\\x00\\x00\\x00???\\xff\\x00\\x00\\x00\\x00\\x00\\x00\\x00\\x00}\\x08-\\x00}\\x08\\x00\\x00\\x00\\x00\\x00\\x00\\x00\\x00\\x00\\x00\\x00\\x00;\\x00\\x00\\x00\\x02\\x00\\r\\x00\\x14\\x00\\x03\\x00\\x00\\x00\\x03\\x00\\x00\\x0000\\\\);_(*\\x0e\\x00\\x05\\x00\\x01}\\x08U\\x00}\\x08\\x00\\x00\\x00\\x00\\x00\\x00\\x00\\x00\\x00\\x00\\x00\\x00<\\x00\\x00\\x00\\x04\\x00\\r\\x00\\x14\\x00\\x03\\x00\\x00\\x00\\x01\\x00\\x00\\x0000\\\\);_(*\\x0e\\x00\\x05\\x00\\x02\\x07\\x00\\x14\\x00\\x03\\x00\\x00\\x00\\x04\\x00\\x00\\x00;_(\\x08\\x00\\x14\\x00\\x02\\x08\\x00\\x14\\x00\\x03\\x00\\x00\\x00\\x04\\x00\\x00\\x00   \\t\\x00\\x14\\x00\\x02}\\x08-\\x00}\\x08\\x00\\x00\\x00\\x00\\x00\\x00\\x00\\x00\\x00\\x00\\x00\\x00=\\x00\\x00\\x00\\x02\\x00\\r\\x00\\x14\\x00\\x02\\x00\\x00\\x00\\xff\\x00\\x00\\xff00\\\\);_(*\\x0e\\x00\\x05\\x00\\x02\\x93\\x02\\x12\\x00\\x10\\x00\\r\\x00\\x0020% - Accent1\\x92\\x08M\\x00\\x92\\x08\\x00\\x00\\x00\\x00\\x00\\x00\\x00\\x00\\x00\\x00\\x01\\x04\\x1e\\xff\\r\\x002\\x000\\x00%\\x00 \\x00-\\x00 \\x00A\\x00c\\x00c\\x00e\\x00n\\x00t\\x001\\x00\\x00\\x00\\x03\\x00\\x01\\x00\\x0c\\x00\\x07\\x04ef\\xd9\\xe1\\xf2\\xff\\x05\\x00\\x0c\\x00\\x07\\x01\\x00\\x00\\x00\\x00\\x00\\xff%\\x00\\x05\\x00\\x02\\x93\\x02\\x12\\x00\\x11\\x00\\r\\x00\\x0020% - Accent2\\x92\\x08M\\x00\\x92\\x08\\x00\\x00\\x00\\x00\\x00\\x00\\x00\\x00\\x00\\x00\\x01\\x04\"\\xff\\r\\x002\\x000\\x00%\\x00 \\x00-\\x00 \\x00A\\x00c\\x00c\\x00e\\x00n\\x00t\\x002\\x00\\x00\\x00\\x03\\x00\\x01\\x00\\x0c\\x00\\x07\\x05ef\\xfc\\xe4\\xd6\\xff\\x05\\x00\\x0c\\x00\\x07\\x01\\x00\\x00\\x00\\x00\\x00\\xff%\\x00\\x05\\x00\\x02\\x93\\x02\\x12\\x00\\x12\\x00\\r\\x00\\x0020% - Accent3\\x92\\x08M\\x00\\x92\\x08\\x00\\x00\\x00\\x00\\x00\\x00\\x00\\x00\\x00\\x00\\x01\\x04&\\xff\\r\\x002\\x000\\x00%\\x00 \\x00-\\x00 \\x00A\\x00c\\x00c\\x00e\\x00n\\x00t\\x003\\x00\\x00\\x00\\x03\\x00\\x01\\x00\\x0c\\x00\\x07\\x06ef\\xed\\xed\\xed\\xff\\x05\\x00\\x0c\\x00\\x07\\x01\\x00\\x00\\x00\\x00\\x00\\xff%\\x00\\x05\\x00\\x02\\x93\\x02\\x12\\x00\\x13\\x00\\r\\x00\\x0020% - Accent4\\x92\\x08M\\x00\\x92\\x08\\x00\\x00\\x00\\x00\\x00\\x00\\x00\\x00\\x00\\x00\\x01\\x04*\\xff\\r\\x002\\x000\\x00%\\x00 \\x00-\\x00 \\x00A\\x00c\\x00c\\x00e\\x00n\\x00t\\x004\\x00\\x00\\x00\\x03\\x00\\x01\\x00\\x0c\\x00\\x07\\x07ef\\xff\\xf2\\xcc\\xff\\x05\\x00\\x0c\\x00\\x07\\x01\\x00\\x00\\x00\\x00\\x00\\xff%\\x00\\x05\\x00\\x02\\x93\\x02\\x12\\x00\\x14\\x00\\r\\x00\\x0020% - Accent5\\x92\\x08M\\x00\\x92\\x08\\x00\\x00\\x00\\x00\\x00\\x00\\x00\\x00\\x00\\x00\\x01\\x04.\\xff\\r\\x002\\x000\\x00%\\x00 \\x00-\\x00 \\x00A\\x00c\\x00c\\x00e\\x00n\\x00t\\x005\\x00\\x00\\x00\\x03\\x00\\x01\\x00\\x0c\\x00\\x07\\x08ef\\xdd\\xeb\\xf7\\xff\\x05\\x00\\x0c\\x00\\x07\\x01\\x00\\x00\\x00\\x00\\x00\\xff%\\x00\\x05\\x00\\x02\\x93\\x02\\x12\\x00\\x15\\x00\\r\\x00\\x0020% - Accent6\\x92\\x08M\\x00\\x92\\x08\\x00\\x00\\x00\\x00\\x00\\x00\\x00\\x00\\x00\\x00\\x01\\x042\\xff\\r\\x002\\x000\\x00%\\x00 \\x00-\\x00 \\x00A\\x00c\\x00c\\x00e\\x00n\\x00t\\x006\\x00\\x00\\x00\\x03\\x00\\x01\\x00\\x0c\\x00\\x07\\tef\\xe2\\xef\\xda\\xff\\x05\\x00\\x0c\\x00\\x07\\x01\\x00\\x00\\x00\\x00\\x00\\xff%\\x00\\x05\\x00\\x02\\x93\\x02\\x12\\x00\\x16\\x00\\r\\x00\\x0040% - Accent1\\x92\\x08M\\x00\\x92\\x08\\x00\\x00\\x00\\x00\\x00\\x00\\x00\\x00\\x00\\x00\\x01\\x04\\x1f\\xff\\r\\x004\\x000\\x00%\\x00 \\x00-\\x00 \\x00A\\x00c\\x00c\\x00e\\x00n\\x00t\\x001\\x00\\x00\\x00\\x03\\x00\\x01\\x00\\x0c\\x00\\x07\\x04\\xccL\\xb4\\xc6\\xe7\\xff\\x05\\x00\\x0c\\x00\\x07\\x01\\x00\\x00\\x00\\x00\\x00\\xff%\\x00\\x05\\x00\\x02\\x93\\x02\\x12\\x00\\x17\\x00\\r\\x00\\x0040% - Accent2\\x92\\x08M\\x00\\x92\\x08\\x00\\x00\\x00\\x00\\x00\\x00\\x00\\x00\\x00\\x00\\x01\\x04#\\xff\\r\\x004\\x000\\x00%\\x00 \\x00-\\x00 \\x00A\\x00c\\x00c\\x00e\\x00n\\x00t\\x002\\x00\\x00\\x00\\x03\\x00\\x01\\x00\\x0c\\x00\\x07\\x05\\xccL\\xf8\\xcb\\xad\\xff\\x05\\x00\\x0c\\x00\\x07\\x01\\x00\\x00\\x00\\x00\\x00\\xff%\\x00\\x05\\x00\\x02\\x93\\x02\\x12\\x00\\x18\\x00\\r\\x00\\x0040% - Accent3\\x92\\x08M\\x00\\x92\\x08\\x00\\x00\\x00\\x00\\x00\\x00\\x00\\x00\\x00\\x00\\x01\\x04\\'\\xff\\r\\x004\\x000\\x00%\\x00 \\x00-\\x00 \\x00A\\x00c\\x00c\\x00e\\x00n\\x00t\\x003\\x00\\x00\\x00\\x03\\x00\\x01\\x00\\x0c\\x00\\x07\\x06\\xccL\\xdb\\xdb\\xdb\\xff\\x05\\x00\\x0c\\x00\\x07\\x01\\x00\\x00\\x00\\x00\\x00\\xff%\\x00\\x05\\x00\\x02\\x93\\x02\\x12\\x00\\x19\\x00\\r\\x00\\x0040% - Accent4\\x92\\x08M\\x00\\x92\\x08\\x00\\x00\\x00\\x00\\x00\\x00\\x00\\x00\\x00\\x00\\x01\\x04+\\xff\\r\\x004\\x000\\x00%\\x00 \\x00-\\x00 \\x00A\\x00c\\x00c\\x00e\\x00n\\x00t\\x004\\x00\\x00\\x00\\x03\\x00\\x01\\x00\\x0c\\x00\\x07\\x07\\xccL\\xff\\xe6\\x99\\xff\\x05\\x00\\x0c\\x00\\x07\\x01\\x00\\x00\\x00\\x00\\x00\\xff%\\x00\\x05\\x00\\x02\\x93\\x02\\x12\\x00\\x1a\\x00\\r\\x00\\x0040% - Accent5\\x92\\x08M\\x00\\x92\\x08\\x00\\x00\\x00\\x00\\x00\\x00\\x00\\x00\\x00\\x00\\x01\\x04/\\xff\\r\\x004\\x000\\x00%\\x00 \\x00-\\x00 \\x00A\\x00c\\x00c\\x00e\\x00n\\x00t\\x005\\x00\\x00\\x00\\x03\\x00\\x01\\x00\\x0c\\x00\\x07\\x08\\xccL\\xbd\\xd7\\xee\\xff\\x05\\x00\\x0c\\x00\\x07\\x01\\x00\\x00\\x00\\x00\\x00\\xff%\\x00\\x05\\x00\\x02\\x93\\x02\\x12\\x00\\x1b\\x00\\r\\x00\\x0040% - Accent6\\x92\\x08M\\x00\\x92\\x08\\x00\\x00\\x00\\x00\\x00\\x00\\x00\\x00\\x00\\x00\\x01\\x043\\xff\\r\\x004\\x000\\x00%\\x00 \\x00-\\x00 \\x00A\\x00c\\x00c\\x00e\\x00n\\x00t\\x006\\x00\\x00\\x00\\x03\\x00\\x01\\x00\\x0c\\x00\\x07\\t\\xccL\\xc6\\xe0\\xb4\\xff\\x05\\x00\\x0c\\x00\\x07\\x01\\x00\\x00\\x00\\x00\\x00\\xff%\\x00\\x05\\x00\\x02\\x93\\x02\\x12\\x00\\x1c\\x00\\r\\x00\\x0060% - Accent1\\x92\\x08M\\x00\\x92\\x08\\x00\\x00\\x00\\x00\\x00\\x00\\x00\\x00\\x00\\x00\\x01\\x04 \\xff\\r\\x006\\x000\\x00%\\x00 \\x00-\\x00 \\x00A\\x00c\\x00c\\x00e\\x00n\\x00t\\x001\\x00\\x00\\x00\\x03\\x00\\x01\\x00\\x0c\\x00\\x07\\x0423\\x8e\\xa9\\xdb\\xff\\x05\\x00\\x0c\\x00\\x07\\x01\\x00\\x00\\x00\\x00\\x00\\xff%\\x00\\x05\\x00\\x02\\x93\\x02\\x12\\x00\\x1d\\x00\\r\\x00\\x0060% - Accent2\\x92\\x08M\\x00\\x92\\x08\\x00\\x00\\x00\\x00\\x00\\x00\\x00\\x00\\x00\\x00\\x01\\x04$\\xff\\r\\x006\\x000\\x00%\\x00 \\x00-\\x00 \\x00A\\x00c\\x00c\\x00e\\x00n\\x00t\\x002\\x00\\x00\\x00\\x03\\x00\\x01\\x00\\x0c\\x00\\x07\\x0523\\xf4\\xb0\\x84\\xff\\x05\\x00\\x0c\\x00\\x07\\x01\\x00\\x00\\x00\\x00\\x00\\xff%\\x00\\x05\\x00\\x02\\x93\\x02\\x12\\x00\\x1e\\x00\\r\\x00\\x0060% - Accent3\\x92\\x08M\\x00\\x92\\x08\\x00\\x00\\x00\\x00\\x00\\x00\\x00\\x00\\x00\\x00\\x01\\x04(\\xff\\r\\x006\\x000\\x00%\\x00 \\x00-\\x00 \\x00A\\x00c\\x00c\\x00e\\x00n\\x00t\\x003\\x00\\x00\\x00\\x03\\x00\\x01\\x00\\x0c\\x00\\x07\\x0623\\xc9\\xc9\\xc9\\xff\\x05\\x00\\x0c\\x00\\x07\\x01\\x00\\x00\\x00\\x00\\x00\\xff%\\x00\\x05\\x00\\x02\\x93\\x02\\x12\\x00\\x1f\\x00\\r\\x00\\x0060% - Accent4\\x92\\x08M\\x00\\x92\\x08\\x00\\x00\\x00\\x00\\x00\\x00\\x00\\x00\\x00\\x00\\x01\\x04,\\xff\\r\\x006\\x000\\x00%\\x00 \\x00-\\x00 \\x00A\\x00c\\x00c\\x00e\\x00n\\x00t\\x004\\x00\\x00\\x00\\x03\\x00\\x01\\x00\\x0c\\x00\\x07\\x0723\\xff\\xd9f\\xff\\x05\\x00\\x0c\\x00\\x07\\x01\\x00\\x00\\x00\\x00\\x00\\xff%\\x00\\x05\\x00\\x02\\x93\\x02\\x12\\x00 \\x00\\r\\x00\\x0060% - Accent5\\x92\\x08M\\x00\\x92\\x08\\x00\\x00\\x00\\x00\\x00\\x00\\x00\\x00\\x00\\x00\\x01\\x040\\xff\\r\\x006\\x000\\x00%\\x00 \\x00-\\x00 \\x00A\\x00c\\x00c\\x00e\\x00n\\x00t\\x005\\x00\\x00\\x00\\x03\\x00\\x01\\x00\\x0c\\x00\\x07\\x0823\\x9b\\xc2\\xe6\\xff\\x05\\x00\\x0c\\x00\\x07\\x01\\x00\\x00\\x00\\x00\\x00\\xff%\\x00\\x05\\x00\\x02\\x93\\x02\\x12\\x00!\\x00\\r\\x00\\x0060% - Accent6\\x92\\x08M\\x00\\x92\\x08\\x00\\x00\\x00\\x00\\x00\\x00\\x00\\x00\\x00\\x00\\x01\\x044\\xff\\r\\x006\\x000\\x00%\\x00 \\x00-\\x00 \\x00A\\x00c\\x00c\\x00e\\x00n\\x00t\\x006\\x00\\x00\\x00\\x03\\x00\\x01\\x00\\x0c\\x00\\x07\\t23\\xa9\\xd0\\x8e\\xff\\x05\\x00\\x0c\\x00\\x07\\x01\\x00\\x00\\x00\\x00\\x00\\xff%\\x00\\x05\\x00\\x02\\x93\\x02\\x0c\\x00\"\\x00\\x07\\x00\\x00Accent1\\x92\\x08A\\x00\\x92\\x08\\x00\\x00\\x00\\x00\\x00\\x00\\x00\\x00\\x00\\x00\\x01\\x04\\x1d\\xff\\x07\\x00A\\x00c\\x00c\\x00e\\x00n\\x00t\\x001\\x00\\x00\\x00\\x03\\x00\\x01\\x00\\x0c\\x00\\x07\\x04\\x00\\x00Dr\\xc4\\xff\\x05\\x00\\x0c\\x00\\x07\\x00\\x00\\x00\\xff\\xff\\xff\\xff%\\x00\\x05\\x00\\x02\\x93\\x02\\x0c\\x00#\\x00\\x07\\x00\\x00Accent2\\x92\\x08A\\x00\\x92\\x08\\x00\\x00\\x00\\x00\\x00\\x00\\x00\\x00\\x00\\x00\\x01\\x04!\\xff\\x07\\x00A\\x00c\\x00c\\x00e\\x00n\\x00t\\x002\\x00\\x00\\x00\\x03\\x00\\x01\\x00\\x0c\\x00\\x07\\x05\\x00\\x00\\xed}1\\xff\\x05\\x00\\x0c\\x00\\x07\\x00\\x00\\x00\\xff\\xff\\xff\\xff%\\x00\\x05\\x00\\x02\\x93\\x02\\x0c\\x00$\\x00\\x07\\x00\\x00Accent3\\x92\\x08A\\x00\\x92\\x08\\x00\\x00\\x00\\x00\\x00\\x00\\x00\\x00\\x00\\x00\\x01\\x04%\\xff\\x07\\x00A\\x00c\\x00c\\x00e\\x00n\\x00t\\x003\\x00\\x00\\x00\\x03\\x00\\x01\\x00\\x0c\\x00\\x07\\x06\\x00\\x00\\xa5\\xa5\\xa5\\xff\\x05\\x00\\x0c\\x00\\x07\\x00\\x00\\x00\\xff\\xff\\xff\\xff%\\x00\\x05\\x00\\x02\\x93\\x02\\x0c\\x00%\\x00\\x07\\x00\\x00Accent4\\x92\\x08A\\x00\\x92\\x08\\x00\\x00\\x00\\x00\\x00\\x00\\x00\\x00\\x00\\x00\\x01\\x04)\\xff\\x07\\x00A\\x00c\\x00c\\x00e\\x00n\\x00t\\x004\\x00\\x00\\x00\\x03\\x00\\x01\\x00\\x0c\\x00\\x07\\x07\\x00\\x00\\xff\\xc0\\x00\\xff\\x05\\x00\\x0c\\x00\\x07\\x00\\x00\\x00\\xff\\xff\\xff\\xff%\\x00\\x05\\x00\\x02\\x93\\x02\\x0c\\x00&\\x00\\x07\\x00\\x00Accent5\\x92\\x08A\\x00\\x92\\x08\\x00\\x00\\x00\\x00\\x00\\x00\\x00\\x00\\x00\\x00\\x01\\x04-\\xff\\x07\\x00A\\x00c\\x00c\\x00e\\x00n\\x00t\\x005\\x00\\x00\\x00\\x03\\x00\\x01\\x00\\x0c\\x00\\x07\\x08\\x00\\x00[\\x9b\\xd5\\xff\\x05\\x00\\x0c\\x00\\x07\\x00\\x00\\x00\\xff\\xff\\xff\\xff%\\x00\\x05\\x00\\x02\\x93\\x02\\x0c\\x00\\'\\x00\\x07\\x00\\x00Accent6\\x92\\x08A\\x00\\x92\\x08\\x00\\x00\\x00\\x00\\x00\\x00\\x00\\x00\\x00\\x00\\x01\\x041\\xff\\x07\\x00A\\x00c\\x00c\\x00e\\x00n\\x00t\\x006\\x00\\x00\\x00\\x03\\x00\\x01\\x00\\x0c\\x00\\x07\\t\\x00\\x00p\\xadG\\xff\\x05\\x00\\x0c\\x00\\x07\\x00\\x00\\x00\\xff\\xff\\xff\\xff%\\x00\\x05\\x00\\x02\\x93\\x02\\x08\\x00(\\x00\\x03\\x00\\x00Bad\\x92\\x089\\x00\\x92\\x08\\x00\\x00\\x00\\x00\\x00\\x00\\x00\\x00\\x00\\x00\\x01\\x01\\x1b\\xff\\x03\\x00B\\x00a\\x00d\\x00\\x00\\x00\\x03\\x00\\x01\\x00\\x0c\\x00\\x05\\xff\\x00\\x00\\xff\\xc7\\xce\\xff\\x05\\x00\\x0c\\x00\\x05\\xff\\x00\\x00\\x9c\\x00\\x06\\xff%\\x00\\x05\\x00\\x02\\x93\\x02\\x10\\x00)\\x00\\x0b\\x00\\x00Calculation\\x92\\x08\\x81\\x00\\x92\\x08\\x00\\x00\\x00\\x00\\x00\\x00\\x00\\x00\\x00\\x00\\x01\\x02\\x16\\xff\\x0b\\x00C\\x00a\\x00l\\x00c\\x00u\\x00l\\x00a\\x00t\\x00i\\x00o\\x00n\\x00\\x00\\x00\\x07\\x00\\x01\\x00\\x0c\\x00\\x05\\xff\\x00\\x00\\xf2\\xf2\\xf2\\xff\\x05\\x00\\x0c\\x00\\x05\\xff\\x00\\x00\\xfa}\\x00\\xff%\\x00\\x05\\x00\\x02\\x06\\x00\\x0e\\x00\\x05\\xff\\x00\\x00\\x7f\\x7f\\x7f\\xff\\x01\\x00\\x07\\x00\\x0e\\x00\\x05\\xff\\x00\\x00\\x7f\\x7f\\x7f\\xff\\x01\\x00\\x08\\x00\\x0e\\x00\\x05\\xff\\x00\\x00\\x7f\\x7f\\x7f\\xff\\x01\\x00\\t\\x00\\x0e\\x00\\x05\\xff\\x00\\x00\\x7f\\x7f\\x7f\\xff\\x01\\x00\\x93\\x02\\x0f\\x00*\\x00\\n\\x00\\x00Check Cell\\x92\\x08\\x7f\\x00\\x92\\x08\\x00\\x00\\x00\\x00\\x00\\x00\\x00\\x00\\x00\\x00\\x01\\x02\\x17\\xff\\n\\x00C\\x00h\\x00e\\x00c\\x00k\\x00 \\x00C\\x00e\\x00l\\x00l\\x00\\x00\\x00\\x07\\x00\\x01\\x00\\x0c\\x00\\x05\\xff\\x00\\x00\\xa5\\xa5\\xa5\\xff\\x05\\x00\\x0c\\x00\\x07\\x00\\x00\\x00\\xff\\xff\\xff\\xff%\\x00\\x05\\x00\\x02\\x06\\x00\\x0e\\x00\\x05\\xff\\x00\\x00???\\xff\\x06\\x00\\x07\\x00\\x0e\\x00\\x05\\xff\\x00\\x00???\\xff\\x06\\x00\\x08\\x00\\x0e\\x00\\x05\\xff\\x00\\x00???\\xff\\x06\\x00\\t\\x00\\x0e\\x00\\x05\\xff\\x00\\x00???\\xff\\x06\\x00\\x93\\x02\\x04\\x00+\\x80\\x03\\xff\\x92\\x08 \\x00\\x92\\x08\\x00\\x00\\x00\\x00\\x00\\x00\\x00\\x00\\x00\\x00\\x01\\x05\\x03\\xff\\x05\\x00C\\x00o\\x00m\\x00m\\x00a\\x00\\x00\\x00\\x00\\x00\\x93\\x02\\x04\\x00,\\x80\\x06\\xff\\x92\\x08(\\x00\\x92\\x08\\x00\\x00\\x00\\x00\\x00\\x00\\x00\\x00\\x00\\x00\\x01\\x05\\x06\\xff\\t\\x00C\\x00o\\x00m\\x00m\\x00a\\x00 \\x00[\\x000\\x00]\\x00\\x00\\x00\\x00\\x00\\x93\\x02\\x04\\x00-\\x80\\x04\\xff\\x92\\x08&\\x00\\x92\\x08\\x00\\x00\\x00\\x00\\x00\\x00\\x00\\x00\\x00\\x00\\x01\\x05\\x04\\xff\\x08\\x00C\\x00u\\x00r\\x00r\\x00e\\x00n\\x00c\\x00y\\x00\\x00\\x00\\x00\\x00\\x93\\x02\\x04\\x00.\\x80\\x07\\xff\\x92\\x08.\\x00\\x92\\x08\\x00\\x00\\x00\\x00\\x00\\x00\\x00\\x00\\x00\\x00\\x01\\x05\\x07\\xff\\x0c\\x00C\\x00u\\x00r\\x00r\\x00e\\x00n\\x00c\\x00y\\x00 \\x00[\\x000\\x00]\\x00\\x00\\x00\\x00\\x00\\x93\\x02\\x15\\x00/\\x00\\x10\\x00\\x00Explanatory Text\\x92\\x08G\\x00\\x92\\x08\\x00\\x00\\x00\\x00\\x00\\x00\\x00\\x00\\x00\\x00\\x01\\x025\\xff\\x10\\x00E\\x00x\\x00p\\x00l\\x00a\\x00n\\x00a\\x00t\\x00o\\x00r\\x00y\\x00 \\x00T\\x00e\\x00x\\x00t\\x00\\x00\\x00\\x02\\x00\\x05\\x00\\x0c\\x00\\x05\\xff\\x00\\x00\\x7f\\x7f\\x7f\\xff%\\x00\\x05\\x00\\x02\\x93\\x02\\t\\x000\\x00\\x04\\x00\\x00Good\\x92\\x08;\\x00\\x92\\x08\\x00\\x00\\x00\\x00\\x00\\x00\\x00\\x00\\x00\\x00\\x01\\x01\\x1a\\xff\\x04\\x00G\\x00o\\x00o\\x00d\\x00\\x00\\x00\\x03\\x00\\x01\\x00\\x0c\\x00\\x05\\xff\\x00\\x00\\xc6\\xef\\xce\\xff\\x05\\x00\\x0c\\x00\\x05\\xff\\x00\\x00\\x00a\\x00\\xff%\\x00\\x05\\x00\\x02\\x93\\x02\\x0e\\x001\\x00\\t\\x00\\x00Heading 1\\x92\\x08G\\x00\\x92\\x08\\x00\\x00\\x00\\x00\\x00\\x00\\x00\\x00\\x00\\x00\\x01\\x03\\x10\\xff\\t\\x00H\\x00e\\x00a\\x00d\\x00i\\x00n\\x00g\\x00 \\x001\\x00\\x00\\x00\\x03\\x00\\x05\\x00\\x0c\\x00\\x07\\x03\\x00\\x00DTj\\xff%\\x00\\x05\\x00\\x02\\x07\\x00\\x0e\\x00\\x07\\x04\\x00\\x00Dr\\xc4\\xff\\x05\\x00\\x93\\x02\\x0e\\x002\\x00\\t\\x00\\x00Heading 2\\x92\\x08G\\x00\\x92\\x08\\x00\\x00\\x00\\x00\\x00\\x00\\x00\\x00\\x00\\x00\\x01\\x03\\x11\\xff\\t\\x00H\\x00e\\x00a\\x00d\\x00i\\x00n\\x00g\\x00 \\x002\\x00\\x00\\x00\\x03\\x00\\x05\\x00\\x0c\\x00\\x07\\x03\\x00\\x00DTj\\xff%\\x00\\x05\\x00\\x02\\x07\\x00\\x0e\\x00\\x07\\x04\\xff?\\xa2\\xb8\\xe1\\xff\\x05\\x00\\x93\\x02\\x0e\\x003\\x00\\t\\x00\\x00Heading 3\\x92\\x08G\\x00\\x92\\x08\\x00\\x00\\x00\\x00\\x00\\x00\\x00\\x00\\x00\\x00\\x01\\x03\\x12\\xff\\t\\x00H\\x00e\\x00a\\x00d\\x00i\\x00n\\x00g\\x00 \\x003\\x00\\x00\\x00\\x03\\x00\\x05\\x00\\x0c\\x00\\x07\\x03\\x00\\x00DTj\\xff%\\x00\\x05\\x00\\x02\\x07\\x00\\x0e\\x00\\x07\\x0423\\x8e\\xa9\\xdb\\xff\\x02\\x00\\x93\\x02\\x0e\\x004\\x00\\t\\x00\\x00Heading 4\\x92\\x089\\x00\\x92\\x08\\x00\\x00\\x00\\x00\\x00\\x00\\x00\\x00\\x00\\x00\\x01\\x03\\x13\\xff\\t\\x00H\\x00e\\x00a\\x00d\\x00i\\x00n\\x00g\\x00 \\x004\\x00\\x00\\x00\\x02\\x00\\x05\\x00\\x0c\\x00\\x07\\x03\\x00\\x00DTj\\xff%\\x00\\x05\\x00\\x02\\x93\\x02\\n\\x005\\x00\\x05\\x00\\x00Input\\x92\\x08u\\x00\\x92\\x08\\x00\\x00\\x00\\x00\\x00\\x00\\x00\\x00\\x00\\x00\\x01\\x02\\x14\\xff\\x05\\x00I\\x00n\\x00p\\x00u\\x00t\\x00\\x00\\x00\\x07\\x00\\x01\\x00\\x0c\\x00\\x05\\xff\\x00\\x00\\xff\\xcc\\x99\\xff\\x05\\x00\\x0c\\x00\\x05\\xff\\x00\\x00??v\\xff%\\x00\\x05\\x00\\x02\\x06\\x00\\x0e\\x00\\x05\\xff\\x00\\x00\\x7f\\x7f\\x7f\\xff\\x01\\x00\\x07\\x00\\x0e\\x00\\x05\\xff\\x00\\x00\\x7f\\x7f\\x7f\\xff\\x01\\x00\\x08\\x00\\x0e\\x00\\x05\\xff\\x00\\x00\\x7f\\x7f\\x7f\\xff\\x01\\x00\\t\\x00\\x0e\\x00\\x05\\xff\\x00\\x00\\x7f\\x7f\\x7f\\xff\\x01\\x00\\x93\\x02\\x10\\x006\\x00\\x0b\\x00\\x00Linked Cell\\x92\\x08K\\x00\\x92\\x08\\x00\\x00\\x00\\x00\\x00\\x00\\x00\\x00\\x00\\x00\\x01\\x02\\x18\\xff\\x0b\\x00L\\x00i\\x00n\\x00k\\x00e\\x00d\\x00 \\x00C\\x00e\\x00l\\x00l\\x00\\x00\\x00\\x03\\x00\\x05\\x00\\x0c\\x00\\x05\\xff\\x00\\x00\\xfa}\\x00\\xff%\\x00\\x05\\x00\\x02\\x07\\x00\\x0e\\x00\\x05\\xff\\x00\\x00\\xff\\x80\\x01\\xff\\x06\\x00\\x93\\x02\\x0c\\x007\\x00\\x07\\x00\\x00Neutral\\x92\\x08A\\x00\\x92\\x08\\x00\\x00\\x00\\x00\\x00\\x00\\x00\\x00\\x00\\x00\\x01\\x01\\x1c\\xff\\x07\\x00N\\x00e\\x00u\\x00t\\x00r\\x00a\\x00l\\x00\\x00\\x00\\x03\\x00\\x01\\x00\\x0c\\x00\\x05\\xff\\x00\\x00\\xff\\xeb\\x9c\\xff\\x05\\x00\\x0c\\x00\\x05\\xff\\x00\\x00\\x9cW\\x00\\xff%\\x00\\x05\\x00\\x02\\x93\\x02\\x04\\x00\\x00\\x80\\x00\\xff\\x92\\x08\"\\x00\\x92\\x08\\x00\\x00\\x00\\x00\\x00\\x00\\x00\\x00\\x00\\x00\\x01\\x01\\x00\\xff\\x06\\x00N\\x00o\\x00r\\x00m\\x00a\\x00l\\x00\\x00\\x00\\x00\\x00\\x93\\x02\\t\\x008\\x00\\x04\\x00\\x00Note\\x92\\x08b\\x00\\x92\\x08\\x00\\x00\\x00\\x00\\x00\\x00\\x00\\x00\\x00\\x00\\x01\\x02\\n\\xff\\x04\\x00N\\x00o\\x00t\\x00e\\x00\\x00\\x00\\x05\\x00\\x01\\x00\\x0c\\x00\\x05\\xff\\x00\\x00\\xff\\xff\\xcc\\xff\\x06\\x00\\x0e\\x00\\x05\\xff\\x00\\x00\\xb2\\xb2\\xb2\\xff\\x01\\x00\\x07\\x00\\x0e\\x00\\x05\\xff\\x00\\x00\\xb2\\xb2\\xb2\\xff\\x01\\x00\\x08\\x00\\x0e\\x00\\x05\\xff\\x00\\x00\\xb2\\xb2\\xb2\\xff\\x01\\x00\\t\\x00\\x0e\\x00\\x05\\xff\\x00\\x00\\xb2\\xb2\\xb2\\xff\\x01\\x00\\x93\\x02\\x0b\\x009\\x00\\x06\\x00\\x00Output\\x92\\x08w\\x00\\x92\\x08\\x00\\x00\\x00\\x00\\x00\\x00\\x00\\x00\\x00\\x00\\x01\\x02\\x15\\xff\\x06\\x00O\\x00u\\x00t\\x00p\\x00u\\x00t\\x00\\x00\\x00\\x07\\x00\\x01\\x00\\x0c\\x00\\x05\\xff\\x00\\x00\\xf2\\xf2\\xf2\\xff\\x05\\x00\\x0c\\x00\\x05\\xff\\x00\\x00???\\xff%\\x00\\x05\\x00\\x02\\x06\\x00\\x0e\\x00\\x05\\xff\\x00\\x00???\\xff\\x01\\x00\\x07\\x00\\x0e\\x00\\x05\\xff\\x00\\x00???\\xff\\x01\\x00\\x08\\x00\\x0e\\x00\\x05\\xff\\x00\\x00???\\xff\\x01\\x00\\t\\x00\\x0e\\x00\\x05\\xff\\x00\\x00???\\xff\\x01\\x00\\x93\\x02\\x04\\x00:\\x80\\x05\\xff\\x92\\x08$\\x00\\x92\\x08\\x00\\x00\\x00\\x00\\x00\\x00\\x00\\x00\\x00\\x00\\x01\\x05\\x05\\xff\\x07\\x00P\\x00e\\x00r\\x00c\\x00e\\x00n\\x00t\\x00\\x00\\x00\\x00\\x00\\x93\\x02\\n\\x00;\\x00\\x05\\x00\\x00Title\\x92\\x081\\x00\\x92\\x08\\x00\\x00\\x00\\x00\\x00\\x00\\x00\\x00\\x00\\x00\\x01\\x03\\x0f\\xff\\x05\\x00T\\x00i\\x00t\\x00l\\x00e\\x00\\x00\\x00\\x02\\x00\\x05\\x00\\x0c\\x00\\x07\\x03\\x00\\x00DTj\\xff%\\x00\\x05\\x00\\x01\\x93\\x02\\n\\x00<\\x00\\x05\\x00\\x00Total\\x92\\x08M\\x00\\x92\\x08\\x00\\x00\\x00\\x00\\x00\\x00\\x00\\x00\\x00\\x00\\x01\\x03\\x19\\xff\\x05\\x00T\\x00o\\x00t\\x00a\\x00l\\x00\\x00\\x00\\x04\\x00\\x05\\x00\\x0c\\x00\\x07\\x01\\x00\\x00\\x00\\x00\\x00\\xff%\\x00\\x05\\x00\\x02\\x06\\x00\\x0e\\x00\\x07\\x04\\x00\\x00Dr\\xc4\\xff\\x01\\x00\\x07\\x00\\x0e\\x00\\x07\\x04\\x00\\x00Dr\\xc4\\xff\\x06\\x00\\x93\\x02\\x11\\x00=\\x00\\x0c\\x00\\x00Warning Text\\x92\\x08?\\x00\\x92\\x08\\x00\\x00\\x00\\x00\\x00\\x00\\x00\\x00\\x00\\x00\\x01\\x02\\x0b\\xff\\x0c\\x00W\\x00a\\x00r\\x00n\\x00i\\x00n\\x00g\\x00 \\x00T\\x00e\\x00x\\x00t\\x00\\x00\\x00\\x02\\x00\\x05\\x00\\x0c\\x00\\x05\\xff\\x00\\x00\\xff\\x00\\x00\\xff%\\x00\\x05\\x00\\x02\\x8e\\x08X\\x00\\x8e\\x08\\x00\\x00\\x00\\x00\\x00\\x00\\x00\\x00\\x00\\x00\\x90\\x00\\x00\\x00\\x11\\x00\\x11\\x00T\\x00a\\x00b\\x00l\\x00e\\x00S\\x00t\\x00y\\x00l\\x00e\\x00M\\x00e\\x00d\\x00i\\x00u\\x00m\\x002\\x00P\\x00i\\x00v\\x00o\\x00t\\x00S\\x00t\\x00y\\x00l\\x00e\\x00L\\x00i\\x00g\\x00h\\x00t\\x001\\x006\\x00`\\x01\\x02\\x00\\x00\\x00\\x85\\x00\\x0e\\x00\\xab6\\x00\\x00\\x00\\x00\\x06\\x00Sheet1\\x9a\\x08\\x18\\x00\\x9a\\x08\\x00\\x00\\x00\\x00\\x00\\x00\\x00\\x00\\x00\\x00\\x01\\x00\\x00\\x00\\x00\\x00\\x00\\x00\\x04\\x00\\x00\\x00\\xa3\\x08\\x10\\x00\\xa3\\x08\\x00\\x00\\x00\\x00\\x00\\x00\\x00\\x00\\x00\\x00\\x00\\x00\\x00\\x00\\x8c\\x00\\x04\\x00\\x01\\x00\\x01\\x00\\xc1\\x01\\x08\\x00\\xc1\\x01\\x00\\x00\"\\xbe\\x01\\x00\\xfc\\x00^\\x00\\x9b\\x00\\x00\\x00\\x08\\x00\\x00\\x00\\x02\\x00\\x00SL\\x02\\x00\\x00SW\\x02\\x00\\x00PL\\x02\\x00\\x00PW\\x0b\\x00\\x00Iris-setosa\\x0f\\x00\\x00Iris-versicolor\\x0e\\x00\\x00Iris-virginica\\x0e\\x00\\x00Classification\\xff\\x00\\n\\x00\\x08\\x00\\xa6)\\x00\\x00\\x0c\\x00\\x00\\x00c\\x08\\x16\\x00c\\x08\\x00\\x00\\x00\\x00\\x00\\x00\\x00\\x00\\x00\\x00\\x16\\x00\\x00\\x00\\x00\\x00\\x00\\x00\"\\x00\\x96\\x08W\\x0c\\x96\\x08\\x00\\x00\\x00\\x00\\x00\\x00\\x00\\x00\\x00\\x00\\r\\x8c\\x02\\x00PK\\x03\\x04\\x14\\x00\\x06\\x00\\x08\\x00\\x00\\x00!\\x00\\xe9\\xde\\x0f\\xbf\\xff\\x00\\x00\\x00\\x1c\\x02\\x00\\x00\\x13\\x00\\x00\\x00[Content_Types].xml\\xac\\x91\\xcbN\\xc30\\x10E\\xf7H\\xfc\\x83\\xe5-J\\x9c\\xb2@\\x08%\\xe9\\x82\\xc7\\x8e\\xc7\\xa2|\\xc0\\xc8\\x99$\\x16\\xc9\\xd8\\xb2\\xa7U\\xfb\\xf7L\\xd2TB\\xa8 \\x16l,\\xd93\\xf7\\x9e;\\xe3r\\xbd\\x1f\\x07\\xb5\\xc3\\x98\\x9c\\xa7J\\xaf\\xf2B+$\\xeb\\x1bG]\\xa5\\xdf7O\\xd9\\xadV\\x89\\x81\\x1a\\x18<a\\xa5\\x0f\\x98\\xf4\\xba\\xbe\\xbc(7\\x87\\x80I\\x89\\x9aR\\xa5{\\xe6pgL\\xb2=\\x8e\\x90r\\x1f\\x90\\xa4\\xd2\\xfa8\\x02\\xcb5v&\\x80\\xfd\\x80\\x0e\\xcduQ\\xdc\\x18\\xeb\\x89\\x918\\xe3\\xc9C\\xd7\\xe5\\x03\\xb6\\xb0\\x1dX=\\xee\\xe5\\xf9\\x98$\\xe2\\x90\\xb4\\xba?6N\\xacJC\\x08\\x83\\xb3\\xc0\\x92\\xd4\\xec\\xa8\\xf9F\\xc9\\x16B.\\xca\\xb9\\'\\xf5.\\xa4+\\x89\\xa1\\xcdY\\xc2T\\xf9\\x19\\xb0\\xe8^e5\\xd15\\xa8\\xde \\xf2\\x0b\\x8c\\x12\\xc3\\xb0\\x0c\\x89_\\xcfg \\x19-\\xe6\\xbf;\\x9e\\x89\\xec\\xdb\\xd6Yl\\xbc\\xdd\\x8e\\xb2\\x8e|6^\\xccN\\xc1\\xff\\x14`\\xf5?\\xe8\\x13\\xd3\\xcc\\x7f[\\x7f\\x02\\x00\\x00\\xff\\xff\\x03\\x00PK\\x03\\x04\\x14\\x00\\x06\\x00\\x08\\x00\\x00\\x00!\\x00\\xa5\\xd6\\xa7\\xe7\\xc0\\x00\\x00\\x006\\x01\\x00\\x00\\x0b\\x00\\x00\\x00_rels/.rels\\x84\\x8f\\xcfj\\xc30\\x0c\\x87\\xef\\x85\\xbd\\x83\\xd1}Q\\xd2\\xc3\\x18%v/\\xa5\\x90C/\\xa3}\\x00\\xe1(\\x7fh\"\\x1b\\xdb\\x1b\\xeb\\xdbO\\xc7\\x06\\n\\xbb\\x08\\x84\\xa4\\xef\\xf7\\xa9=\\xfe\\xae\\x8b\\xf9\\xe1\\x94\\xe7 \\x16\\x9a\\xaa\\x06\\xc3\\xe2C?\\xcbh\\xe1v=\\xbf\\x7f\\x82\\xc9\\x85\\xa4\\xa7%\\x08[xp\\x86\\xa3{\\xdb\\xb5_\\xbcP\\xd1\\xa3<\\xcd1\\x1b\\xa5H\\xb60\\x95\\x12\\x0f\\x88\\xd9O\\xbcR\\xaeBd\\xd1\\xc9\\x10\\xd2JE\\xdb4b$\\x7f\\xa7\\x91q_\\xd7\\x1f\\x98\\x9e\\x19\\xe06L\\xd3\\xf5\\x16R\\xd77`\\xae\\x8f\\xa8\\xc9\\xff\\xb3\\xc30\\xcc\\x9eO\\xc1\\x7f\\xaf,\\xe5E\\x04n7\\x94Li\\xe4b\\xa1\\xa8/\\xe3S\\xbd\\x90\\xa8e\\xaa\\xd4\\x1e\\xd0\\xb5\\xb8\\xf9\\xd6\\xfd\\x01\\x00\\x00\\xff\\xff\\x03\\x00PK\\x03\\x04\\x14\\x00\\x06\\x00\\x08\\x00\\x00\\x00!\\x00ky\\x96\\x16\\x83\\x00\\x00\\x00\\x8a\\x00\\x00\\x00\\x1c\\x00\\x00\\x00theme/theme/themeManager.xml\\x0c\\xccM\\n\\xc3 \\x10@\\xe1}\\xa1w\\x90\\xd97c\\xbb(Eb\\xb2\\xcb\\xae\\xbb\\xf6\\x00C\\x9c\\x1aA\\xc7\\xa0\\xd2\\x9f\\xdb\\xd7\\xe5\\xe3\\x837\\xce\\xdf\\x14\\xd5\\x9bK\\rY,\\x9c\\x07\\r\\x8ae\\xcd.\\x88\\xb7\\xf0|,\\xa7\\x1b\\xa8\\xdaH\\x1c\\xc5,l\\xe1\\xc7\\x15\\xe6\\xe9x\\x18\\xc9\\xb4\\x8d\\x13\\xdfI\\xc8sQ}#\\xd5\\x90\\x85\\xad\\xb5\\xdd \\xd6\\xb5+\\xd5!\\xef,\\xdd^\\xb9$j=\\x8bGW\\xe8\\xd3\\xf7)\\xe2E\\xeb+&\\n\\x028\\xfd\\x01\\x00\\x00\\xff\\xff\\x03\\x00PK\\x03\\x04\\x14\\x00\\x06\\x00\\x08\\x00\\x00\\x00!\\x00N\\xd2m\\xd1\\xcf\\x06\\x00\\x00\\xb0\\x1f\\x00\\x00\\x16\\x00\\x00\\x00theme/theme/theme1.xml\\xecYKo\\x1b7\\x10\\xbe\\x17\\xe8\\x7fX\\xec\\xbd\\xb1d\\xeb\\x11\\x19\\x91\\x03\\xeb\\x15\\'\\xb1l#RR\\xe4HI\\xd4.-\\xeerARvt+\\x92S/\\x05\\n\\xa4E/\\x05z\\xeb\\xa1(\\x1a\\xa0\\x01\\x1a\\xf4\\xd2\\x1fc A\\x9b\\xfe\\x88\\x0e\\xb9\\xd2.)Q\\xf1\\x03F\\x91\\x16\\xb6\\x00CK}3\\xfc83;3;{\\xe7\\xee\\xb3\\x88z\\'\\x98\\x0b\\xc2\\xe2\\xba_\\xbcU\\xf0=\\x1c\\x0f\\xd9\\x88\\xc4A\\xdd\\x7f\\xdc\\xef|v\\xdb\\xf7\\x84D\\xf1\\x08Q\\x16\\xe3\\xba?\\xc3\\xc2\\xbf\\xbb\\xf3\\xe9\\'w\\xd0\\xb6\\x0cq\\x84=\\x90\\x8f\\xc56\\xaa\\xfb\\xa1\\x94\\xc9\\xf6\\xc6\\x86\\x18\\xc22\\x12\\xb7X\\x82c\\xf8m\\xccx\\x84$\\\\\\xf2`c\\xc4\\xd1)\\xe8\\x8d\\xe8\\xc6f\\xa1P\\xd9\\x88\\x10\\x89}/F\\x11\\xa8=\\x1c\\x8f\\xc9\\x10{}\\xa5\\xd2\\xdfY(oS\\xb8\\x8c\\xa5P\\x0bC\\xca{J5\\xb6$4v4)*\\x84\\x98\\x89&\\xe5\\xde\\t\\xa2u\\x1f\\xf6\\x19\\xb1\\xd3>~&}\\x8f\"!\\xe1\\x87\\xba_\\xd0\\x7f\\xfe\\xc6\\xce\\x9d\\r\\xb4=\\x17\\xa2r\\x8d\\xac!\\xd7\\xd1\\x7fs\\xb9\\xb9\\xc0h\\xb2\\xa9\\xf7\\xe4\\xc1 \\xdb\\xb4T*\\x97*\\xbb\\x99~\\r\\xa0r\\x15\\xd7\\xae\\xb6+\\xedJ\\xa6O\\x03\\xd0p\\x08\\'M\\xb9\\xd8:\\xab\\x9b\\xcd\\xd2\\x1ck\\x80\\xd2\\xaf\\x0e\\xdd\\xadjk\\xabh\\xe1\\r\\xfd[+\\x9cw\\xcb\\xeac\\xe15(\\xd5_Z\\xc1w:M\\xb0\\xa2\\x85\\xd7\\xa0\\x14_^\\xc1\\x97\\x1b\\xb5F\\xcb\\xd6\\xafA)\\xbe\\xb2\\x82\\xaf\\x16v[\\xa5\\xaa\\xa5_\\x83BJ\\xe2\\xc9\\n\\xbaP\\xael5\\x17\\xa7\\xcd cF\\xf7\\x9c\\xf0Z\\xb9\\xd4\\xa9n\\xce\\x95\\xe7(\\x88\\x86,\\xba\\xd4\\x16c\\x16\\xcbu\\xb1\\x16\\xa1c\\xc6;\\x00P@\\x8a$\\x89=9K\\xf0\\x18\\r!\\x8a\\x9b\\x88\\x92\\x01\\'\\xde>\\tB\\x08\\xbc\\x04\\xc5L\\xc0ra\\xb3\\xd0)l\\xc1\\x7f\\xf5)\\xe9o\\xda\\xa3h\\x1b#CZ\\xf1\\x02&beI\\xf1\\xf1\\xc4\\x90\\x93D\\xd6\\xfd\\x07\\xa0\\xd57 o\\xdf\\xbc9{\\xfe\\xfa\\xec\\xf9og/^\\x9c=\\xffe\\xbe\\xb7Ve\\xc9\\xed\\xa180\\xe5\\xde\\xff\\xf8\\xf5\\xdf\\xdf\\x7f\\xe1\\xfd\\xf5\\xeb\\x0f\\xef_~\\x93n\\xbd\\x8c\\x17&\\xfe\\xdd\\xcf_\\xbe\\xfb\\xfd\\x8f\\x0f\\xa9\\x87\\x13\\xe7\\xa6x\\xfb\\xed\\xabw\\xaf_\\xbd\\xfd\\xee\\xab?\\x7fz\\xe9\\xd0\\xbe\\xcb\\xd1\\xc0\\x84\\xf7I\\x84\\x85w\\x80O\\xbdG,\\x82\\x03:\\xf8\\xe3\\x01\\xbf\\x9cD?D\\xc4\\x92@!\\xe8v\\xa8n\\xcb\\xd0\\x02\\x1e\\xcc\\x10u\\xe1\\x1a\\xd86\\xe1\\x13\\x0eY\\xc6\\x05\\xbc7=\\xb6\\xb8\\xf6B>\\x95\\xc4\\xb1\\xf3\\xc30\\xb2\\x80]\\xc6h\\x83q\\xa7\\x01\\x1e\\xaa\\xbd\\x0c\\x0b\\xf7\\xa7q\\xe0\\xde\\x9cOM\\xdc#\\x84N\\\\{7Ql9\\xb8=M \\xbd\\x12\\x97\\xcaf\\x88-\\x9aG\\x14\\xc5\\x12\\x058\\xc6\\xd2S\\xbf\\xb1\\t\\xc6\\x8e\\xd3=%\\xc4\\xb2k\\x97\\x0c9\\x13l,\\xbd\\xa7\\xc4k \\xe24I\\x9f\\x0c\\xac@\\xca\\x85\\xf6H\\x04~\\x99\\xb9\\x08\\x82\\xab-\\xdbt\\x9fx\\rF]\\xa7n\\xe1\\x13\\x1b\\t\\xb7\\x05\\xa2\\x0e\\xf2}L-3\\xdeCS\\x89\"\\x97\\xca>\\x8a\\xa8i\\xf0}$C\\x17\\xc9\\xde\\x8c\\x0fM\\\\[H\\xf0t\\x80)\\xf3\\xda#,\\x84K\\xe6\\x90\\xc3y\\r\\xa7?\\x84\\x0c\\xe3v{\\x97\\xce\"\\x1b\\xc9%\\x99\\xb8t\\xee#\\xc6Ld\\x8bM\\x9a!\\x8a\\x12\\x17\\xb6G\\xe2\\xd0\\xc4\\xde\\x17\\x13\\x08Q\\xe4\\x1d1\\xe9\\x82w\\x99}\\x87\\xa8k\\xf0\\x03\\x8a\\xd7\\xba\\xfb\\t\\xc1\\x96\\xbb\\xcfO\\x04\\x8f!\\xb9\\x9a\\x94\\xf2\\x00Q\\xbfL\\xb9\\xc3\\x97\\xf70\\xb3\\xe2\\xb77\\xa3c\\x84]Yf\\x97GVv\\xdd\\xe5\\xc4\\x19\\x1d\\x8di`\\x85\\xf6>\\xc6\\x14\\x9d\\xa2\\x11\\xc6\\xde\\xe3\\xfb\\x0e\\x06\\r\\x96X6\\xcfI?\\x08!\\xab\\xecaW`=@v\\xac\\xaa\\xeb\\x18\\x0bh\\x93T_\\xb3\\x9a\"\\xf7\\x89\\xb0B\\xb6\\x87\\x03\\xb6\\x86Ow\\xb6\\x94xf(\\x8e\\x10_\\xa7\\xf9\\x00\\xbcn\\xda\\xbc\\rU\\xce\\x99J\\x0f\\xe9pb\\x02\\x0f\\x08\\xb4\\x7f\\x10/N\\xa3\\x1c\\n\\xd0a\\x04\\xf7Z\\xadG!\\xb2j\\x97\\xba\\x16\\xeex\\x9dq\\xcb\\x7f\\x17\\xb9\\xc7\\xe0\\xbe<\\xb6h\\\\\\xe0\\xbe\\x04\\x19|i\\x19H\\xec\\xa6\\xcc\\x07m\\xd3G\\xd4\\xda \\x0f\\x98>\\x82\\x06\\xc3\\x95nA\\xc4r\\x7f.\\xa2\\xea\\xaa\\x16\\x9b:\\xe5\\xc6\\xf6M\\x9b\\xbb\\x01\\x1a#\\xab\\xdf\\x89H|n\\xf3\\xb3\\xd4\\xf6\\x94\\xff\\x9d\\xb6\\xc7q7\\\\O\\xc3\\xe3Vl\\xa5\\xacK\\xb6:\\xebR\\xca\\xdeR\\x83\\xb3\\x0e\\xf7\\x1flkZh\\x1a\\x1fa\\xa8$\\xab9\\xeb\\xa6\\xab\\xb9\\xe9j\\xfc\\xff}W\\xb3\\xee^\\xbe\\xe9e\\xd6u\\x1c7\\xbd\\x8c\\x0f=\\xc6M/3\\x9f\\xac\\\\O/\\x93\\xb7/\\xd0\\xd9\\xa8iG:\\xe5\\xd13\\x9fh\\xed\\xc8gL(\\xed\\xc9\\x19\\xc5\\xfbBO}\\x04<\\xd1\\x8c:\\xb0\\xa8\\xe4\\xf4\\xb8\\x13g#\\xc0$\\x84\\xaf\\xaa\\xcc\\xc1\\x06\\x16.\\xe0H\\xcbx\\x9c\\xc9\\xcf\\x89\\x0c{!J`4T\\xf4\\x95\\x92@\\xccU\\x07\\xc2K\\x98\\x80\\x89\\x91^v\\xeaVx:\\x8d\\xbal\\x94N:\\x8bE5\\xd5L+\\xab@2_/\\x94\\xb3u\\x98R\\xc9\\x14]\\xa9\\xe6\\xd3\\xbbL\\xbdf\\x1b\\xe8)\\xeb\\x82\\x80\\x92\\xbd\\x0c\\tc3\\x9b\\xc4\\x96\\x83Du\\xb1\\xa8\\x8c\\xa4g\\xba`4\\x07\\t}\\xb2kaQs\\xb0\\xb8\\xad\\xd4/\\\\\\xb5\\xc2\\x02\\xa8e^\\x81Gn\\x0f\\x1e\\xd4\\xeb~\\xb9\\x04\" \\x04\\xc38h\\xcfG\\xcaO\\xa9\\xab\\x17\\xde\\xd5\\xce\\xbcNO\\xaf3\\xa6\\x15\\x01\\xd0b/\" \\xf7tMq]{<u\\xba4\\xd4.\\xe0i\\x8b\\x84\\x11n6\\tm\\x19\\xdd\\xe0\\x89\\x10\\x1e\\x84\\xe7\\xd1\\xa9V/B\\xe3\\xb2\\xbe\\xae\\xe5.\\xb5\\xe8)S\\xe8\\xfd \\xb4r\\x1a\\xd5\\xdb\\x1fbqU_\\x83\\xdcrn\\xa0\\xb1\\x99)h\\xec\\x9d\\xd6\\xfd\\xcaV\\x19Bf\\x88\\x92\\xba?\\x86\\x891|\\x8d\\x12\\x88\\x1d\\xa1\\x9e\\xba\\x10\\r\\xe0\\xb5\\xcbP\\xf2\\xf4\\x86\\xbfJfI\\xb8\\x90-$\\xc2\\xd4\\xe0:\\xe9\\xa4\\xd9 \"\\x12s\\x8f\\x92\\xa8\\xee\\xab\\xe3gn\\xa0\\xb1\\xce!\\x9a[q\\x13\\x12\\xc2GK\\xae\\x06i\\xe5c#\\x07N\\xb7\\x9d\\x8c\\xc7c<\\x94\\xa6\\xdb\\x8d\\x15e\\xe9\\xf4\\x122|\\x9a+\\x9c\\xbfj\\xf1\\xab\\x83\\x95$\\x9b\\x82\\xbb{\\xe1\\xe8\\xd4\\x1b\\xd0)\\x7f\\x84 \\xc4\\xca\\xd5\\xa22\\xe0\\x88\\x08xqPL\\xad9\"\\xf0&,Kdy\\xfc-\\x15\\xa6y\\xda5_E\\xe9\\x18J\\xd7\\x11MB4\\xaf(f2O\\xe1:\\x95gt\\xf4Uf\\x03\\xe3j~f0\\xa8a\\x92y!\\x1c\\x04\\xaa\\xc0\\x9aF\\xb5\\xaaiV5R\\x0ek\\xab\\xee\\xf9B\\xcarF\\xd2\\xcck\\xa6\\x95UT\\xd5tg1k\\x87E\\x19X\\xb2\\xe5\\xd5\\x8a\\xbc\\xc1jab\\xc8if\\x85OS\\xf7r\\xca\\xad-r\\xddR\\x9f\\x90U\\t0xf?G\\xd5\\xbd@A0\\xa8\\xe5\\x9bY\\xd4\\x14\\xe3\\xd54\\xacr\\xf6|\\xd5\\xae\\x1d\\x8b\\x03\\x9eC\\xed\"E\\xc2\\xc8\\xfa\\x95\\x85\\xda%\\xbbe5\\xc2\\xb9\\x1d,^\\xa9\\xf2\\x83\\xdcr\\xd4\\xc2\\xd2x\\xd1WjK\\xebW\\xe6\\xe6[m68\\x86\\xe4\\xd1\\x82.wJ\\xa5\\xd0\\xae\\x84\\xd9.G\\xd0\\x10\\xf5tO\\x92\\xa5\\r-\\xba\\xf3\\x0f\\x00\\x00\\x00\\xff\\xff\\x03\\x00PK\\x03\\x04\\x14\\x00\\x06\\x00\\x08\\x00\\x00\\x00!\\x00\\r\\xd1\\x90\\x9f\\xb6\\x00\\x00\\x00\\x1b\\x01\\x00\\x00\\'\\x00\\x00\\x00theme/theme/_rels/themeManager.xml.rels\\x84\\x8fM\\n\\xc20\\x14\\x84\\xf7\\x82w\\x08oo\\xd3\\xba\\x10\\x91&\\xdd\\x88\\xd0\\xad\\xd4\\x03\\x84\\xe45\\r6?$Q\\xec\\xed\\r\\xae,\\x08.\\x87a\\xbe\\x99i\\xbb\\x97\\x9d\\xc9\\x13c2\\xde1h\\xaa\\x1a\\x08:\\xe9\\x95q\\x9a\\xc1m\\xb8\\xec\\x8e@R\\x16N\\x89\\xd9;d\\xb0`\\x82\\x8eo7\\xed\\x15g\\x91K(M&$R(.1\\x98r\\x0e\\'J\\x93\\x9c\\xd0\\x8aT\\xf9\\x80\\xae8\\xa3\\x8fV\\xe4\"\\xa3\\xa6A\\xc8\\xbb\\xd0H\\xf7u}\\xa0\\xf1\\x9b\\x01|\\xc5$\\xbdb\\x10{\\xd5\\x00\\x19\\x96P\\x9a\\xff\\xb3\\xfd8\\x1a\\x89g/\\x1f\\x16]\\xfeQAs\\xd9\\x85\\x05(\\xa2\\xc6\\xcc\\xe0#\\x9b\\xaaL\\x04\\xca[\\xba\\xba\\xc4\\xdf\\x00\\x00\\x00\\xff\\xff\\x03\\x00PK\\x01\\x02-\\x00\\x14\\x00\\x06\\x00\\x08\\x00\\x00\\x00!\\x00\\xe9\\xde\\x0f\\xbf\\xff\\x00\\x00\\x00\\x1c\\x02\\x00\\x00\\x13\\x00\\x00\\x00\\x00\\x00\\x00\\x00\\x00\\x00\\x00\\x00\\x00\\x00\\x00\\x00\\x00\\x00[Content_Types].xmlPK\\x01\\x02-\\x00\\x14\\x00\\x06\\x00\\x08\\x00\\x00\\x00!\\x00\\xa5\\xd6\\xa7\\xe7\\xc0\\x00\\x00\\x006\\x01\\x00\\x00\\x0b\\x00\\x00\\x00\\x00\\x00\\x00\\x00\\x00\\x00\\x00\\x00\\x00\\x000\\x01\\x00\\x00_rels/.relsPK\\x01\\x02-\\x00\\x14\\x00\\x06\\x00\\x08\\x00\\x00\\x00!\\x00ky\\x96\\x16\\x83\\x00\\x00\\x00\\x8a\\x00\\x00\\x00\\x1c\\x00\\x00\\x00\\x00\\x00\\x00\\x00\\x00\\x00\\x00\\x00\\x00\\x00\\x19\\x02\\x00\\x00theme/theme/themeManager.xmlPK\\x01\\x02-\\x00\\x14\\x00\\x06\\x00\\x08\\x00\\x00\\x00!\\x00N\\xd2m\\xd1\\xcf\\x06\\x00\\x00\\xb0\\x1f\\x00\\x00\\x16\\x00\\x00\\x00\\x00\\x00\\x00\\x00\\x00\\x00\\x00\\x00\\x00\\x00\\xd6\\x02\\x00\\x00theme/theme/theme1.xmlPK\\x01\\x02-\\x00\\x14\\x00\\x06\\x00\\x08\\x00\\x00\\x00!\\x00\\r\\xd1\\x90\\x9f\\xb6\\x00\\x00\\x00\\x1b\\x01\\x00\\x00\\'\\x00\\x00\\x00\\x00\\x00\\x00\\x00\\x00\\x00\\x00\\x00\\x00\\x00\\xd9\\t\\x00\\x00theme/theme/_rels/themeManager.xml.relsPK\\x05\\x06\\x00\\x00\\x00\\x00\\x05\\x00\\x05\\x00]\\x01\\x00\\x00\\xd4\\n\\x00\\x00\\x00\\x00\\x9b\\x08\\x10\\x00\\x9b\\x08\\x00\\x00\\x00\\x00\\x00\\x00\\x00\\x00\\x00\\x00\\x01\\x00\\x00\\x00\\x8c\\x08\\x10\\x00\\x8c\\x08\\x00\\x00\\x00\\x00\\x00\\x00\\x00\\x00\\x00\\x00\\x00\\x00\\x00\\x00\\n\\x00\\x00\\x00\\t\\x08\\x10\\x00\\x00\\x06\\x10\\x00ZO\\xcd\\x07\\xc9\\x00\\x02\\x00\\x06\\x08\\x00\\x00\\x0b\\x02$\\x00\\x00\\x00\\x00\\x00\\x00\\x00\\x00\\x00\\x97\\x00\\x00\\x00\\xd17\\x00\\x00)A\\x00\\x00\\xd5J\\x00\\x00\\x8fT\\x00\\x00-^\\x00\\x00/e\\x00\\x00\\r\\x00\\x02\\x00\\x01\\x00\\x0c\\x00\\x02\\x00d\\x00\\x0f\\x00\\x02\\x00\\x01\\x00\\x11\\x00\\x02\\x00\\x00\\x00\\x10\\x00\\x08\\x00\\xfc\\xa9\\xf1\\xd2MbP?_\\x00\\x02\\x00\\x01\\x00*\\x00\\x02\\x00\\x00\\x00+\\x00\\x02\\x00\\x00\\x00\\x82\\x00\\x02\\x00\\x01\\x00\\x80\\x00\\x08\\x00\\x00\\x00\\x00\\x00\\x00\\x00\\x00\\x00%\\x02\\x04\\x00\\x00\\x00\\xfa\\x00\\x81\\x00\\x02\\x00\\xc1\\x04\\x14\\x00\\x00\\x00\\x15\\x00\\x00\\x00\\x83\\x00\\x02\\x00\\x00\\x00\\x84\\x00\\x02\\x00\\x00\\x00&\\x00\\x08\\x00\\x00\\x00\\x00\\x00\\x00\\x00\\xe8?\\'\\x00\\x08\\x00\\x00\\x00\\x00\\x00\\x00\\x00\\xe8?(\\x00\\x08\\x00\\x00\\x00\\x00\\x00\\x00\\x00\\xf0?)\\x00\\x08\\x00\\x00\\x00\\x00\\x00\\x00\\x00\\xf0?\\xa1\\x00\"\\x00\\x00\\x00\\xfa\\x00\\x01\\x00\\x01\\x00\\x01\\x00\\x04\\x00\\r\\x8c\\x02\\x00\\x00\\x00\\x00\\x00\\x00\\x00\\xe0?\\x00\\x00\\x00\\x00\\x00\\x00\\xe0?\\x0f\\xbf\\x9c\\x08&\\x00\\x9c\\x08\\x00\\x00\\x00\\x00\\x00\\x00\\x00\\x00\\x00\\x00\\x00\\x00\\x00\\x00\\x00\\x00\\x00\\x00\\x00\\x00\\x00\\x00\\x00\\x00\\x00\\x00\\x04\\x00\\x00\\x00\\x00\\x00\\x00\\x00\\x00\\x00U\\x00\\x02\\x00\\x08\\x00}\\x00\\x0c\\x00\\x04\\x00\\x04\\x00\\xd1\\r\\x0f\\x00\\x02\\x00\\x00\\x00\\x00\\x02\\x0e\\x00\\x00\\x00\\x00\\x00\\x97\\x00\\x00\\x00\\x00\\x00\\x05\\x00\\x00\\x00\\x08\\x02\\x10\\x00\\x00\\x00\\x00\\x00\\x05\\x00\\xfa\\x00\\x00\\x00\\x00\\x00\\x00\\x01\\x0f\\x00\\x08\\x02\\x10\\x00\\x01\\x00\\x00\\x00\\x05\\x00\\xfa\\x00\\x00\\x00\\x00\\x00\\x00\\x01\\x0f\\x00\\x08\\x02\\x10\\x00\\x02\\x00\\x00\\x00\\x05\\x00\\xfa\\x00\\x00\\x00\\x00\\x00\\x00\\x01\\x0f\\x00\\x08\\x02\\x10\\x00\\x03\\x00\\x00\\x00\\x05\\x00\\xfa\\x00\\x00\\x00\\x00\\x00\\x00\\x01\\x0f\\x00\\x08\\x02\\x10\\x00\\x04\\x00\\x00\\x00\\x05\\x00\\xfa\\x00\\x00\\x00\\x00\\x00\\x00\\x01\\x0f\\x00\\x08\\x02\\x10\\x00\\x05\\x00\\x00\\x00\\x05\\x00\\xfa\\x00\\x00\\x00\\x00\\x00\\x00\\x01\\x0f\\x00\\x08\\x02\\x10\\x00\\x06\\x00\\x00\\x00\\x05\\x00\\xfa\\x00\\x00\\x00\\x00\\x00\\x00\\x01\\x0f\\x00\\x08\\x02\\x10\\x00\\x07\\x00\\x00\\x00\\x05\\x00\\xfa\\x00\\x00\\x00\\x00\\x00\\x00\\x01\\x0f\\x00\\x08\\x02\\x10\\x00\\x08\\x00\\x00\\x00\\x05\\x00\\xfa\\x00\\x00\\x00\\x00\\x00\\x00\\x01\\x0f\\x00\\x08\\x02\\x10\\x00\\t\\x00\\x00\\x00\\x05\\x00\\xfa\\x00\\x00\\x00\\x00\\x00\\x00\\x01\\x0f\\x00\\x08\\x02\\x10\\x00\\n\\x00\\x00\\x00\\x05\\x00\\xfa\\x00\\x00\\x00\\x00\\x00\\x00\\x01\\x0f\\x00\\x08\\x02\\x10\\x00\\x0b\\x00\\x00\\x00\\x05\\x00\\xfa\\x00\\x00\\x00\\x00\\x00\\x00\\x01\\x0f\\x00\\x08\\x02\\x10\\x00\\x0c\\x00\\x00\\x00\\x05\\x00\\xfa\\x00\\x00\\x00\\x00\\x00\\x00\\x01\\x0f\\x00\\x08\\x02\\x10\\x00\\r\\x00\\x00\\x00\\x05\\x00\\xfa\\x00\\x00\\x00\\x00\\x00\\x00\\x01\\x0f\\x00\\x08\\x02\\x10\\x00\\x0e\\x00\\x00\\x00\\x05\\x00\\xfa\\x00\\x00\\x00\\x00\\x00\\x00\\x01\\x0f\\x00\\x08\\x02\\x10\\x00\\x0f\\x00\\x00\\x00\\x05\\x00\\xfa\\x00\\x00\\x00\\x00\\x00\\x00\\x01\\x0f\\x00\\x08\\x02\\x10\\x00\\x10\\x00\\x00\\x00\\x05\\x00\\xfa\\x00\\x00\\x00\\x00\\x00\\x00\\x01\\x0f\\x00\\x08\\x02\\x10\\x00\\x11\\x00\\x00\\x00\\x05\\x00\\xfa\\x00\\x00\\x00\\x00\\x00\\x00\\x01\\x0f\\x00\\x08\\x02\\x10\\x00\\x12\\x00\\x00\\x00\\x05\\x00\\xfa\\x00\\x00\\x00\\x00\\x00\\x00\\x01\\x0f\\x00\\x08\\x02\\x10\\x00\\x13\\x00\\x00\\x00\\x05\\x00\\xfa\\x00\\x00\\x00\\x00\\x00\\x00\\x01\\x0f\\x00\\x08\\x02\\x10\\x00\\x14\\x00\\x00\\x00\\x05\\x00\\xfa\\x00\\x00\\x00\\x00\\x00\\x00\\x01\\x0f\\x00\\x08\\x02\\x10\\x00\\x15\\x00\\x00\\x00\\x05\\x00\\xfa\\x00\\x00\\x00\\x00\\x00\\x00\\x01\\x0f\\x00\\x08\\x02\\x10\\x00\\x16\\x00\\x00\\x00\\x05\\x00\\xfa\\x00\\x00\\x00\\x00\\x00\\x00\\x01\\x0f\\x00\\x08\\x02\\x10\\x00\\x17\\x00\\x00\\x00\\x05\\x00\\xfa\\x00\\x00\\x00\\x00\\x00\\x00\\x01\\x0f\\x00\\x08\\x02\\x10\\x00\\x18\\x00\\x00\\x00\\x05\\x00\\xfa\\x00\\x00\\x00\\x00\\x00\\x00\\x01\\x0f\\x00\\x08\\x02\\x10\\x00\\x19\\x00\\x00\\x00\\x05\\x00\\xfa\\x00\\x00\\x00\\x00\\x00\\x00\\x01\\x0f\\x00\\x08\\x02\\x10\\x00\\x1a\\x00\\x00\\x00\\x05\\x00\\xfa\\x00\\x00\\x00\\x00\\x00\\x00\\x01\\x0f\\x00\\x08\\x02\\x10\\x00\\x1b\\x00\\x00\\x00\\x05\\x00\\xfa\\x00\\x00\\x00\\x00\\x00\\x00\\x01\\x0f\\x00\\x08\\x02\\x10\\x00\\x1c\\x00\\x00\\x00\\x05\\x00\\xfa\\x00\\x00\\x00\\x00\\x00\\x00\\x01\\x0f\\x00\\x08\\x02\\x10\\x00\\x1d\\x00\\x00\\x00\\x05\\x00\\xfa\\x00\\x00\\x00\\x00\\x00\\x00\\x01\\x0f\\x00\\x08\\x02\\x10\\x00\\x1e\\x00\\x00\\x00\\x05\\x00\\xfa\\x00\\x00\\x00\\x00\\x00\\x00\\x01\\x0f\\x00\\x08\\x02\\x10\\x00\\x1f\\x00\\x00\\x00\\x05\\x00\\xfa\\x00\\x00\\x00\\x00\\x00\\x00\\x01\\x0f\\x00\\xfd\\x00\\n\\x00\\x00\\x00\\x00\\x00>\\x00\\x00\\x00\\x00\\x00\\xfd\\x00\\n\\x00\\x00\\x00\\x01\\x00>\\x00\\x01\\x00\\x00\\x00\\xfd\\x00\\n\\x00\\x00\\x00\\x02\\x00>\\x00\\x02\\x00\\x00\\x00\\xfd\\x00\\n\\x00\\x00\\x00\\x03\\x00>\\x00\\x03\\x00\\x00\\x00\\xfd\\x00\\n\\x00\\x00\\x00\\x04\\x00>\\x00\\x07\\x00\\x00\\x00\\x03\\x02\\x0e\\x00\\x01\\x00\\x00\\x00\\x0f\\x00ffffff\\x14@\\xbd\\x00\\x18\\x00\\x01\\x00\\x01\\x00\\x0f\\x00\\x00\\x00\\x0c@\\x0f\\x00\\x01\\x80a@\\x0f\\x00\\x01\\x004@\\x03\\x00\\xfd\\x00\\n\\x00\\x01\\x00\\x04\\x00\\x0f\\x00\\x04\\x00\\x00\\x00\\x03\\x02\\x0e\\x00\\x02\\x00\\x00\\x00\\x0f\\x00\\x9a\\x99\\x99\\x99\\x99\\x99\\x13@\\xbd\\x00\\x18\\x00\\x02\\x00\\x01\\x00\\x0f\\x00\\x00\\x00\\x08@\\x0f\\x00\\x01\\x80a@\\x0f\\x00\\x01\\x004@\\x03\\x00\\xfd\\x00\\n\\x00\\x02\\x00\\x04\\x00\\x0f\\x00\\x04\\x00\\x00\\x00\\xbd\\x00\\x18\\x00\\x03\\x00\\x01\\x00\\x0f\\x00\\x01\\x00t@\\x0f\\x00\\x01@`@\\x0f\\x00\\x01\\x004@\\x03\\x00\\xfd\\x00\\n\\x00\\x03\\x00\\x04\\x00\\x0f\\x00\\x04\\x00\\x00\\x00\\x03\\x02\\x0e\\x00\\x04\\x00\\x00\\x00\\x0f\\x00ffffff\\x12@\\xbd\\x00\\x18\\x00\\x04\\x00\\x01\\x00\\x0f\\x00\\x01`s@\\x0f\\x00\\x00\\x00\\xf8?\\x0f\\x00\\x01\\x004@\\x03\\x00\\xfd\\x00\\n\\x00\\x04\\x00\\x04\\x00\\x0f\\x00\\x04\\x00\\x00\\x00\\xbd\\x00\\x1e\\x00\\x05\\x00\\x00\\x00\\x0f\\x00\\x00\\x00\\x14@\\x0f\\x00\\x01\\x80v@\\x0f\\x00\\x01\\x80a@\\x0f\\x00\\x01\\x004@\\x03\\x00\\xfd\\x00\\n\\x00\\x05\\x00\\x04\\x00\\x0f\\x00\\x04\\x00\\x00\\x00\\xbd\\x00\\x1e\\x00\\x06\\x00\\x00\\x00\\x0f\\x00\\x01\\xe0\\x80@\\x0f\\x00\\x01`x@\\x0f\\x00\\x01@e@\\x0f\\x00\\x01\\x00D@\\x03\\x00\\xfd\\x00\\n\\x00\\x06\\x00\\x04\\x00\\x0f\\x00\\x04\\x00\\x00\\x00\\x03\\x02\\x0e\\x00\\x07\\x00\\x00\\x00\\x0f\\x00ffffff\\x12@\\xbd\\x00\\x18\\x00\\x07\\x00\\x01\\x00\\x0f\\x00\\x01@u@\\x0f\\x00\\x01\\x80a@\\x0f\\x00\\x01\\x00>@\\x03\\x00\\xfd\\x00\\n\\x00\\x07\\x00\\x04\\x00\\x0f\\x00\\x04\\x00\\x00\\x00\\xbd\\x00\\x1e\\x00\\x08\\x00\\x00\\x00\\x0f\\x00\\x00\\x00\\x14@\\x0f\\x00\\x01@u@\\x0f\\x00\\x00\\x00\\xf8?\\x0f\\x00\\x01\\x004@\\x03\\x00\\xfd\\x00\\n\\x00\\x08\\x00\\x04\\x00\\x0f\\x00\\x04\\x00\\x00\\x00\\x03\\x02\\x0e\\x00\\t\\x00\\x00\\x00\\x0f\\x00\\x9a\\x99\\x99\\x99\\x99\\x99\\x11@\\xbd\\x00\\x18\\x00\\t\\x00\\x01\\x00\\x0f\\x00\\x01 r@\\x0f\\x00\\x01\\x80a@\\x0f\\x00\\x01\\x004@\\x03\\x00\\xfd\\x00\\n\\x00\\t\\x00\\x04\\x00\\x0f\\x00\\x04\\x00\\x00\\x00\\x03\\x02\\x0e\\x00\\n\\x00\\x00\\x00\\x0f\\x00\\x9a\\x99\\x99\\x99\\x99\\x99\\x13@\\xbd\\x00\\x18\\x00\\n\\x00\\x01\\x00\\x0f\\x00\\x01`s@\\x0f\\x00\\x00\\x00\\xf8?\\x0f\\x00\\x01\\x00$@\\x03\\x00\\xfd\\x00\\n\\x00\\n\\x00\\x04\\x00\\x0f\\x00\\x04\\x00\\x00\\x00~\\x02\\n\\x00\\x0b\\x00\\x00\\x00\\x0f\\x00\\x01\\xe0\\x80@\\xbd\\x00\\x12\\x00\\x0b\\x00\\x02\\x00\\x0f\\x00\\x00\\x00\\xf8?\\x0f\\x00\\x01\\x004@\\x03\\x00\\xfd\\x00\\n\\x00\\x0b\\x00\\x04\\x00\\x0f\\x00\\x04\\x00\\x00\\x00\\xbd\\x00\\x1e\\x00\\x0c\\x00\\x00\\x00\\x0f\\x00\\x01\\x00~@\\x0f\\x00\\x01@u@\\x0f\\x00\\x01\\x00d@\\x0f\\x00\\x01\\x004@\\x03\\x00\\xfd\\x00\\n\\x00\\x0c\\x00\\x04\\x00\\x0f\\x00\\x04\\x00\\x00\\x00\\xbd\\x00\\x1e\\x00\\r\\x00\\x00\\x00\\x0f\\x00\\x01\\x00~@\\x0f\\x00\\x00\\x00\\x08@\\x0f\\x00\\x01\\x80a@\\x0f\\x00\\x01\\x00$@\\x03\\x00\\xfd\\x00\\n\\x00\\r\\x00\\x04\\x00\\x0f\\x00\\x04\\x00\\x00\\x00\\xbd\\x00\\x12\\x00\\x0e\\x00\\x00\\x00\\x0f\\x00\\x01\\xe0z@\\x0f\\x00\\x00\\x00\\x08@\\x01\\x00\\x03\\x02\\x0e\\x00\\x0e\\x00\\x02\\x00\\x0f\\x00\\x9a\\x99\\x99\\x99\\x99\\x99\\xf1?~\\x02\\n\\x00\\x0e\\x00\\x03\\x00\\x0f\\x00\\x01\\x00$@\\xfd\\x00\\n\\x00\\x0e\\x00\\x04\\x00\\x0f\\x00\\x04\\x00\\x00\\x00\\xbd\\x00\\x1e\\x00\\x0f\\x00\\x00\\x00\\x0f\\x00\\x01 \\x82@\\x0f\\x00\\x00\\x00\\x10@\\x0f\\x00\\x01\\x00^@\\x0f\\x00\\x01\\x004@\\x03\\x00\\xfd\\x00\\n\\x00\\x0f\\x00\\x04\\x00\\x0f\\x00\\x04\\x00\\x00\\x00~\\x02\\n\\x00\\x10\\x00\\x00\\x00\\x0f\\x00\\x01\\xd0\\x81@\\x03\\x02\\x0e\\x00\\x10\\x00\\x01\\x00\\x0f\\x00\\x9a\\x99\\x99\\x99\\x99\\x99\\x11@\\xbd\\x00\\x12\\x00\\x10\\x00\\x02\\x00\\x0f\\x00\\x00\\x00\\xf8?\\x0f\\x00\\x01\\x00D@\\x03\\x00\\xfd\\x00\\n\\x00\\x10\\x00\\x04\\x00\\x0f\\x00\\x04\\x00\\x00\\x00\\xbd\\x00\\x1e\\x00\\x11\\x00\\x00\\x00\\x0f\\x00\\x01\\xe0\\x80@\\x0f\\x00\\x01`x@\\x0f\\x00\\x01@`@\\x0f\\x00\\x01\\x00D@\\x03\\x00\\xfd\\x00\\n\\x00\\x11\\x00\\x04\\x00\\x0f\\x00\\x04\\x00\\x00\\x00\\x03\\x02\\x0e\\x00\\x12\\x00\\x00\\x00\\x0f\\x00ffffff\\x14@\\xbd\\x00\\x18\\x00\\x12\\x00\\x01\\x00\\x0f\\x00\\x00\\x00\\x0c@\\x0f\\x00\\x01\\x80a@\\x0f\\x00\\x01\\x00>@\\x03\\x00\\xfd\\x00\\n\\x00\\x12\\x00\\x04\\x00\\x0f\\x00\\x04\\x00\\x00\\x00\\xbd\\x00\\x1e\\x00\\x13\\x00\\x00\\x00\\x0f\\x00\\x01\\xd0\\x81@\\x0f\\x00\\x01\\xc0w@\\x0f\\x00\\x01@e@\\x0f\\x00\\x01\\x00>@\\x03\\x00\\xfd\\x00\\n\\x00\\x13\\x00\\x04\\x00\\x0f\\x00\\x04\\x00\\x00\\x00\\x03\\x02\\x0e\\x00\\x14\\x00\\x00\\x00\\x0f\\x00ffffff\\x14@\\xbd\\x00\\x18\\x00\\x14\\x00\\x01\\x00\\x0f\\x00\\x01\\xc0w@\\x0f\\x00\\x00\\x00\\xf8?\\x0f\\x00\\x01\\x00>@\\x03\\x00\\xfd\\x00\\n\\x00\\x14\\x00\\x04\\x00\\x0f\\x00\\x04\\x00\\x00\\x00\\xbd\\x00\\x1e\\x00\\x15\\x00\\x00\\x00\\x0f\\x00\\x01\\xe0\\x80@\\x0f\\x00\\x01@u@\\x0f\\x00\\x01@e@\\x0f\\x00\\x01\\x004@\\x03\\x00\\xfd\\x00\\n\\x00\\x15\\x00\\x04\\x00\\x0f\\x00\\x04\\x00\\x00\\x00\\xbd\\x00\\x18\\x00\\x16\\x00\\x01\\x00\\x0f\\x00\\x01 w@\\x0f\\x00\\x00\\x00\\xf8?\\x0f\\x00\\x01\\x00D@\\x03\\x00\\xfd\\x00\\n\\x00\\x16\\x00\\x04\\x00\\x0f\\x00\\x04\\x00\\x00\\x00\\x03\\x02\\x0e\\x00\\x17\\x00\\x00\\x00\\x0f\\x00ffffff\\x12@\\xbd\\x00\\x18\\x00\\x17\\x00\\x01\\x00\\x0f\\x00\\x01\\x80v@\\x0f\\x00\\x00\\x00\\xf0?\\x0f\\x00\\x01\\x004@\\x03\\x00\\xfd\\x00\\n\\x00\\x17\\x00\\x04\\x00\\x0f\\x00\\x04\\x00\\x00\\x00\\x03\\x02\\x0e\\x00\\x18\\x00\\x00\\x00\\x0f\\x00ffffff\\x14@\\xbd\\x00\\x18\\x00\\x18\\x00\\x01\\x00\\x0f\\x00\\x01\\xa0t@\\x0f\\x00\\x01@e@\\x0f\\x00\\x00\\x00\\xe0?\\x03\\x00\\xfd\\x00\\n\\x00\\x18\\x00\\x04\\x00\\x0f\\x00\\x04\\x00\\x00\\x00\\xbd\\x00\\x1e\\x00\\x19\\x00\\x00\\x00\\x0f\\x00\\x01\\x00~@\\x0f\\x00\\x01@u@\\x0f\\x00\\x01\\xc0g@\\x0f\\x00\\x01\\x004@\\x03\\x00\\xfd\\x00\\n\\x00\\x19\\x00\\x04\\x00\\x0f\\x00\\x04\\x00\\x00\\x00\\xbd\\x00\\x1e\\x00\\x1a\\x00\\x00\\x00\\x0f\\x00\\x00\\x00\\x14@\\x0f\\x00\\x00\\x00\\x08@\\x0f\\x00\\x01\\x00d@\\x0f\\x00\\x01\\x004@\\x03\\x00\\xfd\\x00\\n\\x00\\x1a\\x00\\x04\\x00\\x0f\\x00\\x04\\x00\\x00\\x00\\xbd\\x00\\x1e\\x00\\x1b\\x00\\x00\\x00\\x0f\\x00\\x00\\x00\\x14@\\x0f\\x00\\x01@u@\\x0f\\x00\\x01\\x00d@\\x0f\\x00\\x01\\x00D@\\x03\\x00\\xfd\\x00\\n\\x00\\x1b\\x00\\x04\\x00\\x0f\\x00\\x04\\x00\\x00\\x00~\\x02\\n\\x00\\x1c\\x00\\x00\\x00\\x0f\\x00\\x01@\\x80@\\xbd\\x00\\x12\\x00\\x1c\\x00\\x02\\x00\\x0f\\x00\\x00\\x00\\xf8?\\x0f\\x00\\x01\\x004@\\x03\\x00\\xfd\\x00\\n\\x00\\x1c\\x00\\x04\\x00\\x0f\\x00\\x04\\x00\\x00\\x00\\xbd\\x00\\x12\\x00\\x1d\\x00\\x00\\x00\\x0f\\x00\\x01@\\x80@\\x0f\\x00\\x01@u@\\x01\\x00~\\x02\\n\\x00\\x1d\\x00\\x03\\x00\\x0f\\x00\\x01\\x004@\\xfd\\x00\\n\\x00\\x1d\\x00\\x04\\x00\\x0f\\x00\\x04\\x00\\x00\\x00\\xbd\\x00\\x1e\\x00\\x1e\\x00\\x00\\x00\\x0f\\x00\\x01`}@\\x0f\\x00\\x01\\x00t@\\x0f\\x00\\x01\\x00d@\\x0f\\x00\\x01\\x004@\\x03\\x00\\xfd\\x00\\n\\x00\\x1e\\x00\\x04\\x00\\x0f\\x00\\x04\\x00\\x00\\x00\\xbd\\x00\\x1e\\x00\\x1f\\x00\\x00\\x00\\x0f\\x00\\x01\\x00~@\\x0f\\x00\\x01`s@\\x0f\\x00\\x01\\x00d@\\x0f\\x00\\x01\\x004@\\x03\\x00\\xfd\\x00\\n\\x00\\x1f\\x00\\x04\\x00\\x0f\\x00\\x04\\x00\\x00\\x00\\xd7\\x00D\\x000\\t\\x00\\x00l\\x02F\\x00<\\x00<\\x00*\\x00<\\x000\\x000\\x00<\\x000\\x00<\\x00<\\x002\\x000\\x000\\x00D\\x000\\x00D\\x000\\x00<\\x000\\x00<\\x000\\x00*\\x00<\\x00<\\x000\\x000\\x000\\x002\\x002\\x000\\x00\\x08\\x02\\x10\\x00 \\x00\\x00\\x00\\x05\\x00\\xfa\\x00\\x00\\x00\\x00\\x00\\x00\\x01\\x0f\\x00\\x08\\x02\\x10\\x00!\\x00\\x00\\x00\\x05\\x00\\xfa\\x00\\x00\\x00\\x00\\x00\\x00\\x01\\x0f\\x00\\x08\\x02\\x10\\x00\"\\x00\\x00\\x00\\x05\\x00\\xfa\\x00\\x00\\x00\\x00\\x00\\x00\\x01\\x0f\\x00\\x08\\x02\\x10\\x00#\\x00\\x00\\x00\\x05\\x00\\xfa\\x00\\x00\\x00\\x00\\x00\\x00\\x01\\x0f\\x00\\x08\\x02\\x10\\x00$\\x00\\x00\\x00\\x05\\x00\\xfa\\x00\\x00\\x00\\x00\\x00\\x00\\x01\\x0f\\x00\\x08\\x02\\x10\\x00%\\x00\\x00\\x00\\x05\\x00\\xfa\\x00\\x00\\x00\\x00\\x00\\x00\\x01\\x0f\\x00\\x08\\x02\\x10\\x00&\\x00\\x00\\x00\\x05\\x00\\xfa\\x00\\x00\\x00\\x00\\x00\\x00\\x01\\x0f\\x00\\x08\\x02\\x10\\x00\\'\\x00\\x00\\x00\\x05\\x00\\xfa\\x00\\x00\\x00\\x00\\x00\\x00\\x01\\x0f\\x00\\x08\\x02\\x10\\x00(\\x00\\x00\\x00\\x05\\x00\\xfa\\x00\\x00\\x00\\x00\\x00\\x00\\x01\\x0f\\x00\\x08\\x02\\x10\\x00)\\x00\\x00\\x00\\x05\\x00\\xfa\\x00\\x00\\x00\\x00\\x00\\x00\\x01\\x0f\\x00\\x08\\x02\\x10\\x00*\\x00\\x00\\x00\\x05\\x00\\xfa\\x00\\x00\\x00\\x00\\x00\\x00\\x01\\x0f\\x00\\x08\\x02\\x10\\x00+\\x00\\x00\\x00\\x05\\x00\\xfa\\x00\\x00\\x00\\x00\\x00\\x00\\x01\\x0f\\x00\\x08\\x02\\x10\\x00,\\x00\\x00\\x00\\x05\\x00\\xfa\\x00\\x00\\x00\\x00\\x00\\x00\\x01\\x0f\\x00\\x08\\x02\\x10\\x00-\\x00\\x00\\x00\\x05\\x00\\xfa\\x00\\x00\\x00\\x00\\x00\\x00\\x01\\x0f\\x00\\x08\\x02\\x10\\x00.\\x00\\x00\\x00\\x05\\x00\\xfa\\x00\\x00\\x00\\x00\\x00\\x00\\x01\\x0f\\x00\\x08\\x02\\x10\\x00/\\x00\\x00\\x00\\x05\\x00\\xfa\\x00\\x00\\x00\\x00\\x00\\x00\\x01\\x0f\\x00\\x08\\x02\\x10\\x000\\x00\\x00\\x00\\x05\\x00\\xfa\\x00\\x00\\x00\\x00\\x00\\x00\\x01\\x0f\\x00\\x08\\x02\\x10\\x001\\x00\\x00\\x00\\x05\\x00\\xfa\\x00\\x00\\x00\\x00\\x00\\x00\\x01\\x0f\\x00\\x08\\x02\\x10\\x002\\x00\\x00\\x00\\x05\\x00\\xfa\\x00\\x00\\x00\\x00\\x00\\x00\\x01\\x0f\\x00\\x08\\x02\\x10\\x003\\x00\\x00\\x00\\x05\\x00\\xfa\\x00\\x00\\x00\\x00\\x00\\x00\\x01\\x0f\\x00\\x08\\x02\\x10\\x004\\x00\\x00\\x00\\x05\\x00\\xfa\\x00\\x00\\x00\\x00\\x00\\x00\\x01\\x0f\\x00\\x08\\x02\\x10\\x005\\x00\\x00\\x00\\x05\\x00\\xfa\\x00\\x00\\x00\\x00\\x00\\x00\\x01\\x0f\\x00\\x08\\x02\\x10\\x006\\x00\\x00\\x00\\x05\\x00\\xfa\\x00\\x00\\x00\\x00\\x00\\x00\\x01\\x0f\\x00\\x08\\x02\\x10\\x007\\x00\\x00\\x00\\x05\\x00\\xfa\\x00\\x00\\x00\\x00\\x00\\x00\\x01\\x0f\\x00\\x08\\x02\\x10\\x008\\x00\\x00\\x00\\x05\\x00\\xfa\\x00\\x00\\x00\\x00\\x00\\x00\\x01\\x0f\\x00\\x08\\x02\\x10\\x009\\x00\\x00\\x00\\x05\\x00\\xfa\\x00\\x00\\x00\\x00\\x00\\x00\\x01\\x0f\\x00\\x08\\x02\\x10\\x00:\\x00\\x00\\x00\\x05\\x00\\xfa\\x00\\x00\\x00\\x00\\x00\\x00\\x01\\x0f\\x00\\x08\\x02\\x10\\x00;\\x00\\x00\\x00\\x05\\x00\\xfa\\x00\\x00\\x00\\x00\\x00\\x00\\x01\\x0f\\x00\\x08\\x02\\x10\\x00<\\x00\\x00\\x00\\x05\\x00\\xfa\\x00\\x00\\x00\\x00\\x00\\x00\\x01\\x0f\\x00\\x08\\x02\\x10\\x00=\\x00\\x00\\x00\\x05\\x00\\xfa\\x00\\x00\\x00\\x00\\x00\\x00\\x01\\x0f\\x00\\x08\\x02\\x10\\x00>\\x00\\x00\\x00\\x05\\x00\\xfa\\x00\\x00\\x00\\x00\\x00\\x00\\x01\\x0f\\x00\\x08\\x02\\x10\\x00?\\x00\\x00\\x00\\x05\\x00\\xfa\\x00\\x00\\x00\\x00\\x00\\x00\\x01\\x0f\\x00\\xbd\\x00\\x1e\\x00 \\x00\\x00\\x00\\x0f\\x00\\x01\\xe0\\x80@\\x0f\\x00\\x01@u@\\x0f\\x00\\x00\\x00\\xf8?\\x0f\\x00\\x01\\x00D@\\x03\\x00\\xfd\\x00\\n\\x00 \\x00\\x04\\x00\\x0f\\x00\\x04\\x00\\x00\\x00~\\x02\\n\\x00!\\x00\\x00\\x00\\x0f\\x00\\x01@\\x80@\\x03\\x02\\x0e\\x00!\\x00\\x01\\x00\\x0f\\x00ffffff\\x10@\\xbd\\x00\\x12\\x00!\\x00\\x02\\x00\\x0f\\x00\\x00\\x00\\xf8?\\x0f\\x00\\x01\\x00$@\\x03\\x00\\xfd\\x00\\n\\x00!\\x00\\x04\\x00\\x0f\\x00\\x04\\x00\\x00\\x00\\xbd\\x00\\x1e\\x00\"\\x00\\x00\\x00\\x0f\\x00\\x00\\x00\\x16@\\x0f\\x00\\x01@z@\\x0f\\x00\\x01\\x80a@\\x0f\\x00\\x01\\x004@\\x03\\x00\\xfd\\x00\\n\\x00\"\\x00\\x04\\x00\\x0f\\x00\\x04\\x00\\x00\\x00\\x03\\x02\\x0e\\x00#\\x00\\x00\\x00\\x0f\\x00\\x9a\\x99\\x99\\x99\\x99\\x99\\x13@\\xbd\\x00\\x18\\x00#\\x00\\x01\\x00\\x0f\\x00\\x01`s@\\x0f\\x00\\x00\\x00\\xf8?\\x0f\\x00\\x01\\x00$@\\x03\\x00\\xfd\\x00\\n\\x00#\\x00\\x04\\x00\\x0f\\x00\\x04\\x00\\x00\\x00\\xbd\\x00\\x1e\\x00$\\x00\\x00\\x00\\x0f\\x00\\x00\\x00\\x14@\\x0f\\x00\\x01\\x00t@\\x0f\\x00\\x01\\x00^@\\x0f\\x00\\x01\\x004@\\x03\\x00\\xfd\\x00\\n\\x00$\\x00\\x04\\x00\\x0f\\x00\\x04\\x00\\x00\\x00\\xbd\\x00\\x1e\\x00%\\x00\\x00\\x00\\x0f\\x00\\x00\\x00\\x16@\\x0f\\x00\\x00\\x00\\x0c@\\x0f\\x00\\x01@`@\\x0f\\x00\\x01\\x004@\\x03\\x00\\xfd\\x00\\n\\x00%\\x00\\x04\\x00\\x0f\\x00\\x04\\x00\\x00\\x00\\x03\\x02\\x0e\\x00&\\x00\\x00\\x00\\x0f\\x00\\x9a\\x99\\x99\\x99\\x99\\x99\\x13@\\xbd\\x00\\x18\\x00&\\x00\\x01\\x00\\x0f\\x00\\x01`s@\\x0f\\x00\\x00\\x00\\xf8?\\x0f\\x00\\x01\\x00$@\\x03\\x00\\xfd\\x00\\n\\x00&\\x00\\x04\\x00\\x0f\\x00\\x04\\x00\\x00\\x00\\x03\\x02\\x0e\\x00\\'\\x00\\x00\\x00\\x0f\\x00\\x9a\\x99\\x99\\x99\\x99\\x99\\x11@\\xbd\\x00\\x18\\x00\\'\\x00\\x01\\x00\\x0f\\x00\\x00\\x00\\x08@\\x0f\\x00\\x01@`@\\x0f\\x00\\x01\\x004@\\x03\\x00\\xfd\\x00\\n\\x00\\'\\x00\\x04\\x00\\x0f\\x00\\x04\\x00\\x00\\x00\\xbd\\x00\\x18\\x00(\\x00\\x01\\x00\\x0f\\x00\\x01@u@\\x0f\\x00\\x00\\x00\\xf8?\\x0f\\x00\\x01\\x004@\\x03\\x00\\xfd\\x00\\n\\x00(\\x00\\x04\\x00\\x0f\\x00\\x04\\x00\\x00\\x00\\xbd\\x00\\x1e\\x00)\\x00\\x00\\x00\\x0f\\x00\\x00\\x00\\x14@\\x0f\\x00\\x00\\x00\\x0c@\\x0f\\x00\\x01@`@\\x0f\\x00\\x01\\x00>@\\x03\\x00\\xfd\\x00\\n\\x00)\\x00\\x04\\x00\\x0f\\x00\\x04\\x00\\x00\\x00~\\x02\\n\\x00*\\x00\\x00\\x00\\x0f\\x00\\x00\\x00\\x12@\\x03\\x02\\x0e\\x00*\\x00\\x01\\x00\\x0f\\x00ffffff\\x02@\\xbd\\x00\\x12\\x00*\\x00\\x02\\x00\\x0f\\x00\\x01@`@\\x0f\\x00\\x01\\x00>@\\x03\\x00\\xfd\\x00\\n\\x00*\\x00\\x04\\x00\\x0f\\x00\\x04\\x00\\x00\\x00\\x03\\x02\\x0e\\x00+\\x00\\x00\\x00\\x0f\\x00\\x9a\\x99\\x99\\x99\\x99\\x99\\x11@~\\x02\\n\\x00+\\x00\\x01\\x00\\x0f\\x00\\x01\\x00t@~\\x02\\n\\x00+\\x00\\x03\\x00\\x0f\\x00\\x01\\x004@\\xfd\\x00\\n\\x00+\\x00\\x04\\x00\\x0f\\x00\\x04\\x00\\x00\\x00~\\x02\\n\\x00,\\x00\\x00\\x00\\x0f\\x00\\x00\\x00\\x14@\\xbd\\x00\\x12\\x00,\\x00\\x02\\x00\\x0f\\x00\\x01\\x00d@\\x0f\\x00\\x01\\x00N@\\x03\\x00\\xfd\\x00\\n\\x00,\\x00\\x04\\x00\\x0f\\x00\\x04\\x00\\x00\\x00\\x03\\x02\\x0e\\x00-\\x00\\x00\\x00\\x0f\\x00ffffff\\x14@\\xbd\\x00\\x18\\x00-\\x00\\x01\\x00\\x0f\\x00\\x01\\xc0w@\\x0f\\x00\\x01\\xc0g@\\x0f\\x00\\x01\\x00D@\\x03\\x00\\xfd\\x00\\n\\x00-\\x00\\x04\\x00\\x0f\\x00\\x04\\x00\\x00\\x00\\xbd\\x00\\x1e\\x00.\\x00\\x00\\x00\\x0f\\x00\\x01\\x00~@\\x0f\\x00\\x00\\x00\\x08@\\x0f\\x00\\x01\\x80a@\\x0f\\x00\\x01\\x00>@\\x03\\x00\\xfd\\x00\\n\\x00.\\x00\\x04\\x00\\x0f\\x00\\x04\\x00\\x00\\x00\\x03\\x02\\x0e\\x00/\\x00\\x00\\x00\\x0f\\x00ffffff\\x14@\\xbd\\x00\\x18\\x00/\\x00\\x01\\x00\\x0f\\x00\\x01\\xc0w@\\x0f\\x00\\x01\\x00d@\\x0f\\x00\\x01\\x004@\\x03\\x00\\xfd\\x00\\n\\x00/\\x00\\x04\\x00\\x0f\\x00\\x04\\x00\\x00\\x00\\x03\\x02\\x0e\\x000\\x00\\x00\\x00\\x0f\\x00ffffff\\x12@\\xbd\\x00\\x18\\x000\\x00\\x01\\x00\\x0f\\x00\\x01\\x00t@\\x0f\\x00\\x01\\x80a@\\x0f\\x00\\x01\\x004@\\x03\\x00\\xfd\\x00\\n\\x000\\x00\\x04\\x00\\x0f\\x00\\x04\\x00\\x00\\x00\\xbd\\x00\\x1e\\x001\\x00\\x00\\x00\\x0f\\x00\\x01\\x90\\x80@\\x0f\\x00\\x01 w@\\x0f\\x00\\x00\\x00\\xf8?\\x0f\\x00\\x01\\x004@\\x03\\x00\\xfd\\x00\\n\\x001\\x00\\x04\\x00\\x0f\\x00\\x04\\x00\\x00\\x00\\xbd\\x00\\x1e\\x002\\x00\\x00\\x00\\x0f\\x00\\x00\\x00\\x14@\\x0f\\x00\\x01\\xa0t@\\x0f\\x00\\x01\\x80a@\\x0f\\x00\\x01\\x004@\\x03\\x00\\xfd\\x00\\n\\x002\\x00\\x04\\x00\\x0f\\x00\\x04\\x00\\x00\\x00\\xbd\\x00\\x1e\\x003\\x00\\x00\\x00\\x0f\\x00\\x00\\x00\\x1c@\\x0f\\x00\\x01\\x00t@\\x0f\\x00\\x01`}@\\x0f\\x00\\x01\\x80a@\\x03\\x00\\xfd\\x00\\n\\x003\\x00\\x04\\x00\\x0f\\x00\\x05\\x00\\x00\\x00\\xbd\\x00\\x18\\x004\\x00\\x01\\x00\\x0f\\x00\\x01\\x00t@\\x0f\\x00\\x00\\x00\\x12@\\x0f\\x00\\x00\\x00\\xf8?\\x03\\x00\\xfd\\x00\\n\\x004\\x00\\x04\\x00\\x0f\\x00\\x05\\x00\\x00\\x00\\xbd\\x00\\x12\\x005\\x00\\x00\\x00\\x0f\\x00\\x01\\x90\\x85@\\x0f\\x00\\x01`s@\\x01\\x00\\x03\\x02\\x0e\\x005\\x00\\x02\\x00\\x0f\\x00\\x9a\\x99\\x99\\x99\\x99\\x99\\x13@~\\x02\\n\\x005\\x00\\x03\\x00\\x0f\\x00\\x00\\x00\\xf8?\\xfd\\x00\\n\\x005\\x00\\x04\\x00\\x0f\\x00\\x05\\x00\\x00\\x00~\\x02\\n\\x006\\x00\\x00\\x00\\x0f\\x00\\x00\\x00\\x16@\\x03\\x02\\x0e\\x006\\x00\\x01\\x00\\x0f\\x00ffffff\\x02@\\xbd\\x00\\x12\\x006\\x00\\x02\\x00\\x0f\\x00\\x00\\x00\\x10@\\x0f\\x00\\x01@`@\\x03\\x00\\xfd\\x00\\n\\x006\\x00\\x04\\x00\\x0f\\x00\\x05\\x00\\x00\\x00\\xbd\\x00\\x12\\x007\\x00\\x00\\x00\\x0f\\x00\\x00\\x00\\x1a@\\x0f\\x00\\x01\\x80q@\\x01\\x00\\x03\\x02\\x0e\\x007\\x00\\x02\\x00\\x0f\\x00ffffff\\x12@~\\x02\\n\\x007\\x00\\x03\\x00\\x0f\\x00\\x00\\x00\\xf8?\\xfd\\x00\\n\\x007\\x00\\x04\\x00\\x0f\\x00\\x05\\x00\\x00\\x00\\xbd\\x00\\x1e\\x008\\x00\\x00\\x00\\x0f\\x00\\x01\\xd0\\x81@\\x0f\\x00\\x01\\x80q@\\x0f\\x00\\x00\\x00\\x12@\\x0f\\x00\\x01@`@\\x03\\x00\\xfd\\x00\\n\\x008\\x00\\x04\\x00\\x0f\\x00\\x05\\x00\\x00\\x00\\xbd\\x00\\x12\\x009\\x00\\x00\\x00\\x0f\\x00\\x01\\xb0\\x83@\\x0f\\x00\\x01\\xa0t@\\x01\\x00~\\x02\\n\\x009\\x00\\x03\\x00\\x0f\\x00\\x01\\x00d@\\xfd\\x00\\n\\x009\\x00\\x04\\x00\\x0f\\x00\\x05\\x00\\x00\\x00\\x03\\x02\\x0e\\x00:\\x00\\x00\\x00\\x0f\\x00\\x9a\\x99\\x99\\x99\\x99\\x99\\x13@\\xbd\\x00\\x18\\x00:\\x00\\x01\\x00\\x0f\\x00\\x01\\x00n@\\x0f\\x00\\x01\\xa0t@\\x0f\\x00\\x00\\x00\\xf0?\\x03\\x00\\xfd\\x00\\n\\x00:\\x00\\x04\\x00\\x0f\\x00\\x05\\x00\\x00\\x00\\xbd\\x00\\x12\\x00;\\x00\\x00\\x00\\x0f\\x00\\x01\\xa0\\x84@\\x0f\\x00\\x01 r@\\x01\\x00\\x03\\x02\\x0e\\x00;\\x00\\x02\\x00\\x0f\\x00ffffff\\x12@~\\x02\\n\\x00;\\x00\\x03\\x00\\x0f\\x00\\x01@`@\\xfd\\x00\\n\\x00;\\x00\\x04\\x00\\x0f\\x00\\x05\\x00\\x00\\x00\\xbd\\x00\\x1e\\x00<\\x00\\x00\\x00\\x0f\\x00\\x01@\\x80@\\x0f\\x00\\x01\\xe0p@\\x0f\\x00\\x01`x@\\x0f\\x00\\x01\\x80a@\\x03\\x00\\xfd\\x00\\n\\x00<\\x00\\x04\\x00\\x0f\\x00\\x05\\x00\\x00\\x00\\xbd\\x00\\x1e\\x00=\\x00\\x00\\x00\\x0f\\x00\\x00\\x00\\x14@\\x0f\\x00\\x00\\x00\\x00@\\x0f\\x00\\x00\\x00\\x0c@\\x0f\\x00\\x00\\x00\\xf0?\\x03\\x00\\xfd\\x00\\n\\x00=\\x00\\x04\\x00\\x0f\\x00\\x05\\x00\\x00\\x00\\xbd\\x00\\x1e\\x00>\\x00\\x00\\x00\\x0f\\x00\\x01p\\x82@\\x0f\\x00\\x00\\x00\\x08@\\x0f\\x00\\x01@z@\\x0f\\x00\\x00\\x00\\xf8?\\x03\\x00\\xfd\\x00\\n\\x00>\\x00\\x04\\x00\\x0f\\x00\\x05\\x00\\x00\\x00~\\x02\\n\\x00?\\x00\\x00\\x00\\x0f\\x00\\x00\\x00\\x18@\\x03\\x02\\x0e\\x00?\\x00\\x01\\x00\\x0f\\x00\\x9a\\x99\\x99\\x99\\x99\\x99\\x01@\\xbd\\x00\\x12\\x00?\\x00\\x02\\x00\\x0f\\x00\\x00\\x00\\x10@\\x0f\\x00\\x00\\x00\\xf0?\\x03\\x00\\xfd\\x00\\n\\x00?\\x00\\x04\\x00\\x0f\\x00\\x05\\x00\\x00\\x00\\xd7\\x00D\\x00d\\t\\x00\\x00l\\x020\\x00D\\x000\\x00<\\x000\\x000\\x00<\\x00<\\x00*\\x000\\x00D\\x00<\\x002\\x00<\\x000\\x00<\\x00<\\x000\\x000\\x000\\x00*\\x00D\\x00D\\x00D\\x000\\x002\\x00<\\x00D\\x000\\x000\\x000\\x00\\x08\\x02\\x10\\x00@\\x00\\x00\\x00\\x05\\x00\\xfa\\x00\\x00\\x00\\x00\\x00\\x00\\x01\\x0f\\x00\\x08\\x02\\x10\\x00A\\x00\\x00\\x00\\x05\\x00\\xfa\\x00\\x00\\x00\\x00\\x00\\x00\\x01\\x0f\\x00\\x08\\x02\\x10\\x00B\\x00\\x00\\x00\\x05\\x00\\xfa\\x00\\x00\\x00\\x00\\x00\\x00\\x01\\x0f\\x00\\x08\\x02\\x10\\x00C\\x00\\x00\\x00\\x05\\x00\\xfa\\x00\\x00\\x00\\x00\\x00\\x00\\x01\\x0f\\x00\\x08\\x02\\x10\\x00D\\x00\\x00\\x00\\x05\\x00\\xfa\\x00\\x00\\x00\\x00\\x00\\x00\\x01\\x0f\\x00\\x08\\x02\\x10\\x00E\\x00\\x00\\x00\\x05\\x00\\xfa\\x00\\x00\\x00\\x00\\x00\\x00\\x01\\x0f\\x00\\x08\\x02\\x10\\x00F\\x00\\x00\\x00\\x05\\x00\\xfa\\x00\\x00\\x00\\x00\\x00\\x00\\x01\\x0f\\x00\\x08\\x02\\x10\\x00G\\x00\\x00\\x00\\x05\\x00\\xfa\\x00\\x00\\x00\\x00\\x00\\x00\\x01\\x0f\\x00\\x08\\x02\\x10\\x00H\\x00\\x00\\x00\\x05\\x00\\xfa\\x00\\x00\\x00\\x00\\x00\\x00\\x01\\x0f\\x00\\x08\\x02\\x10\\x00I\\x00\\x00\\x00\\x05\\x00\\xfa\\x00\\x00\\x00\\x00\\x00\\x00\\x01\\x0f\\x00\\x08\\x02\\x10\\x00J\\x00\\x00\\x00\\x05\\x00\\xfa\\x00\\x00\\x00\\x00\\x00\\x00\\x01\\x0f\\x00\\x08\\x02\\x10\\x00K\\x00\\x00\\x00\\x05\\x00\\xfa\\x00\\x00\\x00\\x00\\x00\\x00\\x01\\x0f\\x00\\x08\\x02\\x10\\x00L\\x00\\x00\\x00\\x05\\x00\\xfa\\x00\\x00\\x00\\x00\\x00\\x00\\x01\\x0f\\x00\\x08\\x02\\x10\\x00M\\x00\\x00\\x00\\x05\\x00\\xfa\\x00\\x00\\x00\\x00\\x00\\x00\\x01\\x0f\\x00\\x08\\x02\\x10\\x00N\\x00\\x00\\x00\\x05\\x00\\xfa\\x00\\x00\\x00\\x00\\x00\\x00\\x01\\x0f\\x00\\x08\\x02\\x10\\x00O\\x00\\x00\\x00\\x05\\x00\\xfa\\x00\\x00\\x00\\x00\\x00\\x00\\x01\\x0f\\x00\\x08\\x02\\x10\\x00P\\x00\\x00\\x00\\x05\\x00\\xfa\\x00\\x00\\x00\\x00\\x00\\x00\\x01\\x0f\\x00\\x08\\x02\\x10\\x00Q\\x00\\x00\\x00\\x05\\x00\\xfa\\x00\\x00\\x00\\x00\\x00\\x00\\x01\\x0f\\x00\\x08\\x02\\x10\\x00R\\x00\\x00\\x00\\x05\\x00\\xfa\\x00\\x00\\x00\\x00\\x00\\x00\\x01\\x0f\\x00\\x08\\x02\\x10\\x00S\\x00\\x00\\x00\\x05\\x00\\xfa\\x00\\x00\\x00\\x00\\x00\\x00\\x01\\x0f\\x00\\x08\\x02\\x10\\x00T\\x00\\x00\\x00\\x05\\x00\\xfa\\x00\\x00\\x00\\x00\\x00\\x00\\x01\\x0f\\x00\\x08\\x02\\x10\\x00U\\x00\\x00\\x00\\x05\\x00\\xfa\\x00\\x00\\x00\\x00\\x00\\x00\\x01\\x0f\\x00\\x08\\x02\\x10\\x00V\\x00\\x00\\x00\\x05\\x00\\xfa\\x00\\x00\\x00\\x00\\x00\\x00\\x01\\x0f\\x00\\x08\\x02\\x10\\x00W\\x00\\x00\\x00\\x05\\x00\\xfa\\x00\\x00\\x00\\x00\\x00\\x00\\x01\\x0f\\x00\\x08\\x02\\x10\\x00X\\x00\\x00\\x00\\x05\\x00\\xfa\\x00\\x00\\x00\\x00\\x00\\x00\\x01\\x0f\\x00\\x08\\x02\\x10\\x00Y\\x00\\x00\\x00\\x05\\x00\\xfa\\x00\\x00\\x00\\x00\\x00\\x00\\x01\\x0f\\x00\\x08\\x02\\x10\\x00Z\\x00\\x00\\x00\\x05\\x00\\xfa\\x00\\x00\\x00\\x00\\x00\\x00\\x01\\x0f\\x00\\x08\\x02\\x10\\x00[\\x00\\x00\\x00\\x05\\x00\\xfa\\x00\\x00\\x00\\x00\\x00\\x00\\x01\\x0f\\x00\\x08\\x02\\x10\\x00\\\\\\x00\\x00\\x00\\x05\\x00\\xfa\\x00\\x00\\x00\\x00\\x00\\x00\\x01\\x0f\\x00\\x08\\x02\\x10\\x00]\\x00\\x00\\x00\\x05\\x00\\xfa\\x00\\x00\\x00\\x00\\x00\\x00\\x01\\x0f\\x00\\x08\\x02\\x10\\x00^\\x00\\x00\\x00\\x05\\x00\\xfa\\x00\\x00\\x00\\x00\\x00\\x00\\x01\\x0f\\x00\\x08\\x02\\x10\\x00_\\x00\\x00\\x00\\x05\\x00\\xfa\\x00\\x00\\x00\\x00\\x00\\x00\\x01\\x0f\\x00\\xbd\\x00\\x1e\\x00@\\x00\\x00\\x00\\x0f\\x00\\x01\\x10\\x83@\\x0f\\x00\\x01 r@\\x0f\\x00\\x01`}@\\x0f\\x00\\x01\\x80a@\\x03\\x00\\xfd\\x00\\n\\x00@\\x00\\x04\\x00\\x0f\\x00\\x05\\x00\\x00\\x00\\xbd\\x00\\x1e\\x00A\\x00\\x00\\x00\\x0f\\x00\\x01\\x80\\x81@\\x0f\\x00\\x01 r@\\x0f\\x00\\x01\\x80v@\\x0f\\x00\\x01@`@\\x03\\x00\\xfd\\x00\\n\\x00A\\x00\\x04\\x00\\x0f\\x00\\x05\\x00\\x00\\x00\\xbd\\x00\\x12\\x00B\\x00\\x00\\x00\\x0f\\x00\\x01\\xf0\\x84@\\x0f\\x00\\x01`s@\\x01\\x00\\x03\\x02\\x0e\\x00B\\x00\\x02\\x00\\x0f\\x00\\x9a\\x99\\x99\\x99\\x99\\x99\\x11@~\\x02\\n\\x00B\\x00\\x03\\x00\\x0f\\x00\\x01\\x80a@\\xfd\\x00\\n\\x00B\\x00\\x04\\x00\\x0f\\x00\\x05\\x00\\x00\\x00\\xbd\\x00\\x1e\\x00C\\x00\\x00\\x00\\x0f\\x00\\x01\\x80\\x81@\\x0f\\x00\\x00\\x00\\x08@\\x0f\\x00\\x00\\x00\\x12@\\x0f\\x00\\x00\\x00\\xf8?\\x03\\x00\\xfd\\x00\\n\\x00C\\x00\\x04\\x00\\x0f\\x00\\x05\\x00\\x00\\x00\\xbd\\x00\\x12\\x00D\\x00\\x00\\x00\\x0f\\x00\\x01 \\x82@\\x0f\\x00\\x01\\xe0p@\\x01\\x00\\x03\\x02\\x0e\\x00D\\x00\\x02\\x00\\x0f\\x00ffffff\\x10@~\\x02\\n\\x00D\\x00\\x03\\x00\\x0f\\x00\\x00\\x00\\xf0?\\xfd\\x00\\n\\x00D\\x00\\x04\\x00\\x0f\\x00\\x05\\x00\\x00\\x00~\\x02\\n\\x00E\\x00\\x00\\x00\\x0f\\x00\\x01`\\x83@\\x03\\x02\\x0e\\x00E\\x00\\x01\\x00\\x0f\\x00\\x9a\\x99\\x99\\x99\\x99\\x99\\x01@\\xbd\\x00\\x12\\x00E\\x00\\x02\\x00\\x0f\\x00\\x00\\x00\\x12@\\x0f\\x00\\x00\\x00\\xf8?\\x03\\x00\\xfd\\x00\\n\\x00E\\x00\\x04\\x00\\x0f\\x00\\x05\\x00\\x00\\x00\\xbd\\x00\\x18\\x00F\\x00\\x00\\x00\\x0f\\x00\\x01\\x80\\x81@\\x0f\\x00\\x00\\x00\\x04@\\x0f\\x00\\x01`x@\\x02\\x00\\x03\\x02\\x0e\\x00F\\x00\\x03\\x00\\x0f\\x00\\x9a\\x99\\x99\\x99\\x99\\x99\\xf1?\\xfd\\x00\\n\\x00F\\x00\\x04\\x00\\x0f\\x00\\x05\\x00\\x00\\x00\\xbd\\x00\\x1e\\x00G\\x00\\x00\\x00\\x0f\\x00\\x01p\\x82@\\x0f\\x00\\x01\\x00t@\\x0f\\x00\\x01\\x00~@\\x0f\\x00\\x01\\x80f@\\x03\\x00\\xfd\\x00\\n\\x00G\\x00\\x04\\x00\\x0f\\x00\\x05\\x00\\x00\\x00\\xbd\\x00\\x1e\\x00H\\x00\\x00\\x00\\x0f\\x00\\x01\\x10\\x83@\\x0f\\x00\\x01\\x80q@\\x0f\\x00\\x00\\x00\\x10@\\x0f\\x00\\x01@`@\\x03\\x00\\xfd\\x00\\n\\x00H\\x00\\x04\\x00\\x0f\\x00\\x05\\x00\\x00\\x00~\\x02\\n\\x00I\\x00\\x00\\x00\\x0f\\x00\\x01\\xb0\\x83@\\x03\\x02\\x0e\\x00I\\x00\\x02\\x00\\x0f\\x00\\x9a\\x99\\x99\\x99\\x99\\x99\\x13@~\\x02\\n\\x00I\\x00\\x03\\x00\\x0f\\x00\\x00\\x00\\xf8?\\xfd\\x00\\n\\x00I\\x00\\x04\\x00\\x0f\\x00\\x05\\x00\\x00\\x00\\xbd\\x00\\x1e\\x00J\\x00\\x00\\x00\\x0f\\x00\\x01\\x10\\x83@\\x0f\\x00\\x01\\x80q@\\x0f\\x00\\x01`}@\\x0f\\x00\\x01\\x00^@\\x03\\x00\\xfd\\x00\\n\\x00J\\x00\\x04\\x00\\x0f\\x00\\x05\\x00\\x00\\x00\\xbd\\x00\\x1e\\x00K\\x00\\x00\\x00\\x0f\\x00\\x01\\x00\\x84@\\x0f\\x00\\x01 r@\\x0f\\x00\\x01\\xe0z@\\x0f\\x00\\x01@`@\\x03\\x00\\xfd\\x00\\n\\x00K\\x00\\x04\\x00\\x0f\\x00\\x05\\x00\\x00\\x00\\xbd\\x00\\x12\\x00L\\x00\\x00\\x00\\x0f\\x00\\x01\\xa0\\x84@\\x0f\\x00\\x00\\x00\\x08@\\x01\\x00\\x03\\x02\\x0e\\x00L\\x00\\x02\\x00\\x0f\\x00\\x9a\\x99\\x99\\x99\\x99\\x99\\x11@~\\x02\\n\\x00L\\x00\\x03\\x00\\x0f\\x00\\x01\\x80a@\\xfd\\x00\\n\\x00L\\x00\\x04\\x00\\x0f\\x00\\x05\\x00\\x00\\x00\\xbd\\x00\\x1e\\x00M\\x00\\x00\\x00\\x0f\\x00\\x01@\\x85@\\x0f\\x00\\x01\\x80q@\\x0f\\x00\\x01\\x00~@\\x0f\\x00\\x01\\x80a@\\x03\\x00\\xfd\\x00\\n\\x00M\\x00\\x04\\x00\\x0f\\x00\\x05\\x00\\x00\\x00\\xbd\\x00\\x1e\\x00N\\x00\\x00\\x00\\x0f\\x00\\x01\\xf0\\x84@\\x0f\\x00\\x00\\x00\\x08@\\x0f\\x00\\x00\\x00\\x14@\\x0f\\x00\\x01@e@\\x03\\x00\\xfd\\x00\\n\\x00N\\x00\\x04\\x00\\x0f\\x00\\x05\\x00\\x00\\x00\\xbd\\x00\\x1e\\x00O\\x00\\x00\\x00\\x0f\\x00\\x00\\x00\\x18@\\x0f\\x00\\x01 r@\\x0f\\x00\\x00\\x00\\x12@\\x0f\\x00\\x00\\x00\\xf8?\\x03\\x00\\xfd\\x00\\n\\x00O\\x00\\x04\\x00\\x0f\\x00\\x05\\x00\\x00\\x00\\xbd\\x00\\x1e\\x00P\\x00\\x00\\x00\\x0f\\x00\\x01\\xd0\\x81@\\x0f\\x00\\x01@p@\\x0f\\x00\\x00\\x00\\x0c@\\x0f\\x00\\x00\\x00\\xf0?\\x03\\x00\\xfd\\x00\\n\\x00P\\x00\\x04\\x00\\x0f\\x00\\x05\\x00\\x00\\x00\\xbd\\x00\\x18\\x00Q\\x00\\x00\\x00\\x0f\\x00\\x00\\x00\\x16@\\x0f\\x00\\x01\\x00n@\\x0f\\x00\\x01\\xc0w@\\x02\\x00\\x03\\x02\\x0e\\x00Q\\x00\\x03\\x00\\x0f\\x00\\x9a\\x99\\x99\\x99\\x99\\x99\\xf1?\\xfd\\x00\\n\\x00Q\\x00\\x04\\x00\\x0f\\x00\\x05\\x00\\x00\\x00\\xbd\\x00\\x1e\\x00R\\x00\\x00\\x00\\x0f\\x00\\x00\\x00\\x16@\\x0f\\x00\\x01\\x00n@\\x0f\\x00\\x01 w@\\x0f\\x00\\x00\\x00\\xf0?\\x03\\x00\\xfd\\x00\\n\\x00R\\x00\\x04\\x00\\x0f\\x00\\x05\\x00\\x00\\x00\\xbd\\x00\\x1e\\x00S\\x00\\x00\\x00\\x0f\\x00\\x01 \\x82@\\x0f\\x00\\x01\\xe0p@\\x0f\\x00\\x01`x@\\x0f\\x00\\x01\\x00^@\\x03\\x00\\xfd\\x00\\n\\x00S\\x00\\x04\\x00\\x0f\\x00\\x05\\x00\\x00\\x00\\xbd\\x00\\x12\\x00T\\x00\\x00\\x00\\x0f\\x00\\x00\\x00\\x18@\\x0f\\x00\\x01\\xe0p@\\x01\\x00\\x03\\x02\\x0e\\x00T\\x00\\x02\\x00\\x0f\\x00ffffff\\x14@~\\x02\\n\\x00T\\x00\\x03\\x00\\x0f\\x00\\x01\\x00d@\\xfd\\x00\\n\\x00T\\x00\\x04\\x00\\x0f\\x00\\x05\\x00\\x00\\x00\\xbd\\x00\\x1e\\x00U\\x00\\x00\\x00\\x0f\\x00\\x01\\xe0\\x80@\\x0f\\x00\\x00\\x00\\x08@\\x0f\\x00\\x00\\x00\\x12@\\x0f\\x00\\x00\\x00\\xf8?\\x03\\x00\\xfd\\x00\\n\\x00U\\x00\\x04\\x00\\x0f\\x00\\x05\\x00\\x00\\x00\\xbd\\x00\\x18\\x00V\\x00\\x01\\x00\\x0f\\x00\\x01@u@\\x0f\\x00\\x00\\x00\\x12@\\x0f\\x00\\x01\\x00d@\\x03\\x00\\xfd\\x00\\n\\x00V\\x00\\x04\\x00\\x0f\\x00\\x05\\x00\\x00\\x00\\xbd\\x00\\x1e\\x00W\\x00\\x00\\x00\\x0f\\x00\\x01\\xf0\\x84@\\x0f\\x00\\x01`s@\\x0f\\x00\\x01`}@\\x0f\\x00\\x00\\x00\\xf8?\\x03\\x00\\xfd\\x00\\n\\x00W\\x00\\x04\\x00\\x0f\\x00\\x05\\x00\\x00\\x00~\\x02\\n\\x00X\\x00\\x00\\x00\\x0f\\x00\\x01\\xb0\\x83@\\x03\\x02\\x0e\\x00X\\x00\\x01\\x00\\x0f\\x00ffffff\\x02@\\x03\\x02\\x0e\\x00X\\x00\\x02\\x00\\x0f\\x00\\x9a\\x99\\x99\\x99\\x99\\x99\\x11@~\\x02\\n\\x00X\\x00\\x03\\x00\\x0f\\x00\\x01@`@\\xfd\\x00\\n\\x00X\\x00\\x04\\x00\\x0f\\x00\\x05\\x00\\x00\\x00\\xbd\\x00\\x12\\x00Y\\x00\\x00\\x00\\x0f\\x00\\x01\\x80\\x81@\\x0f\\x00\\x00\\x00\\x08@\\x01\\x00\\x03\\x02\\x0e\\x00Y\\x00\\x02\\x00\\x0f\\x00ffffff\\x10@~\\x02\\n\\x00Y\\x00\\x03\\x00\\x0f\\x00\\x01@`@\\xfd\\x00\\n\\x00Y\\x00\\x04\\x00\\x0f\\x00\\x05\\x00\\x00\\x00\\xbd\\x00\\x1e\\x00Z\\x00\\x00\\x00\\x0f\\x00\\x00\\x00\\x16@\\x0f\\x00\\x00\\x00\\x04@\\x0f\\x00\\x00\\x00\\x10@\\x0f\\x00\\x01@`@\\x03\\x00\\xfd\\x00\\n\\x00Z\\x00\\x04\\x00\\x0f\\x00\\x05\\x00\\x00\\x00\\xbd\\x00\\x12\\x00[\\x00\\x00\\x00\\x0f\\x00\\x00\\x00\\x16@\\x0f\\x00\\x01@p@\\x01\\x00\\x03\\x02\\x0e\\x00[\\x00\\x02\\x00\\x0f\\x00\\x9a\\x99\\x99\\x99\\x99\\x99\\x11@~\\x02\\n\\x00[\\x00\\x03\\x00\\x0f\\x00\\x01\\x00^@\\xfd\\x00\\n\\x00[\\x00\\x04\\x00\\x0f\\x00\\x05\\x00\\x00\\x00\\xbd\\x00\\x12\\x00\\\\\\x00\\x00\\x00\\x0f\\x00\\x01\\x10\\x83@\\x0f\\x00\\x00\\x00\\x08@\\x01\\x00\\x03\\x02\\x0e\\x00\\\\\\x00\\x02\\x00\\x0f\\x00ffffff\\x12@~\\x02\\n\\x00\\\\\\x00\\x03\\x00\\x0f\\x00\\x01\\x80a@\\xfd\\x00\\n\\x00\\\\\\x00\\x04\\x00\\x0f\\x00\\x05\\x00\\x00\\x00\\xbd\\x00\\x1e\\x00]\\x00\\x00\\x00\\x0f\\x00\\x01 \\x82@\\x0f\\x00\\x01@p@\\x0f\\x00\\x00\\x00\\x10@\\x0f\\x00\\x01\\x00^@\\x03\\x00\\xfd\\x00\\n\\x00]\\x00\\x04\\x00\\x0f\\x00\\x05\\x00\\x00\\x00~\\x02\\n\\x00^\\x00\\x00\\x00\\x0f\\x00\\x00\\x00\\x14@\\x03\\x02\\x0e\\x00^\\x00\\x01\\x00\\x0f\\x00ffffff\\x02@\\xbd\\x00\\x12\\x00^\\x00\\x02\\x00\\x0f\\x00\\x01\\xa0t@\\x0f\\x00\\x00\\x00\\xf0?\\x03\\x00\\xfd\\x00\\n\\x00^\\x00\\x04\\x00\\x0f\\x00\\x05\\x00\\x00\\x00\\xbd\\x00\\x12\\x00_\\x00\\x00\\x00\\x0f\\x00\\x01\\x80\\x81@\\x0f\\x00\\x01\\xe0p@\\x01\\x00~\\x02\\n\\x00_\\x00\\x03\\x00\\x0f\\x00\\x01@`@\\xfd\\x00\\n\\x00_\\x00\\x04\\x00\\x0f\\x00\\x05\\x00\\x00\\x00\\xd7\\x00D\\x00r\\t\\x00\\x00l\\x020\\x000\\x00D\\x000\\x00D\\x00D\\x00<\\x000\\x000\\x00<\\x000\\x000\\x00D\\x000\\x000\\x000\\x000\\x00<\\x000\\x000\\x00D\\x000\\x00*\\x000\\x00N\\x00D\\x000\\x00D\\x00D\\x000\\x00D\\x00\\x08\\x02\\x10\\x00`\\x00\\x00\\x00\\x05\\x00\\xfa\\x00\\x00\\x00\\x00\\x00\\x00\\x01\\x0f\\x00\\x08\\x02\\x10\\x00a\\x00\\x00\\x00\\x05\\x00\\xfa\\x00\\x00\\x00\\x00\\x00\\x00\\x01\\x0f\\x00\\x08\\x02\\x10\\x00b\\x00\\x00\\x00\\x05\\x00\\xfa\\x00\\x00\\x00\\x00\\x00\\x00\\x01\\x0f\\x00\\x08\\x02\\x10\\x00c\\x00\\x00\\x00\\x05\\x00\\xfa\\x00\\x00\\x00\\x00\\x00\\x00\\x01\\x0f\\x00\\x08\\x02\\x10\\x00d\\x00\\x00\\x00\\x05\\x00\\xfa\\x00\\x00\\x00\\x00\\x00\\x00\\x01\\x0f\\x00\\x08\\x02\\x10\\x00e\\x00\\x00\\x00\\x05\\x00\\xfa\\x00\\x00\\x00\\x00\\x00\\x00\\x01\\x0f\\x00\\x08\\x02\\x10\\x00f\\x00\\x00\\x00\\x05\\x00\\xfa\\x00\\x00\\x00\\x00\\x00\\x00\\x01\\x0f\\x00\\x08\\x02\\x10\\x00g\\x00\\x00\\x00\\x05\\x00\\xfa\\x00\\x00\\x00\\x00\\x00\\x00\\x01\\x0f\\x00\\x08\\x02\\x10\\x00h\\x00\\x00\\x00\\x05\\x00\\xfa\\x00\\x00\\x00\\x00\\x00\\x00\\x01\\x0f\\x00\\x08\\x02\\x10\\x00i\\x00\\x00\\x00\\x05\\x00\\xfa\\x00\\x00\\x00\\x00\\x00\\x00\\x01\\x0f\\x00\\x08\\x02\\x10\\x00j\\x00\\x00\\x00\\x05\\x00\\xfa\\x00\\x00\\x00\\x00\\x00\\x00\\x01\\x0f\\x00\\x08\\x02\\x10\\x00k\\x00\\x00\\x00\\x05\\x00\\xfa\\x00\\x00\\x00\\x00\\x00\\x00\\x01\\x0f\\x00\\x08\\x02\\x10\\x00l\\x00\\x00\\x00\\x05\\x00\\xfa\\x00\\x00\\x00\\x00\\x00\\x00\\x01\\x0f\\x00\\x08\\x02\\x10\\x00m\\x00\\x00\\x00\\x05\\x00\\xfa\\x00\\x00\\x00\\x00\\x00\\x00\\x01\\x0f\\x00\\x08\\x02\\x10\\x00n\\x00\\x00\\x00\\x05\\x00\\xfa\\x00\\x00\\x00\\x00\\x00\\x00\\x01\\x0f\\x00\\x08\\x02\\x10\\x00o\\x00\\x00\\x00\\x05\\x00\\xfa\\x00\\x00\\x00\\x00\\x00\\x00\\x01\\x0f\\x00\\x08\\x02\\x10\\x00p\\x00\\x00\\x00\\x05\\x00\\xfa\\x00\\x00\\x00\\x00\\x00\\x00\\x01\\x0f\\x00\\x08\\x02\\x10\\x00q\\x00\\x00\\x00\\x05\\x00\\xfa\\x00\\x00\\x00\\x00\\x00\\x00\\x01\\x0f\\x00\\x08\\x02\\x10\\x00r\\x00\\x00\\x00\\x05\\x00\\xfa\\x00\\x00\\x00\\x00\\x00\\x00\\x01\\x0f\\x00\\x08\\x02\\x10\\x00s\\x00\\x00\\x00\\x05\\x00\\xfa\\x00\\x00\\x00\\x00\\x00\\x00\\x01\\x0f\\x00\\x08\\x02\\x10\\x00t\\x00\\x00\\x00\\x05\\x00\\xfa\\x00\\x00\\x00\\x00\\x00\\x00\\x01\\x0f\\x00\\x08\\x02\\x10\\x00u\\x00\\x00\\x00\\x05\\x00\\xfa\\x00\\x00\\x00\\x00\\x00\\x00\\x01\\x0f\\x00\\x08\\x02\\x10\\x00v\\x00\\x00\\x00\\x05\\x00\\xfa\\x00\\x00\\x00\\x00\\x00\\x00\\x01\\x0f\\x00\\x08\\x02\\x10\\x00w\\x00\\x00\\x00\\x05\\x00\\xfa\\x00\\x00\\x00\\x00\\x00\\x00\\x01\\x0f\\x00\\x08\\x02\\x10\\x00x\\x00\\x00\\x00\\x05\\x00\\xfa\\x00\\x00\\x00\\x00\\x00\\x00\\x01\\x0f\\x00\\x08\\x02\\x10\\x00y\\x00\\x00\\x00\\x05\\x00\\xfa\\x00\\x00\\x00\\x00\\x00\\x00\\x01\\x0f\\x00\\x08\\x02\\x10\\x00z\\x00\\x00\\x00\\x05\\x00\\xfa\\x00\\x00\\x00\\x00\\x00\\x00\\x01\\x0f\\x00\\x08\\x02\\x10\\x00{\\x00\\x00\\x00\\x05\\x00\\xfa\\x00\\x00\\x00\\x00\\x00\\x00\\x01\\x0f\\x00\\x08\\x02\\x10\\x00|\\x00\\x00\\x00\\x05\\x00\\xfa\\x00\\x00\\x00\\x00\\x00\\x00\\x01\\x0f\\x00\\x08\\x02\\x10\\x00}\\x00\\x00\\x00\\x05\\x00\\xfa\\x00\\x00\\x00\\x00\\x00\\x00\\x01\\x0f\\x00\\x08\\x02\\x10\\x00~\\x00\\x00\\x00\\x05\\x00\\xfa\\x00\\x00\\x00\\x00\\x00\\x00\\x01\\x0f\\x00\\x08\\x02\\x10\\x00\\x7f\\x00\\x00\\x00\\x05\\x00\\xfa\\x00\\x00\\x00\\x00\\x00\\x00\\x01\\x0f\\x00\\xbd\\x00\\x1e\\x00`\\x00\\x00\\x00\\x0f\\x00\\x01\\xd0\\x81@\\x0f\\x00\\x00\\x00\\x08@\\x0f\\x00\\x01@z@\\x0f\\x00\\x01\\x00^@\\x03\\x00\\xfd\\x00\\n\\x00`\\x00\\x04\\x00\\x0f\\x00\\x05\\x00\\x00\\x00\\xbd\\x00\\x1e\\x00a\\x00\\x00\\x00\\x0f\\x00\\x01\\xd0\\x81@\\x0f\\x00\\x01 r@\\x0f\\x00\\x01@z@\\x0f\\x00\\x01@`@\\x03\\x00\\xfd\\x00\\n\\x00a\\x00\\x04\\x00\\x0f\\x00\\x05\\x00\\x00\\x00\\xbd\\x00\\x1e\\x00b\\x00\\x00\\x00\\x0f\\x00\\x01`\\x83@\\x0f\\x00\\x01 r@\\x0f\\x00\\x01\\xe0z@\\x0f\\x00\\x01@`@\\x03\\x00\\xfd\\x00\\n\\x00b\\x00\\x04\\x00\\x0f\\x00\\x05\\x00\\x00\\x00\\x03\\x02\\x0e\\x00c\\x00\\x00\\x00\\x0f\\x00ffffff\\x14@~\\x02\\n\\x00c\\x00\\x02\\x00\\x0f\\x00\\x00\\x00\\x08@\\x03\\x02\\x0e\\x00c\\x00\\x03\\x00\\x0f\\x00\\x9a\\x99\\x99\\x99\\x99\\x99\\xf1?\\xfd\\x00\\n\\x00c\\x00\\x04\\x00\\x0f\\x00\\x05\\x00\\x00\\x00\\xbd\\x00\\x12\\x00d\\x00\\x00\\x00\\x0f\\x00\\x01\\xd0\\x81@\\x0f\\x00\\x01\\x80q@\\x01\\x00\\x03\\x02\\x0e\\x00d\\x00\\x02\\x00\\x0f\\x00ffffff\\x10@~\\x02\\n\\x00d\\x00\\x03\\x00\\x0f\\x00\\x01@`@\\xfd\\x00\\n\\x00d\\x00\\x04\\x00\\x0f\\x00\\x05\\x00\\x00\\x00\\xbd\\x00\\x1e\\x00e\\x00\\x00\\x00\\x0f\\x00\\x01\\xb0\\x83@\\x0f\\x00\\x01\\xa0t@\\x0f\\x00\\x00\\x00\\x18@\\x0f\\x00\\x00\\x00\\x04@\\x03\\x00\\xfd\\x00\\n\\x00e\\x00\\x04\\x00\\x0f\\x00\\x06\\x00\\x00\\x00\\xbd\\x00\\x12\\x00f\\x00\\x00\\x00\\x0f\\x00\\x01 \\x82@\\x0f\\x00\\x01\\xe0p@\\x01\\x00\\x03\\x02\\x0e\\x00f\\x00\\x02\\x00\\x0f\\x00ffffff\\x14@~\\x02\\n\\x00f\\x00\\x03\\x00\\x0f\\x00\\x01\\xc0g@\\xfd\\x00\\n\\x00f\\x00\\x04\\x00\\x0f\\x00\\x06\\x00\\x00\\x00\\xbd\\x00\\x1e\\x00g\\x00\\x00\\x00\\x0f\\x00\\x010\\x86@\\x0f\\x00\\x00\\x00\\x08@\\x0f\\x00\\x01p\\x82@\\x0f\\x00\\x01@j@\\x03\\x00\\xfd\\x00\\n\\x00g\\x00\\x04\\x00\\x0f\\x00\\x06\\x00\\x00\\x00\\xbd\\x00\\x1e\\x00h\\x00\\x00\\x00\\x0f\\x00\\x01\\xb0\\x83@\\x0f\\x00\\x01 r@\\x0f\\x00\\x01\\x80\\x81@\\x0f\\x00\\x01\\x80f@\\x03\\x00\\xfd\\x00\\n\\x00h\\x00\\x04\\x00\\x0f\\x00\\x06\\x00\\x00\\x00\\xbd\\x00\\x18\\x00i\\x00\\x00\\x00\\x0f\\x00\\x00\\x00\\x1a@\\x0f\\x00\\x00\\x00\\x08@\\x0f\\x00\\x01 \\x82@\\x02\\x00\\x03\\x02\\x0e\\x00i\\x00\\x03\\x00\\x0f\\x00\\x9a\\x99\\x99\\x99\\x99\\x99\\x01@\\xfd\\x00\\n\\x00i\\x00\\x04\\x00\\x0f\\x00\\x06\\x00\\x00\\x00\\xbd\\x00\\x1e\\x00j\\x00\\x00\\x00\\x0f\\x00\\x01\\xc0\\x87@\\x0f\\x00\\x00\\x00\\x08@\\x0f\\x00\\x01\\xa0\\x84@\\x0f\\x00\\x01@j@\\x03\\x00\\xfd\\x00\\n\\x00j\\x00\\x04\\x00\\x0f\\x00\\x06\\x00\\x00\\x00\\xbd\\x00\\x18\\x00k\\x00\\x01\\x00\\x0f\\x00\\x00\\x00\\x04@\\x0f\\x00\\x00\\x00\\x12@\\x0f\\x00\\x01@e@\\x03\\x00\\xfd\\x00\\n\\x00k\\x00\\x04\\x00\\x0f\\x00\\x06\\x00\\x00\\x00\\xbd\\x00\\x1e\\x00l\\x00\\x00\\x00\\x0f\\x00\\x01\\xd0\\x86@\\x0f\\x00\\x01 r@\\x0f\\x00\\x01\\xb0\\x83@\\x0f\\x00\\x01\\x80f@\\x03\\x00\\xfd\\x00\\n\\x00l\\x00\\x04\\x00\\x0f\\x00\\x06\\x00\\x00\\x00\\xbd\\x00\\x1e\\x00m\\x00\\x00\\x00\\x0f\\x00\\x01\\xf0\\x84@\\x0f\\x00\\x00\\x00\\x04@\\x0f\\x00\\x01 \\x82@\\x0f\\x00\\x01\\x80f@\\x03\\x00\\xfd\\x00\\n\\x00m\\x00\\x04\\x00\\x0f\\x00\\x06\\x00\\x00\\x00\\xbd\\x00\\x12\\x00n\\x00\\x00\\x00\\x0f\\x00\\x01\\x80\\x86@\\x0f\\x00\\x01\\x80v@\\x01\\x00~\\x02\\n\\x00n\\x00\\x03\\x00\\x0f\\x00\\x00\\x00\\x04@\\xfd\\x00\\n\\x00n\\x00\\x04\\x00\\x0f\\x00\\x06\\x00\\x00\\x00\\xbd\\x00\\x12\\x00o\\x00\\x00\\x00\\x0f\\x00\\x00\\x00\\x1a@\\x0f\\x00\\x01\\x00t@\\x01\\x00\\x03\\x02\\x0e\\x00o\\x00\\x02\\x00\\x0f\\x00ffffff\\x14@~\\x02\\n\\x00o\\x00\\x03\\x00\\x0f\\x00\\x00\\x00\\x00@\\xfd\\x00\\n\\x00o\\x00\\x04\\x00\\x0f\\x00\\x06\\x00\\x00\\x00\\xbd\\x00\\x1e\\x00p\\x00\\x00\\x00\\x0f\\x00\\x01\\x00\\x84@\\x0f\\x00\\x01\\xe0p@\\x0f\\x00\\x01\\x90\\x80@\\x0f\\x00\\x01\\xc0g@\\x03\\x00\\xfd\\x00\\n\\x00p\\x00\\x04\\x00\\x0f\\x00\\x06\\x00\\x00\\x00\\xbd\\x00\\x1e\\x00q\\x00\\x00\\x00\\x0f\\x00\\x01@\\x85@\\x0f\\x00\\x00\\x00\\x08@\\x0f\\x00\\x00\\x00\\x16@\\x0f\\x00\\x01@j@\\x03\\x00\\xfd\\x00\\n\\x00q\\x00\\x04\\x00\\x0f\\x00\\x06\\x00\\x00\\x00\\xbd\\x00\\x1e\\x00r\\x00\\x00\\x00\\x0f\\x00\\x01\\xd0\\x81@\\x0f\\x00\\x00\\x00\\x04@\\x0f\\x00\\x00\\x00\\x14@\\x0f\\x00\\x00\\x00\\x00@\\x03\\x00\\xfd\\x00\\n\\x00r\\x00\\x04\\x00\\x0f\\x00\\x06\\x00\\x00\\x00\\xbd\\x00\\x12\\x00s\\x00\\x00\\x00\\x0f\\x00\\x01 \\x82@\\x0f\\x00\\x01\\x80q@\\x01\\x00\\x03\\x02\\x0e\\x00s\\x00\\x02\\x00\\x0f\\x00ffffff\\x14@~\\x02\\n\\x00s\\x00\\x03\\x00\\x0f\\x00\\x01\\x00n@\\xfd\\x00\\n\\x00s\\x00\\x04\\x00\\x0f\\x00\\x06\\x00\\x00\\x00\\xbd\\x00\\x18\\x00t\\x00\\x00\\x00\\x0f\\x00\\x01\\x00\\x84@\\x0f\\x00\\x01\\x00t@\\x0f\\x00\\x01\\x90\\x80@\\x02\\x00\\x03\\x02\\x0e\\x00t\\x00\\x03\\x00\\x0f\\x00ffffff\\x02@\\xfd\\x00\\n\\x00t\\x00\\x04\\x00\\x0f\\x00\\x06\\x00\\x00\\x00\\xbd\\x00\\x1e\\x00u\\x00\\x00\\x00\\x0f\\x00\\x00\\x00\\x1a@\\x0f\\x00\\x00\\x00\\x08@\\x0f\\x00\\x00\\x00\\x16@\\x0f\\x00\\x01\\x80f@\\x03\\x00\\xfd\\x00\\n\\x00u\\x00\\x04\\x00\\x0f\\x00\\x06\\x00\\x00\\x00\\xbd\\x00\\x18\\x00v\\x00\\x00\\x00\\x0f\\x00\\x01\\x10\\x88@\\x0f\\x00\\x01\\xc0w@\\x0f\\x00\\x01\\xf0\\x84@\\x02\\x00\\x03\\x02\\x0e\\x00v\\x00\\x03\\x00\\x0f\\x00\\x9a\\x99\\x99\\x99\\x99\\x99\\x01@\\xfd\\x00\\n\\x00v\\x00\\x04\\x00\\x0f\\x00\\x06\\x00\\x00\\x00\\xbd\\x00\\x18\\x00w\\x00\\x00\\x00\\x0f\\x00\\x01\\x10\\x88@\\x0f\\x00\\x01@p@\\x0f\\x00\\x01\\x90\\x85@\\x02\\x00\\x03\\x02\\x0e\\x00w\\x00\\x03\\x00\\x0f\\x00ffffff\\x02@\\xfd\\x00\\n\\x00w\\x00\\x04\\x00\\x0f\\x00\\x06\\x00\\x00\\x00~\\x02\\n\\x00x\\x00\\x00\\x00\\x0f\\x00\\x00\\x00\\x18@\\x03\\x02\\x0e\\x00x\\x00\\x01\\x00\\x0f\\x00\\x9a\\x99\\x99\\x99\\x99\\x99\\x01@\\xbd\\x00\\x12\\x00x\\x00\\x02\\x00\\x0f\\x00\\x00\\x00\\x14@\\x0f\\x00\\x00\\x00\\xf8?\\x03\\x00\\xfd\\x00\\n\\x00x\\x00\\x04\\x00\\x0f\\x00\\x06\\x00\\x00\\x00\\xbd\\x00\\x18\\x00y\\x00\\x00\\x00\\x0f\\x00\\x01\\x90\\x85@\\x0f\\x00\\x01\\x00t@\\x0f\\x00\\x01\\xd0\\x81@\\x02\\x00\\x03\\x02\\x0e\\x00y\\x00\\x03\\x00\\x0f\\x00ffffff\\x02@\\xfd\\x00\\n\\x00y\\x00\\x04\\x00\\x0f\\x00\\x06\\x00\\x00\\x00\\xbd\\x00\\x12\\x00z\\x00\\x00\\x00\\x0f\\x00\\x01\\x80\\x81@\\x0f\\x00\\x01\\x80q@\\x01\\x00\\x03\\x02\\x0e\\x00z\\x00\\x02\\x00\\x0f\\x00\\x9a\\x99\\x99\\x99\\x99\\x99\\x13@~\\x02\\n\\x00z\\x00\\x03\\x00\\x0f\\x00\\x00\\x00\\x00@\\xfd\\x00\\n\\x00z\\x00\\x04\\x00\\x0f\\x00\\x06\\x00\\x00\\x00\\xbd\\x00\\x1e\\x00{\\x00\\x00\\x00\\x0f\\x00\\x01\\x10\\x88@\\x0f\\x00\\x01\\x80q@\\x0f\\x00\\x01\\xf0\\x84@\\x0f\\x00\\x00\\x00\\x00@\\x03\\x00\\xfd\\x00\\n\\x00{\\x00\\x04\\x00\\x0f\\x00\\x06\\x00\\x00\\x00\\xbd\\x00\\x12\\x00|\\x00\\x00\\x00\\x0f\\x00\\x01\\xb0\\x83@\\x0f\\x00\\x01\\xe0p@\\x01\\x00\\x03\\x02\\x0e\\x00|\\x00\\x02\\x00\\x0f\\x00\\x9a\\x99\\x99\\x99\\x99\\x99\\x13@~\\x02\\n\\x00|\\x00\\x03\\x00\\x0f\\x00\\x01\\x80f@\\xfd\\x00\\n\\x00|\\x00\\x04\\x00\\x0f\\x00\\x06\\x00\\x00\\x00~\\x02\\n\\x00}\\x00\\x00\\x00\\x0f\\x00\\x01\\xf0\\x84@\\xbd\\x00\\x12\\x00}\\x00\\x02\\x00\\x0f\\x00\\x01\\xd0\\x81@\\x0f\\x00\\x01@j@\\x03\\x00\\xfd\\x00\\n\\x00}\\x00\\x04\\x00\\x0f\\x00\\x06\\x00\\x00\\x00\\xbd\\x00\\x1e\\x00~\\x00\\x00\\x00\\x0f\\x00\\x01\\x80\\x86@\\x0f\\x00\\x01\\x00t@\\x0f\\x00\\x00\\x00\\x18@\\x0f\\x00\\x01\\x80f@\\x03\\x00\\xfd\\x00\\n\\x00~\\x00\\x04\\x00\\x0f\\x00\\x06\\x00\\x00\\x00\\xbd\\x00\\x1e\\x00\\x7f\\x00\\x00\\x00\\x0f\\x00\\x01`\\x83@\\x0f\\x00\\x01\\x80q@\\x0f\\x00\\x01\\x00~@\\x0f\\x00\\x01\\x80f@\\x03\\x00\\xfd\\x00\\n\\x00\\x7f\\x00\\x04\\x00\\x0f\\x00\\x06\\x00\\x00\\x00\\xd7\\x00D\\x00V\\t\\x00\\x00l\\x020\\x000\\x000\\x00@\\x00D\\x000\\x00D\\x000\\x000\\x00<\\x000\\x00*\\x000\\x000\\x002\\x00D\\x000\\x000\\x000\\x00D\\x00<\\x000\\x00<\\x00<\\x00D\\x00<\\x00D\\x000\\x00D\\x002\\x000\\x00\\x08\\x02\\x10\\x00\\x80\\x00\\x00\\x00\\x05\\x00\\xfa\\x00\\x00\\x00\\x00\\x00\\x00\\x01\\x0f\\x00\\x08\\x02\\x10\\x00\\x81\\x00\\x00\\x00\\x05\\x00\\xfa\\x00\\x00\\x00\\x00\\x00\\x00\\x01\\x0f\\x00\\x08\\x02\\x10\\x00\\x82\\x00\\x00\\x00\\x05\\x00\\xfa\\x00\\x00\\x00\\x00\\x00\\x00\\x01\\x0f\\x00\\x08\\x02\\x10\\x00\\x83\\x00\\x00\\x00\\x05\\x00\\xfa\\x00\\x00\\x00\\x00\\x00\\x00\\x01\\x0f\\x00\\x08\\x02\\x10\\x00\\x84\\x00\\x00\\x00\\x05\\x00\\xfa\\x00\\x00\\x00\\x00\\x00\\x00\\x01\\x0f\\x00\\x08\\x02\\x10\\x00\\x85\\x00\\x00\\x00\\x05\\x00\\xfa\\x00\\x00\\x00\\x00\\x00\\x00\\x01\\x0f\\x00\\x08\\x02\\x10\\x00\\x86\\x00\\x00\\x00\\x05\\x00\\xfa\\x00\\x00\\x00\\x00\\x00\\x00\\x01\\x0f\\x00\\x08\\x02\\x10\\x00\\x87\\x00\\x00\\x00\\x05\\x00\\xfa\\x00\\x00\\x00\\x00\\x00\\x00\\x01\\x0f\\x00\\x08\\x02\\x10\\x00\\x88\\x00\\x00\\x00\\x05\\x00\\xfa\\x00\\x00\\x00\\x00\\x00\\x00\\x01\\x0f\\x00\\x08\\x02\\x10\\x00\\x89\\x00\\x00\\x00\\x05\\x00\\xfa\\x00\\x00\\x00\\x00\\x00\\x00\\x01\\x0f\\x00\\x08\\x02\\x10\\x00\\x8a\\x00\\x00\\x00\\x05\\x00\\xfa\\x00\\x00\\x00\\x00\\x00\\x00\\x01\\x0f\\x00\\x08\\x02\\x10\\x00\\x8b\\x00\\x00\\x00\\x05\\x00\\xfa\\x00\\x00\\x00\\x00\\x00\\x00\\x01\\x0f\\x00\\x08\\x02\\x10\\x00\\x8c\\x00\\x00\\x00\\x05\\x00\\xfa\\x00\\x00\\x00\\x00\\x00\\x00\\x01\\x0f\\x00\\x08\\x02\\x10\\x00\\x8d\\x00\\x00\\x00\\x05\\x00\\xfa\\x00\\x00\\x00\\x00\\x00\\x00\\x01\\x0f\\x00\\x08\\x02\\x10\\x00\\x8e\\x00\\x00\\x00\\x05\\x00\\xfa\\x00\\x00\\x00\\x00\\x00\\x00\\x01\\x0f\\x00\\x08\\x02\\x10\\x00\\x8f\\x00\\x00\\x00\\x05\\x00\\xfa\\x00\\x00\\x00\\x00\\x00\\x00\\x01\\x0f\\x00\\x08\\x02\\x10\\x00\\x90\\x00\\x00\\x00\\x05\\x00\\xfa\\x00\\x00\\x00\\x00\\x00\\x00\\x01\\x0f\\x00\\x08\\x02\\x10\\x00\\x91\\x00\\x00\\x00\\x05\\x00\\xfa\\x00\\x00\\x00\\x00\\x00\\x00\\x01\\x0f\\x00\\x08\\x02\\x10\\x00\\x92\\x00\\x00\\x00\\x05\\x00\\xfa\\x00\\x00\\x00\\x00\\x00\\x00\\x01\\x0f\\x00\\x08\\x02\\x10\\x00\\x93\\x00\\x00\\x00\\x05\\x00\\xfa\\x00\\x00\\x00\\x00\\x00\\x00\\x01\\x0f\\x00\\x08\\x02\\x10\\x00\\x94\\x00\\x00\\x00\\x05\\x00\\xfa\\x00\\x00\\x00\\x00\\x00\\x00\\x01\\x0f\\x00\\x08\\x02\\x10\\x00\\x95\\x00\\x00\\x00\\x05\\x00\\xfa\\x00\\x00\\x00\\x00\\x00\\x00\\x01\\x0f\\x00\\x08\\x02\\x10\\x00\\x96\\x00\\x00\\x00\\x05\\x00\\xfa\\x00\\x00\\x00\\x00\\x00\\x00\\x01\\x0f\\x00\\xbd\\x00\\x12\\x00\\x80\\x00\\x00\\x00\\x0f\\x00\\x01\\x10\\x83@\\x0f\\x00\\x00\\x00\\x08@\\x01\\x00\\x03\\x02\\x0e\\x00\\x80\\x00\\x02\\x00\\x0f\\x00\\x9a\\x99\\x99\\x99\\x99\\x99\\x13@~\\x02\\n\\x00\\x80\\x00\\x03\\x00\\x0f\\x00\\x01\\x80f@\\xfd\\x00\\n\\x00\\x80\\x00\\x04\\x00\\x0f\\x00\\x06\\x00\\x00\\x00\\xbd\\x00\\x1e\\x00\\x81\\x00\\x00\\x00\\x0f\\x00\\x01\\x00\\x84@\\x0f\\x00\\x01\\x80q@\\x0f\\x00\\x01\\x80\\x81@\\x0f\\x00\\x01@j@\\x03\\x00\\xfd\\x00\\n\\x00\\x81\\x00\\x04\\x00\\x0f\\x00\\x06\\x00\\x00\\x00\\xbd\\x00\\x1e\\x00\\x82\\x00\\x00\\x00\\x0f\\x00\\x01\\x80\\x86@\\x0f\\x00\\x00\\x00\\x08@\\x0f\\x00\\x01 \\x82@\\x0f\\x00\\x01\\x00d@\\x03\\x00\\xfd\\x00\\n\\x00\\x82\\x00\\x04\\x00\\x0f\\x00\\x06\\x00\\x00\\x00\\xbd\\x00\\x1e\\x00\\x83\\x00\\x00\\x00\\x0f\\x00\\x01 \\x87@\\x0f\\x00\\x01\\x80q@\\x0f\\x00\\x01\\x10\\x83@\\x0f\\x00\\x01\\xc0g@\\x03\\x00\\xfd\\x00\\n\\x00\\x83\\x00\\x04\\x00\\x0f\\x00\\x06\\x00\\x00\\x00\\xbd\\x00\\x1e\\x00\\x84\\x00\\x00\\x00\\x0f\\x00\\x01\\xb0\\x88@\\x0f\\x00\\x01\\xc0w@\\x0f\\x00\\x01\\x00\\x84@\\x0f\\x00\\x00\\x00\\x00@\\x03\\x00\\xfd\\x00\\n\\x00\\x84\\x00\\x04\\x00\\x0f\\x00\\x06\\x00\\x00\\x00\\xbd\\x00\\x18\\x00\\x85\\x00\\x00\\x00\\x0f\\x00\\x01\\x00\\x84@\\x0f\\x00\\x01\\x80q@\\x0f\\x00\\x01\\x80\\x81@\\x02\\x00\\x03\\x02\\x0e\\x00\\x85\\x00\\x03\\x00\\x0f\\x00\\x9a\\x99\\x99\\x99\\x99\\x99\\x01@\\xfd\\x00\\n\\x00\\x85\\x00\\x04\\x00\\x0f\\x00\\x06\\x00\\x00\\x00\\xbd\\x00\\x12\\x00\\x86\\x00\\x00\\x00\\x0f\\x00\\x01\\xb0\\x83@\\x0f\\x00\\x01\\x80q@\\x01\\x00\\x03\\x02\\x0e\\x00\\x86\\x00\\x02\\x00\\x0f\\x00ffffff\\x14@~\\x02\\n\\x00\\x86\\x00\\x03\\x00\\x0f\\x00\\x00\\x00\\xf8?\\xfd\\x00\\n\\x00\\x86\\x00\\x04\\x00\\x0f\\x00\\x06\\x00\\x00\\x00\\xbd\\x00\\x1e\\x00\\x87\\x00\\x00\\x00\\x0f\\x00\\x01\\x10\\x83@\\x0f\\x00\\x01@p@\\x0f\\x00\\x01\\x80\\x81@\\x0f\\x00\\x01\\x80a@\\x03\\x00\\xfd\\x00\\n\\x00\\x87\\x00\\x04\\x00\\x0f\\x00\\x06\\x00\\x00\\x00\\xbd\\x00\\x18\\x00\\x88\\x00\\x00\\x00\\x0f\\x00\\x01\\x10\\x88@\\x0f\\x00\\x00\\x00\\x08@\\x0f\\x00\\x01\\x10\\x83@\\x02\\x00\\x03\\x02\\x0e\\x00\\x88\\x00\\x03\\x00\\x0f\\x00ffffff\\x02@\\xfd\\x00\\n\\x00\\x88\\x00\\x04\\x00\\x0f\\x00\\x06\\x00\\x00\\x00\\xbd\\x00\\x1e\\x00\\x89\\x00\\x00\\x00\\x0f\\x00\\x01\\xb0\\x83@\\x0f\\x00\\x01@u@\\x0f\\x00\\x01\\x80\\x81@\\x0f\\x00\\x01\\x00n@\\x03\\x00\\xfd\\x00\\n\\x00\\x89\\x00\\x04\\x00\\x0f\\x00\\x06\\x00\\x00\\x00\\xbd\\x00\\x1e\\x00\\x8a\\x00\\x00\\x00\\x0f\\x00\\x01\\x00\\x84@\\x0f\\x00\\x01`s@\\x0f\\x00\\x00\\x00\\x16@\\x0f\\x00\\x01\\x80f@\\x03\\x00\\xfd\\x00\\n\\x00\\x8a\\x00\\x04\\x00\\x0f\\x00\\x06\\x00\\x00\\x00\\xbd\\x00\\x1e\\x00\\x8b\\x00\\x00\\x00\\x0f\\x00\\x00\\x00\\x18@\\x0f\\x00\\x00\\x00\\x08@\\x0f\\x00\\x01\\x00~@\\x0f\\x00\\x01\\x80f@\\x03\\x00\\xfd\\x00\\n\\x00\\x8b\\x00\\x04\\x00\\x0f\\x00\\x06\\x00\\x00\\x00\\xbd\\x00\\x1e\\x00\\x8c\\x00\\x00\\x00\\x0f\\x00\\x01\\x90\\x85@\\x0f\\x00\\x01`s@\\x0f\\x00\\x01\\xe0\\x80@\\x0f\\x00\\x01@j@\\x03\\x00\\xfd\\x00\\n\\x00\\x8c\\x00\\x04\\x00\\x0f\\x00\\x06\\x00\\x00\\x00\\xbd\\x00\\x1e\\x00\\x8d\\x00\\x00\\x00\\x0f\\x00\\x01\\xf0\\x84@\\x0f\\x00\\x01`s@\\x0f\\x00\\x01\\x80\\x81@\\x0f\\x00\\x01\\x00n@\\x03\\x00\\xfd\\x00\\n\\x00\\x8d\\x00\\x04\\x00\\x0f\\x00\\x06\\x00\\x00\\x00~\\x02\\n\\x00\\x8e\\x00\\x01\\x00\\x0f\\x00\\x01`s@\\x03\\x02\\x0e\\x00\\x8e\\x00\\x02\\x00\\x0f\\x00ffffff\\x14@\\x03\\x02\\x0e\\x00\\x8e\\x00\\x03\\x00\\x0f\\x00ffffff\\x02@\\xfd\\x00\\n\\x00\\x8e\\x00\\x04\\x00\\x0f\\x00\\x06\\x00\\x00\\x00\\xbd\\x00\\x12\\x00\\x8f\\x00\\x00\\x00\\x0f\\x00\\x01 \\x82@\\x0f\\x00\\x01\\xe0p@\\x01\\x00\\x03\\x02\\x0e\\x00\\x8f\\x00\\x02\\x00\\x0f\\x00ffffff\\x14@~\\x02\\n\\x00\\x8f\\x00\\x03\\x00\\x0f\\x00\\x01\\xc0g@\\xfd\\x00\\n\\x00\\x8f\\x00\\x04\\x00\\x0f\\x00\\x06\\x00\\x00\\x00\\xbd\\x00\\x18\\x00\\x90\\x00\\x00\\x00\\x0f\\x00\\x01@\\x85@\\x0f\\x00\\x01\\x00t@\\x0f\\x00\\x01p\\x82@\\x02\\x00\\x03\\x02\\x0e\\x00\\x90\\x00\\x03\\x00\\x0f\\x00ffffff\\x02@\\xfd\\x00\\n\\x00\\x90\\x00\\x04\\x00\\x0f\\x00\\x06\\x00\\x00\\x00\\xbd\\x00\\x1e\\x00\\x91\\x00\\x00\\x00\\x0f\\x00\\x01\\xf0\\x84@\\x0f\\x00\\x01\\xa0t@\\x0f\\x00\\x01\\xd0\\x81@\\x0f\\x00\\x00\\x00\\x04@\\x03\\x00\\xfd\\x00\\n\\x00\\x91\\x00\\x04\\x00\\x0f\\x00\\x06\\x00\\x00\\x00\\xbd\\x00\\x18\\x00\\x92\\x00\\x00\\x00\\x0f\\x00\\x01\\xf0\\x84@\\x0f\\x00\\x00\\x00\\x08@\\x0f\\x00\\x01@\\x80@\\x02\\x00\\x03\\x02\\x0e\\x00\\x92\\x00\\x03\\x00\\x0f\\x00ffffff\\x02@\\xfd\\x00\\n\\x00\\x92\\x00\\x04\\x00\\x0f\\x00\\x06\\x00\\x00\\x00\\xbd\\x00\\x1e\\x00\\x93\\x00\\x00\\x00\\x0f\\x00\\x01\\xb0\\x83@\\x0f\\x00\\x00\\x00\\x04@\\x0f\\x00\\x00\\x00\\x14@\\x0f\\x00\\x01\\xc0g@\\x03\\x00\\xfd\\x00\\n\\x00\\x93\\x00\\x04\\x00\\x0f\\x00\\x06\\x00\\x00\\x00\\xbd\\x00\\x12\\x00\\x94\\x00\\x00\\x00\\x0f\\x00\\x00\\x00\\x1a@\\x0f\\x00\\x00\\x00\\x08@\\x01\\x00~\\x02\\n\\x00\\x94\\x00\\x03\\x00\\x0f\\x00\\x00\\x00\\x00@\\xfd\\x00\\n\\x00\\x94\\x00\\x04\\x00\\x0f\\x00\\x06\\x00\\x00\\x00\\xbd\\x00\\x18\\x00\\x95\\x00\\x00\\x00\\x0f\\x00\\x01`\\x83@\\x0f\\x00\\x01@u@\\x0f\\x00\\x01\\xe0\\x80@\\x02\\x00\\x03\\x02\\x0e\\x00\\x95\\x00\\x03\\x00\\x0f\\x00ffffff\\x02@\\xfd\\x00\\n\\x00\\x95\\x00\\x04\\x00\\x0f\\x00\\x06\\x00\\x00\\x00\\xbd\\x00\\x12\\x00\\x96\\x00\\x00\\x00\\x0f\\x00\\x01p\\x82@\\x0f\\x00\\x00\\x00\\x08@\\x01\\x00\\x03\\x02\\x0e\\x00\\x96\\x00\\x02\\x00\\x0f\\x00ffffff\\x14@~\\x02\\n\\x00\\x96\\x00\\x03\\x00\\x0f\\x00\\x01\\x80f@\\xfd\\x00\\n\\x00\\x96\\x00\\x04\\x00\\x0f\\x00\\x06\\x00\\x00\\x00\\xd7\\x002\\x00\\xba\\x06\\x00\\x00\\xb8\\x01D\\x000\\x000\\x000\\x000\\x00<\\x00D\\x000\\x00<\\x000\\x000\\x000\\x000\\x000\\x00@\\x00D\\x00<\\x000\\x00<\\x000\\x002\\x00<\\x00>\\x02\\x12\\x00\\xb6\\x06\\x00\\x00\\x00\\x00@\\x00\\x00\\x00\\x00\\x00\\x00\\x00\\x96\\x00\\x00\\x00\\x8b\\x08\\x10\\x00\\x8b\\x08\\x00\\x00\\x00\\x00\\x00\\x00\\x00\\x00\\x00\\x00\\x00\\x00\\x92\\x00\\x1d\\x00\\x0f\\x00\\x03\\x00\\x00\\x00\\x00\\x00\\x00\\x01\\x00\\x00\\x00\\x00\\x00\\x00\\x00\\xef\\x00\\x06\\x00\\x00\\x007\\x00\\x00\\x00g\\x08\\x17\\x00g\\x08\\x00\\x00\\x00\\x00\\x00\\x00\\x00\\x00\\x00\\x00\\x02\\x00\\x01\\xff\\xff\\xff\\xff\\x03D\\x00\\x00\\n\\x00\\x00\\x00\\x00\\x00\\x00\\x00\\x00\\x00\\x00\\x00\\x00\\x00\\x00\\x00\\x00\\x00\\x00\\x00\\x00\\x00\\x00\\x00\\x00\\x00\\x00\\x00\\x00\\x00\\x00\\x00\\x00\\x00\\x00\\x00\\x00\\x00\\x00\\x00\\x00\\x00\\x00\\x00\\x00\\x00\\x00\\x00\\x00\\x00\\x00\\x00\\x00\\x00\\x00\\x00\\x00\\xfe\\xff\\x00\\x00\\n\\x00\\x02\\x00\\x00\\x00\\x00\\x00\\x00\\x00\\x00\\x00\\x00\\x00\\x00\\x00\\x00\\x00\\x00\\x00\\x01\\x00\\x00\\x00\\xe0\\x85\\x9f\\xf2\\xf9Oh\\x10\\xab\\x91\\x08\\x00+\\'\\xb3\\xd90\\x00\\x00\\x00\\xb8\\x00\\x00\\x00\\x07\\x00\\x00\\x00\\x01\\x00\\x00\\x00@\\x00\\x00\\x00\\x04\\x00\\x00\\x00H\\x00\\x00\\x00\\x08\\x00\\x00\\x00d\\x00\\x00\\x00\\x12\\x00\\x00\\x00\\x80\\x00\\x00\\x00\\x0c\\x00\\x00\\x00\\x98\\x00\\x00\\x00\\r\\x00\\x00\\x00\\xa4\\x00\\x00\\x00\\x13\\x00\\x00\\x00\\xb0\\x00\\x00\\x00\\x02\\x00\\x00\\x00\\xe4\\x04\\x00\\x00\\x1e\\x00\\x00\\x00\\x14\\x00\\x00\\x00_john aleshunas_\\x00\\x00\\x00\\x00\\x1e\\x00\\x00\\x00\\x14\\x00\\x00\\x00John J Padamadan\\x00\\x00\\x00\\x00\\x1e\\x00\\x00\\x00\\x10\\x00\\x00\\x00Microsoft Excel\\x00@\\x00\\x00\\x00\\x80:\\xafKD\\x16\\xc6\\x01@\\x00\\x00\\x00\\x808yW9\\xa5\\xd7\\x01\\x03\\x00\\x00\\x00\\x00\\x00\\x00\\x00\\x00\\x00\\x00\\x00\\x00\\x00\\x00\\x00\\x00\\x00\\x00\\x00\\x00\\x00\\x00\\x00\\x00\\x00\\x00\\x00\\x00\\x00\\x00\\x00\\x00\\x00\\x00\\x00\\x00\\x00\\x00\\x00\\x00\\x00\\x00\\x00\\x00\\x00\\x00\\x00\\x00\\x00\\x00\\x00\\x00\\x00\\x00\\x00\\x00\\x00\\x00\\x00\\x00\\x00\\x00\\x00\\x00\\x00\\x00\\x00\\x00\\x00\\x00\\x00\\x00\\x00\\x00\\x00\\x00\\x00\\x00\\x00\\x00\\x00\\x00\\x00\\x00\\x00\\x00\\x00\\x00\\x00\\x00\\x00\\x00\\x00\\x00\\x00\\x00\\x00\\x00\\x00\\x00\\x00\\x00\\x00\\x00\\x00\\x00\\x00\\x00\\x00\\x00\\x00\\x00\\x00\\x00\\x00\\x00\\x00\\x00\\x00\\x00\\x00\\x00\\x00\\x00\\x00\\x00\\x00\\x00\\x00\\x00\\x00\\x00\\x00\\x00\\x00\\x00\\x00\\x00\\x00\\x00\\x00\\x00\\x00\\x00\\x00\\x00\\x00\\x00\\x00\\x00\\x00\\x00\\x00\\x00\\x00\\x00\\x00\\x00\\x00\\x00\\x00\\x00\\x00\\x00\\x00\\x00\\x00\\x00\\x00\\x00\\x00\\x00\\x00\\x00\\x00\\x00\\x00\\x00\\x00\\x00\\x00\\x00\\x00\\x00\\x00\\x00\\x00\\x00\\x00\\x00\\x00\\x00\\x00\\x00\\x00\\x00\\x00\\x00\\x00\\x00\\x00\\x00\\x00\\x00\\x00\\x00\\x00\\x00\\x00\\x00\\x00\\x00\\x00\\x00\\x00\\x00\\x00\\x00\\x00\\x00\\x00\\x00\\x00\\x00\\x00\\x00\\x00\\x00\\x00\\x00\\x00\\x00\\x00\\x00\\x00\\x00\\x00\\x00\\x00\\x00\\x00\\x00\\x00\\x00\\x00\\x00\\x00\\x00\\x00\\x00\\x00\\x00\\x00\\x00\\x00\\x00\\x00\\x00\\x00\\x00\\x00\\x00\\x00\\x00\\x00\\x00\\x00\\x00\\x00\\x00\\x00\\x00\\x00\\x00\\x00\\x00\\x00\\x00\\x00\\x00\\x00\\x00\\x00\\x00\\x00\\x00\\x00\\x00\\x00\\x00\\x00\\x00\\x00\\x00\\x00\\x00\\x00\\x00\\x00\\x00\\x00\\x00\\x00\\x00\\x00\\x00\\x00\\x00\\x00\\x00\\x00\\x00\\x00\\x00\\x00\\x00\\x00\\x00\\x00\\x00\\x00\\x00\\x00\\x00\\x00\\x00\\x00\\x00\\x00\\x00\\x00\\x00\\x00\\x00\\x00\\x00\\x00\\x00\\x00\\x00\\x00\\x00\\x00\\x00\\x00\\x00\\x00\\x00\\x00\\x00\\x00\\x00\\x00\\x00\\x00\\x00\\x00\\x00\\x00\\x00\\x00\\x00\\x00\\x00\\x00\\x00\\x00\\x00\\x00\\x00\\x00\\x00\\x00\\x00\\x00\\x00\\x00\\x00\\x00\\x00\\x00\\x00\\x00\\x00\\x00\\x00\\x00\\x00\\x00\\x00\\x00\\x00\\x00\\x00\\x00\\x00\\x00\\x00\\x00\\x00\\x00\\x00\\x00\\x00\\x00\\x00\\x00\\x00\\x00\\x00\\x00\\x00\\x00\\x00\\x00\\x00\\x00\\x00\\x00\\x00\\x00\\x00\\x00\\x00\\x00\\x00\\x00\\x00\\x00\\x00\\x00\\x00\\x00\\x00\\x00\\x00\\x00\\x00\\x00\\x00\\x00\\x00\\x00\\x00\\x00\\x00\\x00\\x00\\x00\\x00\\x00\\x00\\x00\\x00\\x00\\x00\\x00\\x00\\x00\\x00\\x00\\x00\\x00\\x00\\x00\\x00\\x00\\x00\\x00\\x00\\x00\\x00\\x00\\x00\\x00\\x00\\x00\\x00\\x00\\x00\\x00\\x00\\x00\\x00\\x00\\x00\\x00\\x00\\x00\\x00\\x00\\x00\\x00\\x00\\x00\\x00\\x00\\x00\\x00\\x00\\x00\\x00\\x00\\x00\\x00\\x00\\x00\\x00\\x00\\x00\\x00\\x00\\x00\\x00\\x00\\x00\\x00\\x00\\x00\\x00\\x00\\x00\\x00\\x00\\x00\\x00\\x00\\x00\\x00\\x00\\x00\\x00\\x00\\x00\\x00\\x00\\x00\\x00\\x00\\x00\\x00\\x00\\x00\\x00\\x00\\x00\\x00\\x00\\x00\\x00\\x00\\x00\\x00\\x00\\x00\\x00\\x00\\x00\\x00\\x00\\x00\\x00\\x00\\x00\\x00\\x00\\x00\\x00\\x00\\x00\\x00\\x00\\x00\\x00\\x00\\x00\\x00\\x00\\x00\\x00\\x00\\x00\\x00\\x00\\x00\\x00\\x00\\x00\\x00\\x00\\x00\\x00\\x00\\x00\\x00\\x00\\x00\\x00\\x00\\x00\\x00\\x00\\x00\\x00\\x00\\x00\\x00\\x00\\x00\\x00\\x00\\x00\\x00\\x00\\x00\\x00\\x00\\x00\\x00\\x00\\x00\\x00\\x00\\x00\\x00\\x00\\x00\\x00\\x00\\x00\\x00\\x00\\x00\\x00\\x00\\x00\\x00\\x00\\x00\\x00\\x00\\x00\\x00\\x00\\x00\\x00\\x00\\x00\\x00\\x00\\x00\\x00\\x00\\x00\\x00\\x00\\x00\\x00\\x00\\x00\\x00\\x00\\x00\\x00\\x00\\x00\\x00\\x00\\x00\\x00\\x00\\x00\\x00\\x00\\x00\\x00\\x00\\x00\\x00\\x00\\x00\\x00\\x00\\x00\\x00\\x00\\x00\\x00\\x00\\x00\\x00\\x00\\x00\\x00\\x00\\x00\\x00\\x00\\x00\\x00\\x00\\x00\\x00\\x00\\x00\\x00\\x00\\x00\\x00\\x00\\x00\\x00\\x00\\x00\\x00\\x00\\x00\\x00\\x00\\x00\\x00\\x00\\x00\\x00\\x00\\x00\\x00\\x00\\x00\\x00\\x00\\x00\\x00\\x00\\x00\\x00\\x00\\x00\\x00\\x00\\x00\\x00\\x00\\x00\\x00\\x00\\x00\\x00\\x00\\x00\\x00\\x00\\x00\\x00\\x00\\x00\\x00\\x00\\x00\\x00\\x00\\x00\\x00\\x00\\x00\\x00\\x00\\x00\\x00\\x00\\x00\\x00\\x00\\x00\\x00\\x00\\x00\\x00\\x00\\x00\\x00\\x00\\x00\\x00\\x00\\x00\\x00\\x00\\x00\\x00\\x00\\x00\\x00\\x00\\x00\\x00\\x00\\x00\\x00\\x00\\x00\\x00\\x00\\x00\\x00\\x00\\x00\\x00\\x00\\x00\\x00\\x00\\x00\\x00\\x00\\x00\\x00\\x00\\x00\\x00\\x00\\x00\\x00\\x00\\x00\\x00\\x00\\x00\\x00\\x00\\x00\\x00\\x00\\x00\\x00\\x00\\x00\\x00\\x00\\x00\\x00\\x00\\x00\\x00\\x00\\x00\\x00\\x00\\x00\\x00\\x00\\x00\\x00\\x00\\x00\\x00\\x00\\x00\\x00\\x00\\x00\\x00\\x00\\x00\\x00\\x00\\x00\\x00\\x00\\x00\\x00\\x00\\x00\\x00\\x00\\x00\\x00\\x00\\x00\\x00\\x00\\x00\\x00\\x00\\x00\\x00\\x00\\x00\\x00\\x00\\x00\\x00\\x00\\x00\\x00\\x00\\x00\\x00\\x00\\x00\\x00\\x00\\x00\\x00\\x00\\x00\\x00\\x00\\x00\\x00\\x00\\x00\\x00\\x00\\x00\\x00\\x00\\x00\\x00\\x00\\x00\\x00\\x00\\x00\\x00\\x00\\x00\\x00\\x00\\x00\\x00\\x00\\x00\\x00\\x00\\x00\\x00\\x00\\x00\\x00\\x00\\x00\\x00\\x00\\x00\\x00\\x00\\x00\\x00\\x00\\x00\\x00\\x00\\x00\\x00\\x00\\x00\\x00\\x00\\x00\\x00\\x00\\x00\\x00\\x00\\x00\\x00\\x00\\x00\\x00\\x00\\x00\\x00\\x00\\x00\\x00\\x00\\x00\\x00\\x00\\x00\\x00\\x00\\x00\\x00\\x00\\x00\\x00\\x00\\x00\\x00\\x00\\x00\\x00\\x00\\x00\\x00\\x00\\x00\\x00\\x00\\x00\\x00\\x00\\x00\\x00\\x00\\x00\\x00\\x00\\x00\\x00\\x00\\x00\\x00\\x00\\x00\\x00\\x00\\x00\\x00\\x00\\x00\\x00\\x00\\x00\\x00\\x00\\x00\\x00\\x00\\x00\\x00\\x00\\x00\\x00\\x00\\x00\\x00\\x00\\x00\\x00\\x00\\x00\\x00\\x00\\x00\\x00\\x00\\x00\\x00\\x00\\x00\\x00\\x00\\x00\\x00\\x00\\x00\\x00\\x00\\x00\\x00\\x00\\x00\\x00\\x00\\x00\\x00\\x00\\x00\\x00\\x00\\x00\\x00\\x00\\x00\\x00\\x00\\x00\\x00\\x00\\x00\\x00\\x00\\x00\\x00\\x00\\x00\\x00\\x00\\x00\\x00\\x00\\x00\\x00\\x00\\x00\\x00\\x00\\x00\\x00\\x00\\x00\\x00\\x00\\x00\\x00\\x00\\x00\\x00\\x00\\x00\\x00\\x00\\x00\\x00\\x00\\x00\\x00\\x00\\x00\\x00\\x00\\x00\\x00\\x00\\x00\\x00\\x00\\x00\\x00\\x00\\x00\\x00\\x00\\x00\\x00\\x00\\x00\\x00\\x00\\x00\\x00\\x00\\x00\\x00\\x00\\x00\\x00\\x00\\x00\\x00\\x00\\x00\\x00\\x00\\x00\\x00\\x00\\x00\\x00\\x00\\x00\\x00\\x00\\x00\\x00\\x00\\x00\\x00\\x00\\x00\\x00\\x00\\x00\\x00\\x00\\x00\\x00\\x00\\x00\\x00\\x00\\x00\\x00\\x00\\x00\\x00\\x00\\x00\\x00\\x00\\x00\\x00\\x00\\x00\\x00\\x00\\x00\\x00\\x00\\x00\\x00\\x00\\x00\\x00\\x00\\x00\\x00\\x00\\x00\\x00\\x00\\x00\\x00\\x00\\x00\\x00\\x00\\x00\\x00\\x00\\x00\\x00\\x00\\x00\\x00\\x00\\x00\\x00\\x00\\x00\\x00\\x00\\x00\\x00\\x00\\x00\\x00\\x00\\x00\\x00\\x00\\x00\\x00\\x00\\x00\\x00\\x00\\x00\\x00\\x00\\x00\\x00\\x00\\x00\\x00\\x00\\x00\\x00\\x00\\x00\\x00\\x00\\x00\\x00\\x00\\x00\\x00\\x00\\x00\\x00\\x00\\x00\\x00\\x00\\x00\\x00\\x00\\x00\\x00\\x00\\x00\\x00\\x00\\x00\\x00\\x00\\x00\\x00\\x00\\x00\\x00\\x00\\x00\\x00\\x00\\x00\\x00\\x00\\x00\\x00\\x00\\x00\\x00\\x00\\x00\\x00\\x00\\x00\\x00\\x00\\x00\\x00\\x00\\x00\\x00\\x00\\x00\\x00\\x00\\x00\\x00\\x00\\x00\\x00\\x00\\x00\\x00\\x00\\x00\\x00\\x00\\x00\\x00\\x00\\x00\\x00\\x00\\x00\\x00\\x00\\x00\\x00\\x00\\x00\\x00\\x00\\x00\\x00\\x00\\x00\\x00\\x00\\x00\\x00\\x00\\x00\\x00\\x00\\x00\\x00\\x00\\x00\\x00\\x00\\x00\\x00\\x00\\x00\\x00\\x00\\x00\\x00\\x00\\x00\\x00\\x00\\x00\\x00\\x00\\x00\\x00\\x00\\x00\\x00\\x00\\x00\\x00\\x00\\x00\\x00\\x00\\x00\\x00\\x00\\x00\\x00\\x00\\x00\\x00\\x00\\x00\\x00\\x00\\x00\\x00\\x00\\x00\\x00\\x00\\x00\\x00\\x00\\x00\\x00\\x00\\x00\\x00\\x00\\x00\\x00\\x00\\x00\\x00\\x00\\x00\\x00\\x00\\x00\\x00\\x00\\x00\\x00\\x00\\x00\\x00\\x00\\x00\\x00\\x00\\x00\\x00\\x00\\x00\\x00\\x00\\x00\\x00\\x00\\x00\\x00\\x00\\x00\\x00\\x00\\x00\\x00\\x00\\x00\\x00\\x00\\x00\\x00\\x00\\x00\\x00\\x00\\x00\\x00\\x00\\x00\\x00\\x00\\x00\\x00\\x00\\x00\\x00\\x00\\x00\\x00\\x00\\x00\\x00\\x00\\x00\\x00\\x00\\x00\\x00\\x00\\x00\\x00\\x00\\x00\\x00\\x00\\x00\\x00\\x00\\x00\\x00\\x00\\x00\\x00\\x00\\x00\\x00\\x00\\x00\\x00\\x00\\x00\\x00\\x00\\x00\\x00\\x00\\x00\\x00\\x00\\x00\\x00\\x00\\x00\\x00\\x00\\x00\\x00\\x00\\x00\\x00\\x00\\x00\\x00\\x00\\x00\\x00\\x00\\x00\\x00\\x00\\x00\\x00\\x00\\x00\\x00\\x00\\x00\\x00\\x00\\x00\\x00\\x00\\x00\\x00\\x00\\x00\\x00\\x00\\x00\\x00\\x00\\x00\\x00\\x00\\x00\\x00\\x00\\x00\\x00\\x00\\x00\\x00\\x00\\x00\\x00\\x00\\x00\\x00\\x00\\x00\\x00\\x00\\x00\\x00\\x00\\x00\\x00\\x00\\x00\\x00\\x00\\x00\\x00\\x00\\x00\\x00\\x00\\x00\\x00\\x00\\x00\\x00\\x00\\x00\\x00\\x00\\x00\\x00\\x00\\x00\\x00\\x00\\x00\\x00\\x00\\x00\\x00\\x00\\x00\\x00\\x00\\x00\\x00\\x00\\x00\\x00\\x00\\x00\\x00\\x00\\x00\\x00\\x00\\x00\\x00\\x00\\x00\\x00\\x00\\x00\\x00\\x00\\x00\\x00\\x00\\x00\\x00\\x00\\x00\\x00\\x00\\x00\\x00\\x00\\x00\\x00\\x00\\x00\\x00\\x00\\x00\\x00\\x00\\x00\\x00\\x00\\x00\\x00\\x00\\x00\\x00\\x00\\x00\\x00\\x00\\x00\\x00\\x00\\x00\\x00\\x00\\x00\\x00\\x00\\x00\\x00\\x00\\x00\\x00\\x00\\x00\\x00\\x00\\x00\\x00\\x00\\x00\\x00\\x00\\x00\\x00\\x00\\x00\\x00\\x00\\x00\\x00\\x00\\x00\\x00\\x00\\x00\\x00\\x00\\x00\\x00\\x00\\x00\\x00\\x00\\x00\\x00\\x00\\x00\\x00\\x00\\x00\\x00\\x00\\x00\\x00\\x00\\x00\\x00\\x00\\x00\\x00\\x00\\x00\\x00\\x00\\x00\\x00\\x00\\x00\\x00\\x00\\x00\\x00\\x00\\x00\\x00\\x00\\x00\\x00\\x00\\x00\\x00\\x00\\x00\\x00\\x00\\x00\\x00\\x00\\x00\\x00\\x00\\x00\\x00\\x00\\x00\\x00\\x00\\x00\\x00\\x00\\x00\\x00\\x00\\x00\\x00\\x00\\x00\\x00\\x00\\x00\\x00\\x00\\x00\\x00\\x00\\x00\\x00\\x00\\x00\\x00\\x00\\x00\\x00\\x00\\x00\\x00\\x00\\x00\\x00\\x00\\x00\\x00\\x00\\x00\\x00\\x00\\x00\\x00\\x00\\x00\\x00\\x00\\x00\\x00\\x00\\x00\\x00\\x00\\x00\\x00\\x00\\x00\\x00\\x00\\x00\\x00\\x00\\x00\\x00\\x00\\x00\\x00\\x00\\x00\\x00\\x00\\x00\\x00\\x00\\x00\\x00\\x00\\x00\\x00\\x00\\x00\\x00\\x00\\x00\\x00\\x00\\x00\\x00\\x00\\x00\\x00\\x00\\x00\\x00\\x00\\x00\\x00\\x00\\x00\\x00\\x00\\x00\\x00\\x00\\x00\\x00\\x00\\x00\\x00\\x00\\x00\\x00\\x00\\x00\\x00\\x00\\x00\\x00\\x00\\x00\\x00\\x00\\x00\\x00\\x00\\x00\\x00\\x00\\x00\\x00\\x00\\x00\\x00\\x00\\x00\\x00\\x00\\x00\\x00\\x00\\x00\\x00\\x00\\x00\\x00\\x00\\x00\\x00\\x00\\x00\\x00\\x00\\x00\\x00\\x00\\x00\\x00\\x00\\x00\\x00\\x00\\x00\\x00\\x00\\x00\\x00\\x00\\x00\\x00\\x00\\x00\\x00\\x00\\x00\\x00\\x00\\x00\\x00\\x00\\x00\\x00\\x00\\x00\\x00\\x00\\x00\\x00\\x00\\x00\\x00\\x00\\x00\\x00\\x00\\x00\\x00\\x00\\x00\\x00\\x00\\x00\\x00\\x00\\x00\\x00\\x00\\x00\\x00\\x00\\x00\\x00\\x00\\x00\\x00\\x00\\x00\\x00\\x00\\x00\\x00\\x00\\x00\\x00\\x00\\x00\\x00\\x00\\x00\\x00\\x00\\x00\\x00\\x00\\x00\\x00\\x00\\x00\\x00\\x00\\x00\\x00\\x00\\x00\\x00\\x00\\x00\\x00\\x00\\x00\\x00\\x00\\x00\\x00\\x00\\x00\\x00\\x00\\x00\\x00\\x00\\x00\\x00\\x00\\x00\\x00\\x00\\x00\\x00\\x00\\x00\\x00\\x00\\x00\\x00\\x00\\x00\\x00\\x00\\x00\\x00\\x00\\x00\\x00\\x00\\x00\\x00\\x00\\x00\\x00\\x00\\x00\\x00\\x00\\x00\\x00\\x00\\x00\\x00\\x00\\x00\\x00\\x00\\x00\\x00\\x00\\x00\\x00\\x00\\x00\\x00\\x00\\x00\\x00\\x00\\x00\\x00\\x00\\x00\\x00\\x00\\x00\\x00\\x00\\x00\\x00\\x00\\x00\\x00\\x00\\x00\\x00\\x00\\x00\\x00\\x00\\x00\\x00\\x00\\x00\\x00\\x00\\x00\\x00\\x00\\x00\\x00\\x00\\x00\\x00\\x00\\x00\\x00\\x00\\x00\\x00\\x00\\x00\\x00\\x00\\x00\\x00\\x00\\x00\\x00\\x00\\x00\\x00\\x00\\x00\\x00\\x00\\x00\\x00\\x00\\x00\\x00\\x00\\x00\\x00\\x00\\x00\\x00\\x00\\x00\\x00\\x00\\x00\\x00\\x00\\x00\\x00\\x00\\x00\\x00\\x00\\x00\\x00\\x00\\x00\\x00\\x00\\x00\\x00\\x00\\x00\\x00\\x00\\x00\\x00\\x00\\x00\\x00\\x00\\x00\\x00\\x00\\x00\\x00\\x00\\x00\\x00\\x00\\x00\\x00\\x00\\x00\\x00\\x00\\x00\\x00\\x00\\x00\\x00\\x00\\x00\\x00\\x00\\x00\\x00\\x00\\x00\\x00\\x00\\x00\\x00\\x00\\x00\\x00\\x00\\x00\\x00\\x00\\x00\\x00\\x00\\x00\\x00\\x00\\x00\\x00\\x00\\x00\\x00\\x00\\x00\\x00\\x00\\x00\\x00\\x00\\x00\\x00\\x00\\x00\\x00\\x00\\x00\\x00\\x00\\x00\\x00\\x00\\x00\\x00\\x00\\x00\\x00\\x00\\x00\\x00\\x00\\x00\\x00\\x00\\x00\\x00\\x00\\x00\\x00\\x00\\x00\\x00\\x00\\x00\\x00\\x00\\x00\\x00\\x00\\x00\\x00\\x00\\x00\\x00\\x00\\x00\\x00\\x00\\x00\\x00\\x00\\x00\\x00\\x00\\x00\\x00\\x00\\x00\\x00\\x00\\x00\\x00\\x00\\x00\\x00\\x00\\x00\\x00\\x00\\x00\\x00\\x00\\x00\\x00\\x00\\x00\\x00\\x00\\x00\\x00\\x00\\x00\\x00\\x00\\x00\\x00\\x00\\x00\\x00\\x00\\x00\\x00\\x00\\x00\\x00\\x00\\x00\\x00\\x00\\x00\\x00\\x00\\x00\\x00\\x00\\x00\\x00\\x00\\x00\\x00\\x00\\x00\\x00\\x00\\x00\\x00\\x00\\x00\\x00\\x00\\x00\\x00\\x00\\x00\\x00\\x00\\x00\\x00\\x00\\x00\\x00\\x00\\x00\\x00\\x00\\x00\\x00\\x00\\x00\\x00\\x00\\x00\\x00\\x00\\x00\\x00\\x00\\x00\\x00\\x00\\x00\\x00\\x00\\x00\\x00\\x00\\x00\\x00\\x00\\x00\\x00\\x00\\x00\\x00\\x00\\x00\\x00\\x00\\x00\\x00\\x00\\x00\\x00\\x00\\x00\\x00\\x00\\x00\\x00\\x00\\x00\\x00\\x00\\x00\\x00\\x00\\x00\\x00\\x00\\x00\\x00\\x00\\x00\\x00\\x00\\x00\\x00\\x00\\x00\\x00\\x00\\x00\\x00\\x00\\x00\\x00\\x00\\x00\\x00\\x00\\x00\\x00\\x00\\x00\\x00\\x00\\x00\\x00\\x00\\x00\\x00\\x00\\x00\\x00\\x00\\x00\\x00\\x00\\x00\\x00\\x00\\x00\\x00\\x00\\x00\\x00\\x00\\x00\\x00\\x00\\x00\\x00\\x00\\x00\\x00\\x00\\x00\\x00\\x00\\x00\\x00\\x00\\x00\\x00\\x00\\x00\\x00\\x00\\x00\\x00\\x00\\x00\\x00\\x00\\x00\\x00\\x00\\x00\\x00\\x00\\x00\\x00\\x00\\x00\\x00\\x00\\x00\\x00\\x00\\x00\\x00\\x00\\x00\\x00\\x00\\x00\\x00\\x00\\x00\\x00\\x00\\x00\\x00\\x00\\x00\\x00\\x00\\x00\\x00\\x00\\x00\\x00\\x00\\x00\\x00\\x00\\x00\\x00\\x00\\x00\\x00\\x00\\x00\\x00\\x00\\x00\\x00\\x00\\x00\\x00\\x00\\x00\\x00\\x00\\x00\\x00\\x00\\x00\\x00\\x00\\x00\\x00\\x00\\x00\\x00\\x00\\x00\\x00\\x00\\x00\\x00\\x00\\x00\\x00\\x00\\x00\\x00\\x00\\x00\\x00\\x00\\x00\\x00\\x00\\x00\\x00\\x00\\x00\\x00\\x00\\x00\\x00\\x00\\x00\\x00\\x00\\x00\\x00\\x00\\x00\\x00\\x00\\x00\\x00\\x00\\x00\\x00\\x00\\x00\\x00\\x00\\x00\\x00\\x00\\x00\\x00\\x00\\x00\\x00\\x00\\x00\\x00\\x00\\x00\\x00\\x00\\x00\\x00\\x00\\x00\\x00\\x00\\x00\\x00\\x00\\x00\\x00\\x00\\x00\\x00\\x00\\x00\\x00\\x00\\x00\\x00\\x00\\x00\\x00\\x00\\x00\\x00\\x00\\x00\\x00\\x00\\x00\\x00\\x00\\x00\\x00\\x00\\x00\\x00\\x00\\x00\\x00\\x00\\x00\\x00\\x00\\x00\\x00\\x00\\x00\\x00\\x00\\x00\\x00\\x00\\x00\\x00\\x00\\x00\\x00\\x00\\x00\\x00\\x00\\x00\\x00\\x00\\x00\\x00\\x00\\x00\\x00\\x00\\x00\\x00\\x00\\x00\\x00\\x00\\x00\\x00\\x00\\x00\\x00\\x00\\x00\\x00\\x00\\x00\\x00\\x00\\x00\\x00\\x00\\x00\\x00\\x00\\x00\\x00\\x00\\x00\\x00\\x00\\x00\\x00\\x00\\x00\\x00\\x00\\x00\\x00\\x00\\x00\\x00\\x00\\x00\\x00\\x00\\x00\\x00\\x00\\x00\\x00\\x00\\x00\\x00\\x00\\x00\\x00\\x00\\x00\\x00\\x00\\x00\\x00\\x00\\x00\\x00\\x00\\x00\\x00\\x00\\x00\\x00\\x00\\x00\\x00\\x00\\x00\\x00\\x00\\x00\\x00\\x00\\x00\\x00\\x00\\x00\\x00\\x00\\x00\\x00\\x00\\x00\\x00\\x00\\x00\\x00\\x00\\x00\\x00\\x00\\x00\\x00\\x00\\x00\\x00\\x00\\x00\\x00\\x00\\x00\\x00\\x00\\x00\\x00\\x00\\x00\\x00\\x00\\x00\\x00\\x00\\x00\\x00\\x00\\x00\\x00\\x00\\x00\\x00\\x00\\x00\\x00\\x00\\x00\\x00\\x00\\x00\\x00\\x00\\x00\\x00\\x00\\x00\\x00\\x00\\x00\\x00\\x00\\x00\\x00\\x00\\x00\\x00\\x00\\x00\\x00\\x00\\x00\\x00\\x00\\x00\\x00\\x00\\x00\\x00\\x00\\x00\\x00\\x00\\x00\\x00\\x00\\x00\\x00\\x00\\x00\\x00\\x00\\x00\\x00\\x00\\x00\\x00\\x00\\x00\\x00\\x00\\x00\\x00\\x00\\x00\\x00\\x00\\x00\\x00\\x00\\x00\\x00\\x00\\x00\\x00\\x00\\x00\\x00\\x00\\x00\\x00\\x00\\x00\\x00\\x00\\x00\\x00\\x00\\x00\\x00\\x00\\x00\\x00\\x00\\x00\\x00\\x00\\x00\\x00\\x00\\x00\\x00\\x00\\x00\\x00\\x00\\x00\\x00\\x00\\x00\\x00\\x00\\x00\\x00\\x00\\x00\\x00\\x00\\x00\\x00\\x00\\x00\\x00\\x00\\x00\\x00\\x00\\x00\\x00\\x00\\x00\\x00\\x00\\x00\\x00\\x00\\x00\\x00\\x00\\x00\\x00\\x00\\x00\\x00\\x00\\x00\\x00\\x00\\x00\\x00\\x00\\x00\\x00\\x00\\x00\\x00\\x00\\x00\\x00\\x00\\x00\\x00\\x00\\x00\\x00\\x00\\x00\\x00\\x00\\x00\\x00\\x00\\x00\\x00\\x00\\x00\\x00\\x00\\x00\\x00\\x00\\x00\\x00\\x00\\x00\\x00\\x00\\x00\\x00\\x00\\x00\\x00\\x00\\x00\\x00\\x00\\x00\\x00\\x00\\x00\\x00\\x00\\x00\\x00\\x00\\x00\\x00\\x00\\x00\\x00\\x00\\x00\\x00\\x00\\x00\\x00\\x00\\x00\\x00\\x00\\x00\\x00\\x00\\x00\\x00\\x00\\x00\\x00\\x00\\x00\\x00\\x00\\x00\\x00\\x00\\x00\\x00\\x00\\x00\\x00\\x00\\x00\\x00\\x00\\x00\\x00\\x00\\x00\\x00\\x00\\x00\\x00\\x00\\x00\\x00\\x00\\x00\\x00\\x00\\x00\\x00\\x00\\x00\\x00\\x00\\x00\\x00\\x00\\x00\\x00\\x00\\x00\\x00\\x00\\x00\\x00\\x00\\x00\\x00\\x00\\x00\\x00\\x00\\x00\\x00\\x00\\x00\\x00\\x00\\x00\\x00\\x00\\x00\\x00\\x00\\x00\\x00\\x00\\x00\\x00\\x00\\x00\\x00\\x00\\x00\\x00\\x00\\x00\\x00\\x00\\x00\\x00\\x00\\x00\\x00\\x00\\x00\\x00\\x00\\x00\\x00\\x00\\x00\\x00\\x00\\x00\\x00\\x00\\x00\\x00\\x00\\x00\\x00\\x00\\x00\\x00\\x00\\x00\\x00\\x00\\x00\\x00\\x00\\x00\\x00\\x00\\x00\\x00\\x00\\x00\\x00\\x00\\x00\\x00\\x00\\x00\\x00\\x00\\x00\\x00\\x00\\x00\\x00\\x00\\x00\\x00\\x00\\x00\\x00\\x00\\x00\\x00\\x00\\x00\\x00\\x00\\x00\\x00\\x00\\x00\\x00\\x00\\x00\\x00\\x00\\x00\\x00\\x00\\x00\\x00\\x00\\x00\\x00\\x00\\x00\\x00\\x00\\x00\\x00\\x00\\x00\\x00\\x00\\x00\\x00\\x00\\x00\\x00\\x00\\x00\\x00\\x00\\x00\\x00\\x00\\x00\\x00\\x00\\x00\\x00\\x00\\x00\\x00\\x00\\x00\\x00\\x00\\x00\\x00\\x00\\x00\\x00\\x00\\x00\\x00\\x00\\x00\\x00\\x00\\x00\\x00\\x00\\x00\\x00\\x00\\x00\\x00\\x00\\x00\\x00\\x00\\x00\\x00\\x00\\x00\\x00\\x00\\x00\\x00\\x00\\x00\\x00\\x00\\x00\\x00\\x00\\x00\\x00\\x00\\x00\\x00\\x00\\x00\\x00\\x00\\x00\\x00\\x00\\x00\\x00\\x00\\x00\\x00\\x00\\x00\\x00\\x00\\x00\\x00\\x00\\x00\\x00\\x00\\x00\\x00\\x00\\x00\\x00\\x00\\x00\\x00\\x00\\x00\\x00\\x00\\x00\\x00\\x00\\x00\\x00\\x00\\x00\\x00\\x00\\x00\\x00\\x00\\x00\\x00\\x00\\x00\\x00\\x00\\x00\\x00\\x00\\x00\\x00\\x00\\x00\\x00\\x00\\x00\\x00\\x00\\x00\\x00\\x00\\x00\\x00\\x00\\x00\\x00\\x00\\x00\\x00\\x00\\x00\\x00\\x00\\x00\\x00\\x00\\x00\\x00\\x00\\x00\\x00\\x00\\x00\\x00\\x00\\x00\\x00\\x00\\x00\\x00\\x00\\x00\\x00\\x00\\x00\\x00\\x00\\x00\\x00\\x00\\x00\\x00\\x00\\x00\\x00\\x00\\x00\\x00\\x00\\x00\\x00\\x00\\x00\\x00\\x00\\x00\\x00\\x00\\x00\\x00\\x00\\x00\\x00\\x00\\x00\\x00\\x00\\x00\\x00\\x00\\x00\\x00\\x00\\x00\\x00\\x00\\x00\\x00\\x00\\x00\\x00\\x00\\x00\\x00\\x00\\x00\\x00\\x00\\x00\\x00\\x00\\x00\\x00\\x00\\x00\\x00\\x00\\x00\\x00\\x00\\x00\\x00\\x00\\x00\\x00\\x00\\x00\\x00\\x00\\x00\\x00\\x00\\x00\\x00\\x00\\x00\\x00\\x00\\x00\\x00\\x00\\x00\\x00\\x00\\x00\\x00\\x00\\x00\\x00\\x00\\x00\\x00\\x00\\x00\\x00\\x00\\x00\\x00\\x00\\x00\\x00\\x00\\x00\\x00\\x00\\x00\\x00\\x00\\x00\\x00\\x00\\x00\\x00\\x00\\x00\\x00\\x00\\x00\\x00\\x00\\x00\\x00\\x00\\x00\\x00\\x00\\x00\\x00\\x00\\x00\\x00\\x00\\x00\\x00\\x00\\x00\\x00\\x00\\x00\\x00\\x00\\x00\\x00\\x00\\x00\\x00\\x00\\x00\\x00\\x00\\x00\\x00\\x00\\x00\\x00\\x00\\x00\\x00\\x00\\x00\\x00\\x00\\x00\\x00\\x00\\x00\\x00\\x00\\x00\\x00\\x00\\x00\\x00\\x00\\x00\\x00\\x00\\x00\\x00\\x00\\x00\\x00\\x00\\x00\\x00\\x00\\x00\\x00\\x00\\x00\\x00\\x00\\x00\\x00\\x00\\x00\\x00\\x00\\x00\\x00\\x00\\x00\\x00\\x00\\x00\\x00\\x00\\x00\\x00\\x00\\x00\\x00\\x00\\x00\\x00\\x00\\x00\\x00\\x00\\x00\\x00\\x00\\x00\\x00\\x00\\x00\\x00\\x00\\x00\\x00\\x00\\x00\\x00\\x00\\x00\\x00\\x00\\x00\\x00\\x00\\x00\\x00\\x00\\x00\\x00\\x00\\x00\\x00\\x00\\x00\\x00\\x00\\x00\\x00\\x00\\x00\\x00\\x00\\x00\\x00\\x00\\x00\\x00\\x00\\x00\\x00\\x00\\x00\\x00\\x00\\x00\\x00\\x00\\x00\\x00\\x00\\x00\\x00\\x00\\x00\\x00\\x00\\x00\\x00\\x00\\x00\\x00\\x00\\x00\\x00\\x00\\x00\\x00\\x00\\x00\\x00\\x00\\x00\\x00\\x00\\x00\\x00\\x00\\x00\\x00\\x00\\x00\\x00\\x00\\x00\\x00\\x00\\x00\\x00\\x00\\x00\\x00\\x00\\x00\\x00\\x00\\x00\\x00\\x00\\x00\\x00\\x00\\x00\\x00\\x00\\x00\\x00\\x00\\x00\\x00\\x00\\x00\\x00\\x00\\x00\\x00\\x00\\x00\\x00\\x00\\x00\\x00\\x00\\x00\\x00\\x00\\x00\\x00\\x00\\x00\\x00\\x00\\x00\\x00\\x00\\x00\\x00\\x00\\x00\\x00\\x00\\x00\\x00\\x00\\x00\\x00\\x00\\x00\\x00\\x00\\x00\\x00\\x00\\x00\\x00\\x00\\x00\\x00\\x00\\x00\\x00\\x00\\x00\\x00\\x00\\x00\\x00\\x00\\x00\\x00\\x00\\x00\\x00\\x00\\x00\\x00\\x00\\x00\\x00\\x00\\x00\\x00\\x00\\x00\\x00\\x00\\x00\\x00\\x00\\x00\\x00\\x00\\x00\\x00\\x00\\x00\\x00\\x00\\x00\\x00\\x00\\x00\\x00\\x00\\x00\\x00\\x00\\x00\\x00\\x00\\x00\\x00\\x00\\x00\\x00\\x00\\x00\\x00\\x00\\x00\\x00\\x00\\x00\\x00\\x00\\x00\\x00\\x00\\x00\\x00\\xfe\\xff\\x00\\x00\\n\\x00\\x02\\x00\\x00\\x00\\x00\\x00\\x00\\x00\\x00\\x00\\x00\\x00\\x00\\x00\\x00\\x00\\x00\\x00\\x01\\x00\\x00\\x00\\x02\\xd5\\xcd\\xd5\\x9c.\\x1b\\x10\\x93\\x97\\x08\\x00+,\\xf9\\xae0\\x00\\x00\\x00\\xd4\\x00\\x00\\x00\\t\\x00\\x00\\x00\\x01\\x00\\x00\\x00P\\x00\\x00\\x00\\x0f\\x00\\x00\\x00X\\x00\\x00\\x00\\x17\\x00\\x00\\x00t\\x00\\x00\\x00\\x0b\\x00\\x00\\x00|\\x00\\x00\\x00\\x10\\x00\\x00\\x00\\x84\\x00\\x00\\x00\\x13\\x00\\x00\\x00\\x8c\\x00\\x00\\x00\\x16\\x00\\x00\\x00\\x94\\x00\\x00\\x00\\r\\x00\\x00\\x00\\x9c\\x00\\x00\\x00\\x0c\\x00\\x00\\x00\\xaf\\x00\\x00\\x00\\x02\\x00\\x00\\x00\\xe4\\x04\\x00\\x00\\x1e\\x00\\x00\\x00\\x14\\x00\\x00\\x00Webster University\\x00\\x00\\x03\\x00\\x00\\x00\\x00\\x00\\x10\\x00\\x0b\\x00\\x00\\x00\\x00\\x00\\x00\\x00\\x0b\\x00\\x00\\x00\\x00\\x00\\x00\\x00\\x0b\\x00\\x00\\x00\\x00\\x00\\x00\\x00\\x0b\\x00\\x00\\x00\\x00\\x00\\x00\\x00\\x1e\\x10\\x00\\x00\\x01\\x00\\x00\\x00\\x07\\x00\\x00\\x00Sheet1\\x00\\x0c\\x10\\x00\\x00\\x02\\x00\\x00\\x00\\x1e\\x00\\x00\\x00\\x0b\\x00\\x00\\x00Worksheets\\x00\\x03\\x00\\x00\\x00\\x01\\x00\\x00\\x00\\x00\\x00\\x00\\x00\\x00\\x00\\x00\\x00\\x00\\x00\\x00\\x00\\x00\\x00\\x00\\x00\\x00\\x00\\x00\\x00\\x00\\x00\\x00\\x00\\x00\\x00\\x00\\x00\\x00\\x00\\x00\\x00\\x00\\x00\\x00\\x00\\x00\\x00\\x00\\x00\\x00\\x00\\x00\\x00\\x00\\x00\\x00\\x00\\x00\\x00\\x00\\x00\\x00\\x00\\x00\\x00\\x00\\x00\\x00\\x00\\x00\\x00\\x00\\x00\\x00\\x00\\x00\\x00\\x00\\x00\\x00\\x00\\x00\\x00\\x00\\x00\\x00\\x00\\x00\\x00\\x00\\x00\\x00\\x00\\x00\\x00\\x00\\x00\\x00\\x00\\x00\\x00\\x00\\x00\\x00\\x00\\x00\\x00\\x00\\x00\\x00\\x00\\x00\\x00\\x00\\x00\\x00\\x00\\x00\\x00\\x00\\x00\\x00\\x00\\x00\\x00\\x00\\x00\\x00\\x00\\x00\\x00\\x00\\x00\\x00\\x00\\x00\\x00\\x00\\x00\\x00\\x00\\x00\\x00\\x00\\x00\\x00\\x00\\x00\\x00\\x00\\x00\\x00\\x00\\x00\\x00\\x00\\x00\\x00\\x00\\x00\\x00\\x00\\x00\\x00\\x00\\x00\\x00\\x00\\x00\\x00\\x00\\x00\\x00\\x00\\x00\\x00\\x00\\x00\\x00\\x00\\x00\\x00\\x00\\x00\\x00\\x00\\x00\\x00\\x00\\x00\\x00\\x00\\x00\\x00\\x00\\x00\\x00\\x00\\x00\\x00\\x00\\x00\\x00\\x00\\x00\\x00\\x00\\x00\\x00\\x00\\x00\\x00\\x00\\x00\\x00\\x00\\x00\\x00\\x00\\x00\\x00\\x00\\x00\\x00\\x00\\x00\\x00\\x00\\x00\\x00\\x00\\x00\\x00\\x00\\x00\\x00\\x00\\x00\\x00\\x00\\x00\\x00\\x00\\x00\\x00\\x00\\x00\\x00\\x00\\x00\\x00\\x00\\x00\\x00\\x00\\x00\\x00\\x00\\x00\\x00\\x00\\x00\\x00\\x00\\x00\\x00\\x00\\x00\\x00\\x00\\x00\\x00\\x00\\x00\\x00\\x00\\x00\\x00\\x00\\x00\\x00\\x00\\x00\\x00\\x00\\x00\\x00\\x00\\x00\\x00\\x00\\x00\\x00\\x00\\x00\\x00\\x00\\x00\\x00\\x00\\x00\\x00\\x00\\x00\\x00\\x00\\x00\\x00\\x00\\x00\\x00\\x00\\x00\\x00\\x00\\x00\\x00\\x00\\x00\\x00\\x00\\x00\\x00\\x00\\x00\\x00\\x00\\x00\\x00\\x00\\x00\\x00\\x00\\x00\\x00\\x00\\x00\\x00\\x00\\x00\\x00\\x00\\x00\\x00\\x00\\x00\\x00\\x00\\x00\\x00\\x00\\x00\\x00\\x00\\x00\\x00\\x00\\x00\\x00\\x00\\x00\\x00\\x00\\x00\\x00\\x00\\x00\\x00\\x00\\x00\\x00\\x00\\x00\\x00\\x00\\x00\\x00\\x00\\x00\\x00\\x00\\x00\\x00\\x00\\x00\\x00\\x00\\x00\\x00\\x00\\x00\\x00\\x00\\x00\\x00\\x00\\x00\\x00\\x00\\x00\\x00\\x00\\x00\\x00\\x00\\x00\\x00\\x00\\x00\\x00\\x00\\x00\\x00\\x00\\x00\\x00\\x00\\x00\\x00\\x00\\x00\\x00\\x00\\x00\\x00\\x00\\x00\\x00\\x00\\x00\\x00\\x00\\x00\\x00\\x00\\x00\\x00\\x00\\x00\\x00\\x00\\x00\\x00\\x00\\x00\\x00\\x00\\x00\\x00\\x00\\x00\\x00\\x00\\x00\\x00\\x00\\x00\\x00\\x00\\x00\\x00\\x00\\x00\\x00\\x00\\x00\\x00\\x00\\x00\\x00\\x00\\x00\\x00\\x00\\x00\\x00\\x00\\x00\\x00\\x00\\x00\\x00\\x00\\x00\\x00\\x00\\x00\\x00\\x00\\x00\\x00\\x00\\x00\\x00\\x00\\x00\\x00\\x00\\x00\\x00\\x00\\x00\\x00\\x00\\x00\\x00\\x00\\x00\\x00\\x00\\x00\\x00\\x00\\x00\\x00\\x00\\x00\\x00\\x00\\x00\\x00\\x00\\x00\\x00\\x00\\x00\\x00\\x00\\x00\\x00\\x00\\x00\\x00\\x00\\x00\\x00\\x00\\x00\\x00\\x00\\x00\\x00\\x00\\x00\\x00\\x00\\x00\\x00\\x00\\x00\\x00\\x00\\x00\\x00\\x00\\x00\\x00\\x00\\x00\\x00\\x00\\x00\\x00\\x00\\x00\\x00\\x00\\x00\\x00\\x00\\x00\\x00\\x00\\x00\\x00\\x00\\x00\\x00\\x00\\x00\\x00\\x00\\x00\\x00\\x00\\x00\\x00\\x00\\x00\\x00\\x00\\x00\\x00\\x00\\x00\\x00\\x00\\x00\\x00\\x00\\x00\\x00\\x00\\x00\\x00\\x00\\x00\\x00\\x00\\x00\\x00\\x00\\x00\\x00\\x00\\x00\\x00\\x00\\x00\\x00\\x00\\x00\\x00\\x00\\x00\\x00\\x00\\x00\\x00\\x00\\x00\\x00\\x00\\x00\\x00\\x00\\x00\\x00\\x00\\x00\\x00\\x00\\x00\\x00\\x00\\x00\\x00\\x00\\x00\\x00\\x00\\x00\\x00\\x00\\x00\\x00\\x00\\x00\\x00\\x00\\x00\\x00\\x00\\x00\\x00\\x00\\x00\\x00\\x00\\x00\\x00\\x00\\x00\\x00\\x00\\x00\\x00\\x00\\x00\\x00\\x00\\x00\\x00\\x00\\x00\\x00\\x00\\x00\\x00\\x00\\x00\\x00\\x00\\x00\\x00\\x00\\x00\\x00\\x00\\x00\\x00\\x00\\x00\\x00\\x00\\x00\\x00\\x00\\x00\\x00\\x00\\x00\\x00\\x00\\x00\\x00\\x00\\x00\\x00\\x00\\x00\\x00\\x00\\x00\\x00\\x00\\x00\\x00\\x00\\x00\\x00\\x00\\x00\\x00\\x00\\x00\\x00\\x00\\x00\\x00\\x00\\x00\\x00\\x00\\x00\\x00\\x00\\x00\\x00\\x00\\x00\\x00\\x00\\x00\\x00\\x00\\x00\\x00\\x00\\x00\\x00\\x00\\x00\\x00\\x00\\x00\\x00\\x00\\x00\\x00\\x00\\x00\\x00\\x00\\x00\\x00\\x00\\x00\\x00\\x00\\x00\\x00\\x00\\x00\\x00\\x00\\x00\\x00\\x00\\x00\\x00\\x00\\x00\\x00\\x00\\x00\\x00\\x00\\x00\\x00\\x00\\x00\\x00\\x00\\x00\\x00\\x00\\x00\\x00\\x00\\x00\\x00\\x00\\x00\\x00\\x00\\x00\\x00\\x00\\x00\\x00\\x00\\x00\\x00\\x00\\x00\\x00\\x00\\x00\\x00\\x00\\x00\\x00\\x00\\x00\\x00\\x00\\x00\\x00\\x00\\x00\\x00\\x00\\x00\\x00\\x00\\x00\\x00\\x00\\x00\\x00\\x00\\x00\\x00\\x00\\x00\\x00\\x00\\x00\\x00\\x00\\x00\\x00\\x00\\x00\\x00\\x00\\x00\\x00\\x00\\x00\\x00\\x00\\x00\\x00\\x00\\x00\\x00\\x00\\x00\\x00\\x00\\x00\\x00\\x00\\x00\\x00\\x00\\x00\\x00\\x00\\x00\\x00\\x00\\x00\\x00\\x00\\x00\\x00\\x00\\x00\\x00\\x00\\x00\\x00\\x00\\x00\\x00\\x00\\x00\\x00\\x00\\x00\\x00\\x00\\x00\\x00\\x00\\x00\\x00\\x00\\x00\\x00\\x00\\x00\\x00\\x00\\x00\\x00\\x00\\x00\\x00\\x00\\x00\\x00\\x00\\x00\\x00\\x00\\x00\\x00\\x00\\x00\\x00\\x00\\x00\\x00\\x00\\x00\\x00\\x00\\x00\\x00\\x00\\x00\\x00\\x00\\x00\\x00\\x00\\x00\\x00\\x00\\x00\\x00\\x00\\x00\\x00\\x00\\x00\\x00\\x00\\x00\\x00\\x00\\x00\\x00\\x00\\x00\\x00\\x00\\x00\\x00\\x00\\x00\\x00\\x00\\x00\\x00\\x00\\x00\\x00\\x00\\x00\\x00\\x00\\x00\\x00\\x00\\x00\\x00\\x00\\x00\\x00\\x00\\x00\\x00\\x00\\x00\\x00\\x00\\x00\\x00\\x00\\x00\\x00\\x00\\x00\\x00\\x00\\x00\\x00\\x00\\x00\\x00\\x00\\x00\\x00\\x00\\x00\\x00\\x00\\x00\\x00\\x00\\x00\\x00\\x00\\x00\\x00\\x00\\x00\\x00\\x00\\x00\\x00\\x00\\x00\\x00\\x00\\x00\\x00\\x00\\x00\\x00\\x00\\x00\\x00\\x00\\x00\\x00\\x00\\x00\\x00\\x00\\x00\\x00\\x00\\x00\\x00\\x00\\x00\\x00\\x00\\x00\\x00\\x00\\x00\\x00\\x00\\x00\\x00\\x00\\x00\\x00\\x00\\x00\\x00\\x00\\x00\\x00\\x00\\x00\\x00\\x00\\x00\\x00\\x00\\x00\\x00\\x00\\x00\\x00\\x00\\x00\\x00\\x00\\x00\\x00\\x00\\x00\\x00\\x00\\x00\\x00\\x00\\x00\\x00\\x00\\x00\\x00\\x00\\x00\\x00\\x00\\x00\\x00\\x00\\x00\\x00\\x00\\x00\\x00\\x00\\x00\\x00\\x00\\x00\\x00\\x00\\x00\\x00\\x00\\x00\\x00\\x00\\x00\\x00\\x00\\x00\\x00\\x00\\x00\\x00\\x00\\x00\\x00\\x00\\x00\\x00\\x00\\x00\\x00\\x00\\x00\\x00\\x00\\x00\\x00\\x00\\x00\\x00\\x00\\x00\\x00\\x00\\x00\\x00\\x00\\x00\\x00\\x00\\x00\\x00\\x00\\x00\\x00\\x00\\x00\\x00\\x00\\x00\\x00\\x00\\x00\\x00\\x00\\x00\\x00\\x00\\x00\\x00\\x00\\x00\\x00\\x00\\x00\\x00\\x00\\x00\\x00\\x00\\x00\\x00\\x00\\x00\\x00\\x00\\x00\\x00\\x00\\x00\\x00\\x00\\x00\\x00\\x00\\x00\\x00\\x00\\x00\\x00\\x00\\x00\\x00\\x00\\x00\\x00\\x00\\x00\\x00\\x00\\x00\\x00\\x00\\x00\\x00\\x00\\x00\\x00\\x00\\x00\\x00\\x00\\x00\\x00\\x00\\x00\\x00\\x00\\x00\\x00\\x00\\x00\\x00\\x00\\x00\\x00\\x00\\x00\\x00\\x00\\x00\\x00\\x00\\x00\\x00\\x00\\x00\\x00\\x00\\x00\\x00\\x00\\x00\\x00\\x00\\x00\\x00\\x00\\x00\\x00\\x00\\x00\\x00\\x00\\x00\\x00\\x00\\x00\\x00\\x00\\x00\\x00\\x00\\x00\\x00\\x00\\x00\\x00\\x00\\x00\\x00\\x00\\x00\\x00\\x00\\x00\\x00\\x00\\x00\\x00\\x00\\x00\\x00\\x00\\x00\\x00\\x00\\x00\\x00\\x00\\x00\\x00\\x00\\x00\\x00\\x00\\x00\\x00\\x00\\x00\\x00\\x00\\x00\\x00\\x00\\x00\\x00\\x00\\x00\\x00\\x00\\x00\\x00\\x00\\x00\\x00\\x00\\x00\\x00\\x00\\x00\\x00\\x00\\x00\\x00\\x00\\x00\\x00\\x00\\x00\\x00\\x00\\x00\\x00\\x00\\x00\\x00\\x00\\x00\\x00\\x00\\x00\\x00\\x00\\x00\\x00\\x00\\x00\\x00\\x00\\x00\\x00\\x00\\x00\\x00\\x00\\x00\\x00\\x00\\x00\\x00\\x00\\x00\\x00\\x00\\x00\\x00\\x00\\x00\\x00\\x00\\x00\\x00\\x00\\x00\\x00\\x00\\x00\\x00\\x00\\x00\\x00\\x00\\x00\\x00\\x00\\x00\\x00\\x00\\x00\\x00\\x00\\x00\\x00\\x00\\x00\\x00\\x00\\x00\\x00\\x00\\x00\\x00\\x00\\x00\\x00\\x00\\x00\\x00\\x00\\x00\\x00\\x00\\x00\\x00\\x00\\x00\\x00\\x00\\x00\\x00\\x00\\x00\\x00\\x00\\x00\\x00\\x00\\x00\\x00\\x00\\x00\\x00\\x00\\x00\\x00\\x00\\x00\\x00\\x00\\x00\\x00\\x00\\x00\\x00\\x00\\x00\\x00\\x00\\x00\\x00\\x00\\x00\\x00\\x00\\x00\\x00\\x00\\x00\\x00\\x00\\x00\\x00\\x00\\x00\\x00\\x00\\x00\\x00\\x00\\x00\\x00\\x00\\x00\\x00\\x00\\x00\\x00\\x00\\x00\\x00\\x00\\x00\\x00\\x00\\x00\\x00\\x00\\x00\\x00\\x00\\x00\\x00\\x00\\x00\\x00\\x00\\x00\\x00\\x00\\x00\\x00\\x00\\x00\\x00\\x00\\x00\\x00\\x00\\x00\\x00\\x00\\x00\\x00\\x00\\x00\\x00\\x00\\x00\\x00\\x00\\x00\\x00\\x00\\x00\\x00\\x00\\x00\\x00\\x00\\x00\\x00\\x00\\x00\\x00\\x00\\x00\\x00\\x00\\x00\\x00\\x00\\x00\\x00\\x00\\x00\\x00\\x00\\x00\\x00\\x00\\x00\\x00\\x00\\x00\\x00\\x00\\x00\\x00\\x00\\x00\\x00\\x00\\x00\\x00\\x00\\x00\\x00\\x00\\x00\\x00\\x00\\x00\\x00\\x00\\x00\\x00\\x00\\x00\\x00\\x00\\x00\\x00\\x00\\x00\\x00\\x00\\x00\\x00\\x00\\x00\\x00\\x00\\x00\\x00\\x00\\x00\\x00\\x00\\x00\\x00\\x00\\x00\\x00\\x00\\x00\\x00\\x00\\x00\\x00\\x00\\x00\\x00\\x00\\x00\\x00\\x00\\x00\\x00\\x00\\x00\\x00\\x00\\x00\\x00\\x00\\x00\\x00\\x00\\x00\\x00\\x00\\x00\\x00\\x00\\x00\\x00\\x00\\x00\\x00\\x00\\x00\\x00\\x00\\x00\\x00\\x00\\x00\\x00\\x00\\x00\\x00\\x00\\x00\\x00\\x00\\x00\\x00\\x00\\x00\\x00\\x00\\x00\\x00\\x00\\x00\\x00\\x00\\x00\\x00\\x00\\x00\\x00\\x00\\x00\\x00\\x00\\x00\\x00\\x00\\x00\\x00\\x00\\x00\\x00\\x00\\x00\\x00\\x00\\x00\\x00\\x00\\x00\\x00\\x00\\x00\\x00\\x00\\x00\\x00\\x00\\x00\\x00\\x00\\x00\\x00\\x00\\x00\\x00\\x00\\x00\\x00\\x00\\x00\\x00\\x00\\x00\\x00\\x00\\x00\\x00\\x00\\x00\\x00\\x00\\x00\\x00\\x00\\x00\\x00\\x00\\x00\\x00\\x00\\x00\\x00\\x00\\x00\\x00\\x00\\x00\\x00\\x00\\x00\\x00\\x00\\x00\\x00\\x00\\x00\\x00\\x00\\x00\\x00\\x00\\x00\\x00\\x00\\x00\\x00\\x00\\x00\\x00\\x00\\x00\\x00\\x00\\x00\\x00\\x00\\x00\\x00\\x00\\x00\\x00\\x00\\x00\\x00\\x00\\x00\\x00\\x00\\x00\\x00\\x00\\x00\\x00\\x00\\x00\\x00\\x00\\x00\\x00\\x00\\x00\\x00\\x00\\x00\\x00\\x00\\x00\\x00\\x00\\x00\\x00\\x00\\x00\\x00\\x00\\x00\\x00\\x00\\x00\\x00\\x00\\x00\\x00\\x00\\x00\\x00\\x00\\x00\\x00\\x00\\x00\\x00\\x00\\x00\\x00\\x00\\x00\\x00\\x00\\x00\\x00\\x00\\x00\\x00\\x00\\x00\\x00\\x00\\x00\\x00\\x00\\x00\\x00\\x00\\x00\\x00\\x00\\x00\\x00\\x00\\x00\\x00\\x00\\x00\\x00\\x00\\x00\\x00\\x00\\x00\\x00\\x00\\x00\\x00\\x00\\x00\\x00\\x00\\x00\\x00\\x00\\x00\\x00\\x00\\x00\\x00\\x00\\x00\\x00\\x00\\x00\\x00\\x00\\x00\\x00\\x00\\x00\\x00\\x00\\x00\\x00\\x00\\x00\\x00\\x00\\x00\\x00\\x00\\x00\\x00\\x00\\x00\\x00\\x00\\x00\\x00\\x00\\x00\\x00\\x00\\x00\\x00\\x00\\x00\\x00\\x00\\x00\\x00\\x00\\x00\\x00\\x00\\x00\\x00\\x00\\x00\\x00\\x00\\x00\\x00\\x00\\x00\\x00\\x00\\x00\\x00\\x00\\x00\\x00\\x00\\x00\\x00\\x00\\x00\\x00\\x00\\x00\\x00\\x00\\x00\\x00\\x00\\x00\\x00\\x00\\x00\\x00\\x00\\x00\\x00\\x00\\x00\\x00\\x00\\x00\\x00\\x00\\x00\\x00\\x00\\x00\\x00\\x00\\x00\\x00\\x00\\x00\\x00\\x00\\x00\\x00\\x00\\x00\\x00\\x00\\x00\\x00\\x00\\x00\\x00\\x00\\x00\\x00\\x00\\x00\\x00\\x00\\x00\\x00\\x00\\x00\\x00\\x00\\x00\\x00\\x00\\x00\\x00\\x00\\x00\\x00\\x00\\x00\\x00\\x00\\x00\\x00\\x00\\x00\\x00\\x00\\x00\\x00\\x00\\x00\\x00\\x00\\x00\\x00\\x00\\x00\\x00\\x00\\x00\\x00\\x00\\x00\\x00\\x00\\x00\\x00\\x00\\x00\\x00\\x00\\x00\\x00\\x00\\x00\\x00\\x00\\x00\\x00\\x00\\x00\\x00\\x00\\x00\\x00\\x00\\x00\\x00\\x00\\x00\\x00\\x00\\x00\\x00\\x00\\x00\\x00\\x00\\x00\\x00\\x00\\x00\\x00\\x00\\x00\\x00\\x00\\x00\\x00\\x00\\x00\\x00\\x00\\x00\\x00\\x00\\x00\\x00\\x00\\x00\\x00\\x00\\x00\\x00\\x00\\x00\\x00\\x00\\x00\\x00\\x00\\x00\\x00\\x00\\x00\\x00\\x00\\x00\\x00\\x00\\x00\\x00\\x00\\x00\\x00\\x00\\x00\\x00\\x00\\x00\\x00\\x00\\x00\\x00\\x00\\x00\\x00\\x00\\x00\\x00\\x00\\x00\\x00\\x00\\x00\\x00\\x00\\x00\\x00\\x00\\x00\\x00\\x00\\x00\\x00\\x00\\x00\\x00\\x00\\x00\\x00\\x00\\x00\\x00\\x00\\x00\\x00\\x00\\x00\\x00\\x00\\x00\\x00\\x00\\x00\\x00\\x00\\x00\\x00\\x00\\x00\\x00\\x00\\x00\\x00\\x00\\x00\\x00\\x00\\x00\\x00\\x00\\x00\\x00\\x00\\x00\\x00\\x00\\x00\\x00\\x00\\x00\\x00\\x00\\x00\\x00\\x00\\x00\\x00\\x00\\x00\\x00\\x00\\x00\\x00\\x00\\x00\\x00\\x00\\x00\\x00\\x00\\x00\\x00\\x00\\x00\\x00\\x00\\x00\\x00\\x00\\x00\\x00\\x00\\x00\\x00\\x00\\x00\\x00\\x00\\x00\\x00\\x00\\x00\\x00\\x00\\x00\\x00\\x00\\x00\\x00\\x00\\x00\\x00\\x00\\x00\\x00\\x00\\x00\\x00\\x00\\x00\\x00\\x00\\x00\\x00\\x00\\x00\\x00\\x00\\x00\\x00\\x00\\x00\\x00\\x00\\x00\\x00\\x00\\x00\\x00\\x00\\x00\\x00\\x00\\x00\\x00\\x00\\x00\\x00\\x00\\x00\\x00\\x00\\x00\\x00\\x00\\x00\\x00\\x00\\x00\\x00\\x00\\x00\\x00\\x00\\x00\\x00\\x00\\x00\\x00\\x00\\x00\\x00\\x00\\x00\\x00\\x00\\x00\\x00\\x00\\x00\\x00\\x00\\x00\\x00\\x00\\x00\\x00\\x00\\x00\\x00\\x00\\x00\\x00\\x00\\x00\\x00\\x00\\x00\\x00\\x00\\x00\\x00\\x00\\x00\\x00\\x00\\x00\\x00\\x00\\x00\\x00\\x00\\x00\\x00\\x00\\x00\\x00\\x00\\x00\\x00\\x00\\x00\\x00\\x00\\x00\\x00\\x00\\x00\\x00\\x00\\x00\\x00\\x00\\x00\\x00\\x00\\x00\\x00\\x00\\x00\\x00\\x00\\x00\\x00\\x00\\x00\\x00\\x00\\x00\\x00\\x00\\x00\\x00\\x00\\x00\\x00\\x00\\x00\\x00\\x00\\x00\\x00\\x00\\x00\\x00\\x00\\x00\\x00\\x00\\x00\\x00\\x00\\x00\\x00\\x00\\x00\\x00\\x00\\x00\\x00\\x00\\x00\\x00\\x00\\x00\\x00\\x00\\x00\\x00\\x00\\x00\\x00\\x00\\x00\\x00\\x00\\x00\\x00\\x00\\x00\\x00\\x00\\x00\\x00\\x00\\x00\\x00\\x00\\x00\\x00\\x00\\x00\\x00\\x00\\x00\\x00\\x00\\x00\\x00\\x00\\x00\\x00\\x00\\x00\\x00\\x00\\x00\\x00\\x00\\x00\\x00\\x00\\x00\\x00\\x00\\x00\\x00\\x00\\x00\\x00\\x00\\x00\\x00\\x00\\x00\\x00\\x00\\x00\\x00\\x00\\x00\\x00\\x00\\x00\\x00\\x00\\x00\\x00\\x00\\x00\\x00\\x00\\x00\\x00\\x00\\x00\\x00\\x00\\x00\\x00\\x00\\x00\\x00\\x00\\x00\\x00\\x00\\x00\\x00\\x00\\x00\\x00\\x00\\x00\\x00\\x00\\x00\\x00\\x00\\x00\\x00\\x00\\x00\\x00\\x00\\x00\\x00\\x00\\x00\\x00\\x00\\x00\\x00\\x00\\x00\\x00\\x00\\x00\\x00\\x00\\x00\\x00\\x00\\x00\\x00\\x00\\x00\\x00\\x00\\x00\\x00\\x00\\x00\\x00\\x00\\x00\\x00\\x00\\x00\\x00\\x00\\x00\\x00\\x00\\x00\\x00\\x00\\x00\\x00\\x00\\x00\\x00\\x00\\x00\\x00\\x00\\x00\\x00\\x00\\x00\\x00\\x00\\x00\\x00\\x00\\x00\\x00\\x00\\x00\\x00\\x00\\x00\\x00\\x00\\x00\\x00\\x00\\x00\\x00\\x00\\x00\\x00\\x00\\x00\\x00\\x00\\x00\\x00\\x00\\x00\\x00\\x00\\x00\\x00\\x00\\x00\\x00\\x00\\x00\\x00\\x00\\x00\\x00\\x00\\x00\\x00\\x00\\x00\\x00\\x00\\x00\\x00\\x00\\x00\\x00\\x00\\x00\\x00\\x00\\x00\\x00\\x00\\x00\\x00\\x00\\x00\\x00\\x00\\x00\\x00\\x00\\x00\\x00\\x00\\x00\\x00\\x00\\x00\\x00\\x00\\x00\\x00\\x00\\x00\\x00\\x00\\x00\\x00\\x00\\x00\\x00\\x00\\x00\\x00\\x00\\x00\\x00\\x00\\x00\\x00\\x00\\x00\\x00\\x00\\x00\\x00\\x00\\x00\\x00\\x00\\x00\\x00\\x00\\x00\\x00\\x00\\x00\\x00\\x00\\x00\\x00\\x00\\x00\\x00\\x00\\x00\\x00\\x00\\x00\\x00\\x00\\x00\\x00\\x00\\x00\\x00\\x00\\x00\\x00\\x00\\x00\\x00\\x00\\x00\\x00\\x00\\x00\\x00\\x00\\x00\\x00\\x00\\x00\\x00\\x00\\x00\\x00\\x00\\x00\\x00\\x00\\x00\\x00\\x00\\x00\\x00\\x00\\x00\\x00\\x00\\x00\\x00\\x00\\x00\\x00\\x00\\x00\\x00\\x00\\x00\\x00\\x00\\x00\\x00\\x00\\x00\\x00\\x00\\x00\\x00\\x00\\x00\\x00\\x00\\x00\\x00\\x00\\x00\\x00\\x00\\x00\\x00\\x00\\x00\\x00\\x00\\x00\\x00\\x00\\x00\\x00\\x00\\x00\\x00\\x00\\x00\\x00\\x00\\x00\\x00\\x00\\x00\\x00\\x00\\x00\\x00\\x00\\x00\\x00\\x00\\x00\\x00\\x00\\x00\\x00\\x00\\x00\\x00\\x00\\x00\\x00\\x00\\x00\\x00\\x00\\x00\\x00\\x00\\x00\\x00\\x00\\x00\\x00\\x00\\x00\\x00\\x00\\x00\\x00\\x00\\x00\\x00\\x00\\x00\\x00\\x00\\x00\\x00\\x00\\x00\\x00\\x00\\x00\\x00\\x00\\x00\\x00\\x00\\x00\\x00\\x00\\x00\\x00\\x00\\x00\\x00\\x00\\x00\\x00\\x00\\x00\\x00\\x00\\x00\\x00\\x00\\x00\\x00\\x00\\x00\\x00\\x00\\x00\\x00\\x00\\x00\\x00\\x00\\x00\\x00\\x00\\x00\\x00\\x00\\x00\\x00\\x00\\x00\\x00\\x00\\x00\\x00\\x00\\x00\\x00\\x00\\x00\\x00\\x00\\x00\\x00\\x00\\x00\\x00\\x00\\x00\\x00\\x00\\x00\\x00\\x00\\x00\\x00\\x00\\x00\\x00\\x00\\x00\\x00\\x00\\x00\\x00\\x00\\x00\\x00\\x00\\x00\\x00\\x00\\x00\\x00\\x00\\x00\\x00\\x00\\x00\\x00\\x00\\x00\\x00\\x00\\x00\\x00\\x00\\x00\\x00\\x00\\x00\\x00\\x00\\x00\\x00\\x00\\x00\\x00\\x00\\x00\\x00\\x00\\x00\\x00\\x00\\x00\\x00\\x00\\x00\\x00\\x00\\x00\\x00\\x00\\x00\\x00\\x00\\x00\\x00\\x00\\x00\\x00\\x00\\x00\\x00\\x00\\x00\\x00\\x00\\x00\\x00\\x00\\x00\\x00\\x00\\x00\\x00\\x00\\x00\\x00\\x00\\x00\\x00\\x00\\x00\\x00\\x00\\x00\\x00\\x00\\x00\\x00\\x00\\x00\\x00\\x00\\x00\\x00\\x00\\x00\\x00\\x00\\x00\\x00\\x00\\x00\\x00\\x00\\x00\\x00\\x00\\x00\\x00\\x00\\x00\\x00\\x00\\x00\\x00\\x00\\x00\\x00\\x00\\x00\\x00\\x00\\x00\\x00\\x00\\x00\\x00\\x00\\x00\\x00\\x00\\x00\\x00\\x00\\x00\\x00\\x00\\x00\\x00\\x00\\x00\\x00\\x00\\x00\\x00\\x00\\x00\\x00\\x00\\x00\\x00\\x00\\x00\\x00\\x00\\x00\\x00\\x00\\x00\\x00\\x00\\x00\\x00\\x00\\x00\\x00\\x00\\x00\\x00\\x00\\x00\\x00\\x00\\x00\\x00\\x00\\x00\\x00\\x00\\x00\\x00\\x00\\x00\\x00\\x00\\x00\\x00\\x00\\x00\\x00\\x00\\x00\\x00\\x00\\x00\\x00\\x00\\x00\\x00\\x00\\x00\\x00\\x00\\x00\\x00\\x00\\x00\\x00\\x00\\x00\\x00\\x00\\x00\\x00\\x00\\x00\\x00\\x00\\x00\\x00\\x00\\x00\\x00\\x00\\x00\\x00\\x00\\x00\\x00\\x00\\x00\\x00\\x00\\x00\\x00\\x00\\x00\\x00\\x00\\x00\\x00\\x00\\x00\\x00\\x00\\x00\\x00\\x00\\x00\\x00\\x00\\x00\\x00\\x00\\x00\\x00\\x00\\x00\\x00\\x00\\x00\\x00\\x00\\x00\\x00\\x00\\x00\\x00\\x00\\x00\\x00\\x00\\x00\\x00\\x00\\x00\\x00\\x00\\x00\\x00\\x00\\x00\\x00\\x00\\x00\\x00\\x00\\x00\\x00\\x00\\x00\\x00\\x00\\x00\\x00\\x00\\x00\\x00\\x00\\x00\\x00\\x00\\x00\\x00\\x00\\x00\\x00\\x00\\x00\\x00\\x00\\x00\\x00\\x00\\x00\\x00\\x00\\x00\\x00\\x00\\x00\\x00\\x00\\x00\\x00\\x00\\x00\\x00\\x00\\x00\\x00\\x00\\x00\\x00\\x00\\x00\\x00\\x00\\x00\\x00\\x00\\x00\\x00\\x00\\x00\\x00\\x00\\x00\\x00\\x00\\x00\\x00\\x00\\x00\\x00\\x00\\x00\\x00\\x00\\x00\\x00\\x00\\x00\\x00\\x00\\x00\\x00\\x00\\x00\\x00\\x00\\x00\\x00\\x00\\x00\\x00\\x00\\x00\\x00\\x00\\x00\\x00\\x00\\x00\\x00\\x00\\x00\\x00\\x00\\x00\\x00\\x00\\x00\\x00\\x00\\x00\\x00\\x00\\x00\\x00\\x00\\x00\\x00\\x00\\x00\\x00\\x00\\x00\\x00\\x00\\x00\\x00\\x00\\x00\\x00\\x00\\x00\\x00\\x00\\x00\\x00\\x00\\x00\\x00\\x00\\x00\\x00\\x00\\x00\\x00\\x00\\x00\\x00\\x00\\x00\\x00\\x00\\x00\\x00\\x00\\x00\\x00\\x00\\x00\\x00\\x00\\x00\\x00\\x00\\x00\\x00\\x00\\x00\\x00\\x00\\x00\\x00\\x00\\x00\\x00\\x00\\x00\\x00\\x00\\x00\\x00\\x00\\x00\\x00\\x00\\x00\\x00\\x00\\x00\\x00\\x00\\x00\\x00\\x00\\x00\\x00\\x00\\x00\\x00\\x00\\x00\\x00\\x00\\x00\\x00\\x00\\x00\\x00\\x00\\x00\\x00\\x00\\x00\\x00\\x00\\x00\\x00\\x00\\x00\\x00\\x00\\x00\\x00\\x00\\x00\\x00\\x00\\x00\\x00\\x00\\x00\\x00\\x00\\x00\\x00\\x00\\x00\\x00\\x00\\x00\\x00\\x00\\x00\\x00\\x00\\x00\\x00\\x00\\x00\\x00\\x00\\x00\\x00\\x00\\x00\\x00\\x00\\x00\\x00\\x00\\x00\\x00\\x00\\x00\\x00\\x00\\x00\\x00\\x00\\x00\\x00\\x00\\x00\\x00\\x00\\x00\\x00\\x00\\x00\\x00\\x00\\x00\\x00\\x00\\x00\\x00\\x00\\x00\\x00\\x00\\x00\\x00\\x00\\x00\\x00\\x00\\x00\\x00\\x00\\x00\\x00\\x00\\x00\\x00\\x00\\x00\\x00\\x00\\x00\\x00\\x00\\x00\\x00\\x00\\x00\\x00\\x00\\x00\\x00\\x00\\x00\\x00\\x00\\x00\\x00\\x00\\x00\\x00\\x00\\x00\\x00\\x00\\x00\\x00\\x00\\x00\\x00\\x00\\x00\\x00\\x00\\x00\\x00\\x00\\x00\\x00\\x00\\x00\\x00\\x00\\x00\\x00\\x00\\x00\\x00\\x00\\x00\\x00\\x00\\x00\\x00\\x00\\x00\\x00\\x00\\x00\\x00\\x00\\x00\\x00\\x00\\x00\\x00\\x00\\x00\\x00\\x00\\x00\\x00\\x00\\x00\\x00\\x00\\x00\\x00\\x00\\x00\\x00\\x00\\x00\\x00\\x00\\x00\\x00\\x00\\x00\\x00\\x00\\x00\\x00\\x00\\x00\\x00\\x00\\x00\\x00\\x00\\x00\\x00\\x00\\x00\\x00\\x00\\x00\\x00\\x00\\x00\\x00\\x00\\x00\\x00\\x00\\x00\\x00\\x00\\x00\\x00\\x00\\x00\\x00\\x00\\x00\\x00\\x00\\x00\\x00\\x00\\x00\\x00\\x00\\x00\\x00\\x00\\x00\\x00\\x00\\x00\\x00\\x00\\x00\\x00\\x00\\x00\\x00\\x00\\x00\\x00\\x00\\x00\\x00\\x00\\x00\\x00\\x00\\x00\\x00\\x00\\x00\\x00\\x00\\x00\\x00\\x00\\x00\\x00\\x00\\x00\\x00\\x00\\x00\\x00\\x00\\x00\\x00\\x00\\x00\\x00\\x00\\x00\\x00\\x00\\x00\\x00\\x00\\x00\\x00\\x00\\x00\\x00\\x00\\x00\\x00\\x00\\x00\\x00\\x00\\x00\\x00\\x00\\x00\\x00\\x00\\x00\\x00\\x00\\x00\\x00\\x00\\x00\\x00\\x00\\x00\\x00\\x00\\x00\\x00\\x00\\x00\\x00\\x00\\x00\\x00\\x00\\x00\\x00\\x00\\x00\\x00\\x00\\x00\\x00\\x00\\x00\\x00\\x00\\x00\\x00\\x00\\x00\\x00\\x00\\x00\\x00\\x00\\x00\\x00\\x00\\x00\\x00\\x00\\x00\\x00\\x00\\x00\\x00\\x00\\x00\\x00\\x00\\x00\\x00\\x00\\x00\\x00\\x00\\x00\\x00\\x00\\x00\\x01\\x00\\x00\\x00\\x02\\x00\\x00\\x00\\x03\\x00\\x00\\x00\\x04\\x00\\x00\\x00\\x05\\x00\\x00\\x00\\x06\\x00\\x00\\x00\\x07\\x00\\x00\\x00\\x08\\x00\\x00\\x00\\t\\x00\\x00\\x00\\n\\x00\\x00\\x00\\x0b\\x00\\x00\\x00\\x0c\\x00\\x00\\x00\\r\\x00\\x00\\x00\\x0e\\x00\\x00\\x00\\x0f\\x00\\x00\\x00\\x10\\x00\\x00\\x00\\x11\\x00\\x00\\x00\\x12\\x00\\x00\\x00\\x13\\x00\\x00\\x00\\x14\\x00\\x00\\x00\\x15\\x00\\x00\\x00\\x16\\x00\\x00\\x00\\x17\\x00\\x00\\x00\\x18\\x00\\x00\\x00\\x19\\x00\\x00\\x00\\x1a\\x00\\x00\\x00\\x1b\\x00\\x00\\x00\\x1c\\x00\\x00\\x00\\x1d\\x00\\x00\\x00\\x1e\\x00\\x00\\x00\\x1f\\x00\\x00\\x00 \\x00\\x00\\x00!\\x00\\x00\\x00\"\\x00\\x00\\x00#\\x00\\x00\\x00$\\x00\\x00\\x00%\\x00\\x00\\x00&\\x00\\x00\\x00\\'\\x00\\x00\\x00(\\x00\\x00\\x00)\\x00\\x00\\x00*\\x00\\x00\\x00+\\x00\\x00\\x00,\\x00\\x00\\x00-\\x00\\x00\\x00.\\x00\\x00\\x00/\\x00\\x00\\x000\\x00\\x00\\x001\\x00\\x00\\x002\\x00\\x00\\x00\\xfe\\xff\\xff\\xff4\\x00\\x00\\x005\\x00\\x00\\x006\\x00\\x00\\x007\\x00\\x00\\x008\\x00\\x00\\x009\\x00\\x00\\x00:\\x00\\x00\\x00\\xfe\\xff\\xff\\xff<\\x00\\x00\\x00=\\x00\\x00\\x00>\\x00\\x00\\x00?\\x00\\x00\\x00@\\x00\\x00\\x00A\\x00\\x00\\x00B\\x00\\x00\\x00\\xfe\\xff\\xff\\xff\\xfd\\xff\\xff\\xff\\xfe\\xff\\xff\\xff\\xff\\xff\\xff\\xff\\xff\\xff\\xff\\xff\\xff\\xff\\xff\\xff\\xff\\xff\\xff\\xff\\xff\\xff\\xff\\xff\\xff\\xff\\xff\\xff\\xff\\xff\\xff\\xff\\xff\\xff\\xff\\xff\\xff\\xff\\xff\\xff\\xff\\xff\\xff\\xff\\xff\\xff\\xff\\xff\\xff\\xff\\xff\\xff\\xff\\xff\\xff\\xff\\xff\\xff\\xff\\xff\\xff\\xff\\xff\\xff\\xff\\xff\\xff\\xff\\xff\\xff\\xff\\xff\\xff\\xff\\xff\\xff\\xff\\xff\\xff\\xff\\xff\\xff\\xff\\xff\\xff\\xff\\xff\\xff\\xff\\xff\\xff\\xff\\xff\\xff\\xff\\xff\\xff\\xff\\xff\\xff\\xff\\xff\\xff\\xff\\xff\\xff\\xff\\xff\\xff\\xff\\xff\\xff\\xff\\xff\\xff\\xff\\xff\\xff\\xff\\xff\\xff\\xff\\xff\\xff\\xff\\xff\\xff\\xff\\xff\\xff\\xff\\xff\\xff\\xff\\xff\\xff\\xff\\xff\\xff\\xff\\xff\\xff\\xff\\xff\\xff\\xff\\xff\\xff\\xff\\xff\\xff\\xff\\xff\\xff\\xff\\xff\\xff\\xff\\xff\\xff\\xff\\xff\\xff\\xff\\xff\\xff\\xff\\xff\\xff\\xff\\xff\\xff\\xff\\xff\\xff\\xff\\xff\\xff\\xff\\xff\\xff\\xff\\xff\\xff\\xff\\xff\\xff\\xff\\xff\\xff\\xff\\xff\\xff\\xff\\xff\\xff\\xff\\xff\\xff\\xff\\xff\\xff\\xff\\xff\\xff\\xff\\xff\\xff\\xff\\xff\\xff\\xff\\xff\\xff\\xff\\xff\\xff\\xff\\xff\\xff\\xff\\xff\\xff\\xff\\xff\\xff\\xff\\xff\\xff\\xff\\xff\\xff\\xff\\xff\\xff\\xff\\xff\\xff\\xff\\xffR\\x00o\\x00o\\x00t\\x00 \\x00E\\x00n\\x00t\\x00r\\x00y\\x00\\x00\\x00\\x00\\x00\\x00\\x00\\x00\\x00\\x00\\x00\\x00\\x00\\x00\\x00\\x00\\x00\\x00\\x00\\x00\\x00\\x00\\x00\\x00\\x00\\x00\\x00\\x00\\x00\\x00\\x00\\x00\\x00\\x00\\x00\\x00\\x00\\x00\\x00\\x00\\x00\\x00\\x00\\x00\\x00\\x16\\x00\\x05\\x01\\xff\\xff\\xff\\xff\\xff\\xff\\xff\\xff\\x02\\x00\\x00\\x00 \\x08\\x02\\x00\\x00\\x00\\x00\\x00\\xc0\\x00\\x00\\x00\\x00\\x00\\x00F\\x00\\x00\\x00\\x00\\x00\\x00\\x00\\x00\\x00\\x00\\x00\\x00\\xd0\\x92\\xb6\\ra\\x9c\\xd9\\x01\\xfe\\xff\\xff\\xff\\x00\\x00\\x00\\x00\\x00\\x00\\x00\\x00W\\x00o\\x00r\\x00k\\x00b\\x00o\\x00o\\x00k\\x00\\x00\\x00\\x00\\x00\\x00\\x00\\x00\\x00\\x00\\x00\\x00\\x00\\x00\\x00\\x00\\x00\\x00\\x00\\x00\\x00\\x00\\x00\\x00\\x00\\x00\\x00\\x00\\x00\\x00\\x00\\x00\\x00\\x00\\x00\\x00\\x00\\x00\\x00\\x00\\x00\\x00\\x00\\x00\\x00\\x00\\x00\\x00\\x00\\x12\\x00\\x02\\x01\\xff\\xff\\xff\\xff\\xff\\xff\\xff\\xff\\xff\\xff\\xff\\xff\\x00\\x00\\x00\\x00\\x00\\x00\\x00\\x00\\x00\\x00\\x00\\x00\\x00\\x00\\x00\\x00\\x00\\x00\\x00\\x00\\x00\\x00\\x00\\x00\\x00\\x00\\x00\\x00\\x00\\x00\\x00\\x00\\x00\\x00\\x00\\x00\\x00\\x00\\x00\\x00\\xcbe\\x00\\x00\\x00\\x00\\x00\\x00\\x05\\x00S\\x00u\\x00m\\x00m\\x00a\\x00r\\x00y\\x00I\\x00n\\x00f\\x00o\\x00r\\x00m\\x00a\\x00t\\x00i\\x00o\\x00n\\x00\\x00\\x00\\x00\\x00\\x00\\x00\\x00\\x00\\x00\\x00\\x00\\x00\\x00\\x00\\x00\\x00\\x00\\x00\\x00\\x00\\x00\\x00\\x00\\x00\\x00\\x00(\\x00\\x02\\x01\\x01\\x00\\x00\\x00\\x03\\x00\\x00\\x00\\xff\\xff\\xff\\xff\\x00\\x00\\x00\\x00\\x00\\x00\\x00\\x00\\x00\\x00\\x00\\x00\\x00\\x00\\x00\\x00\\x00\\x00\\x00\\x00\\x00\\x00\\x00\\x00\\x00\\x00\\x00\\x00\\x00\\x00\\x00\\x00\\x00\\x00\\x00\\x003\\x00\\x00\\x00\\x00\\x10\\x00\\x00\\x00\\x00\\x00\\x00\\x05\\x00D\\x00o\\x00c\\x00u\\x00m\\x00e\\x00n\\x00t\\x00S\\x00u\\x00m\\x00m\\x00a\\x00r\\x00y\\x00I\\x00n\\x00f\\x00o\\x00r\\x00m\\x00a\\x00t\\x00i\\x00o\\x00n\\x00\\x00\\x00\\x00\\x00\\x00\\x00\\x00\\x00\\x00\\x008\\x00\\x02\\x01\\xff\\xff\\xff\\xff\\xff\\xff\\xff\\xff\\xff\\xff\\xff\\xff\\x00\\x00\\x00\\x00\\x00\\x00\\x00\\x00\\x00\\x00\\x00\\x00\\x00\\x00\\x00\\x00\\x00\\x00\\x00\\x00\\x00\\x00\\x00\\x00\\x00\\x00\\x00\\x00\\x00\\x00\\x00\\x00\\x00\\x00\\x00\\x00;\\x00\\x00\\x00\\x00\\x10\\x00\\x00\\x00\\x00\\x00\\x00'}"
            ]
          },
          "metadata": {},
          "execution_count": 2
        }
      ]
    },
    {
      "cell_type": "code",
      "source": [
        "# store the dataset into variable \"data\"\n",
        "\n",
        "data=pd.read_excel('iris (2).xls')"
      ],
      "metadata": {
        "id": "AhS9PfrLh03S"
      },
      "execution_count": 3,
      "outputs": []
    },
    {
      "cell_type": "code",
      "source": [
        "#to display the initial 5 raws and columns in the dataset\n",
        "\n",
        "data.head()"
      ],
      "metadata": {
        "colab": {
          "base_uri": "https://localhost:8080/",
          "height": 206
        },
        "id": "evZe9EZNiQxr",
        "outputId": "1ccdb389-9341-4141-b606-ed3f2d33fd65"
      },
      "execution_count": 4,
      "outputs": [
        {
          "output_type": "execute_result",
          "data": {
            "text/plain": [
              "    SL   SW   PL   PW Classification\n",
              "0  5.1  3.5  1.4  0.2    Iris-setosa\n",
              "1  4.9  3.0  1.4  0.2    Iris-setosa\n",
              "2  NaN  3.2  1.3  0.2    Iris-setosa\n",
              "3  4.6  3.1  1.5  0.2    Iris-setosa\n",
              "4  5.0  3.6  1.4  0.2    Iris-setosa"
            ],
            "text/html": [
              "\n",
              "  <div id=\"df-03af2372-d95d-4e24-a664-4dd522f07f0d\">\n",
              "    <div class=\"colab-df-container\">\n",
              "      <div>\n",
              "<style scoped>\n",
              "    .dataframe tbody tr th:only-of-type {\n",
              "        vertical-align: middle;\n",
              "    }\n",
              "\n",
              "    .dataframe tbody tr th {\n",
              "        vertical-align: top;\n",
              "    }\n",
              "\n",
              "    .dataframe thead th {\n",
              "        text-align: right;\n",
              "    }\n",
              "</style>\n",
              "<table border=\"1\" class=\"dataframe\">\n",
              "  <thead>\n",
              "    <tr style=\"text-align: right;\">\n",
              "      <th></th>\n",
              "      <th>SL</th>\n",
              "      <th>SW</th>\n",
              "      <th>PL</th>\n",
              "      <th>PW</th>\n",
              "      <th>Classification</th>\n",
              "    </tr>\n",
              "  </thead>\n",
              "  <tbody>\n",
              "    <tr>\n",
              "      <th>0</th>\n",
              "      <td>5.1</td>\n",
              "      <td>3.5</td>\n",
              "      <td>1.4</td>\n",
              "      <td>0.2</td>\n",
              "      <td>Iris-setosa</td>\n",
              "    </tr>\n",
              "    <tr>\n",
              "      <th>1</th>\n",
              "      <td>4.9</td>\n",
              "      <td>3.0</td>\n",
              "      <td>1.4</td>\n",
              "      <td>0.2</td>\n",
              "      <td>Iris-setosa</td>\n",
              "    </tr>\n",
              "    <tr>\n",
              "      <th>2</th>\n",
              "      <td>NaN</td>\n",
              "      <td>3.2</td>\n",
              "      <td>1.3</td>\n",
              "      <td>0.2</td>\n",
              "      <td>Iris-setosa</td>\n",
              "    </tr>\n",
              "    <tr>\n",
              "      <th>3</th>\n",
              "      <td>4.6</td>\n",
              "      <td>3.1</td>\n",
              "      <td>1.5</td>\n",
              "      <td>0.2</td>\n",
              "      <td>Iris-setosa</td>\n",
              "    </tr>\n",
              "    <tr>\n",
              "      <th>4</th>\n",
              "      <td>5.0</td>\n",
              "      <td>3.6</td>\n",
              "      <td>1.4</td>\n",
              "      <td>0.2</td>\n",
              "      <td>Iris-setosa</td>\n",
              "    </tr>\n",
              "  </tbody>\n",
              "</table>\n",
              "</div>\n",
              "      <button class=\"colab-df-convert\" onclick=\"convertToInteractive('df-03af2372-d95d-4e24-a664-4dd522f07f0d')\"\n",
              "              title=\"Convert this dataframe to an interactive table.\"\n",
              "              style=\"display:none;\">\n",
              "        \n",
              "  <svg xmlns=\"http://www.w3.org/2000/svg\" height=\"24px\"viewBox=\"0 0 24 24\"\n",
              "       width=\"24px\">\n",
              "    <path d=\"M0 0h24v24H0V0z\" fill=\"none\"/>\n",
              "    <path d=\"M18.56 5.44l.94 2.06.94-2.06 2.06-.94-2.06-.94-.94-2.06-.94 2.06-2.06.94zm-11 1L8.5 8.5l.94-2.06 2.06-.94-2.06-.94L8.5 2.5l-.94 2.06-2.06.94zm10 10l.94 2.06.94-2.06 2.06-.94-2.06-.94-.94-2.06-.94 2.06-2.06.94z\"/><path d=\"M17.41 7.96l-1.37-1.37c-.4-.4-.92-.59-1.43-.59-.52 0-1.04.2-1.43.59L10.3 9.45l-7.72 7.72c-.78.78-.78 2.05 0 2.83L4 21.41c.39.39.9.59 1.41.59.51 0 1.02-.2 1.41-.59l7.78-7.78 2.81-2.81c.8-.78.8-2.07 0-2.86zM5.41 20L4 18.59l7.72-7.72 1.47 1.35L5.41 20z\"/>\n",
              "  </svg>\n",
              "      </button>\n",
              "      \n",
              "  <style>\n",
              "    .colab-df-container {\n",
              "      display:flex;\n",
              "      flex-wrap:wrap;\n",
              "      gap: 12px;\n",
              "    }\n",
              "\n",
              "    .colab-df-convert {\n",
              "      background-color: #E8F0FE;\n",
              "      border: none;\n",
              "      border-radius: 50%;\n",
              "      cursor: pointer;\n",
              "      display: none;\n",
              "      fill: #1967D2;\n",
              "      height: 32px;\n",
              "      padding: 0 0 0 0;\n",
              "      width: 32px;\n",
              "    }\n",
              "\n",
              "    .colab-df-convert:hover {\n",
              "      background-color: #E2EBFA;\n",
              "      box-shadow: 0px 1px 2px rgba(60, 64, 67, 0.3), 0px 1px 3px 1px rgba(60, 64, 67, 0.15);\n",
              "      fill: #174EA6;\n",
              "    }\n",
              "\n",
              "    [theme=dark] .colab-df-convert {\n",
              "      background-color: #3B4455;\n",
              "      fill: #D2E3FC;\n",
              "    }\n",
              "\n",
              "    [theme=dark] .colab-df-convert:hover {\n",
              "      background-color: #434B5C;\n",
              "      box-shadow: 0px 1px 3px 1px rgba(0, 0, 0, 0.15);\n",
              "      filter: drop-shadow(0px 1px 2px rgba(0, 0, 0, 0.3));\n",
              "      fill: #FFFFFF;\n",
              "    }\n",
              "  </style>\n",
              "\n",
              "      <script>\n",
              "        const buttonEl =\n",
              "          document.querySelector('#df-03af2372-d95d-4e24-a664-4dd522f07f0d button.colab-df-convert');\n",
              "        buttonEl.style.display =\n",
              "          google.colab.kernel.accessAllowed ? 'block' : 'none';\n",
              "\n",
              "        async function convertToInteractive(key) {\n",
              "          const element = document.querySelector('#df-03af2372-d95d-4e24-a664-4dd522f07f0d');\n",
              "          const dataTable =\n",
              "            await google.colab.kernel.invokeFunction('convertToInteractive',\n",
              "                                                     [key], {});\n",
              "          if (!dataTable) return;\n",
              "\n",
              "          const docLinkHtml = 'Like what you see? Visit the ' +\n",
              "            '<a target=\"_blank\" href=https://colab.research.google.com/notebooks/data_table.ipynb>data table notebook</a>'\n",
              "            + ' to learn more about interactive tables.';\n",
              "          element.innerHTML = '';\n",
              "          dataTable['output_type'] = 'display_data';\n",
              "          await google.colab.output.renderOutput(dataTable, element);\n",
              "          const docLink = document.createElement('div');\n",
              "          docLink.innerHTML = docLinkHtml;\n",
              "          element.appendChild(docLink);\n",
              "        }\n",
              "      </script>\n",
              "    </div>\n",
              "  </div>\n",
              "  "
            ]
          },
          "metadata": {},
          "execution_count": 4
        }
      ]
    },
    {
      "cell_type": "code",
      "source": [
        "# to check the total number of obsrvatios and columns present in the dataset\n",
        "\n",
        "data.shape"
      ],
      "metadata": {
        "colab": {
          "base_uri": "https://localhost:8080/"
        },
        "id": "2JwSA97jiVJX",
        "outputId": "dc871136-7e55-4b1c-be4c-d394821630f0"
      },
      "execution_count": 5,
      "outputs": [
        {
          "output_type": "execute_result",
          "data": {
            "text/plain": [
              "(150, 5)"
            ]
          },
          "metadata": {},
          "execution_count": 5
        }
      ]
    },
    {
      "cell_type": "code",
      "source": [
        "# there are 150 observations recorded in 5 columns"
      ],
      "metadata": {
        "id": "R0DQRghIWyCS"
      },
      "execution_count": 6,
      "outputs": []
    },
    {
      "cell_type": "markdown",
      "source": [
        "**2. Do the necessary pre-processing steps**"
      ],
      "metadata": {
        "id": "WfYKZzM5S4ex"
      }
    },
    {
      "cell_type": "markdown",
      "source": [
        "Pre Processing may include the following steps\n",
        "\n",
        "Step 1 : Import the libraries (some are already imported and the others will be imported as per the needs)\n",
        "\n",
        "Step 2 : Import the data-set ( Data set is also imported)\n",
        "\n",
        "Step 3 : Check out the missing values\n",
        "\n",
        "Step 4 : Check out the outliers\n",
        "\n",
        "Step 5 : See the Categorical Values\n",
        "\n",
        "Step 6 : Splitting the data-set into Training and Test Set\n",
        "\n",
        "Step 7 : Feature Scaling"
      ],
      "metadata": {
        "id": "k-SJcCEvS9so"
      }
    },
    {
      "cell_type": "markdown",
      "source": [
        "Step 3 : Check out the missing values"
      ],
      "metadata": {
        "id": "bpbjHAPzTfsJ"
      }
    },
    {
      "cell_type": "code",
      "source": [
        "data.isna().sum()"
      ],
      "metadata": {
        "colab": {
          "base_uri": "https://localhost:8080/"
        },
        "id": "6YjsSZY1icti",
        "outputId": "253b8206-bbbd-4e3b-8c19-63801c6fd27c"
      },
      "execution_count": 11,
      "outputs": [
        {
          "output_type": "execute_result",
          "data": {
            "text/plain": [
              "SL                7\n",
              "SW                6\n",
              "PL                6\n",
              "PW                0\n",
              "Classification    0\n",
              "dtype: int64"
            ]
          },
          "metadata": {},
          "execution_count": 11
        }
      ]
    },
    {
      "cell_type": "code",
      "source": [
        "data.columns"
      ],
      "metadata": {
        "colab": {
          "base_uri": "https://localhost:8080/"
        },
        "id": "T-IDEgkhil2D",
        "outputId": "d9479717-3788-4b2e-b5bc-19117a2c9b5b"
      },
      "execution_count": 17,
      "outputs": [
        {
          "output_type": "execute_result",
          "data": {
            "text/plain": [
              "Index(['SL', 'SW', 'PL', 'PW', 'Classification'], dtype='object')"
            ]
          },
          "metadata": {},
          "execution_count": 17
        }
      ]
    },
    {
      "cell_type": "code",
      "source": [
        "# Checking the percentage of null values in each feature\n",
        "# Creating a list of features with null values\n",
        "\n",
        "features_with_na=[features for features in data.columns if data[features].isna().sum()>=1]  #if null value greater than orequal to 1\n",
        "\n",
        "# Print the feature name and percentage of missing values\n",
        "\n",
        "for feature in features_with_na:\n",
        "    print(feature,np.round(data[feature].isnull().mean(),2), ' % missing values')"
      ],
      "metadata": {
        "id": "5OC-w2nbivOl",
        "colab": {
          "base_uri": "https://localhost:8080/"
        },
        "outputId": "4ad54eb2-cfd4-44e3-c418-7af499e80fe9"
      },
      "execution_count": 18,
      "outputs": [
        {
          "output_type": "stream",
          "name": "stdout",
          "text": [
            "SL 0.05  % missing values\n",
            "SW 0.04  % missing values\n",
            "PL 0.04  % missing values\n"
          ]
        }
      ]
    },
    {
      "cell_type": "code",
      "source": [
        "# missing values can be handled during feature engineering"
      ],
      "metadata": {
        "id": "L4IyQ-twjDMp"
      },
      "execution_count": 27,
      "outputs": []
    },
    {
      "cell_type": "code",
      "source": [
        "data['Classification'].unique()"
      ],
      "metadata": {
        "colab": {
          "base_uri": "https://localhost:8080/"
        },
        "id": "UhSwErDADzqm",
        "outputId": "e3864f30-a0d1-45a4-a462-66419de85215"
      },
      "execution_count": 29,
      "outputs": [
        {
          "output_type": "execute_result",
          "data": {
            "text/plain": [
              "array(['Iris-setosa', 'Iris-versicolor', 'Iris-virginica'], dtype=object)"
            ]
          },
          "metadata": {},
          "execution_count": 29
        }
      ]
    },
    {
      "cell_type": "code",
      "source": [
        "# Since the sizes of each species follow unique pattern seperate each species for ease of handling the missing values. \n",
        "\n",
        "Iris_setosa = data[data['Classification']=='Iris-setosa']\n",
        "Iris_versicolor = data[data['Classification']=='Iris-versicolor']\n",
        "Iris_virginica = data[data['Classification']=='Iris-virginica']"
      ],
      "metadata": {
        "id": "6C5ZBj8zgjFs"
      },
      "execution_count": 30,
      "outputs": []
    },
    {
      "cell_type": "code",
      "source": [
        "Iris_setosa"
      ],
      "metadata": {
        "colab": {
          "base_uri": "https://localhost:8080/",
          "height": 1000
        },
        "id": "j_z8KUzKyilF",
        "outputId": "be72e1c9-c78b-4a18-dc62-3a0a2228ade7"
      },
      "execution_count": 31,
      "outputs": [
        {
          "output_type": "execute_result",
          "data": {
            "text/plain": [
              "     SL   SW   PL   PW Classification\n",
              "0   5.1  3.5  1.4  0.2    Iris-setosa\n",
              "1   4.9  3.0  1.4  0.2    Iris-setosa\n",
              "2   NaN  3.2  1.3  0.2    Iris-setosa\n",
              "3   4.6  3.1  1.5  0.2    Iris-setosa\n",
              "4   5.0  3.6  1.4  0.2    Iris-setosa\n",
              "5   5.4  3.9  1.7  0.4    Iris-setosa\n",
              "6   4.6  3.4  1.4  0.3    Iris-setosa\n",
              "7   5.0  3.4  1.5  0.2    Iris-setosa\n",
              "8   4.4  2.9  1.4  0.2    Iris-setosa\n",
              "9   4.9  3.1  1.5  0.1    Iris-setosa\n",
              "10  5.4  NaN  1.5  0.2    Iris-setosa\n",
              "11  4.8  3.4  1.6  0.2    Iris-setosa\n",
              "12  4.8  3.0  1.4  0.1    Iris-setosa\n",
              "13  4.3  3.0  1.1  0.1    Iris-setosa\n",
              "14  5.8  4.0  1.2  0.2    Iris-setosa\n",
              "15  5.7  4.4  1.5  0.4    Iris-setosa\n",
              "16  5.4  3.9  1.3  0.4    Iris-setosa\n",
              "17  5.1  3.5  1.4  0.3    Iris-setosa\n",
              "18  5.7  3.8  1.7  0.3    Iris-setosa\n",
              "19  5.1  3.8  1.5  0.3    Iris-setosa\n",
              "20  5.4  3.4  1.7  0.2    Iris-setosa\n",
              "21  NaN  3.7  1.5  0.4    Iris-setosa\n",
              "22  4.6  3.6  1.0  0.2    Iris-setosa\n",
              "23  5.1  3.3  1.7  0.5    Iris-setosa\n",
              "24  4.8  3.4  1.9  0.2    Iris-setosa\n",
              "25  5.0  3.0  1.6  0.2    Iris-setosa\n",
              "26  5.0  3.4  1.6  0.4    Iris-setosa\n",
              "27  5.2  NaN  1.5  0.2    Iris-setosa\n",
              "28  5.2  3.4  NaN  0.2    Iris-setosa\n",
              "29  4.7  3.2  1.6  0.2    Iris-setosa\n",
              "30  4.8  3.1  1.6  0.2    Iris-setosa\n",
              "31  5.4  3.4  1.5  0.4    Iris-setosa\n",
              "32  5.2  4.1  1.5  0.1    Iris-setosa\n",
              "33  5.5  4.2  1.4  0.2    Iris-setosa\n",
              "34  4.9  3.1  1.5  0.1    Iris-setosa\n",
              "35  5.0  3.2  1.2  0.2    Iris-setosa\n",
              "36  5.5  3.5  1.3  0.2    Iris-setosa\n",
              "37  4.9  3.1  1.5  0.1    Iris-setosa\n",
              "38  4.4  3.0  1.3  0.2    Iris-setosa\n",
              "39  NaN  3.4  1.5  0.2    Iris-setosa\n",
              "40  5.0  3.5  1.3  0.3    Iris-setosa\n",
              "41  4.5  2.3  1.3  0.3    Iris-setosa\n",
              "42  4.4  3.2  NaN  0.2    Iris-setosa\n",
              "43  5.0  NaN  1.6  0.6    Iris-setosa\n",
              "44  5.1  3.8  1.9  0.4    Iris-setosa\n",
              "45  4.8  3.0  1.4  0.3    Iris-setosa\n",
              "46  5.1  3.8  1.6  0.2    Iris-setosa\n",
              "47  4.6  3.2  1.4  0.2    Iris-setosa\n",
              "48  5.3  3.7  1.5  0.2    Iris-setosa\n",
              "49  5.0  3.3  1.4  0.2    Iris-setosa"
            ],
            "text/html": [
              "\n",
              "  <div id=\"df-5c0f2c77-dcf6-4427-92e2-97cd49793dcf\">\n",
              "    <div class=\"colab-df-container\">\n",
              "      <div>\n",
              "<style scoped>\n",
              "    .dataframe tbody tr th:only-of-type {\n",
              "        vertical-align: middle;\n",
              "    }\n",
              "\n",
              "    .dataframe tbody tr th {\n",
              "        vertical-align: top;\n",
              "    }\n",
              "\n",
              "    .dataframe thead th {\n",
              "        text-align: right;\n",
              "    }\n",
              "</style>\n",
              "<table border=\"1\" class=\"dataframe\">\n",
              "  <thead>\n",
              "    <tr style=\"text-align: right;\">\n",
              "      <th></th>\n",
              "      <th>SL</th>\n",
              "      <th>SW</th>\n",
              "      <th>PL</th>\n",
              "      <th>PW</th>\n",
              "      <th>Classification</th>\n",
              "    </tr>\n",
              "  </thead>\n",
              "  <tbody>\n",
              "    <tr>\n",
              "      <th>0</th>\n",
              "      <td>5.1</td>\n",
              "      <td>3.5</td>\n",
              "      <td>1.4</td>\n",
              "      <td>0.2</td>\n",
              "      <td>Iris-setosa</td>\n",
              "    </tr>\n",
              "    <tr>\n",
              "      <th>1</th>\n",
              "      <td>4.9</td>\n",
              "      <td>3.0</td>\n",
              "      <td>1.4</td>\n",
              "      <td>0.2</td>\n",
              "      <td>Iris-setosa</td>\n",
              "    </tr>\n",
              "    <tr>\n",
              "      <th>2</th>\n",
              "      <td>NaN</td>\n",
              "      <td>3.2</td>\n",
              "      <td>1.3</td>\n",
              "      <td>0.2</td>\n",
              "      <td>Iris-setosa</td>\n",
              "    </tr>\n",
              "    <tr>\n",
              "      <th>3</th>\n",
              "      <td>4.6</td>\n",
              "      <td>3.1</td>\n",
              "      <td>1.5</td>\n",
              "      <td>0.2</td>\n",
              "      <td>Iris-setosa</td>\n",
              "    </tr>\n",
              "    <tr>\n",
              "      <th>4</th>\n",
              "      <td>5.0</td>\n",
              "      <td>3.6</td>\n",
              "      <td>1.4</td>\n",
              "      <td>0.2</td>\n",
              "      <td>Iris-setosa</td>\n",
              "    </tr>\n",
              "    <tr>\n",
              "      <th>5</th>\n",
              "      <td>5.4</td>\n",
              "      <td>3.9</td>\n",
              "      <td>1.7</td>\n",
              "      <td>0.4</td>\n",
              "      <td>Iris-setosa</td>\n",
              "    </tr>\n",
              "    <tr>\n",
              "      <th>6</th>\n",
              "      <td>4.6</td>\n",
              "      <td>3.4</td>\n",
              "      <td>1.4</td>\n",
              "      <td>0.3</td>\n",
              "      <td>Iris-setosa</td>\n",
              "    </tr>\n",
              "    <tr>\n",
              "      <th>7</th>\n",
              "      <td>5.0</td>\n",
              "      <td>3.4</td>\n",
              "      <td>1.5</td>\n",
              "      <td>0.2</td>\n",
              "      <td>Iris-setosa</td>\n",
              "    </tr>\n",
              "    <tr>\n",
              "      <th>8</th>\n",
              "      <td>4.4</td>\n",
              "      <td>2.9</td>\n",
              "      <td>1.4</td>\n",
              "      <td>0.2</td>\n",
              "      <td>Iris-setosa</td>\n",
              "    </tr>\n",
              "    <tr>\n",
              "      <th>9</th>\n",
              "      <td>4.9</td>\n",
              "      <td>3.1</td>\n",
              "      <td>1.5</td>\n",
              "      <td>0.1</td>\n",
              "      <td>Iris-setosa</td>\n",
              "    </tr>\n",
              "    <tr>\n",
              "      <th>10</th>\n",
              "      <td>5.4</td>\n",
              "      <td>NaN</td>\n",
              "      <td>1.5</td>\n",
              "      <td>0.2</td>\n",
              "      <td>Iris-setosa</td>\n",
              "    </tr>\n",
              "    <tr>\n",
              "      <th>11</th>\n",
              "      <td>4.8</td>\n",
              "      <td>3.4</td>\n",
              "      <td>1.6</td>\n",
              "      <td>0.2</td>\n",
              "      <td>Iris-setosa</td>\n",
              "    </tr>\n",
              "    <tr>\n",
              "      <th>12</th>\n",
              "      <td>4.8</td>\n",
              "      <td>3.0</td>\n",
              "      <td>1.4</td>\n",
              "      <td>0.1</td>\n",
              "      <td>Iris-setosa</td>\n",
              "    </tr>\n",
              "    <tr>\n",
              "      <th>13</th>\n",
              "      <td>4.3</td>\n",
              "      <td>3.0</td>\n",
              "      <td>1.1</td>\n",
              "      <td>0.1</td>\n",
              "      <td>Iris-setosa</td>\n",
              "    </tr>\n",
              "    <tr>\n",
              "      <th>14</th>\n",
              "      <td>5.8</td>\n",
              "      <td>4.0</td>\n",
              "      <td>1.2</td>\n",
              "      <td>0.2</td>\n",
              "      <td>Iris-setosa</td>\n",
              "    </tr>\n",
              "    <tr>\n",
              "      <th>15</th>\n",
              "      <td>5.7</td>\n",
              "      <td>4.4</td>\n",
              "      <td>1.5</td>\n",
              "      <td>0.4</td>\n",
              "      <td>Iris-setosa</td>\n",
              "    </tr>\n",
              "    <tr>\n",
              "      <th>16</th>\n",
              "      <td>5.4</td>\n",
              "      <td>3.9</td>\n",
              "      <td>1.3</td>\n",
              "      <td>0.4</td>\n",
              "      <td>Iris-setosa</td>\n",
              "    </tr>\n",
              "    <tr>\n",
              "      <th>17</th>\n",
              "      <td>5.1</td>\n",
              "      <td>3.5</td>\n",
              "      <td>1.4</td>\n",
              "      <td>0.3</td>\n",
              "      <td>Iris-setosa</td>\n",
              "    </tr>\n",
              "    <tr>\n",
              "      <th>18</th>\n",
              "      <td>5.7</td>\n",
              "      <td>3.8</td>\n",
              "      <td>1.7</td>\n",
              "      <td>0.3</td>\n",
              "      <td>Iris-setosa</td>\n",
              "    </tr>\n",
              "    <tr>\n",
              "      <th>19</th>\n",
              "      <td>5.1</td>\n",
              "      <td>3.8</td>\n",
              "      <td>1.5</td>\n",
              "      <td>0.3</td>\n",
              "      <td>Iris-setosa</td>\n",
              "    </tr>\n",
              "    <tr>\n",
              "      <th>20</th>\n",
              "      <td>5.4</td>\n",
              "      <td>3.4</td>\n",
              "      <td>1.7</td>\n",
              "      <td>0.2</td>\n",
              "      <td>Iris-setosa</td>\n",
              "    </tr>\n",
              "    <tr>\n",
              "      <th>21</th>\n",
              "      <td>NaN</td>\n",
              "      <td>3.7</td>\n",
              "      <td>1.5</td>\n",
              "      <td>0.4</td>\n",
              "      <td>Iris-setosa</td>\n",
              "    </tr>\n",
              "    <tr>\n",
              "      <th>22</th>\n",
              "      <td>4.6</td>\n",
              "      <td>3.6</td>\n",
              "      <td>1.0</td>\n",
              "      <td>0.2</td>\n",
              "      <td>Iris-setosa</td>\n",
              "    </tr>\n",
              "    <tr>\n",
              "      <th>23</th>\n",
              "      <td>5.1</td>\n",
              "      <td>3.3</td>\n",
              "      <td>1.7</td>\n",
              "      <td>0.5</td>\n",
              "      <td>Iris-setosa</td>\n",
              "    </tr>\n",
              "    <tr>\n",
              "      <th>24</th>\n",
              "      <td>4.8</td>\n",
              "      <td>3.4</td>\n",
              "      <td>1.9</td>\n",
              "      <td>0.2</td>\n",
              "      <td>Iris-setosa</td>\n",
              "    </tr>\n",
              "    <tr>\n",
              "      <th>25</th>\n",
              "      <td>5.0</td>\n",
              "      <td>3.0</td>\n",
              "      <td>1.6</td>\n",
              "      <td>0.2</td>\n",
              "      <td>Iris-setosa</td>\n",
              "    </tr>\n",
              "    <tr>\n",
              "      <th>26</th>\n",
              "      <td>5.0</td>\n",
              "      <td>3.4</td>\n",
              "      <td>1.6</td>\n",
              "      <td>0.4</td>\n",
              "      <td>Iris-setosa</td>\n",
              "    </tr>\n",
              "    <tr>\n",
              "      <th>27</th>\n",
              "      <td>5.2</td>\n",
              "      <td>NaN</td>\n",
              "      <td>1.5</td>\n",
              "      <td>0.2</td>\n",
              "      <td>Iris-setosa</td>\n",
              "    </tr>\n",
              "    <tr>\n",
              "      <th>28</th>\n",
              "      <td>5.2</td>\n",
              "      <td>3.4</td>\n",
              "      <td>NaN</td>\n",
              "      <td>0.2</td>\n",
              "      <td>Iris-setosa</td>\n",
              "    </tr>\n",
              "    <tr>\n",
              "      <th>29</th>\n",
              "      <td>4.7</td>\n",
              "      <td>3.2</td>\n",
              "      <td>1.6</td>\n",
              "      <td>0.2</td>\n",
              "      <td>Iris-setosa</td>\n",
              "    </tr>\n",
              "    <tr>\n",
              "      <th>30</th>\n",
              "      <td>4.8</td>\n",
              "      <td>3.1</td>\n",
              "      <td>1.6</td>\n",
              "      <td>0.2</td>\n",
              "      <td>Iris-setosa</td>\n",
              "    </tr>\n",
              "    <tr>\n",
              "      <th>31</th>\n",
              "      <td>5.4</td>\n",
              "      <td>3.4</td>\n",
              "      <td>1.5</td>\n",
              "      <td>0.4</td>\n",
              "      <td>Iris-setosa</td>\n",
              "    </tr>\n",
              "    <tr>\n",
              "      <th>32</th>\n",
              "      <td>5.2</td>\n",
              "      <td>4.1</td>\n",
              "      <td>1.5</td>\n",
              "      <td>0.1</td>\n",
              "      <td>Iris-setosa</td>\n",
              "    </tr>\n",
              "    <tr>\n",
              "      <th>33</th>\n",
              "      <td>5.5</td>\n",
              "      <td>4.2</td>\n",
              "      <td>1.4</td>\n",
              "      <td>0.2</td>\n",
              "      <td>Iris-setosa</td>\n",
              "    </tr>\n",
              "    <tr>\n",
              "      <th>34</th>\n",
              "      <td>4.9</td>\n",
              "      <td>3.1</td>\n",
              "      <td>1.5</td>\n",
              "      <td>0.1</td>\n",
              "      <td>Iris-setosa</td>\n",
              "    </tr>\n",
              "    <tr>\n",
              "      <th>35</th>\n",
              "      <td>5.0</td>\n",
              "      <td>3.2</td>\n",
              "      <td>1.2</td>\n",
              "      <td>0.2</td>\n",
              "      <td>Iris-setosa</td>\n",
              "    </tr>\n",
              "    <tr>\n",
              "      <th>36</th>\n",
              "      <td>5.5</td>\n",
              "      <td>3.5</td>\n",
              "      <td>1.3</td>\n",
              "      <td>0.2</td>\n",
              "      <td>Iris-setosa</td>\n",
              "    </tr>\n",
              "    <tr>\n",
              "      <th>37</th>\n",
              "      <td>4.9</td>\n",
              "      <td>3.1</td>\n",
              "      <td>1.5</td>\n",
              "      <td>0.1</td>\n",
              "      <td>Iris-setosa</td>\n",
              "    </tr>\n",
              "    <tr>\n",
              "      <th>38</th>\n",
              "      <td>4.4</td>\n",
              "      <td>3.0</td>\n",
              "      <td>1.3</td>\n",
              "      <td>0.2</td>\n",
              "      <td>Iris-setosa</td>\n",
              "    </tr>\n",
              "    <tr>\n",
              "      <th>39</th>\n",
              "      <td>NaN</td>\n",
              "      <td>3.4</td>\n",
              "      <td>1.5</td>\n",
              "      <td>0.2</td>\n",
              "      <td>Iris-setosa</td>\n",
              "    </tr>\n",
              "    <tr>\n",
              "      <th>40</th>\n",
              "      <td>5.0</td>\n",
              "      <td>3.5</td>\n",
              "      <td>1.3</td>\n",
              "      <td>0.3</td>\n",
              "      <td>Iris-setosa</td>\n",
              "    </tr>\n",
              "    <tr>\n",
              "      <th>41</th>\n",
              "      <td>4.5</td>\n",
              "      <td>2.3</td>\n",
              "      <td>1.3</td>\n",
              "      <td>0.3</td>\n",
              "      <td>Iris-setosa</td>\n",
              "    </tr>\n",
              "    <tr>\n",
              "      <th>42</th>\n",
              "      <td>4.4</td>\n",
              "      <td>3.2</td>\n",
              "      <td>NaN</td>\n",
              "      <td>0.2</td>\n",
              "      <td>Iris-setosa</td>\n",
              "    </tr>\n",
              "    <tr>\n",
              "      <th>43</th>\n",
              "      <td>5.0</td>\n",
              "      <td>NaN</td>\n",
              "      <td>1.6</td>\n",
              "      <td>0.6</td>\n",
              "      <td>Iris-setosa</td>\n",
              "    </tr>\n",
              "    <tr>\n",
              "      <th>44</th>\n",
              "      <td>5.1</td>\n",
              "      <td>3.8</td>\n",
              "      <td>1.9</td>\n",
              "      <td>0.4</td>\n",
              "      <td>Iris-setosa</td>\n",
              "    </tr>\n",
              "    <tr>\n",
              "      <th>45</th>\n",
              "      <td>4.8</td>\n",
              "      <td>3.0</td>\n",
              "      <td>1.4</td>\n",
              "      <td>0.3</td>\n",
              "      <td>Iris-setosa</td>\n",
              "    </tr>\n",
              "    <tr>\n",
              "      <th>46</th>\n",
              "      <td>5.1</td>\n",
              "      <td>3.8</td>\n",
              "      <td>1.6</td>\n",
              "      <td>0.2</td>\n",
              "      <td>Iris-setosa</td>\n",
              "    </tr>\n",
              "    <tr>\n",
              "      <th>47</th>\n",
              "      <td>4.6</td>\n",
              "      <td>3.2</td>\n",
              "      <td>1.4</td>\n",
              "      <td>0.2</td>\n",
              "      <td>Iris-setosa</td>\n",
              "    </tr>\n",
              "    <tr>\n",
              "      <th>48</th>\n",
              "      <td>5.3</td>\n",
              "      <td>3.7</td>\n",
              "      <td>1.5</td>\n",
              "      <td>0.2</td>\n",
              "      <td>Iris-setosa</td>\n",
              "    </tr>\n",
              "    <tr>\n",
              "      <th>49</th>\n",
              "      <td>5.0</td>\n",
              "      <td>3.3</td>\n",
              "      <td>1.4</td>\n",
              "      <td>0.2</td>\n",
              "      <td>Iris-setosa</td>\n",
              "    </tr>\n",
              "  </tbody>\n",
              "</table>\n",
              "</div>\n",
              "      <button class=\"colab-df-convert\" onclick=\"convertToInteractive('df-5c0f2c77-dcf6-4427-92e2-97cd49793dcf')\"\n",
              "              title=\"Convert this dataframe to an interactive table.\"\n",
              "              style=\"display:none;\">\n",
              "        \n",
              "  <svg xmlns=\"http://www.w3.org/2000/svg\" height=\"24px\"viewBox=\"0 0 24 24\"\n",
              "       width=\"24px\">\n",
              "    <path d=\"M0 0h24v24H0V0z\" fill=\"none\"/>\n",
              "    <path d=\"M18.56 5.44l.94 2.06.94-2.06 2.06-.94-2.06-.94-.94-2.06-.94 2.06-2.06.94zm-11 1L8.5 8.5l.94-2.06 2.06-.94-2.06-.94L8.5 2.5l-.94 2.06-2.06.94zm10 10l.94 2.06.94-2.06 2.06-.94-2.06-.94-.94-2.06-.94 2.06-2.06.94z\"/><path d=\"M17.41 7.96l-1.37-1.37c-.4-.4-.92-.59-1.43-.59-.52 0-1.04.2-1.43.59L10.3 9.45l-7.72 7.72c-.78.78-.78 2.05 0 2.83L4 21.41c.39.39.9.59 1.41.59.51 0 1.02-.2 1.41-.59l7.78-7.78 2.81-2.81c.8-.78.8-2.07 0-2.86zM5.41 20L4 18.59l7.72-7.72 1.47 1.35L5.41 20z\"/>\n",
              "  </svg>\n",
              "      </button>\n",
              "      \n",
              "  <style>\n",
              "    .colab-df-container {\n",
              "      display:flex;\n",
              "      flex-wrap:wrap;\n",
              "      gap: 12px;\n",
              "    }\n",
              "\n",
              "    .colab-df-convert {\n",
              "      background-color: #E8F0FE;\n",
              "      border: none;\n",
              "      border-radius: 50%;\n",
              "      cursor: pointer;\n",
              "      display: none;\n",
              "      fill: #1967D2;\n",
              "      height: 32px;\n",
              "      padding: 0 0 0 0;\n",
              "      width: 32px;\n",
              "    }\n",
              "\n",
              "    .colab-df-convert:hover {\n",
              "      background-color: #E2EBFA;\n",
              "      box-shadow: 0px 1px 2px rgba(60, 64, 67, 0.3), 0px 1px 3px 1px rgba(60, 64, 67, 0.15);\n",
              "      fill: #174EA6;\n",
              "    }\n",
              "\n",
              "    [theme=dark] .colab-df-convert {\n",
              "      background-color: #3B4455;\n",
              "      fill: #D2E3FC;\n",
              "    }\n",
              "\n",
              "    [theme=dark] .colab-df-convert:hover {\n",
              "      background-color: #434B5C;\n",
              "      box-shadow: 0px 1px 3px 1px rgba(0, 0, 0, 0.15);\n",
              "      filter: drop-shadow(0px 1px 2px rgba(0, 0, 0, 0.3));\n",
              "      fill: #FFFFFF;\n",
              "    }\n",
              "  </style>\n",
              "\n",
              "      <script>\n",
              "        const buttonEl =\n",
              "          document.querySelector('#df-5c0f2c77-dcf6-4427-92e2-97cd49793dcf button.colab-df-convert');\n",
              "        buttonEl.style.display =\n",
              "          google.colab.kernel.accessAllowed ? 'block' : 'none';\n",
              "\n",
              "        async function convertToInteractive(key) {\n",
              "          const element = document.querySelector('#df-5c0f2c77-dcf6-4427-92e2-97cd49793dcf');\n",
              "          const dataTable =\n",
              "            await google.colab.kernel.invokeFunction('convertToInteractive',\n",
              "                                                     [key], {});\n",
              "          if (!dataTable) return;\n",
              "\n",
              "          const docLinkHtml = 'Like what you see? Visit the ' +\n",
              "            '<a target=\"_blank\" href=https://colab.research.google.com/notebooks/data_table.ipynb>data table notebook</a>'\n",
              "            + ' to learn more about interactive tables.';\n",
              "          element.innerHTML = '';\n",
              "          dataTable['output_type'] = 'display_data';\n",
              "          await google.colab.output.renderOutput(dataTable, element);\n",
              "          const docLink = document.createElement('div');\n",
              "          docLink.innerHTML = docLinkHtml;\n",
              "          element.appendChild(docLink);\n",
              "        }\n",
              "      </script>\n",
              "    </div>\n",
              "  </div>\n",
              "  "
            ]
          },
          "metadata": {},
          "execution_count": 31
        }
      ]
    },
    {
      "cell_type": "code",
      "source": [
        "Iris_versicolor"
      ],
      "metadata": {
        "colab": {
          "base_uri": "https://localhost:8080/",
          "height": 1000
        },
        "id": "lKvWlZFXK8lX",
        "outputId": "9965c880-ecab-4bef-9c58-31cca78524aa"
      },
      "execution_count": 32,
      "outputs": [
        {
          "output_type": "execute_result",
          "data": {
            "text/plain": [
              "     SL   SW   PL   PW   Classification\n",
              "50  7.0  3.2  4.7  1.4  Iris-versicolor\n",
              "51  NaN  3.2  4.5  1.5  Iris-versicolor\n",
              "52  6.9  3.1  4.9  1.5  Iris-versicolor\n",
              "53  5.5  2.3  4.0  1.3  Iris-versicolor\n",
              "54  6.5  2.8  4.6  1.5  Iris-versicolor\n",
              "55  5.7  2.8  4.5  1.3  Iris-versicolor\n",
              "56  6.3  3.3  NaN  1.6  Iris-versicolor\n",
              "57  4.9  2.4  3.3  1.0  Iris-versicolor\n",
              "58  6.6  2.9  4.6  1.3  Iris-versicolor\n",
              "59  5.2  2.7  3.9  1.4  Iris-versicolor\n",
              "60  5.0  2.0  3.5  1.0  Iris-versicolor\n",
              "61  5.9  3.0  4.2  1.5  Iris-versicolor\n",
              "62  6.0  2.2  4.0  1.0  Iris-versicolor\n",
              "63  6.1  2.9  4.7  1.4  Iris-versicolor\n",
              "64  5.6  2.9  3.6  1.3  Iris-versicolor\n",
              "65  6.7  3.1  4.4  1.4  Iris-versicolor\n",
              "66  5.6  3.0  4.5  1.5  Iris-versicolor\n",
              "67  5.8  2.7  4.1  1.0  Iris-versicolor\n",
              "68  6.2  2.2  4.5  1.5  Iris-versicolor\n",
              "69  5.6  2.5  3.9  1.1  Iris-versicolor\n",
              "70  5.9  3.2  4.8  1.8  Iris-versicolor\n",
              "71  6.1  2.8  4.0  1.3  Iris-versicolor\n",
              "72  6.3  NaN  4.9  1.5  Iris-versicolor\n",
              "73  6.1  2.8  4.7  1.2  Iris-versicolor\n",
              "74  6.4  2.9  4.3  1.3  Iris-versicolor\n",
              "75  6.6  3.0  4.4  1.4  Iris-versicolor\n",
              "76  6.8  2.8  4.8  1.4  Iris-versicolor\n",
              "77  6.7  3.0  5.0  1.7  Iris-versicolor\n",
              "78  6.0  2.9  4.5  1.5  Iris-versicolor\n",
              "79  5.7  2.6  3.5  1.0  Iris-versicolor\n",
              "80  5.5  2.4  3.8  1.1  Iris-versicolor\n",
              "81  5.5  2.4  3.7  1.0  Iris-versicolor\n",
              "82  5.8  2.7  3.9  1.2  Iris-versicolor\n",
              "83  6.0  2.7  5.1  1.6  Iris-versicolor\n",
              "84  5.4  3.0  4.5  1.5  Iris-versicolor\n",
              "85  NaN  3.4  4.5  1.6  Iris-versicolor\n",
              "86  6.7  3.1  4.7  1.5  Iris-versicolor\n",
              "87  6.3  2.3  4.4  1.3  Iris-versicolor\n",
              "88  5.6  3.0  4.1  1.3  Iris-versicolor\n",
              "89  5.5  2.5  4.0  1.3  Iris-versicolor\n",
              "90  5.5  2.6  4.4  1.2  Iris-versicolor\n",
              "91  6.1  3.0  4.6  1.4  Iris-versicolor\n",
              "92  5.8  2.6  4.0  1.2  Iris-versicolor\n",
              "93  5.0  2.3  3.3  1.0  Iris-versicolor\n",
              "94  5.6  2.7  NaN  1.3  Iris-versicolor\n",
              "95  5.7  3.0  4.2  1.2  Iris-versicolor\n",
              "96  5.7  2.9  4.2  1.3  Iris-versicolor\n",
              "97  6.2  2.9  4.3  1.3  Iris-versicolor\n",
              "98  5.1  NaN  3.0  1.1  Iris-versicolor\n",
              "99  5.7  2.8  4.1  1.3  Iris-versicolor"
            ],
            "text/html": [
              "\n",
              "  <div id=\"df-28c6336c-391d-41c6-9815-583dfd47f51c\">\n",
              "    <div class=\"colab-df-container\">\n",
              "      <div>\n",
              "<style scoped>\n",
              "    .dataframe tbody tr th:only-of-type {\n",
              "        vertical-align: middle;\n",
              "    }\n",
              "\n",
              "    .dataframe tbody tr th {\n",
              "        vertical-align: top;\n",
              "    }\n",
              "\n",
              "    .dataframe thead th {\n",
              "        text-align: right;\n",
              "    }\n",
              "</style>\n",
              "<table border=\"1\" class=\"dataframe\">\n",
              "  <thead>\n",
              "    <tr style=\"text-align: right;\">\n",
              "      <th></th>\n",
              "      <th>SL</th>\n",
              "      <th>SW</th>\n",
              "      <th>PL</th>\n",
              "      <th>PW</th>\n",
              "      <th>Classification</th>\n",
              "    </tr>\n",
              "  </thead>\n",
              "  <tbody>\n",
              "    <tr>\n",
              "      <th>50</th>\n",
              "      <td>7.0</td>\n",
              "      <td>3.2</td>\n",
              "      <td>4.7</td>\n",
              "      <td>1.4</td>\n",
              "      <td>Iris-versicolor</td>\n",
              "    </tr>\n",
              "    <tr>\n",
              "      <th>51</th>\n",
              "      <td>NaN</td>\n",
              "      <td>3.2</td>\n",
              "      <td>4.5</td>\n",
              "      <td>1.5</td>\n",
              "      <td>Iris-versicolor</td>\n",
              "    </tr>\n",
              "    <tr>\n",
              "      <th>52</th>\n",
              "      <td>6.9</td>\n",
              "      <td>3.1</td>\n",
              "      <td>4.9</td>\n",
              "      <td>1.5</td>\n",
              "      <td>Iris-versicolor</td>\n",
              "    </tr>\n",
              "    <tr>\n",
              "      <th>53</th>\n",
              "      <td>5.5</td>\n",
              "      <td>2.3</td>\n",
              "      <td>4.0</td>\n",
              "      <td>1.3</td>\n",
              "      <td>Iris-versicolor</td>\n",
              "    </tr>\n",
              "    <tr>\n",
              "      <th>54</th>\n",
              "      <td>6.5</td>\n",
              "      <td>2.8</td>\n",
              "      <td>4.6</td>\n",
              "      <td>1.5</td>\n",
              "      <td>Iris-versicolor</td>\n",
              "    </tr>\n",
              "    <tr>\n",
              "      <th>55</th>\n",
              "      <td>5.7</td>\n",
              "      <td>2.8</td>\n",
              "      <td>4.5</td>\n",
              "      <td>1.3</td>\n",
              "      <td>Iris-versicolor</td>\n",
              "    </tr>\n",
              "    <tr>\n",
              "      <th>56</th>\n",
              "      <td>6.3</td>\n",
              "      <td>3.3</td>\n",
              "      <td>NaN</td>\n",
              "      <td>1.6</td>\n",
              "      <td>Iris-versicolor</td>\n",
              "    </tr>\n",
              "    <tr>\n",
              "      <th>57</th>\n",
              "      <td>4.9</td>\n",
              "      <td>2.4</td>\n",
              "      <td>3.3</td>\n",
              "      <td>1.0</td>\n",
              "      <td>Iris-versicolor</td>\n",
              "    </tr>\n",
              "    <tr>\n",
              "      <th>58</th>\n",
              "      <td>6.6</td>\n",
              "      <td>2.9</td>\n",
              "      <td>4.6</td>\n",
              "      <td>1.3</td>\n",
              "      <td>Iris-versicolor</td>\n",
              "    </tr>\n",
              "    <tr>\n",
              "      <th>59</th>\n",
              "      <td>5.2</td>\n",
              "      <td>2.7</td>\n",
              "      <td>3.9</td>\n",
              "      <td>1.4</td>\n",
              "      <td>Iris-versicolor</td>\n",
              "    </tr>\n",
              "    <tr>\n",
              "      <th>60</th>\n",
              "      <td>5.0</td>\n",
              "      <td>2.0</td>\n",
              "      <td>3.5</td>\n",
              "      <td>1.0</td>\n",
              "      <td>Iris-versicolor</td>\n",
              "    </tr>\n",
              "    <tr>\n",
              "      <th>61</th>\n",
              "      <td>5.9</td>\n",
              "      <td>3.0</td>\n",
              "      <td>4.2</td>\n",
              "      <td>1.5</td>\n",
              "      <td>Iris-versicolor</td>\n",
              "    </tr>\n",
              "    <tr>\n",
              "      <th>62</th>\n",
              "      <td>6.0</td>\n",
              "      <td>2.2</td>\n",
              "      <td>4.0</td>\n",
              "      <td>1.0</td>\n",
              "      <td>Iris-versicolor</td>\n",
              "    </tr>\n",
              "    <tr>\n",
              "      <th>63</th>\n",
              "      <td>6.1</td>\n",
              "      <td>2.9</td>\n",
              "      <td>4.7</td>\n",
              "      <td>1.4</td>\n",
              "      <td>Iris-versicolor</td>\n",
              "    </tr>\n",
              "    <tr>\n",
              "      <th>64</th>\n",
              "      <td>5.6</td>\n",
              "      <td>2.9</td>\n",
              "      <td>3.6</td>\n",
              "      <td>1.3</td>\n",
              "      <td>Iris-versicolor</td>\n",
              "    </tr>\n",
              "    <tr>\n",
              "      <th>65</th>\n",
              "      <td>6.7</td>\n",
              "      <td>3.1</td>\n",
              "      <td>4.4</td>\n",
              "      <td>1.4</td>\n",
              "      <td>Iris-versicolor</td>\n",
              "    </tr>\n",
              "    <tr>\n",
              "      <th>66</th>\n",
              "      <td>5.6</td>\n",
              "      <td>3.0</td>\n",
              "      <td>4.5</td>\n",
              "      <td>1.5</td>\n",
              "      <td>Iris-versicolor</td>\n",
              "    </tr>\n",
              "    <tr>\n",
              "      <th>67</th>\n",
              "      <td>5.8</td>\n",
              "      <td>2.7</td>\n",
              "      <td>4.1</td>\n",
              "      <td>1.0</td>\n",
              "      <td>Iris-versicolor</td>\n",
              "    </tr>\n",
              "    <tr>\n",
              "      <th>68</th>\n",
              "      <td>6.2</td>\n",
              "      <td>2.2</td>\n",
              "      <td>4.5</td>\n",
              "      <td>1.5</td>\n",
              "      <td>Iris-versicolor</td>\n",
              "    </tr>\n",
              "    <tr>\n",
              "      <th>69</th>\n",
              "      <td>5.6</td>\n",
              "      <td>2.5</td>\n",
              "      <td>3.9</td>\n",
              "      <td>1.1</td>\n",
              "      <td>Iris-versicolor</td>\n",
              "    </tr>\n",
              "    <tr>\n",
              "      <th>70</th>\n",
              "      <td>5.9</td>\n",
              "      <td>3.2</td>\n",
              "      <td>4.8</td>\n",
              "      <td>1.8</td>\n",
              "      <td>Iris-versicolor</td>\n",
              "    </tr>\n",
              "    <tr>\n",
              "      <th>71</th>\n",
              "      <td>6.1</td>\n",
              "      <td>2.8</td>\n",
              "      <td>4.0</td>\n",
              "      <td>1.3</td>\n",
              "      <td>Iris-versicolor</td>\n",
              "    </tr>\n",
              "    <tr>\n",
              "      <th>72</th>\n",
              "      <td>6.3</td>\n",
              "      <td>NaN</td>\n",
              "      <td>4.9</td>\n",
              "      <td>1.5</td>\n",
              "      <td>Iris-versicolor</td>\n",
              "    </tr>\n",
              "    <tr>\n",
              "      <th>73</th>\n",
              "      <td>6.1</td>\n",
              "      <td>2.8</td>\n",
              "      <td>4.7</td>\n",
              "      <td>1.2</td>\n",
              "      <td>Iris-versicolor</td>\n",
              "    </tr>\n",
              "    <tr>\n",
              "      <th>74</th>\n",
              "      <td>6.4</td>\n",
              "      <td>2.9</td>\n",
              "      <td>4.3</td>\n",
              "      <td>1.3</td>\n",
              "      <td>Iris-versicolor</td>\n",
              "    </tr>\n",
              "    <tr>\n",
              "      <th>75</th>\n",
              "      <td>6.6</td>\n",
              "      <td>3.0</td>\n",
              "      <td>4.4</td>\n",
              "      <td>1.4</td>\n",
              "      <td>Iris-versicolor</td>\n",
              "    </tr>\n",
              "    <tr>\n",
              "      <th>76</th>\n",
              "      <td>6.8</td>\n",
              "      <td>2.8</td>\n",
              "      <td>4.8</td>\n",
              "      <td>1.4</td>\n",
              "      <td>Iris-versicolor</td>\n",
              "    </tr>\n",
              "    <tr>\n",
              "      <th>77</th>\n",
              "      <td>6.7</td>\n",
              "      <td>3.0</td>\n",
              "      <td>5.0</td>\n",
              "      <td>1.7</td>\n",
              "      <td>Iris-versicolor</td>\n",
              "    </tr>\n",
              "    <tr>\n",
              "      <th>78</th>\n",
              "      <td>6.0</td>\n",
              "      <td>2.9</td>\n",
              "      <td>4.5</td>\n",
              "      <td>1.5</td>\n",
              "      <td>Iris-versicolor</td>\n",
              "    </tr>\n",
              "    <tr>\n",
              "      <th>79</th>\n",
              "      <td>5.7</td>\n",
              "      <td>2.6</td>\n",
              "      <td>3.5</td>\n",
              "      <td>1.0</td>\n",
              "      <td>Iris-versicolor</td>\n",
              "    </tr>\n",
              "    <tr>\n",
              "      <th>80</th>\n",
              "      <td>5.5</td>\n",
              "      <td>2.4</td>\n",
              "      <td>3.8</td>\n",
              "      <td>1.1</td>\n",
              "      <td>Iris-versicolor</td>\n",
              "    </tr>\n",
              "    <tr>\n",
              "      <th>81</th>\n",
              "      <td>5.5</td>\n",
              "      <td>2.4</td>\n",
              "      <td>3.7</td>\n",
              "      <td>1.0</td>\n",
              "      <td>Iris-versicolor</td>\n",
              "    </tr>\n",
              "    <tr>\n",
              "      <th>82</th>\n",
              "      <td>5.8</td>\n",
              "      <td>2.7</td>\n",
              "      <td>3.9</td>\n",
              "      <td>1.2</td>\n",
              "      <td>Iris-versicolor</td>\n",
              "    </tr>\n",
              "    <tr>\n",
              "      <th>83</th>\n",
              "      <td>6.0</td>\n",
              "      <td>2.7</td>\n",
              "      <td>5.1</td>\n",
              "      <td>1.6</td>\n",
              "      <td>Iris-versicolor</td>\n",
              "    </tr>\n",
              "    <tr>\n",
              "      <th>84</th>\n",
              "      <td>5.4</td>\n",
              "      <td>3.0</td>\n",
              "      <td>4.5</td>\n",
              "      <td>1.5</td>\n",
              "      <td>Iris-versicolor</td>\n",
              "    </tr>\n",
              "    <tr>\n",
              "      <th>85</th>\n",
              "      <td>NaN</td>\n",
              "      <td>3.4</td>\n",
              "      <td>4.5</td>\n",
              "      <td>1.6</td>\n",
              "      <td>Iris-versicolor</td>\n",
              "    </tr>\n",
              "    <tr>\n",
              "      <th>86</th>\n",
              "      <td>6.7</td>\n",
              "      <td>3.1</td>\n",
              "      <td>4.7</td>\n",
              "      <td>1.5</td>\n",
              "      <td>Iris-versicolor</td>\n",
              "    </tr>\n",
              "    <tr>\n",
              "      <th>87</th>\n",
              "      <td>6.3</td>\n",
              "      <td>2.3</td>\n",
              "      <td>4.4</td>\n",
              "      <td>1.3</td>\n",
              "      <td>Iris-versicolor</td>\n",
              "    </tr>\n",
              "    <tr>\n",
              "      <th>88</th>\n",
              "      <td>5.6</td>\n",
              "      <td>3.0</td>\n",
              "      <td>4.1</td>\n",
              "      <td>1.3</td>\n",
              "      <td>Iris-versicolor</td>\n",
              "    </tr>\n",
              "    <tr>\n",
              "      <th>89</th>\n",
              "      <td>5.5</td>\n",
              "      <td>2.5</td>\n",
              "      <td>4.0</td>\n",
              "      <td>1.3</td>\n",
              "      <td>Iris-versicolor</td>\n",
              "    </tr>\n",
              "    <tr>\n",
              "      <th>90</th>\n",
              "      <td>5.5</td>\n",
              "      <td>2.6</td>\n",
              "      <td>4.4</td>\n",
              "      <td>1.2</td>\n",
              "      <td>Iris-versicolor</td>\n",
              "    </tr>\n",
              "    <tr>\n",
              "      <th>91</th>\n",
              "      <td>6.1</td>\n",
              "      <td>3.0</td>\n",
              "      <td>4.6</td>\n",
              "      <td>1.4</td>\n",
              "      <td>Iris-versicolor</td>\n",
              "    </tr>\n",
              "    <tr>\n",
              "      <th>92</th>\n",
              "      <td>5.8</td>\n",
              "      <td>2.6</td>\n",
              "      <td>4.0</td>\n",
              "      <td>1.2</td>\n",
              "      <td>Iris-versicolor</td>\n",
              "    </tr>\n",
              "    <tr>\n",
              "      <th>93</th>\n",
              "      <td>5.0</td>\n",
              "      <td>2.3</td>\n",
              "      <td>3.3</td>\n",
              "      <td>1.0</td>\n",
              "      <td>Iris-versicolor</td>\n",
              "    </tr>\n",
              "    <tr>\n",
              "      <th>94</th>\n",
              "      <td>5.6</td>\n",
              "      <td>2.7</td>\n",
              "      <td>NaN</td>\n",
              "      <td>1.3</td>\n",
              "      <td>Iris-versicolor</td>\n",
              "    </tr>\n",
              "    <tr>\n",
              "      <th>95</th>\n",
              "      <td>5.7</td>\n",
              "      <td>3.0</td>\n",
              "      <td>4.2</td>\n",
              "      <td>1.2</td>\n",
              "      <td>Iris-versicolor</td>\n",
              "    </tr>\n",
              "    <tr>\n",
              "      <th>96</th>\n",
              "      <td>5.7</td>\n",
              "      <td>2.9</td>\n",
              "      <td>4.2</td>\n",
              "      <td>1.3</td>\n",
              "      <td>Iris-versicolor</td>\n",
              "    </tr>\n",
              "    <tr>\n",
              "      <th>97</th>\n",
              "      <td>6.2</td>\n",
              "      <td>2.9</td>\n",
              "      <td>4.3</td>\n",
              "      <td>1.3</td>\n",
              "      <td>Iris-versicolor</td>\n",
              "    </tr>\n",
              "    <tr>\n",
              "      <th>98</th>\n",
              "      <td>5.1</td>\n",
              "      <td>NaN</td>\n",
              "      <td>3.0</td>\n",
              "      <td>1.1</td>\n",
              "      <td>Iris-versicolor</td>\n",
              "    </tr>\n",
              "    <tr>\n",
              "      <th>99</th>\n",
              "      <td>5.7</td>\n",
              "      <td>2.8</td>\n",
              "      <td>4.1</td>\n",
              "      <td>1.3</td>\n",
              "      <td>Iris-versicolor</td>\n",
              "    </tr>\n",
              "  </tbody>\n",
              "</table>\n",
              "</div>\n",
              "      <button class=\"colab-df-convert\" onclick=\"convertToInteractive('df-28c6336c-391d-41c6-9815-583dfd47f51c')\"\n",
              "              title=\"Convert this dataframe to an interactive table.\"\n",
              "              style=\"display:none;\">\n",
              "        \n",
              "  <svg xmlns=\"http://www.w3.org/2000/svg\" height=\"24px\"viewBox=\"0 0 24 24\"\n",
              "       width=\"24px\">\n",
              "    <path d=\"M0 0h24v24H0V0z\" fill=\"none\"/>\n",
              "    <path d=\"M18.56 5.44l.94 2.06.94-2.06 2.06-.94-2.06-.94-.94-2.06-.94 2.06-2.06.94zm-11 1L8.5 8.5l.94-2.06 2.06-.94-2.06-.94L8.5 2.5l-.94 2.06-2.06.94zm10 10l.94 2.06.94-2.06 2.06-.94-2.06-.94-.94-2.06-.94 2.06-2.06.94z\"/><path d=\"M17.41 7.96l-1.37-1.37c-.4-.4-.92-.59-1.43-.59-.52 0-1.04.2-1.43.59L10.3 9.45l-7.72 7.72c-.78.78-.78 2.05 0 2.83L4 21.41c.39.39.9.59 1.41.59.51 0 1.02-.2 1.41-.59l7.78-7.78 2.81-2.81c.8-.78.8-2.07 0-2.86zM5.41 20L4 18.59l7.72-7.72 1.47 1.35L5.41 20z\"/>\n",
              "  </svg>\n",
              "      </button>\n",
              "      \n",
              "  <style>\n",
              "    .colab-df-container {\n",
              "      display:flex;\n",
              "      flex-wrap:wrap;\n",
              "      gap: 12px;\n",
              "    }\n",
              "\n",
              "    .colab-df-convert {\n",
              "      background-color: #E8F0FE;\n",
              "      border: none;\n",
              "      border-radius: 50%;\n",
              "      cursor: pointer;\n",
              "      display: none;\n",
              "      fill: #1967D2;\n",
              "      height: 32px;\n",
              "      padding: 0 0 0 0;\n",
              "      width: 32px;\n",
              "    }\n",
              "\n",
              "    .colab-df-convert:hover {\n",
              "      background-color: #E2EBFA;\n",
              "      box-shadow: 0px 1px 2px rgba(60, 64, 67, 0.3), 0px 1px 3px 1px rgba(60, 64, 67, 0.15);\n",
              "      fill: #174EA6;\n",
              "    }\n",
              "\n",
              "    [theme=dark] .colab-df-convert {\n",
              "      background-color: #3B4455;\n",
              "      fill: #D2E3FC;\n",
              "    }\n",
              "\n",
              "    [theme=dark] .colab-df-convert:hover {\n",
              "      background-color: #434B5C;\n",
              "      box-shadow: 0px 1px 3px 1px rgba(0, 0, 0, 0.15);\n",
              "      filter: drop-shadow(0px 1px 2px rgba(0, 0, 0, 0.3));\n",
              "      fill: #FFFFFF;\n",
              "    }\n",
              "  </style>\n",
              "\n",
              "      <script>\n",
              "        const buttonEl =\n",
              "          document.querySelector('#df-28c6336c-391d-41c6-9815-583dfd47f51c button.colab-df-convert');\n",
              "        buttonEl.style.display =\n",
              "          google.colab.kernel.accessAllowed ? 'block' : 'none';\n",
              "\n",
              "        async function convertToInteractive(key) {\n",
              "          const element = document.querySelector('#df-28c6336c-391d-41c6-9815-583dfd47f51c');\n",
              "          const dataTable =\n",
              "            await google.colab.kernel.invokeFunction('convertToInteractive',\n",
              "                                                     [key], {});\n",
              "          if (!dataTable) return;\n",
              "\n",
              "          const docLinkHtml = 'Like what you see? Visit the ' +\n",
              "            '<a target=\"_blank\" href=https://colab.research.google.com/notebooks/data_table.ipynb>data table notebook</a>'\n",
              "            + ' to learn more about interactive tables.';\n",
              "          element.innerHTML = '';\n",
              "          dataTable['output_type'] = 'display_data';\n",
              "          await google.colab.output.renderOutput(dataTable, element);\n",
              "          const docLink = document.createElement('div');\n",
              "          docLink.innerHTML = docLinkHtml;\n",
              "          element.appendChild(docLink);\n",
              "        }\n",
              "      </script>\n",
              "    </div>\n",
              "  </div>\n",
              "  "
            ]
          },
          "metadata": {},
          "execution_count": 32
        }
      ]
    },
    {
      "cell_type": "code",
      "source": [
        "Iris_virginica"
      ],
      "metadata": {
        "colab": {
          "base_uri": "https://localhost:8080/",
          "height": 1000
        },
        "id": "5wIO2nmpLBZB",
        "outputId": "4c7605e0-51cd-4d2a-89ca-4b58ffd98cf7"
      },
      "execution_count": 33,
      "outputs": [
        {
          "output_type": "execute_result",
          "data": {
            "text/plain": [
              "      SL   SW   PL   PW  Classification\n",
              "100  6.3  3.3  6.0  2.5  Iris-virginica\n",
              "101  5.8  2.7  5.1  1.9  Iris-virginica\n",
              "102  7.1  3.0  5.9  2.1  Iris-virginica\n",
              "103  6.3  2.9  5.6  1.8  Iris-virginica\n",
              "104  6.5  3.0  5.8  2.2  Iris-virginica\n",
              "105  7.6  3.0  6.6  2.1  Iris-virginica\n",
              "106  NaN  2.5  4.5  1.7  Iris-virginica\n",
              "107  7.3  2.9  6.3  1.8  Iris-virginica\n",
              "108  6.7  2.5  5.8  1.8  Iris-virginica\n",
              "109  7.2  3.6  NaN  2.5  Iris-virginica\n",
              "110  6.5  3.2  5.1  2.0  Iris-virginica\n",
              "111  6.4  2.7  5.3  1.9  Iris-virginica\n",
              "112  6.8  3.0  5.5  2.1  Iris-virginica\n",
              "113  5.7  2.5  5.0  2.0  Iris-virginica\n",
              "114  5.8  2.8  5.1  2.4  Iris-virginica\n",
              "115  6.4  3.2  5.3  2.3  Iris-virginica\n",
              "116  6.5  3.0  5.5  1.8  Iris-virginica\n",
              "117  7.7  3.8  6.7  2.2  Iris-virginica\n",
              "118  7.7  2.6  6.9  2.3  Iris-virginica\n",
              "119  6.0  2.2  5.0  1.5  Iris-virginica\n",
              "120  6.9  3.2  5.7  2.3  Iris-virginica\n",
              "121  5.6  2.8  4.9  2.0  Iris-virginica\n",
              "122  7.7  2.8  6.7  2.0  Iris-virginica\n",
              "123  6.3  2.7  4.9  1.8  Iris-virginica\n",
              "124  6.7  NaN  5.7  2.1  Iris-virginica\n",
              "125  7.2  3.2  6.0  1.8  Iris-virginica\n",
              "126  6.2  2.8  4.8  1.8  Iris-virginica\n",
              "127  6.1  3.0  4.9  1.8  Iris-virginica\n",
              "128  6.4  2.8  5.6  2.1  Iris-virginica\n",
              "129  7.2  3.0  5.8  1.6  Iris-virginica\n",
              "130  7.4  2.8  6.1  1.9  Iris-virginica\n",
              "131  7.9  3.8  6.4  2.0  Iris-virginica\n",
              "132  6.4  2.8  5.6  2.2  Iris-virginica\n",
              "133  6.3  2.8  5.1  1.5  Iris-virginica\n",
              "134  6.1  2.6  5.6  1.4  Iris-virginica\n",
              "135  7.7  3.0  6.1  2.3  Iris-virginica\n",
              "136  6.3  3.4  5.6  2.4  Iris-virginica\n",
              "137  6.4  3.1  5.5  1.8  Iris-virginica\n",
              "138  6.0  3.0  4.8  1.8  Iris-virginica\n",
              "139  6.9  3.1  5.4  2.1  Iris-virginica\n",
              "140  6.7  3.1  5.6  2.4  Iris-virginica\n",
              "141  NaN  3.1  5.1  2.3  Iris-virginica\n",
              "142  5.8  2.7  5.1  1.9  Iris-virginica\n",
              "143  6.8  3.2  5.9  2.3  Iris-virginica\n",
              "144  6.7  3.3  5.7  2.5  Iris-virginica\n",
              "145  6.7  3.0  5.2  2.3  Iris-virginica\n",
              "146  6.3  2.5  5.0  1.9  Iris-virginica\n",
              "147  6.5  3.0  NaN  2.0  Iris-virginica\n",
              "148  6.2  3.4  5.4  2.3  Iris-virginica\n",
              "149  5.9  3.0  5.1  1.8  Iris-virginica"
            ],
            "text/html": [
              "\n",
              "  <div id=\"df-737cf7c4-0c9b-42a8-af62-9a936bff08e4\">\n",
              "    <div class=\"colab-df-container\">\n",
              "      <div>\n",
              "<style scoped>\n",
              "    .dataframe tbody tr th:only-of-type {\n",
              "        vertical-align: middle;\n",
              "    }\n",
              "\n",
              "    .dataframe tbody tr th {\n",
              "        vertical-align: top;\n",
              "    }\n",
              "\n",
              "    .dataframe thead th {\n",
              "        text-align: right;\n",
              "    }\n",
              "</style>\n",
              "<table border=\"1\" class=\"dataframe\">\n",
              "  <thead>\n",
              "    <tr style=\"text-align: right;\">\n",
              "      <th></th>\n",
              "      <th>SL</th>\n",
              "      <th>SW</th>\n",
              "      <th>PL</th>\n",
              "      <th>PW</th>\n",
              "      <th>Classification</th>\n",
              "    </tr>\n",
              "  </thead>\n",
              "  <tbody>\n",
              "    <tr>\n",
              "      <th>100</th>\n",
              "      <td>6.3</td>\n",
              "      <td>3.3</td>\n",
              "      <td>6.0</td>\n",
              "      <td>2.5</td>\n",
              "      <td>Iris-virginica</td>\n",
              "    </tr>\n",
              "    <tr>\n",
              "      <th>101</th>\n",
              "      <td>5.8</td>\n",
              "      <td>2.7</td>\n",
              "      <td>5.1</td>\n",
              "      <td>1.9</td>\n",
              "      <td>Iris-virginica</td>\n",
              "    </tr>\n",
              "    <tr>\n",
              "      <th>102</th>\n",
              "      <td>7.1</td>\n",
              "      <td>3.0</td>\n",
              "      <td>5.9</td>\n",
              "      <td>2.1</td>\n",
              "      <td>Iris-virginica</td>\n",
              "    </tr>\n",
              "    <tr>\n",
              "      <th>103</th>\n",
              "      <td>6.3</td>\n",
              "      <td>2.9</td>\n",
              "      <td>5.6</td>\n",
              "      <td>1.8</td>\n",
              "      <td>Iris-virginica</td>\n",
              "    </tr>\n",
              "    <tr>\n",
              "      <th>104</th>\n",
              "      <td>6.5</td>\n",
              "      <td>3.0</td>\n",
              "      <td>5.8</td>\n",
              "      <td>2.2</td>\n",
              "      <td>Iris-virginica</td>\n",
              "    </tr>\n",
              "    <tr>\n",
              "      <th>105</th>\n",
              "      <td>7.6</td>\n",
              "      <td>3.0</td>\n",
              "      <td>6.6</td>\n",
              "      <td>2.1</td>\n",
              "      <td>Iris-virginica</td>\n",
              "    </tr>\n",
              "    <tr>\n",
              "      <th>106</th>\n",
              "      <td>NaN</td>\n",
              "      <td>2.5</td>\n",
              "      <td>4.5</td>\n",
              "      <td>1.7</td>\n",
              "      <td>Iris-virginica</td>\n",
              "    </tr>\n",
              "    <tr>\n",
              "      <th>107</th>\n",
              "      <td>7.3</td>\n",
              "      <td>2.9</td>\n",
              "      <td>6.3</td>\n",
              "      <td>1.8</td>\n",
              "      <td>Iris-virginica</td>\n",
              "    </tr>\n",
              "    <tr>\n",
              "      <th>108</th>\n",
              "      <td>6.7</td>\n",
              "      <td>2.5</td>\n",
              "      <td>5.8</td>\n",
              "      <td>1.8</td>\n",
              "      <td>Iris-virginica</td>\n",
              "    </tr>\n",
              "    <tr>\n",
              "      <th>109</th>\n",
              "      <td>7.2</td>\n",
              "      <td>3.6</td>\n",
              "      <td>NaN</td>\n",
              "      <td>2.5</td>\n",
              "      <td>Iris-virginica</td>\n",
              "    </tr>\n",
              "    <tr>\n",
              "      <th>110</th>\n",
              "      <td>6.5</td>\n",
              "      <td>3.2</td>\n",
              "      <td>5.1</td>\n",
              "      <td>2.0</td>\n",
              "      <td>Iris-virginica</td>\n",
              "    </tr>\n",
              "    <tr>\n",
              "      <th>111</th>\n",
              "      <td>6.4</td>\n",
              "      <td>2.7</td>\n",
              "      <td>5.3</td>\n",
              "      <td>1.9</td>\n",
              "      <td>Iris-virginica</td>\n",
              "    </tr>\n",
              "    <tr>\n",
              "      <th>112</th>\n",
              "      <td>6.8</td>\n",
              "      <td>3.0</td>\n",
              "      <td>5.5</td>\n",
              "      <td>2.1</td>\n",
              "      <td>Iris-virginica</td>\n",
              "    </tr>\n",
              "    <tr>\n",
              "      <th>113</th>\n",
              "      <td>5.7</td>\n",
              "      <td>2.5</td>\n",
              "      <td>5.0</td>\n",
              "      <td>2.0</td>\n",
              "      <td>Iris-virginica</td>\n",
              "    </tr>\n",
              "    <tr>\n",
              "      <th>114</th>\n",
              "      <td>5.8</td>\n",
              "      <td>2.8</td>\n",
              "      <td>5.1</td>\n",
              "      <td>2.4</td>\n",
              "      <td>Iris-virginica</td>\n",
              "    </tr>\n",
              "    <tr>\n",
              "      <th>115</th>\n",
              "      <td>6.4</td>\n",
              "      <td>3.2</td>\n",
              "      <td>5.3</td>\n",
              "      <td>2.3</td>\n",
              "      <td>Iris-virginica</td>\n",
              "    </tr>\n",
              "    <tr>\n",
              "      <th>116</th>\n",
              "      <td>6.5</td>\n",
              "      <td>3.0</td>\n",
              "      <td>5.5</td>\n",
              "      <td>1.8</td>\n",
              "      <td>Iris-virginica</td>\n",
              "    </tr>\n",
              "    <tr>\n",
              "      <th>117</th>\n",
              "      <td>7.7</td>\n",
              "      <td>3.8</td>\n",
              "      <td>6.7</td>\n",
              "      <td>2.2</td>\n",
              "      <td>Iris-virginica</td>\n",
              "    </tr>\n",
              "    <tr>\n",
              "      <th>118</th>\n",
              "      <td>7.7</td>\n",
              "      <td>2.6</td>\n",
              "      <td>6.9</td>\n",
              "      <td>2.3</td>\n",
              "      <td>Iris-virginica</td>\n",
              "    </tr>\n",
              "    <tr>\n",
              "      <th>119</th>\n",
              "      <td>6.0</td>\n",
              "      <td>2.2</td>\n",
              "      <td>5.0</td>\n",
              "      <td>1.5</td>\n",
              "      <td>Iris-virginica</td>\n",
              "    </tr>\n",
              "    <tr>\n",
              "      <th>120</th>\n",
              "      <td>6.9</td>\n",
              "      <td>3.2</td>\n",
              "      <td>5.7</td>\n",
              "      <td>2.3</td>\n",
              "      <td>Iris-virginica</td>\n",
              "    </tr>\n",
              "    <tr>\n",
              "      <th>121</th>\n",
              "      <td>5.6</td>\n",
              "      <td>2.8</td>\n",
              "      <td>4.9</td>\n",
              "      <td>2.0</td>\n",
              "      <td>Iris-virginica</td>\n",
              "    </tr>\n",
              "    <tr>\n",
              "      <th>122</th>\n",
              "      <td>7.7</td>\n",
              "      <td>2.8</td>\n",
              "      <td>6.7</td>\n",
              "      <td>2.0</td>\n",
              "      <td>Iris-virginica</td>\n",
              "    </tr>\n",
              "    <tr>\n",
              "      <th>123</th>\n",
              "      <td>6.3</td>\n",
              "      <td>2.7</td>\n",
              "      <td>4.9</td>\n",
              "      <td>1.8</td>\n",
              "      <td>Iris-virginica</td>\n",
              "    </tr>\n",
              "    <tr>\n",
              "      <th>124</th>\n",
              "      <td>6.7</td>\n",
              "      <td>NaN</td>\n",
              "      <td>5.7</td>\n",
              "      <td>2.1</td>\n",
              "      <td>Iris-virginica</td>\n",
              "    </tr>\n",
              "    <tr>\n",
              "      <th>125</th>\n",
              "      <td>7.2</td>\n",
              "      <td>3.2</td>\n",
              "      <td>6.0</td>\n",
              "      <td>1.8</td>\n",
              "      <td>Iris-virginica</td>\n",
              "    </tr>\n",
              "    <tr>\n",
              "      <th>126</th>\n",
              "      <td>6.2</td>\n",
              "      <td>2.8</td>\n",
              "      <td>4.8</td>\n",
              "      <td>1.8</td>\n",
              "      <td>Iris-virginica</td>\n",
              "    </tr>\n",
              "    <tr>\n",
              "      <th>127</th>\n",
              "      <td>6.1</td>\n",
              "      <td>3.0</td>\n",
              "      <td>4.9</td>\n",
              "      <td>1.8</td>\n",
              "      <td>Iris-virginica</td>\n",
              "    </tr>\n",
              "    <tr>\n",
              "      <th>128</th>\n",
              "      <td>6.4</td>\n",
              "      <td>2.8</td>\n",
              "      <td>5.6</td>\n",
              "      <td>2.1</td>\n",
              "      <td>Iris-virginica</td>\n",
              "    </tr>\n",
              "    <tr>\n",
              "      <th>129</th>\n",
              "      <td>7.2</td>\n",
              "      <td>3.0</td>\n",
              "      <td>5.8</td>\n",
              "      <td>1.6</td>\n",
              "      <td>Iris-virginica</td>\n",
              "    </tr>\n",
              "    <tr>\n",
              "      <th>130</th>\n",
              "      <td>7.4</td>\n",
              "      <td>2.8</td>\n",
              "      <td>6.1</td>\n",
              "      <td>1.9</td>\n",
              "      <td>Iris-virginica</td>\n",
              "    </tr>\n",
              "    <tr>\n",
              "      <th>131</th>\n",
              "      <td>7.9</td>\n",
              "      <td>3.8</td>\n",
              "      <td>6.4</td>\n",
              "      <td>2.0</td>\n",
              "      <td>Iris-virginica</td>\n",
              "    </tr>\n",
              "    <tr>\n",
              "      <th>132</th>\n",
              "      <td>6.4</td>\n",
              "      <td>2.8</td>\n",
              "      <td>5.6</td>\n",
              "      <td>2.2</td>\n",
              "      <td>Iris-virginica</td>\n",
              "    </tr>\n",
              "    <tr>\n",
              "      <th>133</th>\n",
              "      <td>6.3</td>\n",
              "      <td>2.8</td>\n",
              "      <td>5.1</td>\n",
              "      <td>1.5</td>\n",
              "      <td>Iris-virginica</td>\n",
              "    </tr>\n",
              "    <tr>\n",
              "      <th>134</th>\n",
              "      <td>6.1</td>\n",
              "      <td>2.6</td>\n",
              "      <td>5.6</td>\n",
              "      <td>1.4</td>\n",
              "      <td>Iris-virginica</td>\n",
              "    </tr>\n",
              "    <tr>\n",
              "      <th>135</th>\n",
              "      <td>7.7</td>\n",
              "      <td>3.0</td>\n",
              "      <td>6.1</td>\n",
              "      <td>2.3</td>\n",
              "      <td>Iris-virginica</td>\n",
              "    </tr>\n",
              "    <tr>\n",
              "      <th>136</th>\n",
              "      <td>6.3</td>\n",
              "      <td>3.4</td>\n",
              "      <td>5.6</td>\n",
              "      <td>2.4</td>\n",
              "      <td>Iris-virginica</td>\n",
              "    </tr>\n",
              "    <tr>\n",
              "      <th>137</th>\n",
              "      <td>6.4</td>\n",
              "      <td>3.1</td>\n",
              "      <td>5.5</td>\n",
              "      <td>1.8</td>\n",
              "      <td>Iris-virginica</td>\n",
              "    </tr>\n",
              "    <tr>\n",
              "      <th>138</th>\n",
              "      <td>6.0</td>\n",
              "      <td>3.0</td>\n",
              "      <td>4.8</td>\n",
              "      <td>1.8</td>\n",
              "      <td>Iris-virginica</td>\n",
              "    </tr>\n",
              "    <tr>\n",
              "      <th>139</th>\n",
              "      <td>6.9</td>\n",
              "      <td>3.1</td>\n",
              "      <td>5.4</td>\n",
              "      <td>2.1</td>\n",
              "      <td>Iris-virginica</td>\n",
              "    </tr>\n",
              "    <tr>\n",
              "      <th>140</th>\n",
              "      <td>6.7</td>\n",
              "      <td>3.1</td>\n",
              "      <td>5.6</td>\n",
              "      <td>2.4</td>\n",
              "      <td>Iris-virginica</td>\n",
              "    </tr>\n",
              "    <tr>\n",
              "      <th>141</th>\n",
              "      <td>NaN</td>\n",
              "      <td>3.1</td>\n",
              "      <td>5.1</td>\n",
              "      <td>2.3</td>\n",
              "      <td>Iris-virginica</td>\n",
              "    </tr>\n",
              "    <tr>\n",
              "      <th>142</th>\n",
              "      <td>5.8</td>\n",
              "      <td>2.7</td>\n",
              "      <td>5.1</td>\n",
              "      <td>1.9</td>\n",
              "      <td>Iris-virginica</td>\n",
              "    </tr>\n",
              "    <tr>\n",
              "      <th>143</th>\n",
              "      <td>6.8</td>\n",
              "      <td>3.2</td>\n",
              "      <td>5.9</td>\n",
              "      <td>2.3</td>\n",
              "      <td>Iris-virginica</td>\n",
              "    </tr>\n",
              "    <tr>\n",
              "      <th>144</th>\n",
              "      <td>6.7</td>\n",
              "      <td>3.3</td>\n",
              "      <td>5.7</td>\n",
              "      <td>2.5</td>\n",
              "      <td>Iris-virginica</td>\n",
              "    </tr>\n",
              "    <tr>\n",
              "      <th>145</th>\n",
              "      <td>6.7</td>\n",
              "      <td>3.0</td>\n",
              "      <td>5.2</td>\n",
              "      <td>2.3</td>\n",
              "      <td>Iris-virginica</td>\n",
              "    </tr>\n",
              "    <tr>\n",
              "      <th>146</th>\n",
              "      <td>6.3</td>\n",
              "      <td>2.5</td>\n",
              "      <td>5.0</td>\n",
              "      <td>1.9</td>\n",
              "      <td>Iris-virginica</td>\n",
              "    </tr>\n",
              "    <tr>\n",
              "      <th>147</th>\n",
              "      <td>6.5</td>\n",
              "      <td>3.0</td>\n",
              "      <td>NaN</td>\n",
              "      <td>2.0</td>\n",
              "      <td>Iris-virginica</td>\n",
              "    </tr>\n",
              "    <tr>\n",
              "      <th>148</th>\n",
              "      <td>6.2</td>\n",
              "      <td>3.4</td>\n",
              "      <td>5.4</td>\n",
              "      <td>2.3</td>\n",
              "      <td>Iris-virginica</td>\n",
              "    </tr>\n",
              "    <tr>\n",
              "      <th>149</th>\n",
              "      <td>5.9</td>\n",
              "      <td>3.0</td>\n",
              "      <td>5.1</td>\n",
              "      <td>1.8</td>\n",
              "      <td>Iris-virginica</td>\n",
              "    </tr>\n",
              "  </tbody>\n",
              "</table>\n",
              "</div>\n",
              "      <button class=\"colab-df-convert\" onclick=\"convertToInteractive('df-737cf7c4-0c9b-42a8-af62-9a936bff08e4')\"\n",
              "              title=\"Convert this dataframe to an interactive table.\"\n",
              "              style=\"display:none;\">\n",
              "        \n",
              "  <svg xmlns=\"http://www.w3.org/2000/svg\" height=\"24px\"viewBox=\"0 0 24 24\"\n",
              "       width=\"24px\">\n",
              "    <path d=\"M0 0h24v24H0V0z\" fill=\"none\"/>\n",
              "    <path d=\"M18.56 5.44l.94 2.06.94-2.06 2.06-.94-2.06-.94-.94-2.06-.94 2.06-2.06.94zm-11 1L8.5 8.5l.94-2.06 2.06-.94-2.06-.94L8.5 2.5l-.94 2.06-2.06.94zm10 10l.94 2.06.94-2.06 2.06-.94-2.06-.94-.94-2.06-.94 2.06-2.06.94z\"/><path d=\"M17.41 7.96l-1.37-1.37c-.4-.4-.92-.59-1.43-.59-.52 0-1.04.2-1.43.59L10.3 9.45l-7.72 7.72c-.78.78-.78 2.05 0 2.83L4 21.41c.39.39.9.59 1.41.59.51 0 1.02-.2 1.41-.59l7.78-7.78 2.81-2.81c.8-.78.8-2.07 0-2.86zM5.41 20L4 18.59l7.72-7.72 1.47 1.35L5.41 20z\"/>\n",
              "  </svg>\n",
              "      </button>\n",
              "      \n",
              "  <style>\n",
              "    .colab-df-container {\n",
              "      display:flex;\n",
              "      flex-wrap:wrap;\n",
              "      gap: 12px;\n",
              "    }\n",
              "\n",
              "    .colab-df-convert {\n",
              "      background-color: #E8F0FE;\n",
              "      border: none;\n",
              "      border-radius: 50%;\n",
              "      cursor: pointer;\n",
              "      display: none;\n",
              "      fill: #1967D2;\n",
              "      height: 32px;\n",
              "      padding: 0 0 0 0;\n",
              "      width: 32px;\n",
              "    }\n",
              "\n",
              "    .colab-df-convert:hover {\n",
              "      background-color: #E2EBFA;\n",
              "      box-shadow: 0px 1px 2px rgba(60, 64, 67, 0.3), 0px 1px 3px 1px rgba(60, 64, 67, 0.15);\n",
              "      fill: #174EA6;\n",
              "    }\n",
              "\n",
              "    [theme=dark] .colab-df-convert {\n",
              "      background-color: #3B4455;\n",
              "      fill: #D2E3FC;\n",
              "    }\n",
              "\n",
              "    [theme=dark] .colab-df-convert:hover {\n",
              "      background-color: #434B5C;\n",
              "      box-shadow: 0px 1px 3px 1px rgba(0, 0, 0, 0.15);\n",
              "      filter: drop-shadow(0px 1px 2px rgba(0, 0, 0, 0.3));\n",
              "      fill: #FFFFFF;\n",
              "    }\n",
              "  </style>\n",
              "\n",
              "      <script>\n",
              "        const buttonEl =\n",
              "          document.querySelector('#df-737cf7c4-0c9b-42a8-af62-9a936bff08e4 button.colab-df-convert');\n",
              "        buttonEl.style.display =\n",
              "          google.colab.kernel.accessAllowed ? 'block' : 'none';\n",
              "\n",
              "        async function convertToInteractive(key) {\n",
              "          const element = document.querySelector('#df-737cf7c4-0c9b-42a8-af62-9a936bff08e4');\n",
              "          const dataTable =\n",
              "            await google.colab.kernel.invokeFunction('convertToInteractive',\n",
              "                                                     [key], {});\n",
              "          if (!dataTable) return;\n",
              "\n",
              "          const docLinkHtml = 'Like what you see? Visit the ' +\n",
              "            '<a target=\"_blank\" href=https://colab.research.google.com/notebooks/data_table.ipynb>data table notebook</a>'\n",
              "            + ' to learn more about interactive tables.';\n",
              "          element.innerHTML = '';\n",
              "          dataTable['output_type'] = 'display_data';\n",
              "          await google.colab.output.renderOutput(dataTable, element);\n",
              "          const docLink = document.createElement('div');\n",
              "          docLink.innerHTML = docLinkHtml;\n",
              "          element.appendChild(docLink);\n",
              "        }\n",
              "      </script>\n",
              "    </div>\n",
              "  </div>\n",
              "  "
            ]
          },
          "metadata": {},
          "execution_count": 33
        }
      ]
    },
    {
      "cell_type": "code",
      "source": [
        "print('Null values of Iris_setosa\\n', Iris_setosa.isna().sum())\n",
        "print('Null values of Iris-versicolor\\n', Iris_versicolor.isna().sum())\n",
        "print('Null values of Iris-virginica\\n', Iris_virginica.isna().sum())"
      ],
      "metadata": {
        "colab": {
          "base_uri": "https://localhost:8080/"
        },
        "id": "LP7_CsSxGYhd",
        "outputId": "62649e8b-a22e-42f1-f0ba-ffdc9ea77aa4"
      },
      "execution_count": 34,
      "outputs": [
        {
          "output_type": "stream",
          "name": "stdout",
          "text": [
            "Null values of Iris_setosa\n",
            " SL                3\n",
            "SW                3\n",
            "PL                2\n",
            "PW                0\n",
            "Classification    0\n",
            "dtype: int64\n",
            "Null values of Iris-versicolor\n",
            " SL                2\n",
            "SW                2\n",
            "PL                2\n",
            "PW                0\n",
            "Classification    0\n",
            "dtype: int64\n",
            "Null values of Iris-virginica\n",
            " SL                2\n",
            "SW                1\n",
            "PL                2\n",
            "PW                0\n",
            "Classification    0\n",
            "dtype: int64\n"
          ]
        }
      ]
    },
    {
      "cell_type": "code",
      "source": [
        "# since these are numeric values either mean or median can be used to fill missing values"
      ],
      "metadata": {
        "id": "CUxwyH8bIM81"
      },
      "execution_count": 35,
      "outputs": []
    },
    {
      "cell_type": "markdown",
      "source": [
        "Plot the histogram to see the distribution curve of data"
      ],
      "metadata": {
        "id": "hvZTfynzICcf"
      }
    },
    {
      "cell_type": "code",
      "source": [
        "freqgraph=Iris_setosa.select_dtypes(include=['float'])\n",
        "freqgraph.hist(figsize=(20,15))\n",
        "plt.xlabel('Iris_setosa')\n",
        "plt.show()\n",
        "\n",
        "freqgraph=Iris_versicolor.select_dtypes(include=['float'])\n",
        "freqgraph.hist(figsize=(20,15))\n",
        "plt.xlabel('Iris-versicolor')\n",
        "plt.show()\n",
        "\n",
        "freqgraph=Iris_virginica.select_dtypes(include=['float'])\n",
        "freqgraph.hist(figsize=(20,15))\n",
        "plt.xlabel('Iris-virginica')\n",
        "plt.show()"
      ],
      "metadata": {
        "colab": {
          "base_uri": "https://localhost:8080/",
          "height": 1000
        },
        "id": "vnvMOFfKIXp0",
        "outputId": "472ae333-6f21-4583-a950-ac383baf913a"
      },
      "execution_count": 36,
      "outputs": [
        {
          "output_type": "display_data",
          "data": {
            "text/plain": [
              "<Figure size 2000x1500 with 4 Axes>"
            ],
            "image/png": "[encoded data removed]"
          },
          "metadata": {}
        },
        {
          "output_type": "display_data",
          "data": {
            "text/plain": [
              "<Figure size 2000x1500 with 4 Axes>"
            ],
            "image/png": "[encoded data removed]"
          },
          "metadata": {}
        },
        {
          "output_type": "display_data",
          "data": {
            "text/plain": [
              "<Figure size 2000x1500 with 4 Axes>"
            ],
            "image/png": "[encoded data removed]"
          },
          "metadata": {}
        }
      ]
    },
    {
      "cell_type": "markdown",
      "source": [
        "finding the skewness value of data distribution of SL SW and PL where there are missing values"
      ],
      "metadata": {
        "id": "ltG61OfmIwut"
      }
    },
    {
      "cell_type": "code",
      "source": [
        "print('Iris_setosa\\n')\n",
        "print('Skewness value of Sepal Length : ',Iris_setosa['SL'].skew())\n",
        "print('Skewness value of Sepal Width : ',Iris_setosa['SW'].skew())\n",
        "print('Skewness value of Petal Length : ',Iris_setosa['PL'].skew())\n",
        "print('\\nIris_versicolor\\n')\n",
        "print('Skewness value of Sepal Length : ',Iris_versicolor['SL'].skew())\n",
        "print('Skewness value of Sepal Width : ',Iris_versicolor['SW'].skew())\n",
        "print('Skewness value of Petal Length : ',Iris_versicolor['PL'].skew())\n",
        "print('\\nIris_virginica\\n')\n",
        "print('Skewness value of Sepal Length : ',Iris_virginica['SL'].skew())\n",
        "print('Skewness value of Sepal Width : ',Iris_virginica['SW'].skew())\n",
        "print('Skewness value of Petal Length : ',Iris_virginica['PL'].skew())"
      ],
      "metadata": {
        "colab": {
          "base_uri": "https://localhost:8080/"
        },
        "id": "-D7fLvixInXl",
        "outputId": "5d76e4f7-0548-4408-bb5e-f9cbee275584"
      },
      "execution_count": 37,
      "outputs": [
        {
          "output_type": "stream",
          "name": "stdout",
          "text": [
            "Iris_setosa\n",
            "\n",
            "Skewness value of Sepal Length :  0.11120734794013022\n",
            "Skewness value of Sepal Width :  0.17334760923456546\n",
            "Skewness value of Petal Length :  0.007253522419669448\n",
            "\n",
            "Iris_versicolor\n",
            "\n",
            "Skewness value of Sepal Length :  0.1564438199889125\n",
            "Skewness value of Sepal Width :  -0.45733341911255476\n",
            "Skewness value of Petal Length :  -0.5773625043590145\n",
            "\n",
            "Iris_virginica\n",
            "\n",
            "Skewness value of Sepal Length :  0.4931740317635753\n",
            "Skewness value of Sepal Width :  0.41648626690249846\n",
            "Skewness value of Petal Length :  0.5702666548011346\n"
          ]
        }
      ]
    },
    {
      "cell_type": "code",
      "source": [
        "#the skewness value between -1/2 and +1/2 = approximately symmetric distribution and hence we can use mean to replace the missing values\n",
        "# Skewness value of PL of ris_versicolor and Iris_virginica is between -1 and -1/2 or  +1/2 and +1 = moderately skewed distribution and hence we can use median to replace the missing values"
      ],
      "metadata": {
        "id": "LrIx7r7_JwBf"
      },
      "execution_count": 38,
      "outputs": []
    },
    {
      "cell_type": "markdown",
      "source": [
        ": Feature engineering - Missing value handling\n",
        "\n"
      ],
      "metadata": {
        "id": "03_SG_Xk-UaF"
      }
    },
    {
      "cell_type": "code",
      "source": [
        "Iris_setosa['SL']=Iris_setosa['SL'].fillna(Iris_setosa['SL'].mean())\n",
        "Iris_setosa['SW']=Iris_setosa['SW'].fillna(Iris_setosa['SW'].mean())\n",
        "Iris_setosa['PL']=Iris_setosa['PL'].fillna(Iris_setosa['PL'].mean())\n",
        "\n",
        "Iris_versicolor['SL']=Iris_versicolor['SL'].fillna(Iris_versicolor['SL'].mean())\n",
        "Iris_versicolor['SW']=Iris_versicolor['SW'].fillna(Iris_versicolor['SW'].mean())\n",
        "Iris_versicolor['PL']=Iris_versicolor['PL'].fillna(Iris_versicolor['PL'].median())\n",
        "\n",
        "Iris_virginica['SL']=Iris_virginica['SL'].fillna(Iris_virginica['SL'].mean())\n",
        "Iris_virginica['SW']=Iris_virginica['SW'].fillna(Iris_virginica['SW'].mean())\n",
        "Iris_virginica['PL']=Iris_virginica['PL'].fillna(Iris_virginica['PL'].median())"
      ],
      "metadata": {
        "colab": {
          "base_uri": "https://localhost:8080/"
        },
        "id": "eSNObDjqJ4nM",
        "outputId": "d1729f26-1f20-4625-c2a0-46f13b116b19"
      },
      "execution_count": 39,
      "outputs": [
        {
          "output_type": "stream",
          "name": "stderr",
          "text": [
            "<ipython-input-39-1bb47af991bc>:1: SettingWithCopyWarning: \n",
            "A value is trying to be set on a copy of a slice from a DataFrame.\n",
            "Try using .loc[row_indexer,col_indexer] = value instead\n",
            "\n",
            "See the caveats in the documentation: https://pandas.pydata.org/pandas-docs/stable/user_guide/indexing.html#returning-a-view-versus-a-copy\n",
            "  Iris_setosa['SL']=Iris_setosa['SL'].fillna(Iris_setosa['SL'].mean())\n",
            "<ipython-input-39-1bb47af991bc>:2: SettingWithCopyWarning: \n",
            "A value is trying to be set on a copy of a slice from a DataFrame.\n",
            "Try using .loc[row_indexer,col_indexer] = value instead\n",
            "\n",
            "See the caveats in the documentation: https://pandas.pydata.org/pandas-docs/stable/user_guide/indexing.html#returning-a-view-versus-a-copy\n",
            "  Iris_setosa['SW']=Iris_setosa['SW'].fillna(Iris_setosa['SW'].mean())\n",
            "<ipython-input-39-1bb47af991bc>:3: SettingWithCopyWarning: \n",
            "A value is trying to be set on a copy of a slice from a DataFrame.\n",
            "Try using .loc[row_indexer,col_indexer] = value instead\n",
            "\n",
            "See the caveats in the documentation: https://pandas.pydata.org/pandas-docs/stable/user_guide/indexing.html#returning-a-view-versus-a-copy\n",
            "  Iris_setosa['PL']=Iris_setosa['PL'].fillna(Iris_setosa['PL'].mean())\n",
            "<ipython-input-39-1bb47af991bc>:5: SettingWithCopyWarning: \n",
            "A value is trying to be set on a copy of a slice from a DataFrame.\n",
            "Try using .loc[row_indexer,col_indexer] = value instead\n",
            "\n",
            "See the caveats in the documentation: https://pandas.pydata.org/pandas-docs/stable/user_guide/indexing.html#returning-a-view-versus-a-copy\n",
            "  Iris_versicolor['SL']=Iris_versicolor['SL'].fillna(Iris_versicolor['SL'].mean())\n",
            "<ipython-input-39-1bb47af991bc>:6: SettingWithCopyWarning: \n",
            "A value is trying to be set on a copy of a slice from a DataFrame.\n",
            "Try using .loc[row_indexer,col_indexer] = value instead\n",
            "\n",
            "See the caveats in the documentation: https://pandas.pydata.org/pandas-docs/stable/user_guide/indexing.html#returning-a-view-versus-a-copy\n",
            "  Iris_versicolor['SW']=Iris_versicolor['SW'].fillna(Iris_versicolor['SW'].mean())\n",
            "<ipython-input-39-1bb47af991bc>:7: SettingWithCopyWarning: \n",
            "A value is trying to be set on a copy of a slice from a DataFrame.\n",
            "Try using .loc[row_indexer,col_indexer] = value instead\n",
            "\n",
            "See the caveats in the documentation: https://pandas.pydata.org/pandas-docs/stable/user_guide/indexing.html#returning-a-view-versus-a-copy\n",
            "  Iris_versicolor['PL']=Iris_versicolor['PL'].fillna(Iris_versicolor['PL'].median())\n",
            "<ipython-input-39-1bb47af991bc>:9: SettingWithCopyWarning: \n",
            "A value is trying to be set on a copy of a slice from a DataFrame.\n",
            "Try using .loc[row_indexer,col_indexer] = value instead\n",
            "\n",
            "See the caveats in the documentation: https://pandas.pydata.org/pandas-docs/stable/user_guide/indexing.html#returning-a-view-versus-a-copy\n",
            "  Iris_virginica['SL']=Iris_virginica['SL'].fillna(Iris_virginica['SL'].mean())\n",
            "<ipython-input-39-1bb47af991bc>:10: SettingWithCopyWarning: \n",
            "A value is trying to be set on a copy of a slice from a DataFrame.\n",
            "Try using .loc[row_indexer,col_indexer] = value instead\n",
            "\n",
            "See the caveats in the documentation: https://pandas.pydata.org/pandas-docs/stable/user_guide/indexing.html#returning-a-view-versus-a-copy\n",
            "  Iris_virginica['SW']=Iris_virginica['SW'].fillna(Iris_virginica['SW'].mean())\n",
            "<ipython-input-39-1bb47af991bc>:11: SettingWithCopyWarning: \n",
            "A value is trying to be set on a copy of a slice from a DataFrame.\n",
            "Try using .loc[row_indexer,col_indexer] = value instead\n",
            "\n",
            "See the caveats in the documentation: https://pandas.pydata.org/pandas-docs/stable/user_guide/indexing.html#returning-a-view-versus-a-copy\n",
            "  Iris_virginica['PL']=Iris_virginica['PL'].fillna(Iris_virginica['PL'].median())\n"
          ]
        }
      ]
    },
    {
      "cell_type": "markdown",
      "source": [
        "Finding the number of missing values"
      ],
      "metadata": {
        "id": "JiSXgfm_Ke2T"
      }
    },
    {
      "cell_type": "code",
      "source": [
        "print('Null values of Iris_setosa\\n', Iris_setosa.isna().sum())\n",
        "print('Null values of Iris-versicolor\\n', Iris_versicolor.isna().sum())\n",
        "print('Null values of Iris-virginica\\n', Iris_virginica.isna().sum())"
      ],
      "metadata": {
        "colab": {
          "base_uri": "https://localhost:8080/"
        },
        "id": "oj2C9qZuKebs",
        "outputId": "eb0bc752-5737-45e0-c74e-7e841ea0f6c7"
      },
      "execution_count": 40,
      "outputs": [
        {
          "output_type": "stream",
          "name": "stdout",
          "text": [
            "Null values of Iris_setosa\n",
            " SL                0\n",
            "SW                0\n",
            "PL                0\n",
            "PW                0\n",
            "Classification    0\n",
            "dtype: int64\n",
            "Null values of Iris-versicolor\n",
            " SL                0\n",
            "SW                0\n",
            "PL                0\n",
            "PW                0\n",
            "Classification    0\n",
            "dtype: int64\n",
            "Null values of Iris-virginica\n",
            " SL                0\n",
            "SW                0\n",
            "PL                0\n",
            "PW                0\n",
            "Classification    0\n",
            "dtype: int64\n"
          ]
        }
      ]
    },
    {
      "cell_type": "markdown",
      "source": [
        "Combine the 3 data frames after replacing the missing value to a single data frame in variable \"data\""
      ],
      "metadata": {
        "id": "JwUC1bot0NLW"
      }
    },
    {
      "cell_type": "code",
      "source": [
        "frames=[Iris_setosa,Iris_versicolor,Iris_virginica]\n",
        "data=pd.concat(frames)\n",
        "display(data)"
      ],
      "metadata": {
        "colab": {
          "base_uri": "https://localhost:8080/",
          "height": 424
        },
        "id": "PSX0KE2LRvVR",
        "outputId": "90d8c66d-5924-4d4d-bdcc-7b9ad301d265"
      },
      "execution_count": 82,
      "outputs": [
        {
          "output_type": "display_data",
          "data": {
            "text/plain": [
              "           SL   SW    PL   PW  Classification\n",
              "0    5.100000  3.5  1.40  0.2     Iris-setosa\n",
              "1    4.900000  3.0  1.40  0.2     Iris-setosa\n",
              "2    5.008511  3.2  1.30  0.2     Iris-setosa\n",
              "3    4.600000  3.1  1.50  0.2     Iris-setosa\n",
              "4    5.000000  3.6  1.40  0.2     Iris-setosa\n",
              "..        ...  ...   ...  ...             ...\n",
              "145  6.700000  3.0  5.20  2.3  Iris-virginica\n",
              "146  6.300000  2.5  5.00  1.9  Iris-virginica\n",
              "147  6.500000  3.0  5.55  2.0  Iris-virginica\n",
              "148  6.200000  3.4  5.40  2.3  Iris-virginica\n",
              "149  5.900000  3.0  5.10  1.8  Iris-virginica\n",
              "\n",
              "[150 rows x 5 columns]"
            ],
            "text/html": [
              "\n",
              "  <div id=\"df-0d4d9b43-9eda-4941-9664-3cd2cb4dcbf9\">\n",
              "    <div class=\"colab-df-container\">\n",
              "      <div>\n",
              "<style scoped>\n",
              "    .dataframe tbody tr th:only-of-type {\n",
              "        vertical-align: middle;\n",
              "    }\n",
              "\n",
              "    .dataframe tbody tr th {\n",
              "        vertical-align: top;\n",
              "    }\n",
              "\n",
              "    .dataframe thead th {\n",
              "        text-align: right;\n",
              "    }\n",
              "</style>\n",
              "<table border=\"1\" class=\"dataframe\">\n",
              "  <thead>\n",
              "    <tr style=\"text-align: right;\">\n",
              "      <th></th>\n",
              "      <th>SL</th>\n",
              "      <th>SW</th>\n",
              "      <th>PL</th>\n",
              "      <th>PW</th>\n",
              "      <th>Classification</th>\n",
              "    </tr>\n",
              "  </thead>\n",
              "  <tbody>\n",
              "    <tr>\n",
              "      <th>0</th>\n",
              "      <td>5.100000</td>\n",
              "      <td>3.5</td>\n",
              "      <td>1.40</td>\n",
              "      <td>0.2</td>\n",
              "      <td>Iris-setosa</td>\n",
              "    </tr>\n",
              "    <tr>\n",
              "      <th>1</th>\n",
              "      <td>4.900000</td>\n",
              "      <td>3.0</td>\n",
              "      <td>1.40</td>\n",
              "      <td>0.2</td>\n",
              "      <td>Iris-setosa</td>\n",
              "    </tr>\n",
              "    <tr>\n",
              "      <th>2</th>\n",
              "      <td>5.008511</td>\n",
              "      <td>3.2</td>\n",
              "      <td>1.30</td>\n",
              "      <td>0.2</td>\n",
              "      <td>Iris-setosa</td>\n",
              "    </tr>\n",
              "    <tr>\n",
              "      <th>3</th>\n",
              "      <td>4.600000</td>\n",
              "      <td>3.1</td>\n",
              "      <td>1.50</td>\n",
              "      <td>0.2</td>\n",
              "      <td>Iris-setosa</td>\n",
              "    </tr>\n",
              "    <tr>\n",
              "      <th>4</th>\n",
              "      <td>5.000000</td>\n",
              "      <td>3.6</td>\n",
              "      <td>1.40</td>\n",
              "      <td>0.2</td>\n",
              "      <td>Iris-setosa</td>\n",
              "    </tr>\n",
              "    <tr>\n",
              "      <th>...</th>\n",
              "      <td>...</td>\n",
              "      <td>...</td>\n",
              "      <td>...</td>\n",
              "      <td>...</td>\n",
              "      <td>...</td>\n",
              "    </tr>\n",
              "    <tr>\n",
              "      <th>145</th>\n",
              "      <td>6.700000</td>\n",
              "      <td>3.0</td>\n",
              "      <td>5.20</td>\n",
              "      <td>2.3</td>\n",
              "      <td>Iris-virginica</td>\n",
              "    </tr>\n",
              "    <tr>\n",
              "      <th>146</th>\n",
              "      <td>6.300000</td>\n",
              "      <td>2.5</td>\n",
              "      <td>5.00</td>\n",
              "      <td>1.9</td>\n",
              "      <td>Iris-virginica</td>\n",
              "    </tr>\n",
              "    <tr>\n",
              "      <th>147</th>\n",
              "      <td>6.500000</td>\n",
              "      <td>3.0</td>\n",
              "      <td>5.55</td>\n",
              "      <td>2.0</td>\n",
              "      <td>Iris-virginica</td>\n",
              "    </tr>\n",
              "    <tr>\n",
              "      <th>148</th>\n",
              "      <td>6.200000</td>\n",
              "      <td>3.4</td>\n",
              "      <td>5.40</td>\n",
              "      <td>2.3</td>\n",
              "      <td>Iris-virginica</td>\n",
              "    </tr>\n",
              "    <tr>\n",
              "      <th>149</th>\n",
              "      <td>5.900000</td>\n",
              "      <td>3.0</td>\n",
              "      <td>5.10</td>\n",
              "      <td>1.8</td>\n",
              "      <td>Iris-virginica</td>\n",
              "    </tr>\n",
              "  </tbody>\n",
              "</table>\n",
              "<p>150 rows × 5 columns</p>\n",
              "</div>\n",
              "      <button class=\"colab-df-convert\" onclick=\"convertToInteractive('df-0d4d9b43-9eda-4941-9664-3cd2cb4dcbf9')\"\n",
              "              title=\"Convert this dataframe to an interactive table.\"\n",
              "              style=\"display:none;\">\n",
              "        \n",
              "  <svg xmlns=\"http://www.w3.org/2000/svg\" height=\"24px\"viewBox=\"0 0 24 24\"\n",
              "       width=\"24px\">\n",
              "    <path d=\"M0 0h24v24H0V0z\" fill=\"none\"/>\n",
              "    <path d=\"M18.56 5.44l.94 2.06.94-2.06 2.06-.94-2.06-.94-.94-2.06-.94 2.06-2.06.94zm-11 1L8.5 8.5l.94-2.06 2.06-.94-2.06-.94L8.5 2.5l-.94 2.06-2.06.94zm10 10l.94 2.06.94-2.06 2.06-.94-2.06-.94-.94-2.06-.94 2.06-2.06.94z\"/><path d=\"M17.41 7.96l-1.37-1.37c-.4-.4-.92-.59-1.43-.59-.52 0-1.04.2-1.43.59L10.3 9.45l-7.72 7.72c-.78.78-.78 2.05 0 2.83L4 21.41c.39.39.9.59 1.41.59.51 0 1.02-.2 1.41-.59l7.78-7.78 2.81-2.81c.8-.78.8-2.07 0-2.86zM5.41 20L4 18.59l7.72-7.72 1.47 1.35L5.41 20z\"/>\n",
              "  </svg>\n",
              "      </button>\n",
              "      \n",
              "  <style>\n",
              "    .colab-df-container {\n",
              "      display:flex;\n",
              "      flex-wrap:wrap;\n",
              "      gap: 12px;\n",
              "    }\n",
              "\n",
              "    .colab-df-convert {\n",
              "      background-color: #E8F0FE;\n",
              "      border: none;\n",
              "      border-radius: 50%;\n",
              "      cursor: pointer;\n",
              "      display: none;\n",
              "      fill: #1967D2;\n",
              "      height: 32px;\n",
              "      padding: 0 0 0 0;\n",
              "      width: 32px;\n",
              "    }\n",
              "\n",
              "    .colab-df-convert:hover {\n",
              "      background-color: #E2EBFA;\n",
              "      box-shadow: 0px 1px 2px rgba(60, 64, 67, 0.3), 0px 1px 3px 1px rgba(60, 64, 67, 0.15);\n",
              "      fill: #174EA6;\n",
              "    }\n",
              "\n",
              "    [theme=dark] .colab-df-convert {\n",
              "      background-color: #3B4455;\n",
              "      fill: #D2E3FC;\n",
              "    }\n",
              "\n",
              "    [theme=dark] .colab-df-convert:hover {\n",
              "      background-color: #434B5C;\n",
              "      box-shadow: 0px 1px 3px 1px rgba(0, 0, 0, 0.15);\n",
              "      filter: drop-shadow(0px 1px 2px rgba(0, 0, 0, 0.3));\n",
              "      fill: #FFFFFF;\n",
              "    }\n",
              "  </style>\n",
              "\n",
              "      <script>\n",
              "        const buttonEl =\n",
              "          document.querySelector('#df-0d4d9b43-9eda-4941-9664-3cd2cb4dcbf9 button.colab-df-convert');\n",
              "        buttonEl.style.display =\n",
              "          google.colab.kernel.accessAllowed ? 'block' : 'none';\n",
              "\n",
              "        async function convertToInteractive(key) {\n",
              "          const element = document.querySelector('#df-0d4d9b43-9eda-4941-9664-3cd2cb4dcbf9');\n",
              "          const dataTable =\n",
              "            await google.colab.kernel.invokeFunction('convertToInteractive',\n",
              "                                                     [key], {});\n",
              "          if (!dataTable) return;\n",
              "\n",
              "          const docLinkHtml = 'Like what you see? Visit the ' +\n",
              "            '<a target=\"_blank\" href=https://colab.research.google.com/notebooks/data_table.ipynb>data table notebook</a>'\n",
              "            + ' to learn more about interactive tables.';\n",
              "          element.innerHTML = '';\n",
              "          dataTable['output_type'] = 'display_data';\n",
              "          await google.colab.output.renderOutput(dataTable, element);\n",
              "          const docLink = document.createElement('div');\n",
              "          docLink.innerHTML = docLinkHtml;\n",
              "          element.appendChild(docLink);\n",
              "        }\n",
              "      </script>\n",
              "    </div>\n",
              "  </div>\n",
              "  "
            ]
          },
          "metadata": {}
        }
      ]
    },
    {
      "cell_type": "code",
      "source": [
        "data.isna().sum()"
      ],
      "metadata": {
        "colab": {
          "base_uri": "https://localhost:8080/"
        },
        "id": "ehSPgT9BT6Fh",
        "outputId": "65562779-ab14-410e-a7d0-a67eb648676a"
      },
      "execution_count": 83,
      "outputs": [
        {
          "output_type": "execute_result",
          "data": {
            "text/plain": [
              "SL                0\n",
              "SW                0\n",
              "PL                0\n",
              "PW                0\n",
              "Classification    0\n",
              "dtype: int64"
            ]
          },
          "metadata": {},
          "execution_count": 83
        }
      ]
    },
    {
      "cell_type": "code",
      "source": [
        "# Creating a list of numerical values\n",
        "\n",
        "numerical_features = [feature for feature in data.columns if data[feature].dtypes != 'O']\n",
        "\n",
        "#display the numerical variables\n",
        "\n",
        "data[numerical_features].head()"
      ],
      "metadata": {
        "colab": {
          "base_uri": "https://localhost:8080/",
          "height": 206
        },
        "id": "NIQRW26iRefc",
        "outputId": "3dae52a7-9c42-4fc2-9e6d-ad282db31ee9"
      },
      "execution_count": 84,
      "outputs": [
        {
          "output_type": "execute_result",
          "data": {
            "text/plain": [
              "         SL   SW   PL   PW\n",
              "0  5.100000  3.5  1.4  0.2\n",
              "1  4.900000  3.0  1.4  0.2\n",
              "2  5.008511  3.2  1.3  0.2\n",
              "3  4.600000  3.1  1.5  0.2\n",
              "4  5.000000  3.6  1.4  0.2"
            ],
            "text/html": [
              "\n",
              "  <div id=\"df-54e050ca-ee44-4e87-9c75-d2e865fb6874\">\n",
              "    <div class=\"colab-df-container\">\n",
              "      <div>\n",
              "<style scoped>\n",
              "    .dataframe tbody tr th:only-of-type {\n",
              "        vertical-align: middle;\n",
              "    }\n",
              "\n",
              "    .dataframe tbody tr th {\n",
              "        vertical-align: top;\n",
              "    }\n",
              "\n",
              "    .dataframe thead th {\n",
              "        text-align: right;\n",
              "    }\n",
              "</style>\n",
              "<table border=\"1\" class=\"dataframe\">\n",
              "  <thead>\n",
              "    <tr style=\"text-align: right;\">\n",
              "      <th></th>\n",
              "      <th>SL</th>\n",
              "      <th>SW</th>\n",
              "      <th>PL</th>\n",
              "      <th>PW</th>\n",
              "    </tr>\n",
              "  </thead>\n",
              "  <tbody>\n",
              "    <tr>\n",
              "      <th>0</th>\n",
              "      <td>5.100000</td>\n",
              "      <td>3.5</td>\n",
              "      <td>1.4</td>\n",
              "      <td>0.2</td>\n",
              "    </tr>\n",
              "    <tr>\n",
              "      <th>1</th>\n",
              "      <td>4.900000</td>\n",
              "      <td>3.0</td>\n",
              "      <td>1.4</td>\n",
              "      <td>0.2</td>\n",
              "    </tr>\n",
              "    <tr>\n",
              "      <th>2</th>\n",
              "      <td>5.008511</td>\n",
              "      <td>3.2</td>\n",
              "      <td>1.3</td>\n",
              "      <td>0.2</td>\n",
              "    </tr>\n",
              "    <tr>\n",
              "      <th>3</th>\n",
              "      <td>4.600000</td>\n",
              "      <td>3.1</td>\n",
              "      <td>1.5</td>\n",
              "      <td>0.2</td>\n",
              "    </tr>\n",
              "    <tr>\n",
              "      <th>4</th>\n",
              "      <td>5.000000</td>\n",
              "      <td>3.6</td>\n",
              "      <td>1.4</td>\n",
              "      <td>0.2</td>\n",
              "    </tr>\n",
              "  </tbody>\n",
              "</table>\n",
              "</div>\n",
              "      <button class=\"colab-df-convert\" onclick=\"convertToInteractive('df-54e050ca-ee44-4e87-9c75-d2e865fb6874')\"\n",
              "              title=\"Convert this dataframe to an interactive table.\"\n",
              "              style=\"display:none;\">\n",
              "        \n",
              "  <svg xmlns=\"http://www.w3.org/2000/svg\" height=\"24px\"viewBox=\"0 0 24 24\"\n",
              "       width=\"24px\">\n",
              "    <path d=\"M0 0h24v24H0V0z\" fill=\"none\"/>\n",
              "    <path d=\"M18.56 5.44l.94 2.06.94-2.06 2.06-.94-2.06-.94-.94-2.06-.94 2.06-2.06.94zm-11 1L8.5 8.5l.94-2.06 2.06-.94-2.06-.94L8.5 2.5l-.94 2.06-2.06.94zm10 10l.94 2.06.94-2.06 2.06-.94-2.06-.94-.94-2.06-.94 2.06-2.06.94z\"/><path d=\"M17.41 7.96l-1.37-1.37c-.4-.4-.92-.59-1.43-.59-.52 0-1.04.2-1.43.59L10.3 9.45l-7.72 7.72c-.78.78-.78 2.05 0 2.83L4 21.41c.39.39.9.59 1.41.59.51 0 1.02-.2 1.41-.59l7.78-7.78 2.81-2.81c.8-.78.8-2.07 0-2.86zM5.41 20L4 18.59l7.72-7.72 1.47 1.35L5.41 20z\"/>\n",
              "  </svg>\n",
              "      </button>\n",
              "      \n",
              "  <style>\n",
              "    .colab-df-container {\n",
              "      display:flex;\n",
              "      flex-wrap:wrap;\n",
              "      gap: 12px;\n",
              "    }\n",
              "\n",
              "    .colab-df-convert {\n",
              "      background-color: #E8F0FE;\n",
              "      border: none;\n",
              "      border-radius: 50%;\n",
              "      cursor: pointer;\n",
              "      display: none;\n",
              "      fill: #1967D2;\n",
              "      height: 32px;\n",
              "      padding: 0 0 0 0;\n",
              "      width: 32px;\n",
              "    }\n",
              "\n",
              "    .colab-df-convert:hover {\n",
              "      background-color: #E2EBFA;\n",
              "      box-shadow: 0px 1px 2px rgba(60, 64, 67, 0.3), 0px 1px 3px 1px rgba(60, 64, 67, 0.15);\n",
              "      fill: #174EA6;\n",
              "    }\n",
              "\n",
              "    [theme=dark] .colab-df-convert {\n",
              "      background-color: #3B4455;\n",
              "      fill: #D2E3FC;\n",
              "    }\n",
              "\n",
              "    [theme=dark] .colab-df-convert:hover {\n",
              "      background-color: #434B5C;\n",
              "      box-shadow: 0px 1px 3px 1px rgba(0, 0, 0, 0.15);\n",
              "      filter: drop-shadow(0px 1px 2px rgba(0, 0, 0, 0.3));\n",
              "      fill: #FFFFFF;\n",
              "    }\n",
              "  </style>\n",
              "\n",
              "      <script>\n",
              "        const buttonEl =\n",
              "          document.querySelector('#df-54e050ca-ee44-4e87-9c75-d2e865fb6874 button.colab-df-convert');\n",
              "        buttonEl.style.display =\n",
              "          google.colab.kernel.accessAllowed ? 'block' : 'none';\n",
              "\n",
              "        async function convertToInteractive(key) {\n",
              "          const element = document.querySelector('#df-54e050ca-ee44-4e87-9c75-d2e865fb6874');\n",
              "          const dataTable =\n",
              "            await google.colab.kernel.invokeFunction('convertToInteractive',\n",
              "                                                     [key], {});\n",
              "          if (!dataTable) return;\n",
              "\n",
              "          const docLinkHtml = 'Like what you see? Visit the ' +\n",
              "            '<a target=\"_blank\" href=https://colab.research.google.com/notebooks/data_table.ipynb>data table notebook</a>'\n",
              "            + ' to learn more about interactive tables.';\n",
              "          element.innerHTML = '';\n",
              "          dataTable['output_type'] = 'display_data';\n",
              "          await google.colab.output.renderOutput(dataTable, element);\n",
              "          const docLink = document.createElement('div');\n",
              "          docLink.innerHTML = docLinkHtml;\n",
              "          element.appendChild(docLink);\n",
              "        }\n",
              "      </script>\n",
              "    </div>\n",
              "  </div>\n",
              "  "
            ]
          },
          "metadata": {},
          "execution_count": 84
        }
      ]
    },
    {
      "cell_type": "code",
      "source": [
        "# all the 4 numerical features are of similar kind showig the length and width of petals and sepals of different classifications of Iris flower"
      ],
      "metadata": {
        "id": "JgkEq-nsR6pj"
      },
      "execution_count": 85,
      "outputs": []
    },
    {
      "cell_type": "code",
      "source": [
        "numerical_features"
      ],
      "metadata": {
        "colab": {
          "base_uri": "https://localhost:8080/"
        },
        "id": "AOKo6zUkWJoC",
        "outputId": "84ca92c4-a64b-4422-b503-c6c009862a0d"
      },
      "execution_count": 86,
      "outputs": [
        {
          "output_type": "execute_result",
          "data": {
            "text/plain": [
              "['SL', 'SW', 'PL', 'PW']"
            ]
          },
          "metadata": {},
          "execution_count": 86
        }
      ]
    },
    {
      "cell_type": "markdown",
      "source": [
        "Step 4 : Check out the outliers"
      ],
      "metadata": {
        "id": "IUcM5JomV1cy"
      }
    },
    {
      "cell_type": "code",
      "source": [
        "for i in numerical_features:\n",
        "  plt.figure()\n",
        "  plt.boxplot(data[i])\n",
        "  plt.title(i)"
      ],
      "metadata": {
        "colab": {
          "base_uri": "https://localhost:8080/",
          "height": 1000
        },
        "id": "PMUoXKWiSeGi",
        "outputId": "497dd6fc-320b-4d93-ca7c-37a1be964672"
      },
      "execution_count": 87,
      "outputs": [
        {
          "output_type": "display_data",
          "data": {
            "text/plain": [
              "<Figure size 640x480 with 1 Axes>"
            ],
            "image/png": "[encoded data removed]"
          },
          "metadata": {}
        },
        {
          "output_type": "display_data",
          "data": {
            "text/plain": [
              "<Figure size 640x480 with 1 Axes>"
            ],
            "image/png": "[encoded data removed]"
          },
          "metadata": {}
        },
        {
          "output_type": "display_data",
          "data": {
            "text/plain": [
              "<Figure size 640x480 with 1 Axes>"
            ],
            "image/png": "[encoded data removed]"
          },
          "metadata": {}
        },
        {
          "output_type": "display_data",
          "data": {
            "text/plain": [
              "<Figure size 640x480 with 1 Axes>"
            ],
            "image/png": "[encoded data removed]"
          },
          "metadata": {}
        }
      ]
    },
    {
      "cell_type": "code",
      "source": [
        "# only the Sepal Width shows outliers"
      ],
      "metadata": {
        "id": "AX_mOphTY1EE"
      },
      "execution_count": 88,
      "outputs": []
    },
    {
      "cell_type": "markdown",
      "source": [
        "Finding the Quartile values"
      ],
      "metadata": {
        "id": "3LDONc722rXQ"
      }
    },
    {
      "cell_type": "code",
      "source": [
        "Q1 = np.percentile(data['SW'],25,interpolation='midpoint')\n",
        "Q2 = np.percentile(data['SW'],50,interpolation='midpoint')\n",
        "Q3 = np.percentile(data['SW'],75,interpolation='midpoint')"
      ],
      "metadata": {
        "colab": {
          "base_uri": "https://localhost:8080/"
        },
        "id": "tzXXn_f6W1Z3",
        "outputId": "92608cf4-1305-4ea5-8e9c-ce94fa722be5"
      },
      "execution_count": 89,
      "outputs": [
        {
          "output_type": "stream",
          "name": "stderr",
          "text": [
            "<ipython-input-89-c25d27549f3a>:1: DeprecationWarning: the `interpolation=` argument to percentile was renamed to `method=`, which has additional options.\n",
            "Users of the modes 'nearest', 'lower', 'higher', or 'midpoint' are encouraged to review the method they. (Deprecated NumPy 1.22)\n",
            "  Q1 = np.percentile(data['SW'],25,interpolation='midpoint')\n",
            "<ipython-input-89-c25d27549f3a>:2: DeprecationWarning: the `interpolation=` argument to percentile was renamed to `method=`, which has additional options.\n",
            "Users of the modes 'nearest', 'lower', 'higher', or 'midpoint' are encouraged to review the method they. (Deprecated NumPy 1.22)\n",
            "  Q2 = np.percentile(data['SW'],50,interpolation='midpoint')\n",
            "<ipython-input-89-c25d27549f3a>:3: DeprecationWarning: the `interpolation=` argument to percentile was renamed to `method=`, which has additional options.\n",
            "Users of the modes 'nearest', 'lower', 'higher', or 'midpoint' are encouraged to review the method they. (Deprecated NumPy 1.22)\n",
            "  Q3 = np.percentile(data['SW'],75,interpolation='midpoint')\n"
          ]
        }
      ]
    },
    {
      "cell_type": "markdown",
      "source": [
        "Print those values"
      ],
      "metadata": {
        "id": "4ZgHZaqF2xvm"
      }
    },
    {
      "cell_type": "code",
      "source": [
        "print(Q1)\n",
        "print(Q2)\n",
        "print(Q3)"
      ],
      "metadata": {
        "colab": {
          "base_uri": "https://localhost:8080/"
        },
        "id": "3omkcgnKZErj",
        "outputId": "c529adc9-a9ec-416a-b444-cf4856b4c2c9"
      },
      "execution_count": 90,
      "outputs": [
        {
          "output_type": "stream",
          "name": "stdout",
          "text": [
            "2.8\n",
            "3.0\n",
            "3.3\n"
          ]
        }
      ]
    },
    {
      "cell_type": "markdown",
      "source": [
        "Find Inter Quartile Range"
      ],
      "metadata": {
        "id": "BIXEz-CX27jE"
      }
    },
    {
      "cell_type": "code",
      "source": [
        "IQR=Q3-Q1\n",
        "print(IQR)"
      ],
      "metadata": {
        "colab": {
          "base_uri": "https://localhost:8080/"
        },
        "id": "OfrXE8sgZjdV",
        "outputId": "30dff809-bf93-407a-fc2a-ca5b85f97a8b"
      },
      "execution_count": 91,
      "outputs": [
        {
          "output_type": "stream",
          "name": "stdout",
          "text": [
            "0.5\n"
          ]
        }
      ]
    },
    {
      "cell_type": "markdown",
      "source": [
        "With IQR find lower and upper limits of values"
      ],
      "metadata": {
        "id": "8GhqDrt63A2j"
      }
    },
    {
      "cell_type": "code",
      "source": [
        "up_lim=Q3+1.5*IQR\n",
        "low_lim=Q1-1.5*IQR\n",
        "\n",
        "print(up_lim)\n",
        "print(low_lim)"
      ],
      "metadata": {
        "colab": {
          "base_uri": "https://localhost:8080/"
        },
        "id": "NElTGSNSZ4cp",
        "outputId": "6b5dd5f5-03e0-4c19-8b1a-224bb1a21c32"
      },
      "execution_count": 92,
      "outputs": [
        {
          "output_type": "stream",
          "name": "stdout",
          "text": [
            "4.05\n",
            "2.05\n"
          ]
        }
      ]
    },
    {
      "cell_type": "markdown",
      "source": [
        "finding outlier values"
      ],
      "metadata": {
        "id": "7Vxvc7FL3Kwe"
      }
    },
    {
      "cell_type": "code",
      "source": [
        "outliers=[]\n",
        "for x in data ['SW']:\n",
        "  if(x>up_lim)or(x<low_lim):\n",
        "    outliers.append(x)\n",
        "\n",
        "print(outliers)"
      ],
      "metadata": {
        "colab": {
          "base_uri": "https://localhost:8080/"
        },
        "id": "j2H91wG6aK6S",
        "outputId": "886bd8cc-91dd-4f32-80ff-e6bad07e3daf"
      },
      "execution_count": 93,
      "outputs": [
        {
          "output_type": "stream",
          "name": "stdout",
          "text": [
            "[4.4, 4.1, 4.2, 2.0]\n"
          ]
        }
      ]
    },
    {
      "cell_type": "code",
      "source": [
        "# we have values above and below the upper and lower limits\n",
        "\n",
        "ind1=data[(data['SW']>up_lim) |( data['SW']<low_lim)]\n",
        "ind1.index"
      ],
      "metadata": {
        "colab": {
          "base_uri": "https://localhost:8080/"
        },
        "id": "iYg97GDcac98",
        "outputId": "d2573292-12ef-42cc-d329-438b4a7600d4"
      },
      "execution_count": 53,
      "outputs": [
        {
          "output_type": "execute_result",
          "data": {
            "text/plain": [
              "Int64Index([15, 32, 33, 60], dtype='int64')"
            ]
          },
          "metadata": {},
          "execution_count": 53
        }
      ]
    },
    {
      "cell_type": "markdown",
      "source": [
        " : Feature Engineering - Handling the outlier"
      ],
      "metadata": {
        "id": "l8bYWI0eBEmS"
      }
    },
    {
      "cell_type": "code",
      "source": [
        "data.drop([15, 32, 33, 60],inplace=True) \n",
        "#since it is raw value no need to specify index position , if it is column  need to specify index positin too"
      ],
      "metadata": {
        "id": "iuTx6Yw3bltX"
      },
      "execution_count": 54,
      "outputs": []
    },
    {
      "cell_type": "markdown",
      "source": [
        ":Step 5 : See the Categorical Values"
      ],
      "metadata": {
        "id": "_hhP9WhoQW7v"
      }
    },
    {
      "cell_type": "code",
      "source": [
        "#Check for variable data types\n",
        "\n",
        "data.dtypes"
      ],
      "metadata": {
        "colab": {
          "base_uri": "https://localhost:8080/"
        },
        "id": "ZqDpCLT6QjGh",
        "outputId": "bf9ead00-372d-4f2a-b85c-88926bfdc5d5"
      },
      "execution_count": 55,
      "outputs": [
        {
          "output_type": "execute_result",
          "data": {
            "text/plain": [
              "SL                float64\n",
              "SW                float64\n",
              "PL                float64\n",
              "PW                float64\n",
              "Classification     object\n",
              "dtype: object"
            ]
          },
          "metadata": {},
          "execution_count": 55
        }
      ]
    },
    {
      "cell_type": "code",
      "source": [
        "# since the data set consists of only 5 columns,it is easy to find categorical column with the dtype commanditself\n",
        "# there is only one categorical column named \" Classification\" other 4 columns are numeric"
      ],
      "metadata": {
        "id": "4_GdMwg-QmuJ"
      },
      "execution_count": 56,
      "outputs": []
    },
    {
      "cell_type": "code",
      "source": [
        "print('The  number of unique values in Clasification column is {} '.format(len(data['Classification'].unique()))) \n",
        "\n",
        "print('\\nThe unique values in Clasification column are {} '.format(data['Classification'].unique()))\n",
        "\n",
        "  #{} indicates length and name of unique values in corresponding feature"
      ],
      "metadata": {
        "colab": {
          "base_uri": "https://localhost:8080/"
        },
        "id": "fsuwEAhRe2U9",
        "outputId": "2762df2f-d9d0-4ecc-f6e5-8c4226bd7a03"
      },
      "execution_count": 57,
      "outputs": [
        {
          "output_type": "stream",
          "name": "stdout",
          "text": [
            "The  number of unique values in Clasification column is 3 \n",
            "\n",
            "The unique values in Clasification column are ['Iris-setosa' 'Iris-versicolor' 'Iris-virginica'] \n"
          ]
        }
      ]
    },
    {
      "cell_type": "code",
      "source": [
        "# Since the categorical column 'Clasification' isthe target column no need of encoding to be done on it\n"
      ],
      "metadata": {
        "id": "G8DqkZFsTscK"
      },
      "execution_count": null,
      "outputs": []
    },
    {
      "cell_type": "markdown",
      "source": [
        "Step 6 : Splitting the data-set into Training and Test Set"
      ],
      "metadata": {
        "id": "WeqxLKlSUmwc"
      }
    },
    {
      "cell_type": "code",
      "source": [
        "#split into target and fetures\n",
        "\n",
        "X=data.drop('Classification',axis=1) # features in X\n",
        "y=data['Classification']             # target in y"
      ],
      "metadata": {
        "id": "DvK20_M4WuXp"
      },
      "execution_count": 60,
      "outputs": []
    },
    {
      "cell_type": "code",
      "source": [
        "#split into taining and testing\n",
        "\n",
        "from sklearn.model_selection import train_test_split\n",
        "X_train,X_test,y_train,y_test=train_test_split(X,y,test_size=.25,random_state=42)"
      ],
      "metadata": {
        "id": "fF3FE65uXKN1"
      },
      "execution_count": 61,
      "outputs": []
    },
    {
      "cell_type": "markdown",
      "source": [
        "**3. Find out which classification model gives the best result (try all the \n",
        "classification algorithms discussed in the session)**"
      ],
      "metadata": {
        "id": "LnCAyFT8X7O-"
      }
    },
    {
      "cell_type": "markdown",
      "source": [
        "**Classification Model - Logistic regression**"
      ],
      "metadata": {
        "id": "5xFLhmpXgtFZ"
      }
    },
    {
      "cell_type": "code",
      "source": [
        "from sklearn.linear_model import LogisticRegression # importing LogisticRegression\n",
        "\n",
        "logit_model=LogisticRegression()                    # creating an instance\n",
        "logit_model.fit(X_train,y_train)                    # fit the model         \n",
        "y_pred_lr=logit_model.predict(X_test)               # prediction "
      ],
      "metadata": {
        "colab": {
          "base_uri": "https://localhost:8080/"
        },
        "id": "b7f-56H-X6OE",
        "outputId": "9021bbf0-c7d0-4d10-8350-084efb5b18de"
      },
      "execution_count": 62,
      "outputs": [
        {
          "output_type": "stream",
          "name": "stderr",
          "text": [
            "/usr/local/lib/python3.10/dist-packages/sklearn/linear_model/_logistic.py:458: ConvergenceWarning: lbfgs failed to converge (status=1):\n",
            "STOP: TOTAL NO. of ITERATIONS REACHED LIMIT.\n",
            "\n",
            "Increase the number of iterations (max_iter) or scale the data as shown in:\n",
            "    https://scikit-learn.org/stable/modules/preprocessing.html\n",
            "Please also refer to the documentation for alternative solver options:\n",
            "    https://scikit-learn.org/stable/modules/linear_model.html#logistic-regression\n",
            "  n_iter_i = _check_optimize_result(\n"
          ]
        }
      ]
    },
    {
      "cell_type": "markdown",
      "source": [
        "Evaluating the model with evaluation metrics"
      ],
      "metadata": {
        "id": "axsBxTljiUPq"
      }
    },
    {
      "cell_type": "code",
      "source": [
        "#need to check confussion matrix and evaluation metrics\n",
        "\n",
        "from sklearn.metrics import confusion_matrix,accuracy_score,precision_score,recall_score,f1_score\n",
        "\n",
        "print('Acuracy=',accuracy_score(y_test,y_pred_lr))\n",
        "print('Precision=',precision_score(y_test,y_pred_lr,average='weighted'))\n",
        "print('Recall=',recall_score(y_test,y_pred_lr,average='weighted'))\n",
        "print('F1 score=',f1_score(y_test,y_pred_lr,average='weighted'))"
      ],
      "metadata": {
        "colab": {
          "base_uri": "https://localhost:8080/"
        },
        "id": "AQ86A3OSY528",
        "outputId": "1c76ee90-46e5-461f-a55b-52c7a1c81b9a"
      },
      "execution_count": 66,
      "outputs": [
        {
          "output_type": "stream",
          "name": "stdout",
          "text": [
            "Acuracy= 0.972972972972973\n",
            "Precision= 0.9759759759759761\n",
            "Recall= 0.972972972972973\n",
            "F1 score= 0.973227344992051\n"
          ]
        }
      ]
    },
    {
      "cell_type": "code",
      "source": [
        "confusion_matrix(y_test,y_pred_lr)"
      ],
      "metadata": {
        "colab": {
          "base_uri": "https://localhost:8080/"
        },
        "id": "cKw2BmkYa1-6",
        "outputId": "761e80db-eee8-4a4a-f79b-87b2bdf86a3f"
      },
      "execution_count": 67,
      "outputs": [
        {
          "output_type": "execute_result",
          "data": {
            "text/plain": [
              "array([[16,  0,  0],\n",
              "       [ 0,  8,  0],\n",
              "       [ 0,  1, 12]])"
            ]
          },
          "metadata": {},
          "execution_count": 67
        }
      ]
    },
    {
      "cell_type": "code",
      "source": [
        "# There are maximum true predictions in the evaluation"
      ],
      "metadata": {
        "id": "SBhc6_Lx3oSz"
      },
      "execution_count": null,
      "outputs": []
    },
    {
      "cell_type": "code",
      "source": [
        "#predicted values\n",
        "\n",
        "y_pred_lr"
      ],
      "metadata": {
        "colab": {
          "base_uri": "https://localhost:8080/"
        },
        "id": "uGHaR3pgdaki",
        "outputId": "2d074dcb-be5a-4e75-c3d7-8b2730e88105"
      },
      "execution_count": 70,
      "outputs": [
        {
          "output_type": "execute_result",
          "data": {
            "text/plain": [
              "array(['Iris-setosa', 'Iris-virginica', 'Iris-setosa', 'Iris-setosa',\n",
              "       'Iris-setosa', 'Iris-virginica', 'Iris-setosa', 'Iris-versicolor',\n",
              "       'Iris-versicolor', 'Iris-setosa', 'Iris-setosa', 'Iris-versicolor',\n",
              "       'Iris-virginica', 'Iris-versicolor', 'Iris-virginica',\n",
              "       'Iris-setosa', 'Iris-versicolor', 'Iris-virginica', 'Iris-setosa',\n",
              "       'Iris-versicolor', 'Iris-virginica', 'Iris-virginica',\n",
              "       'Iris-setosa', 'Iris-versicolor', 'Iris-setosa', 'Iris-versicolor',\n",
              "       'Iris-versicolor', 'Iris-virginica', 'Iris-virginica',\n",
              "       'Iris-setosa', 'Iris-setosa', 'Iris-setosa', 'Iris-virginica',\n",
              "       'Iris-virginica', 'Iris-setosa', 'Iris-setosa', 'Iris-virginica'],\n",
              "      dtype=object)"
            ]
          },
          "metadata": {},
          "execution_count": 70
        }
      ]
    },
    {
      "cell_type": "code",
      "source": [
        "# values given for testing\n",
        "\n",
        "y_test"
      ],
      "metadata": {
        "colab": {
          "base_uri": "https://localhost:8080/"
        },
        "id": "0wuT7sNYde4A",
        "outputId": "5724de99-7d81-48d0-c8ec-7117109dcbb6"
      },
      "execution_count": 71,
      "outputs": [
        {
          "output_type": "execute_result",
          "data": {
            "text/plain": [
              "48         Iris-setosa\n",
              "101     Iris-virginica\n",
              "28         Iris-setosa\n",
              "20         Iris-setosa\n",
              "45         Iris-setosa\n",
              "124     Iris-virginica\n",
              "30         Iris-setosa\n",
              "84     Iris-versicolor\n",
              "70     Iris-versicolor\n",
              "19         Iris-setosa\n",
              "12         Iris-setosa\n",
              "119     Iris-virginica\n",
              "145     Iris-virginica\n",
              "82     Iris-versicolor\n",
              "141     Iris-virginica\n",
              "39         Iris-setosa\n",
              "64     Iris-versicolor\n",
              "143     Iris-virginica\n",
              "31         Iris-setosa\n",
              "58     Iris-versicolor\n",
              "100     Iris-virginica\n",
              "126     Iris-virginica\n",
              "11         Iris-setosa\n",
              "71     Iris-versicolor\n",
              "34         Iris-setosa\n",
              "97     Iris-versicolor\n",
              "68     Iris-versicolor\n",
              "105     Iris-virginica\n",
              "118     Iris-virginica\n",
              "9          Iris-setosa\n",
              "4          Iris-setosa\n",
              "27         Iris-setosa\n",
              "127     Iris-virginica\n",
              "132     Iris-virginica\n",
              "17         Iris-setosa\n",
              "10         Iris-setosa\n",
              "142     Iris-virginica\n",
              "Name: Classification, dtype: object"
            ]
          },
          "metadata": {},
          "execution_count": 71
        }
      ]
    },
    {
      "cell_type": "markdown",
      "source": [
        "**k Nearest Neighbor**"
      ],
      "metadata": {
        "id": "F3SShR6Tc9eM"
      }
    },
    {
      "cell_type": "code",
      "source": [
        "from sklearn.neighbors import KNeighborsClassifier\n",
        "metric = []\n",
        "neighbors = np.arange(3,15) # taking neighbor values of ranks from 3 to 14\n",
        "\n",
        "for k in neighbors:\n",
        "    classifier = KNeighborsClassifier(n_neighbors = k, metric = 'minkowski',p=2)\n",
        "    classifier.fit(X_train,y_train)\n",
        "    y_pred_knn = classifier.predict(X_test)\n",
        "    acc = accuracy_score(y_test,y_pred_knn) # storing the accuracy score\n",
        "    metric.append(acc)                      # storing the accuracy score of each neighbor value to metric"
      ],
      "metadata": {
        "id": "Q_ECKdbhc806"
      },
      "execution_count": 73,
      "outputs": []
    },
    {
      "cell_type": "code",
      "source": [
        "#ploting for the accuracy scores stored\n",
        "\n",
        "plt.plot(neighbors,metric,'o-')\n",
        "plt.xlabel('k value')\n",
        "plt.ylabel('accuracy')\n",
        "plt.grid()"
      ],
      "metadata": {
        "colab": {
          "base_uri": "https://localhost:8080/",
          "height": 449
        },
        "id": "Kj_udWssl1ad",
        "outputId": "f7f66e35-685b-4851-b643-b2219c2772b4"
      },
      "execution_count": 74,
      "outputs": [
        {
          "output_type": "display_data",
          "data": {
            "text/plain": [
              "<Figure size 640x480 with 1 Axes>"
            ],
            "image/png": "[encoded data removed]"
          },
          "metadata": {}
        }
      ]
    },
    {
      "cell_type": "code",
      "source": [
        "# k=1 has more accurcy  from the above graph fit it with the neighbor value\n",
        "\n",
        "for k in neighbors:\n",
        "    classifier = KNeighborsClassifier(n_neighbors = 1, metric = 'minkowski',p=2)\n",
        "    classifier.fit(X_train,y_train)\n",
        "    y_pred_knn = classifier.predict(X_test)"
      ],
      "metadata": {
        "id": "yCihvzNysrQ9"
      },
      "execution_count": 75,
      "outputs": []
    },
    {
      "cell_type": "code",
      "source": [
        "from sklearn.metrics import confusion_matrix,accuracy_score,precision_score,recall_score,f1_score\n",
        "\n",
        "print('Acuracy=',accuracy_score(y_test,y_pred_knn))\n",
        "print('Precision=',precision_score(y_test,y_pred_knn,average='weighted'))\n",
        "print('Recall=',recall_score(y_test,y_pred_knn,average='weighted'))\n",
        "print('F1 score=',f1_score(y_test,y_pred_knn,average='weighted'))"
      ],
      "metadata": {
        "colab": {
          "base_uri": "https://localhost:8080/"
        },
        "id": "3gs_yA1Jtsom",
        "outputId": "6d6661c1-e228-4316-c796-0288d89ae807"
      },
      "execution_count": 79,
      "outputs": [
        {
          "output_type": "stream",
          "name": "stdout",
          "text": [
            "Acuracy= 0.9459459459459459\n",
            "Precision= 0.9459459459459459\n",
            "Recall= 0.9459459459459459\n",
            "F1 score= 0.9459459459459459\n"
          ]
        }
      ]
    },
    {
      "cell_type": "code",
      "source": [
        "confusion_matrix(y_test,y_pred_knn)"
      ],
      "metadata": {
        "colab": {
          "base_uri": "https://localhost:8080/"
        },
        "id": "qtrhQGa0waLw",
        "outputId": "db9aeb9b-95f3-49a7-e539-838c89ec93f2"
      },
      "execution_count": 80,
      "outputs": [
        {
          "output_type": "execute_result",
          "data": {
            "text/plain": [
              "array([[16,  0,  0],\n",
              "       [ 0,  7,  1],\n",
              "       [ 0,  1, 12]])"
            ]
          },
          "metadata": {},
          "execution_count": 80
        }
      ]
    },
    {
      "cell_type": "code",
      "source": [
        "# there are maximum true predictions in the evaluation"
      ],
      "metadata": {
        "id": "KJxBXvaG326q"
      },
      "execution_count": null,
      "outputs": []
    },
    {
      "cell_type": "markdown",
      "source": [
        "**Since Accuracy value of Logistic Regression shows 0.97 and that of kNN shows 0.94 ,lets conclude that Logistic Regression Model is best with this Iris Data set.**"
      ],
      "metadata": {
        "id": "aiv4TZS_yTH1"
      }
    },
    {
      "cell_type": "markdown",
      "source": [
        "Step 7 : Feature Scaling"
      ],
      "metadata": {
        "id": "9iG_0xfoTvXy"
      }
    },
    {
      "cell_type": "code",
      "source": [
        "# Since all the numerical featurs such as Sepal Length, Petal Length, Sepal Width, Petal Width are of the same scale or unit no need of scaling to be done."
      ],
      "metadata": {
        "id": "k01BTwxpVbiA"
      },
      "execution_count": null,
      "outputs": []
    }
  ]
}